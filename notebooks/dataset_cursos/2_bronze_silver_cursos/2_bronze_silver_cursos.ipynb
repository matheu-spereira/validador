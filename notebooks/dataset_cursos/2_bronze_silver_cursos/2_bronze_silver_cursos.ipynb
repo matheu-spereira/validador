{
 "cells": [
  {
   "cell_type": "markdown",
   "id": "b0e7bb34-cd8b-44a0-9f31-96ea25b92f97",
   "metadata": {
    "papermill": {
     "duration": 0.004033,
     "end_time": "2024-01-14T18:53:09.092397",
     "exception": false,
     "start_time": "2024-01-14T18:53:09.088364",
     "status": "completed"
    },
    "tags": []
   },
   "source": [
    "## Objetivo do notebook\n",
    "#### O objetivo deste notebook é realizar a leitura de dados das origens do dataset cursos na camada bronze e gravar de forma versionada na camada silver\n"
   ]
  },
  {
   "cell_type": "markdown",
   "id": "bdc6fc1b-5d00-421c-a512-fd85d0f35a8c",
   "metadata": {
    "papermill": {
     "duration": 0.006699,
     "end_time": "2024-01-14T18:53:09.106207",
     "exception": false,
     "start_time": "2024-01-14T18:53:09.099508",
     "status": "completed"
    },
    "tags": []
   },
   "source": [
    "### Import Libs"
   ]
  },
  {
   "cell_type": "code",
   "execution_count": 1,
   "id": "942dde0f-19c6-4ad1-8326-4441ac5e24a6",
   "metadata": {
    "execution": {
     "iopub.execute_input": "2024-01-14T18:53:09.120910Z",
     "iopub.status.busy": "2024-01-14T18:53:09.120502Z",
     "iopub.status.idle": "2024-01-14T18:53:11.589513Z",
     "shell.execute_reply": "2024-01-14T18:53:11.588427Z"
    },
    "papermill": {
     "duration": 2.478896,
     "end_time": "2024-01-14T18:53:11.591718",
     "exception": false,
     "start_time": "2024-01-14T18:53:09.112822",
     "status": "completed"
    },
    "tags": []
   },
   "outputs": [
    {
     "name": "stdout",
     "output_type": "stream",
     "text": [
      "Requirement already satisfied: minio in /opt/conda/lib/python3.11/site-packages (7.2.3)\r\n",
      "Requirement already satisfied: certifi in /opt/conda/lib/python3.11/site-packages (from minio) (2023.7.22)\r\n",
      "Requirement already satisfied: urllib3 in /opt/conda/lib/python3.11/site-packages (from minio) (1.26.18)\r\n",
      "Requirement already satisfied: argon2-cffi in /opt/conda/lib/python3.11/site-packages (from minio) (23.1.0)\r\n",
      "Requirement already satisfied: pycryptodome in /opt/conda/lib/python3.11/site-packages (from minio) (3.20.0)\r\n",
      "Requirement already satisfied: typing-extensions in /opt/conda/lib/python3.11/site-packages (from minio) (4.8.0)\r\n",
      "Requirement already satisfied: argon2-cffi-bindings in /opt/conda/lib/python3.11/site-packages (from argon2-cffi->minio) (21.2.0)\r\n"
     ]
    },
    {
     "name": "stdout",
     "output_type": "stream",
     "text": [
      "Requirement already satisfied: cffi>=1.0.1 in /opt/conda/lib/python3.11/site-packages (from argon2-cffi-bindings->argon2-cffi->minio) (1.16.0)\r\n",
      "Requirement already satisfied: pycparser in /opt/conda/lib/python3.11/site-packages (from cffi>=1.0.1->argon2-cffi-bindings->argon2-cffi->minio) (2.21)\r\n"
     ]
    }
   ],
   "source": [
    "!pip install minio"
   ]
  },
  {
   "cell_type": "code",
   "execution_count": 2,
   "id": "3f09124d-a137-4fbf-8ebe-d6d44e13083a",
   "metadata": {
    "execution": {
     "iopub.execute_input": "2024-01-14T18:53:11.609722Z",
     "iopub.status.busy": "2024-01-14T18:53:11.609223Z",
     "iopub.status.idle": "2024-01-14T18:53:12.275673Z",
     "shell.execute_reply": "2024-01-14T18:53:12.274945Z"
    },
    "papermill": {
     "duration": 0.676372,
     "end_time": "2024-01-14T18:53:12.277064",
     "exception": false,
     "start_time": "2024-01-14T18:53:11.600692",
     "status": "completed"
    },
    "tags": []
   },
   "outputs": [],
   "source": [
    "from pyspark.sql import SparkSession\n",
    "from datetime import datetime\n",
    "from minio import Minio\n",
    "from io import BytesIO\n",
    "\n",
    "import os\n",
    "import pandas as pd\n",
    "import glob\n",
    "import pyarrow.parquet as pq"
   ]
  },
  {
   "cell_type": "markdown",
   "id": "6380eb08-1880-49d2-bb20-ec359c8bc60e",
   "metadata": {
    "papermill": {
     "duration": 0.007283,
     "end_time": "2024-01-14T18:53:12.290082",
     "exception": false,
     "start_time": "2024-01-14T18:53:12.282799",
     "status": "completed"
    },
    "tags": []
   },
   "source": [
    "### Definição de variáveis"
   ]
  },
  {
   "cell_type": "code",
   "execution_count": 3,
   "id": "2849a6c2-22fe-47df-84db-cbfb4b06075b",
   "metadata": {
    "execution": {
     "iopub.execute_input": "2024-01-14T18:53:12.305083Z",
     "iopub.status.busy": "2024-01-14T18:53:12.304777Z",
     "iopub.status.idle": "2024-01-14T18:53:14.476756Z",
     "shell.execute_reply": "2024-01-14T18:53:14.475978Z"
    },
    "papermill": {
     "duration": 2.181347,
     "end_time": "2024-01-14T18:53:14.478112",
     "exception": false,
     "start_time": "2024-01-14T18:53:12.296765",
     "status": "completed"
    },
    "tags": []
   },
   "outputs": [],
   "source": [
    "# Sessão Spark\n",
    "spark = SparkSession.builder.getOrCreate()\n",
    "\n",
    "# Parametros de input e output das origens\n",
    "camadaLeitura = 'bronze'\n",
    "camadaEscrita = 'silver'\n",
    "pasta = 'cursos'\n",
    "temp_blobs = '/home/jovyan/notebooks/temporary_blobs/' # pasta temporária para armazenamento de objetos\n",
    "\n",
    "# Conexão ao miniIO\n",
    "minio_endpoint = 'minio:9000'\n",
    "minio_access_key = 'minioaccesskey'\n",
    "minio_secret_key = 'miniosecretkey'\n",
    "minio_client = Minio(minio_endpoint, access_key=minio_access_key, secret_key=minio_secret_key, secure=False)\n",
    "\n",
    "# Definição de variáveis para versionamento dos dados na camada bronze\n",
    "timestamp = datetime.today().strftime('%Y%m%d')\n",
    "minio_path = f'{pasta}/{pasta + timestamp}'"
   ]
  },
  {
   "cell_type": "markdown",
   "id": "457c9954-f7a1-44b6-b93e-86feb9ffeadf",
   "metadata": {
    "papermill": {
     "duration": 0.007173,
     "end_time": "2024-01-14T18:53:14.490597",
     "exception": false,
     "start_time": "2024-01-14T18:53:14.483424",
     "status": "completed"
    },
    "tags": []
   },
   "source": [
    "### Leitura da camada Bronze"
   ]
  },
  {
   "cell_type": "code",
   "execution_count": 4,
   "id": "cc75659e-dff9-46a6-ad37-e82cfa029f45",
   "metadata": {
    "execution": {
     "iopub.execute_input": "2024-01-14T18:53:14.505181Z",
     "iopub.status.busy": "2024-01-14T18:53:14.504939Z",
     "iopub.status.idle": "2024-01-14T18:53:15.765522Z",
     "shell.execute_reply": "2024-01-14T18:53:15.764790Z"
    },
    "papermill": {
     "duration": 1.269715,
     "end_time": "2024-01-14T18:53:15.766888",
     "exception": false,
     "start_time": "2024-01-14T18:53:14.497173",
     "status": "completed"
    },
    "tags": []
   },
   "outputs": [
    {
     "name": "stdout",
     "output_type": "stream",
     "text": [
      "Objeto encontrado: cursos / cursos20240114/part-00000-046977b5-9d00-42e8-a726-d82bcde3a416-c000.snappy.parquet\n",
      "Objeto encontrado: cursos / cursos20240114/part-00000-22752d34-607d-483f-91cc-e9b572b9ea62-c000.snappy.parquet\n",
      "Objeto encontrado: cursos / cursos20240114/part-00001-046977b5-9d00-42e8-a726-d82bcde3a416-c000.snappy.parquet\n",
      "Objeto encontrado: cursos / cursos20240114/part-00001-22752d34-607d-483f-91cc-e9b572b9ea62-c000.snappy.parquet\n",
      "Objeto encontrado: cursos / cursos20240114/part-00003-046977b5-9d00-42e8-a726-d82bcde3a416-c000.snappy.parquet\n",
      "Objeto encontrado: cursos / cursos20240114/part-00003-22752d34-607d-483f-91cc-e9b572b9ea62-c000.snappy.parquet\n",
      "Objeto encontrado: cursos / cursos20240114/part-00005-046977b5-9d00-42e8-a726-d82bcde3a416-c000.snappy.parquet\n",
      "Objeto encontrado: cursos / cursos20240114/part-00005-22752d34-607d-483f-91cc-e9b572b9ea62-c000.snappy.parquet\n",
      "Objeto encontrado: cursos / cursos20240114/part-00007-046977b5-9d00-42e8-a726-d82bcde3a416-c000.snappy.parquet\n",
      "Objeto encontrado: cursos / cursos20240114/part-00007-22752d34-607d-483f-91cc-e9b572b9ea62-c000.snappy.parquet\n",
      "Objeto encontrado: cursos / cursos20240114/part-00009-046977b5-9d00-42e8-a726-d82bcde3a416-c000.snappy.parquet\n",
      "Objeto encontrado: cursos / cursos20240114/part-00009-22752d34-607d-483f-91cc-e9b572b9ea62-c000.snappy.parquet\n",
      "Objeto encontrado: cursos / cursos20240114/part-00011-046977b5-9d00-42e8-a726-d82bcde3a416-c000.snappy.parquet\n",
      "Objeto encontrado: cursos / cursos20240114/part-00011-22752d34-607d-483f-91cc-e9b572b9ea62-c000.snappy.parquet\n"
     ]
    }
   ],
   "source": [
    "dataframes = []\n",
    "\n",
    "try:\n",
    "    # Lista objetos no bucket\n",
    "    objects = minio_client.list_objects(camadaLeitura, prefix=pasta, recursive=True)\n",
    "\n",
    "    # Itera sobre os objetos na pasta\n",
    "    for obj in objects:\n",
    "        # Lê o conteúdo do objeto\n",
    "        content = minio_client.get_object(camadaLeitura, obj.object_name).read()\n",
    "        \n",
    "        # Lê o conteúdo do objeto Parquet usando pyarrow e converte para DataFrame Pandas\n",
    "        df_pandas = pq.read_table(BytesIO(content)).to_pandas()\n",
    "        \n",
    "        # Adiciona o DataFrame Pandas à lista de DataFrames\n",
    "        dataframes.append(df_pandas)\n",
    "        \n",
    "        print(f\"Objeto encontrado: {obj.object_name}\")\n",
    "except error.MinioException as e:\n",
    "    print(f\"Erro ao listar objetos: {e}\")\n",
    "\n",
    "# Concatena todos os DataFrames Pandas em um único DataFrame Pandas\n",
    "consolidated_df_pandas = pd.concat(dataframes, ignore_index=True)\n",
    "\n",
    "# Converte para DataFrame PySpark\n",
    "df_cursos = spark.createDataFrame(consolidated_df_pandas)"
   ]
  },
  {
   "cell_type": "markdown",
   "id": "02f1a9cd-cefd-4459-bc3a-f1ae1e25ae84",
   "metadata": {
    "papermill": {
     "duration": 0.007208,
     "end_time": "2024-01-14T18:53:15.779515",
     "exception": false,
     "start_time": "2024-01-14T18:53:15.772307",
     "status": "completed"
    },
    "tags": []
   },
   "source": [
    "### Tratamento dos dados"
   ]
  },
  {
   "cell_type": "code",
   "execution_count": 5,
   "id": "38440ed2-bdbd-4c08-867e-ee99f8dcb698",
   "metadata": {
    "execution": {
     "iopub.execute_input": "2024-01-14T18:53:15.795366Z",
     "iopub.status.busy": "2024-01-14T18:53:15.795044Z",
     "iopub.status.idle": "2024-01-14T18:53:15.856054Z",
     "shell.execute_reply": "2024-01-14T18:53:15.855327Z"
    },
    "papermill": {
     "duration": 0.070643,
     "end_time": "2024-01-14T18:53:15.857472",
     "exception": false,
     "start_time": "2024-01-14T18:53:15.786829",
     "status": "completed"
    },
    "tags": []
   },
   "outputs": [],
   "source": [
    "df_alunos = df_cursos.select(\n",
    "    'id',\n",
    "    'nome',\n",
    "    'area_atuacao',\n",
    "    'etl_date'\n",
    ")"
   ]
  },
  {
   "cell_type": "markdown",
   "id": "b3a3f2bc-c574-4c71-a572-2d692974052f",
   "metadata": {
    "papermill": {
     "duration": 0.007011,
     "end_time": "2024-01-14T18:53:15.869040",
     "exception": false,
     "start_time": "2024-01-14T18:53:15.862029",
     "status": "completed"
    },
    "tags": []
   },
   "source": [
    "### Gravação do dataframe em um diretório temporário"
   ]
  },
  {
   "cell_type": "code",
   "execution_count": 6,
   "id": "2d18424f-56d6-40f7-85be-918f8b48b55e",
   "metadata": {
    "execution": {
     "iopub.execute_input": "2024-01-14T18:53:15.883544Z",
     "iopub.status.busy": "2024-01-14T18:53:15.882722Z",
     "iopub.status.idle": "2024-01-14T18:53:18.906745Z",
     "shell.execute_reply": "2024-01-14T18:53:18.906053Z"
    },
    "papermill": {
     "duration": 3.032668,
     "end_time": "2024-01-14T18:53:18.908186",
     "exception": false,
     "start_time": "2024-01-14T18:53:15.875518",
     "status": "completed"
    },
    "tags": []
   },
   "outputs": [],
   "source": [
    "df_cursos.write.parquet(temp_blobs, mode=\"overwrite\")"
   ]
  },
  {
   "cell_type": "markdown",
   "id": "55952c6d-db81-487d-bfe5-09ad180fe3f0",
   "metadata": {
    "papermill": {
     "duration": 0.007722,
     "end_time": "2024-01-14T18:53:18.920640",
     "exception": false,
     "start_time": "2024-01-14T18:53:18.912918",
     "status": "completed"
    },
    "tags": []
   },
   "source": [
    "### Gravação na camada Silver"
   ]
  },
  {
   "cell_type": "code",
   "execution_count": 7,
   "id": "5a3624f4-76bc-4757-8371-4a7249b75697",
   "metadata": {
    "execution": {
     "iopub.execute_input": "2024-01-14T18:53:18.936387Z",
     "iopub.status.busy": "2024-01-14T18:53:18.936155Z",
     "iopub.status.idle": "2024-01-14T18:53:19.100375Z",
     "shell.execute_reply": "2024-01-14T18:53:19.099680Z"
    },
    "papermill": {
     "duration": 0.173961,
     "end_time": "2024-01-14T18:53:19.101819",
     "exception": false,
     "start_time": "2024-01-14T18:53:18.927858",
     "status": "completed"
    },
    "tags": []
   },
   "outputs": [
    {
     "name": "stdout",
     "output_type": "stream",
     "text": [
      "Arquivo 'part-00000-ce92dc57-8f5a-40fb-ab2c-3fd1cf03f2e7-c000.snappy.parquet' enviado com sucesso para o MinIO em 'cursos/cursos20240114/part-00000-ce92dc57-8f5a-40fb-ab2c-3fd1cf03f2e7-c000.snappy.parquet'.\n",
      "Arquivo 'part-00001-ce92dc57-8f5a-40fb-ab2c-3fd1cf03f2e7-c000.snappy.parquet' enviado com sucesso para o MinIO em 'cursos/cursos20240114/part-00001-ce92dc57-8f5a-40fb-ab2c-3fd1cf03f2e7-c000.snappy.parquet'.\n",
      "Arquivo 'part-00002-ce92dc57-8f5a-40fb-ab2c-3fd1cf03f2e7-c000.snappy.parquet' enviado com sucesso para o MinIO em 'cursos/cursos20240114/part-00002-ce92dc57-8f5a-40fb-ab2c-3fd1cf03f2e7-c000.snappy.parquet'.\n",
      "Arquivo 'part-00003-ce92dc57-8f5a-40fb-ab2c-3fd1cf03f2e7-c000.snappy.parquet' enviado com sucesso para o MinIO em 'cursos/cursos20240114/part-00003-ce92dc57-8f5a-40fb-ab2c-3fd1cf03f2e7-c000.snappy.parquet'.\n",
      "Arquivo 'part-00004-ce92dc57-8f5a-40fb-ab2c-3fd1cf03f2e7-c000.snappy.parquet' enviado com sucesso para o MinIO em 'cursos/cursos20240114/part-00004-ce92dc57-8f5a-40fb-ab2c-3fd1cf03f2e7-c000.snappy.parquet'.\n",
      "Arquivo 'part-00005-ce92dc57-8f5a-40fb-ab2c-3fd1cf03f2e7-c000.snappy.parquet' enviado com sucesso para o MinIO em 'cursos/cursos20240114/part-00005-ce92dc57-8f5a-40fb-ab2c-3fd1cf03f2e7-c000.snappy.parquet'.\n",
      "Arquivo 'part-00006-ce92dc57-8f5a-40fb-ab2c-3fd1cf03f2e7-c000.snappy.parquet' enviado com sucesso para o MinIO em 'cursos/cursos20240114/part-00006-ce92dc57-8f5a-40fb-ab2c-3fd1cf03f2e7-c000.snappy.parquet'.\n",
      "Arquivo 'part-00007-ce92dc57-8f5a-40fb-ab2c-3fd1cf03f2e7-c000.snappy.parquet' enviado com sucesso para o MinIO em 'cursos/cursos20240114/part-00007-ce92dc57-8f5a-40fb-ab2c-3fd1cf03f2e7-c000.snappy.parquet'.\n",
      "Arquivo 'part-00008-ce92dc57-8f5a-40fb-ab2c-3fd1cf03f2e7-c000.snappy.parquet' enviado com sucesso para o MinIO em 'cursos/cursos20240114/part-00008-ce92dc57-8f5a-40fb-ab2c-3fd1cf03f2e7-c000.snappy.parquet'.\n",
      "Arquivo 'part-00009-ce92dc57-8f5a-40fb-ab2c-3fd1cf03f2e7-c000.snappy.parquet' enviado com sucesso para o MinIO em 'cursos/cursos20240114/part-00009-ce92dc57-8f5a-40fb-ab2c-3fd1cf03f2e7-c000.snappy.parquet'.\n",
      "Arquivo 'part-00010-ce92dc57-8f5a-40fb-ab2c-3fd1cf03f2e7-c000.snappy.parquet' enviado com sucesso para o MinIO em 'cursos/cursos20240114/part-00010-ce92dc57-8f5a-40fb-ab2c-3fd1cf03f2e7-c000.snappy.parquet'.\n",
      "Arquivo 'part-00011-ce92dc57-8f5a-40fb-ab2c-3fd1cf03f2e7-c000.snappy.parquet' enviado com sucesso para o MinIO em 'cursos/cursos20240114/part-00011-ce92dc57-8f5a-40fb-ab2c-3fd1cf03f2e7-c000.snappy.parquet'.\n"
     ]
    }
   ],
   "source": [
    "# Recria bucket caso não exista\n",
    "if not minio_client.bucket_exists(camadaEscrita):\n",
    "    minio_client.make_bucket(camadaEscrita)\n",
    "\n",
    "# Lista todos os arquivos Parquet no diretório temporário de blobs\n",
    "arquivos_parquet = glob.glob(os.path.join(temp_blobs, '*.parquet'))\n",
    "\n",
    "# Itera sobre a lista de arquivos Parquet e envia cada um para o MinIO\n",
    "for arquivo_parquet in arquivos_parquet:\n",
    "    try:\n",
    "        # Envia o arquivo para a camada bronze\n",
    "        nome_arquivo = os.path.basename(arquivo_parquet)\n",
    "        minio_client.fput_object(camadaEscrita, os.path.join(minio_path, nome_arquivo), arquivo_parquet)\n",
    "        print(f\"Arquivo '{nome_arquivo}' enviado com sucesso para o MinIO em '{os.path.join(minio_path, nome_arquivo)}'.\")\n",
    "    except S3Error as e:\n",
    "        print(f\"Erro ao enviar o arquivo para o MinIO: {e}\")"
   ]
  },
  {
   "cell_type": "markdown",
   "id": "adb7df5d-ec09-4162-b667-67228d42d4ec",
   "metadata": {
    "papermill": {
     "duration": 0.006975,
     "end_time": "2024-01-14T18:53:19.113519",
     "exception": false,
     "start_time": "2024-01-14T18:53:19.106544",
     "status": "completed"
    },
    "tags": []
   },
   "source": [
    "### Remove dados do diretório temporário de blobs"
   ]
  },
  {
   "cell_type": "code",
   "execution_count": 8,
   "id": "a9373d36-1d90-45ab-bcf8-6c7cae5daffc",
   "metadata": {
    "execution": {
     "iopub.execute_input": "2024-01-14T18:53:19.128084Z",
     "iopub.status.busy": "2024-01-14T18:53:19.127629Z",
     "iopub.status.idle": "2024-01-14T18:53:20.143579Z",
     "shell.execute_reply": "2024-01-14T18:53:20.142806Z"
    },
    "papermill": {
     "duration": 1.02477,
     "end_time": "2024-01-14T18:53:20.144955",
     "exception": false,
     "start_time": "2024-01-14T18:53:19.120185",
     "status": "completed"
    },
    "tags": []
   },
   "outputs": [
    {
     "name": "stdout",
     "output_type": "stream",
     "text": [
      "/home/jovyan/notebooks/_temporary_blobs/.part-00000-ce92dc57-8f5a-40fb-ab2c-3fd1cf03f2e7-c000.snappy.parquet.crc deletado com sucesso.\n",
      "/home/jovyan/notebooks/_temporary_blobs/.part-00001-ce92dc57-8f5a-40fb-ab2c-3fd1cf03f2e7-c000.snappy.parquet.crc deletado com sucesso.\n",
      "/home/jovyan/notebooks/_temporary_blobs/.part-00002-ce92dc57-8f5a-40fb-ab2c-3fd1cf03f2e7-c000.snappy.parquet.crc deletado com sucesso.\n",
      "/home/jovyan/notebooks/_temporary_blobs/.part-00003-ce92dc57-8f5a-40fb-ab2c-3fd1cf03f2e7-c000.snappy.parquet.crc deletado com sucesso.\n",
      "/home/jovyan/notebooks/_temporary_blobs/.part-00004-ce92dc57-8f5a-40fb-ab2c-3fd1cf03f2e7-c000.snappy.parquet.crc deletado com sucesso.\n",
      "/home/jovyan/notebooks/_temporary_blobs/.part-00005-ce92dc57-8f5a-40fb-ab2c-3fd1cf03f2e7-c000.snappy.parquet.crc deletado com sucesso.\n",
      "/home/jovyan/notebooks/_temporary_blobs/.part-00006-ce92dc57-8f5a-40fb-ab2c-3fd1cf03f2e7-c000.snappy.parquet.crc deletado com sucesso.\n",
      "/home/jovyan/notebooks/_temporary_blobs/.part-00007-ce92dc57-8f5a-40fb-ab2c-3fd1cf03f2e7-c000.snappy.parquet.crc deletado com sucesso.\n",
      "/home/jovyan/notebooks/_temporary_blobs/.part-00008-ce92dc57-8f5a-40fb-ab2c-3fd1cf03f2e7-c000.snappy.parquet.crc deletado com sucesso.\n",
      "/home/jovyan/notebooks/_temporary_blobs/.part-00009-ce92dc57-8f5a-40fb-ab2c-3fd1cf03f2e7-c000.snappy.parquet.crc deletado com sucesso.\n",
      "/home/jovyan/notebooks/_temporary_blobs/.part-00010-ce92dc57-8f5a-40fb-ab2c-3fd1cf03f2e7-c000.snappy.parquet.crc deletado com sucesso.\n",
      "/home/jovyan/notebooks/_temporary_blobs/.part-00011-ce92dc57-8f5a-40fb-ab2c-3fd1cf03f2e7-c000.snappy.parquet.crc deletado com sucesso.\n",
      "/home/jovyan/notebooks/_temporary_blobs/._SUCCESS.crc deletado com sucesso.\n"
     ]
    },
    {
     "name": "stdout",
     "output_type": "stream",
     "text": [
      "/home/jovyan/notebooks/_temporary_blobs/part-00000-ce92dc57-8f5a-40fb-ab2c-3fd1cf03f2e7-c000.snappy.parquet deletado com sucesso.\n",
      "/home/jovyan/notebooks/_temporary_blobs/part-00001-ce92dc57-8f5a-40fb-ab2c-3fd1cf03f2e7-c000.snappy.parquet deletado com sucesso.\n",
      "/home/jovyan/notebooks/_temporary_blobs/part-00002-ce92dc57-8f5a-40fb-ab2c-3fd1cf03f2e7-c000.snappy.parquet deletado com sucesso.\n",
      "/home/jovyan/notebooks/_temporary_blobs/part-00003-ce92dc57-8f5a-40fb-ab2c-3fd1cf03f2e7-c000.snappy.parquet deletado com sucesso.\n",
      "/home/jovyan/notebooks/_temporary_blobs/part-00004-ce92dc57-8f5a-40fb-ab2c-3fd1cf03f2e7-c000.snappy.parquet deletado com sucesso.\n",
      "/home/jovyan/notebooks/_temporary_blobs/part-00005-ce92dc57-8f5a-40fb-ab2c-3fd1cf03f2e7-c000.snappy.parquet deletado com sucesso.\n",
      "/home/jovyan/notebooks/_temporary_blobs/part-00006-ce92dc57-8f5a-40fb-ab2c-3fd1cf03f2e7-c000.snappy.parquet deletado com sucesso.\n",
      "/home/jovyan/notebooks/_temporary_blobs/part-00007-ce92dc57-8f5a-40fb-ab2c-3fd1cf03f2e7-c000.snappy.parquet deletado com sucesso.\n",
      "/home/jovyan/notebooks/_temporary_blobs/part-00008-ce92dc57-8f5a-40fb-ab2c-3fd1cf03f2e7-c000.snappy.parquet deletado com sucesso.\n",
      "/home/jovyan/notebooks/_temporary_blobs/part-00009-ce92dc57-8f5a-40fb-ab2c-3fd1cf03f2e7-c000.snappy.parquet deletado com sucesso.\n",
      "/home/jovyan/notebooks/_temporary_blobs/part-00010-ce92dc57-8f5a-40fb-ab2c-3fd1cf03f2e7-c000.snappy.parquet deletado com sucesso.\n",
      "/home/jovyan/notebooks/_temporary_blobs/part-00011-ce92dc57-8f5a-40fb-ab2c-3fd1cf03f2e7-c000.snappy.parquet deletado com sucesso.\n",
      "/home/jovyan/notebooks/_temporary_blobs/_SUCCESS deletado com sucesso.\n"
     ]
    }
   ],
   "source": [
    "# Liste todos os arquivos na pasta\n",
    "arquivos_na_pasta = os.listdir(temp_blobs)\n",
    "\n",
    "# Itere sobre os arquivos e os delete\n",
    "for arquivo in arquivos_na_pasta:\n",
    "    caminho_completo = os.path.join(temp_blobs, arquivo)\n",
    "    try:\n",
    "        if os.path.isfile(caminho_completo):\n",
    "            os.remove(caminho_completo)\n",
    "            print(f'{caminho_completo} deletado com sucesso.')\n",
    "    except Exception as e:\n",
    "        print(f'Erro ao deletar {caminho_completo}: {e}')\n",
    "\n",
    "spark.stop()"
   ]
  }
 ],
 "metadata": {
  "kernelspec": {
   "display_name": "Python 3 (ipykernel)",
   "language": "python",
   "name": "python3"
  },
  "language_info": {
   "codemirror_mode": {
    "name": "ipython",
    "version": 3
   },
   "file_extension": ".py",
   "mimetype": "text/x-python",
   "name": "python",
   "nbconvert_exporter": "python",
   "pygments_lexer": "ipython3",
   "version": "3.11.6"
  },
  "papermill": {
   "default_parameters": {},
   "duration": 14.557739,
   "end_time": "2024-01-14T18:53:22.769493",
   "environment_variables": {},
   "exception": null,
   "input_path": "/home/jovyan/notebooks/dataset_cursos/2_bronze_silver_cursos/2_bronze_silver_cursos.ipynb",
   "output_path": "/home/jovyan/notebooks/dataset_cursos/2_bronze_silver_cursos/2_bronze_silver_cursos.ipynb",
   "parameters": {},
   "start_time": "2024-01-14T18:53:08.211754",
   "version": "2.5.0"
  }
 },
 "nbformat": 4,
 "nbformat_minor": 5
}
