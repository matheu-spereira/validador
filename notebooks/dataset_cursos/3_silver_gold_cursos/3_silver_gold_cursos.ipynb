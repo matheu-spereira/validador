{
 "cells": [
  {
   "cell_type": "markdown",
   "id": "553c19ae-788f-4a70-bbff-de2a77024c33",
   "metadata": {
    "papermill": {
     "duration": 0.00907,
     "end_time": "2024-01-14T18:53:23.574821",
     "exception": false,
     "start_time": "2024-01-14T18:53:23.565751",
     "status": "completed"
    },
    "tags": []
   },
   "source": [
    "## Objetivo do notebook\n",
    "#### O objetivo deste notebook é realizar a leitura de dados das origens do dataset cursos na camada silver e gravar de forma versionada na camada gold\n"
   ]
  },
  {
   "cell_type": "markdown",
   "id": "98040be4-19b4-4b7f-a22c-f5a892413cb3",
   "metadata": {
    "papermill": {
     "duration": 0.007082,
     "end_time": "2024-01-14T18:53:23.589508",
     "exception": false,
     "start_time": "2024-01-14T18:53:23.582426",
     "status": "completed"
    },
    "tags": []
   },
   "source": [
    "### Import Libs"
   ]
  },
  {
   "cell_type": "code",
   "execution_count": 1,
   "id": "942dde0f-19c6-4ad1-8326-4441ac5e24a6",
   "metadata": {
    "execution": {
     "iopub.execute_input": "2024-01-14T18:53:23.604326Z",
     "iopub.status.busy": "2024-01-14T18:53:23.604102Z",
     "iopub.status.idle": "2024-01-14T18:53:26.056283Z",
     "shell.execute_reply": "2024-01-14T18:53:26.054287Z"
    },
    "papermill": {
     "duration": 2.463242,
     "end_time": "2024-01-14T18:53:26.059477",
     "exception": false,
     "start_time": "2024-01-14T18:53:23.596235",
     "status": "completed"
    },
    "tags": []
   },
   "outputs": [
    {
     "name": "stdout",
     "output_type": "stream",
     "text": [
      "Requirement already satisfied: minio in /opt/conda/lib/python3.11/site-packages (7.2.3)\r\n",
      "Requirement already satisfied: certifi in /opt/conda/lib/python3.11/site-packages (from minio) (2023.7.22)\r\n",
      "Requirement already satisfied: urllib3 in /opt/conda/lib/python3.11/site-packages (from minio) (1.26.18)\r\n",
      "Requirement already satisfied: argon2-cffi in /opt/conda/lib/python3.11/site-packages (from minio) (23.1.0)\r\n",
      "Requirement already satisfied: pycryptodome in /opt/conda/lib/python3.11/site-packages (from minio) (3.20.0)\r\n",
      "Requirement already satisfied: typing-extensions in /opt/conda/lib/python3.11/site-packages (from minio) (4.8.0)\r\n"
     ]
    },
    {
     "name": "stdout",
     "output_type": "stream",
     "text": [
      "Requirement already satisfied: argon2-cffi-bindings in /opt/conda/lib/python3.11/site-packages (from argon2-cffi->minio) (21.2.0)\r\n",
      "Requirement already satisfied: cffi>=1.0.1 in /opt/conda/lib/python3.11/site-packages (from argon2-cffi-bindings->argon2-cffi->minio) (1.16.0)\r\n",
      "Requirement already satisfied: pycparser in /opt/conda/lib/python3.11/site-packages (from cffi>=1.0.1->argon2-cffi-bindings->argon2-cffi->minio) (2.21)\r\n"
     ]
    }
   ],
   "source": [
    "!pip install minio"
   ]
  },
  {
   "cell_type": "code",
   "execution_count": 2,
   "id": "3f09124d-a137-4fbf-8ebe-d6d44e13083a",
   "metadata": {
    "execution": {
     "iopub.execute_input": "2024-01-14T18:53:26.080678Z",
     "iopub.status.busy": "2024-01-14T18:53:26.079913Z",
     "iopub.status.idle": "2024-01-14T18:53:26.735601Z",
     "shell.execute_reply": "2024-01-14T18:53:26.734777Z"
    },
    "papermill": {
     "duration": 0.665848,
     "end_time": "2024-01-14T18:53:26.736994",
     "exception": false,
     "start_time": "2024-01-14T18:53:26.071146",
     "status": "completed"
    },
    "tags": []
   },
   "outputs": [],
   "source": [
    "from pyspark.sql import SparkSession\n",
    "from io import BytesIO\n",
    "from pyspark.sql.functions import col, max\n",
    "from pyspark.sql.window import Window\n",
    "from minio.error import S3Error\n",
    "from minio import Minio\n",
    "\n",
    "import glob\n",
    "import pyarrow.parquet as pq\n",
    "import os\n",
    "import pandas as pd"
   ]
  },
  {
   "cell_type": "markdown",
   "id": "53b4c9e6-5491-4420-9c7f-283ae7841c08",
   "metadata": {
    "papermill": {
     "duration": 0.007268,
     "end_time": "2024-01-14T18:53:26.749694",
     "exception": false,
     "start_time": "2024-01-14T18:53:26.742426",
     "status": "completed"
    },
    "tags": []
   },
   "source": [
    "### Definição de variáveis"
   ]
  },
  {
   "cell_type": "code",
   "execution_count": 3,
   "id": "2849a6c2-22fe-47df-84db-cbfb4b06075b",
   "metadata": {
    "execution": {
     "iopub.execute_input": "2024-01-14T18:53:26.764493Z",
     "iopub.status.busy": "2024-01-14T18:53:26.764190Z",
     "iopub.status.idle": "2024-01-14T18:53:28.904870Z",
     "shell.execute_reply": "2024-01-14T18:53:28.903958Z"
    },
    "papermill": {
     "duration": 2.150203,
     "end_time": "2024-01-14T18:53:28.906423",
     "exception": false,
     "start_time": "2024-01-14T18:53:26.756220",
     "status": "completed"
    },
    "tags": []
   },
   "outputs": [],
   "source": [
    "# Sessão Spark\n",
    "spark = SparkSession.builder.getOrCreate()\n",
    "\n",
    "# Parametros de input e output das origens\n",
    "camadaLeitura = 'silver'\n",
    "camadaEscrita = 'gold'\n",
    "pasta = 'cursos'\n",
    "temp_blobs = '/home/jovyan/notebooks/temporary_blobs/' # pasta temporária para armazenamento de objetos\n",
    "\n",
    "# Conexão ao miniIO\n",
    "minio_endpoint = 'minio:9000'\n",
    "minio_access_key = 'minioaccesskey'\n",
    "minio_secret_key = 'miniosecretkey'\n",
    "minio_object_name = pasta\n",
    "minio_client = Minio(minio_endpoint, access_key=minio_access_key, secret_key=minio_secret_key, secure=False)\n",
    "\n",
    "# Definição de variáveis para versionamento dos dados na camada bronze\n",
    "minio_path = f'{pasta}'"
   ]
  },
  {
   "cell_type": "markdown",
   "id": "435aa9ea-7da5-4f7a-a984-a7b344586fc2",
   "metadata": {
    "papermill": {
     "duration": 0.007432,
     "end_time": "2024-01-14T18:53:28.919527",
     "exception": false,
     "start_time": "2024-01-14T18:53:28.912095",
     "status": "completed"
    },
    "tags": []
   },
   "source": [
    "### Leitura da camada Silver"
   ]
  },
  {
   "cell_type": "code",
   "execution_count": 4,
   "id": "3990b29b-7611-4281-a482-edf584e7d817",
   "metadata": {
    "execution": {
     "iopub.execute_input": "2024-01-14T18:53:28.934312Z",
     "iopub.status.busy": "2024-01-14T18:53:28.933910Z",
     "iopub.status.idle": "2024-01-14T18:53:30.197535Z",
     "shell.execute_reply": "2024-01-14T18:53:30.196677Z"
    },
    "papermill": {
     "duration": 1.273066,
     "end_time": "2024-01-14T18:53:30.199275",
     "exception": false,
     "start_time": "2024-01-14T18:53:28.926209",
     "status": "completed"
    },
    "tags": []
   },
   "outputs": [
    {
     "name": "stdout",
     "output_type": "stream",
     "text": [
      "Objeto encontrado: cursos/cursos20240114/part-00000-9d6bc1a1-3064-4509-bab3-bddc4f49ee7d-c000.snappy.parquet\n",
      "Objeto encontrado: cursos/cursos20240114/part-00000-ce92dc57-8f5a-40fb-ab2c-3fd1cf03f2e7-c000.snappy.parquet\n",
      "Objeto encontrado: cursos/cursos20240114/part-00001-9d6bc1a1-3064-4509-bab3-bddc4f49ee7d-c000.snappy.parquet\n",
      "Objeto encontrado: cursos/cursos20240114/part-00001-ce92dc57-8f5a-40fb-ab2c-3fd1cf03f2e7-c000.snappy.parquet\n",
      "Objeto encontrado: cursos/cursos20240114/part-00002-ce92dc57-8f5a-40fb-ab2c-3fd1cf03f2e7-c000.snappy.parquet\n",
      "Objeto encontrado: cursos/cursos20240114/part-00003-9d6bc1a1-3064-4509-bab3-bddc4f49ee7d-c000.snappy.parquet\n",
      "Objeto encontrado: cursos/cursos20240114/part-00003-ce92dc57-8f5a-40fb-ab2c-3fd1cf03f2e7-c000.snappy.parquet\n",
      "Objeto encontrado: cursos/cursos20240114/part-00004-ce92dc57-8f5a-40fb-ab2c-3fd1cf03f2e7-c000.snappy.parquet\n",
      "Objeto encontrado: cursos/cursos20240114/part-00005-9d6bc1a1-3064-4509-bab3-bddc4f49ee7d-c000.snappy.parquet\n",
      "Objeto encontrado: cursos/cursos20240114/part-00005-ce92dc57-8f5a-40fb-ab2c-3fd1cf03f2e7-c000.snappy.parquet\n",
      "Objeto encontrado: cursos/cursos20240114/part-00006-ce92dc57-8f5a-40fb-ab2c-3fd1cf03f2e7-c000.snappy.parquet\n",
      "Objeto encontrado: cursos/cursos20240114/part-00007-9d6bc1a1-3064-4509-bab3-bddc4f49ee7d-c000.snappy.parquet\n",
      "Objeto encontrado: cursos/cursos20240114/part-00007-ce92dc57-8f5a-40fb-ab2c-3fd1cf03f2e7-c000.snappy.parquet\n",
      "Objeto encontrado: cursos/cursos20240114/part-00008-ce92dc57-8f5a-40fb-ab2c-3fd1cf03f2e7-c000.snappy.parquet\n",
      "Objeto encontrado: cursos/cursos20240114/part-00009-9d6bc1a1-3064-4509-bab3-bddc4f49ee7d-c000.snappy.parquet\n",
      "Objeto encontrado: cursos/cursos20240114/part-00009-ce92dc57-8f5a-40fb-ab2c-3fd1cf03f2e7-c000.snappy.parquet\n",
      "Objeto encontrado: cursos/cursos20240114/part-00010-ce92dc57-8f5a-40fb-ab2c-3fd1cf03f2e7-c000.snappy.parquet\n",
      "Objeto encontrado: cursos/cursos20240114/part-00011-9d6bc1a1-3064-4509-bab3-bddc4f49ee7d-c000.snappy.parquet\n",
      "Objeto encontrado: cursos/cursos20240114/part-00011-ce92dc57-8f5a-40fb-ab2c-3fd1cf03f2e7-c000.snappy.parquet\n"
     ]
    }
   ],
   "source": [
    "dataframes = []\n",
    "\n",
    "try:\n",
    "    # Lista objetos no bucket\n",
    "    objects = minio_client.list_objects(camadaLeitura, prefix=pasta, recursive=True)\n",
    "\n",
    "    # Itera sobre os objetos na pasta\n",
    "    for obj in objects:\n",
    "        # Lê o conteúdo do objeto\n",
    "        content = minio_client.get_object(camadaLeitura, obj.object_name).read()\n",
    "        \n",
    "        # Lê o conteúdo do objeto Parquet usando pyarrow e converte para DataFrame Pandas\n",
    "        df_pandas = pq.read_table(BytesIO(content)).to_pandas()\n",
    "        \n",
    "        # Adiciona o DataFrame Pandas à lista de DataFrames\n",
    "        dataframes.append(df_pandas)\n",
    "        \n",
    "        print(f\"Objeto encontrado: {obj.object_name}\")\n",
    "except error.MinioException as e:\n",
    "    print(f\"Erro ao listar objetos: {e}\")\n",
    "\n",
    "# Concatena todos os DataFrames Pandas em um único DataFrame Pandas\n",
    "consolidated_df_pandas = pd.concat(dataframes, ignore_index=True)\n",
    "\n",
    "# Converte para DataFrame PySpark\n",
    "df_cursos = spark.createDataFrame(consolidated_df_pandas)"
   ]
  },
  {
   "cell_type": "markdown",
   "id": "7ad4164b-2622-4d4d-bc68-d1cade059670",
   "metadata": {
    "papermill": {
     "duration": 0.007652,
     "end_time": "2024-01-14T18:53:30.212440",
     "exception": false,
     "start_time": "2024-01-14T18:53:30.204788",
     "status": "completed"
    },
    "tags": []
   },
   "source": [
    "### Tratamento dos dados"
   ]
  },
  {
   "cell_type": "code",
   "execution_count": 5,
   "id": "0eecb32f-615f-4b79-96c6-c3fa2ca47fb3",
   "metadata": {
    "execution": {
     "iopub.execute_input": "2024-01-14T18:53:30.233519Z",
     "iopub.status.busy": "2024-01-14T18:53:30.232773Z",
     "iopub.status.idle": "2024-01-14T18:53:32.268611Z",
     "shell.execute_reply": "2024-01-14T18:53:32.267467Z"
    },
    "papermill": {
     "duration": 2.046611,
     "end_time": "2024-01-14T18:53:32.270922",
     "exception": false,
     "start_time": "2024-01-14T18:53:30.224311",
     "status": "completed"
    },
    "tags": []
   },
   "outputs": [],
   "source": [
    "# Busca etl_date mais recente\n",
    "max_etl_date = df_cursos.agg(max(\"etl_date\")).collect()[0][0]\n",
    "\n",
    "# Filtra o Dataframe pelo etl_date mais recente\n",
    "df_cursos = df_cursos.select('id', 'nome', 'area_atuacao' ).where(col(\"etl_date\") == max_etl_date)"
   ]
  },
  {
   "cell_type": "markdown",
   "id": "9fd5188c-51a9-4893-8509-67f8db4b79bc",
   "metadata": {
    "papermill": {
     "duration": 0.008333,
     "end_time": "2024-01-14T18:53:32.286000",
     "exception": false,
     "start_time": "2024-01-14T18:53:32.277667",
     "status": "completed"
    },
    "tags": []
   },
   "source": [
    "### Gravação do dataframe em um diretório temporário"
   ]
  },
  {
   "cell_type": "code",
   "execution_count": 6,
   "id": "2d18424f-56d6-40f7-85be-918f8b48b55e",
   "metadata": {
    "execution": {
     "iopub.execute_input": "2024-01-14T18:53:32.310537Z",
     "iopub.status.busy": "2024-01-14T18:53:32.309965Z",
     "iopub.status.idle": "2024-01-14T18:53:33.856362Z",
     "shell.execute_reply": "2024-01-14T18:53:33.855521Z"
    },
    "papermill": {
     "duration": 1.560812,
     "end_time": "2024-01-14T18:53:33.857917",
     "exception": false,
     "start_time": "2024-01-14T18:53:32.297105",
     "status": "completed"
    },
    "tags": []
   },
   "outputs": [],
   "source": [
    "df_cursos.write.parquet(temp_blobs, mode=\"overwrite\")"
   ]
  },
  {
   "cell_type": "markdown",
   "id": "dd34be7d-a6bc-482c-8f23-3d69e140c055",
   "metadata": {
    "papermill": {
     "duration": 0.008319,
     "end_time": "2024-01-14T18:53:33.871373",
     "exception": false,
     "start_time": "2024-01-14T18:53:33.863054",
     "status": "completed"
    },
    "tags": []
   },
   "source": [
    "### Gravação na camada Gold"
   ]
  },
  {
   "cell_type": "code",
   "execution_count": 7,
   "id": "69d48ea0-0d84-4981-b38d-ff27691eeb99",
   "metadata": {
    "execution": {
     "iopub.execute_input": "2024-01-14T18:53:33.889894Z",
     "iopub.status.busy": "2024-01-14T18:53:33.889593Z",
     "iopub.status.idle": "2024-01-14T18:53:34.019017Z",
     "shell.execute_reply": "2024-01-14T18:53:34.018256Z"
    },
    "papermill": {
     "duration": 0.141634,
     "end_time": "2024-01-14T18:53:34.020381",
     "exception": false,
     "start_time": "2024-01-14T18:53:33.878747",
     "status": "completed"
    },
    "tags": []
   },
   "outputs": [
    {
     "name": "stdout",
     "output_type": "stream",
     "text": [
      "Arquivo existente 'cursos/part-00000-f961ba02-c338-4d1b-b0dc-6bae5a3884e9-c000.snappy.parquet' removido com sucesso do MinIO.\n",
      "Arquivo existente 'cursos/part-00001-f961ba02-c338-4d1b-b0dc-6bae5a3884e9-c000.snappy.parquet' removido com sucesso do MinIO.\n",
      "Arquivo existente 'cursos/part-00003-f961ba02-c338-4d1b-b0dc-6bae5a3884e9-c000.snappy.parquet' removido com sucesso do MinIO.\n",
      "Arquivo existente 'cursos/part-00005-f961ba02-c338-4d1b-b0dc-6bae5a3884e9-c000.snappy.parquet' removido com sucesso do MinIO.\n",
      "Arquivo existente 'cursos/part-00007-f961ba02-c338-4d1b-b0dc-6bae5a3884e9-c000.snappy.parquet' removido com sucesso do MinIO.\n",
      "Arquivo existente 'cursos/part-00009-f961ba02-c338-4d1b-b0dc-6bae5a3884e9-c000.snappy.parquet' removido com sucesso do MinIO.\n",
      "Arquivo existente 'cursos/part-00011-f961ba02-c338-4d1b-b0dc-6bae5a3884e9-c000.snappy.parquet' removido com sucesso do MinIO.\n",
      "Arquivo 'part-00000-c9200739-e5ad-4132-998d-c40b8aad928d-c000.snappy.parquet' enviado com sucesso para o MinIO em 'cursos/part-00000-c9200739-e5ad-4132-998d-c40b8aad928d-c000.snappy.parquet'.\n",
      "Arquivo 'part-00001-c9200739-e5ad-4132-998d-c40b8aad928d-c000.snappy.parquet' enviado com sucesso para o MinIO em 'cursos/part-00001-c9200739-e5ad-4132-998d-c40b8aad928d-c000.snappy.parquet'.\n",
      "Arquivo 'part-00003-c9200739-e5ad-4132-998d-c40b8aad928d-c000.snappy.parquet' enviado com sucesso para o MinIO em 'cursos/part-00003-c9200739-e5ad-4132-998d-c40b8aad928d-c000.snappy.parquet'.\n",
      "Arquivo 'part-00005-c9200739-e5ad-4132-998d-c40b8aad928d-c000.snappy.parquet' enviado com sucesso para o MinIO em 'cursos/part-00005-c9200739-e5ad-4132-998d-c40b8aad928d-c000.snappy.parquet'.\n",
      "Arquivo 'part-00007-c9200739-e5ad-4132-998d-c40b8aad928d-c000.snappy.parquet' enviado com sucesso para o MinIO em 'cursos/part-00007-c9200739-e5ad-4132-998d-c40b8aad928d-c000.snappy.parquet'.\n",
      "Arquivo 'part-00009-c9200739-e5ad-4132-998d-c40b8aad928d-c000.snappy.parquet' enviado com sucesso para o MinIO em 'cursos/part-00009-c9200739-e5ad-4132-998d-c40b8aad928d-c000.snappy.parquet'.\n",
      "Arquivo 'part-00011-c9200739-e5ad-4132-998d-c40b8aad928d-c000.snappy.parquet' enviado com sucesso para o MinIO em 'cursos/part-00011-c9200739-e5ad-4132-998d-c40b8aad928d-c000.snappy.parquet'.\n"
     ]
    }
   ],
   "source": [
    "# Recria bucket caso não exista\n",
    "if not minio_client.bucket_exists(camadaEscrita):\n",
    "    minio_client.make_bucket(camadaEscrita)\n",
    "\n",
    "# Lista todos os arquivos Parquet no diretório temporário de blobs\n",
    "arquivos_parquet = glob.glob(os.path.join(temp_blobs, '*.parquet'))\n",
    "\n",
    "# Exclui todos os arquivos existentes na pasta no MinIO\n",
    "objects = minio_client.list_objects(camadaEscrita, minio_path, recursive=True)\n",
    "for obj in objects:\n",
    "    try:\n",
    "        minio_client.remove_object(camadaEscrita, obj.object_name)\n",
    "        print(f\"Arquivo existente '{obj.object_name}' removido com sucesso do MinIO.\")\n",
    "    except S3Error as e:\n",
    "        print(f\"Erro ao excluir o arquivo existente do MinIO: {e}\")\n",
    "\n",
    "# Itera sobre a lista de arquivos Parquet e envia cada um para o MinIO\n",
    "for arquivo_parquet in arquivos_parquet:\n",
    "    try:\n",
    "        # Obtém o nome do arquivo\n",
    "        nome_arquivo = os.path.basename(arquivo_parquet)\n",
    "\n",
    "        # Envia o novo arquivo para o MinIO\n",
    "        minio_client.fput_object(camadaEscrita, os.path.join(minio_path, nome_arquivo), arquivo_parquet)\n",
    "        print(f\"Arquivo '{nome_arquivo}' enviado com sucesso para o MinIO em '{os.path.join(minio_path, nome_arquivo)}'.\")\n",
    "    except S3Error as e:\n",
    "        print(f\"Erro ao interagir com o MinIO: {e}\")"
   ]
  },
  {
   "cell_type": "markdown",
   "id": "5d7b6298-6223-4086-980b-9e1409b324ea",
   "metadata": {
    "papermill": {
     "duration": 0.007368,
     "end_time": "2024-01-14T18:53:34.032482",
     "exception": false,
     "start_time": "2024-01-14T18:53:34.025114",
     "status": "completed"
    },
    "tags": []
   },
   "source": [
    "### Remove dados do diretório temporário de blobs"
   ]
  },
  {
   "cell_type": "code",
   "execution_count": 8,
   "id": "a9373d36-1d90-45ab-bcf8-6c7cae5daffc",
   "metadata": {
    "execution": {
     "iopub.execute_input": "2024-01-14T18:53:34.047633Z",
     "iopub.status.busy": "2024-01-14T18:53:34.047400Z",
     "iopub.status.idle": "2024-01-14T18:53:34.329721Z",
     "shell.execute_reply": "2024-01-14T18:53:34.328925Z"
    },
    "papermill": {
     "duration": 0.291741,
     "end_time": "2024-01-14T18:53:34.331127",
     "exception": false,
     "start_time": "2024-01-14T18:53:34.039386",
     "status": "completed"
    },
    "tags": []
   },
   "outputs": [
    {
     "name": "stdout",
     "output_type": "stream",
     "text": [
      "/home/jovyan/notebooks/_temporary_blobs/.part-00000-c9200739-e5ad-4132-998d-c40b8aad928d-c000.snappy.parquet.crc deletado com sucesso.\n",
      "/home/jovyan/notebooks/_temporary_blobs/.part-00001-c9200739-e5ad-4132-998d-c40b8aad928d-c000.snappy.parquet.crc deletado com sucesso.\n",
      "/home/jovyan/notebooks/_temporary_blobs/.part-00003-c9200739-e5ad-4132-998d-c40b8aad928d-c000.snappy.parquet.crc deletado com sucesso.\n",
      "/home/jovyan/notebooks/_temporary_blobs/.part-00005-c9200739-e5ad-4132-998d-c40b8aad928d-c000.snappy.parquet.crc deletado com sucesso.\n",
      "/home/jovyan/notebooks/_temporary_blobs/.part-00007-c9200739-e5ad-4132-998d-c40b8aad928d-c000.snappy.parquet.crc deletado com sucesso.\n",
      "/home/jovyan/notebooks/_temporary_blobs/.part-00009-c9200739-e5ad-4132-998d-c40b8aad928d-c000.snappy.parquet.crc deletado com sucesso.\n",
      "/home/jovyan/notebooks/_temporary_blobs/.part-00011-c9200739-e5ad-4132-998d-c40b8aad928d-c000.snappy.parquet.crc deletado com sucesso.\n",
      "/home/jovyan/notebooks/_temporary_blobs/._SUCCESS.crc deletado com sucesso.\n",
      "/home/jovyan/notebooks/_temporary_blobs/part-00000-c9200739-e5ad-4132-998d-c40b8aad928d-c000.snappy.parquet deletado com sucesso.\n",
      "/home/jovyan/notebooks/_temporary_blobs/part-00001-c9200739-e5ad-4132-998d-c40b8aad928d-c000.snappy.parquet deletado com sucesso.\n",
      "/home/jovyan/notebooks/_temporary_blobs/part-00003-c9200739-e5ad-4132-998d-c40b8aad928d-c000.snappy.parquet deletado com sucesso.\n",
      "/home/jovyan/notebooks/_temporary_blobs/part-00005-c9200739-e5ad-4132-998d-c40b8aad928d-c000.snappy.parquet deletado com sucesso.\n",
      "/home/jovyan/notebooks/_temporary_blobs/part-00007-c9200739-e5ad-4132-998d-c40b8aad928d-c000.snappy.parquet deletado com sucesso.\n",
      "/home/jovyan/notebooks/_temporary_blobs/part-00009-c9200739-e5ad-4132-998d-c40b8aad928d-c000.snappy.parquet deletado com sucesso.\n",
      "/home/jovyan/notebooks/_temporary_blobs/part-00011-c9200739-e5ad-4132-998d-c40b8aad928d-c000.snappy.parquet deletado com sucesso.\n",
      "/home/jovyan/notebooks/_temporary_blobs/_SUCCESS deletado com sucesso.\n"
     ]
    }
   ],
   "source": [
    "# Liste todos os arquivos na pasta\n",
    "arquivos_na_pasta = os.listdir(temp_blobs)\n",
    "\n",
    "# Itere sobre os arquivos e os delete\n",
    "for arquivo in arquivos_na_pasta:\n",
    "    caminho_completo = os.path.join(temp_blobs, arquivo)\n",
    "    try:\n",
    "        if os.path.isfile(caminho_completo):\n",
    "            os.remove(caminho_completo)\n",
    "            print(f'{caminho_completo} deletado com sucesso.')\n",
    "    except Exception as e:\n",
    "        print(f'Erro ao deletar {caminho_completo}: {e}')\n",
    "\n",
    "spark.stop()"
   ]
  }
 ],
 "metadata": {
  "kernelspec": {
   "display_name": "Python 3 (ipykernel)",
   "language": "python",
   "name": "python3"
  },
  "language_info": {
   "codemirror_mode": {
    "name": "ipython",
    "version": 3
   },
   "file_extension": ".py",
   "mimetype": "text/x-python",
   "name": "python",
   "nbconvert_exporter": "python",
   "pygments_lexer": "ipython3",
   "version": "3.11.6"
  },
  "papermill": {
   "default_parameters": {},
   "duration": 14.158115,
   "end_time": "2024-01-14T18:53:36.959368",
   "environment_variables": {},
   "exception": null,
   "input_path": "/home/jovyan/notebooks/dataset_cursos/3_silver_gold_cursos/3_silver_gold_cursos.ipynb",
   "output_path": "/home/jovyan/notebooks/dataset_cursos/3_silver_gold_cursos/3_silver_gold_cursos.ipynb",
   "parameters": {},
   "start_time": "2024-01-14T18:53:22.801253",
   "version": "2.5.0"
  }
 },
 "nbformat": 4,
 "nbformat_minor": 5
}
