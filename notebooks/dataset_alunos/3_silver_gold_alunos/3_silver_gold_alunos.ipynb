{
 "cells": [
  {
   "cell_type": "markdown",
   "id": "553c19ae-788f-4a70-bbff-de2a77024c33",
   "metadata": {
    "papermill": {
     "duration": 0.004269,
     "end_time": "2024-02-09T19:49:32.559963",
     "exception": false,
     "start_time": "2024-02-09T19:49:32.555694",
     "status": "completed"
    },
    "tags": []
   },
   "source": [
    "## Objetivo do notebook\n",
    "#### O objetivo deste notebook é realizar a leitura de dados das origens do dataset alunos na camada silver e gravar de forma versionada na camada gold\n"
   ]
  },
  {
   "cell_type": "markdown",
   "id": "98040be4-19b4-4b7f-a22c-f5a892413cb3",
   "metadata": {
    "papermill": {
     "duration": 0.02616,
     "end_time": "2024-02-09T19:49:32.597352",
     "exception": false,
     "start_time": "2024-02-09T19:49:32.571192",
     "status": "completed"
    },
    "tags": []
   },
   "source": [
    "### Import Libs"
   ]
  },
  {
   "cell_type": "code",
   "execution_count": 1,
   "id": "942dde0f-19c6-4ad1-8326-4441ac5e24a6",
   "metadata": {
    "execution": {
     "iopub.execute_input": "2024-02-09T19:49:32.619369Z",
     "iopub.status.busy": "2024-02-09T19:49:32.618942Z",
     "iopub.status.idle": "2024-02-09T19:49:35.366013Z",
     "shell.execute_reply": "2024-02-09T19:49:35.364695Z"
    },
    "papermill": {
     "duration": 2.759883,
     "end_time": "2024-02-09T19:49:35.367736",
     "exception": false,
     "start_time": "2024-02-09T19:49:32.607853",
     "status": "completed"
    },
    "tags": []
   },
   "outputs": [
    {
     "name": "stdout",
     "output_type": "stream",
     "text": [
      "Requirement already satisfied: minio in /opt/conda/lib/python3.11/site-packages (7.2.3)\r\n",
      "Requirement already satisfied: certifi in /opt/conda/lib/python3.11/site-packages (from minio) (2023.7.22)\r\n",
      "Requirement already satisfied: urllib3 in /opt/conda/lib/python3.11/site-packages (from minio) (1.26.18)\r\n",
      "Requirement already satisfied: argon2-cffi in /opt/conda/lib/python3.11/site-packages (from minio) (23.1.0)\r\n",
      "Requirement already satisfied: pycryptodome in /opt/conda/lib/python3.11/site-packages (from minio) (3.20.0)\r\n",
      "Requirement already satisfied: typing-extensions in /opt/conda/lib/python3.11/site-packages (from minio) (4.8.0)\r\n",
      "Requirement already satisfied: argon2-cffi-bindings in /opt/conda/lib/python3.11/site-packages (from argon2-cffi->minio) (21.2.0)\r\n"
     ]
    },
    {
     "name": "stdout",
     "output_type": "stream",
     "text": [
      "Requirement already satisfied: cffi>=1.0.1 in /opt/conda/lib/python3.11/site-packages (from argon2-cffi-bindings->argon2-cffi->minio) (1.16.0)\r\n",
      "Requirement already satisfied: pycparser in /opt/conda/lib/python3.11/site-packages (from cffi>=1.0.1->argon2-cffi-bindings->argon2-cffi->minio) (2.21)\r\n"
     ]
    }
   ],
   "source": [
    "!pip install minio"
   ]
  },
  {
   "cell_type": "code",
   "execution_count": 2,
   "id": "3f09124d-a137-4fbf-8ebe-d6d44e13083a",
   "metadata": {
    "execution": {
     "iopub.execute_input": "2024-02-09T19:49:35.382129Z",
     "iopub.status.busy": "2024-02-09T19:49:35.381620Z",
     "iopub.status.idle": "2024-02-09T19:49:36.113487Z",
     "shell.execute_reply": "2024-02-09T19:49:36.112788Z"
    },
    "papermill": {
     "duration": 0.742671,
     "end_time": "2024-02-09T19:49:36.114831",
     "exception": false,
     "start_time": "2024-02-09T19:49:35.372160",
     "status": "completed"
    },
    "tags": []
   },
   "outputs": [],
   "source": [
    "from pyspark.sql import SparkSession\n",
    "from io import BytesIO\n",
    "from pyspark.sql.functions import col, max\n",
    "from pyspark.sql.window import Window\n",
    "from minio.error import S3Error\n",
    "from minio import Minio\n",
    "\n",
    "import glob\n",
    "import pyarrow.parquet as pq\n",
    "import os\n",
    "import pandas as pd"
   ]
  },
  {
   "cell_type": "markdown",
   "id": "53b4c9e6-5491-4420-9c7f-283ae7841c08",
   "metadata": {
    "papermill": {
     "duration": 0.008118,
     "end_time": "2024-02-09T19:49:36.126939",
     "exception": false,
     "start_time": "2024-02-09T19:49:36.118821",
     "status": "completed"
    },
    "tags": []
   },
   "source": [
    "### Definição de variáveis"
   ]
  },
  {
   "cell_type": "code",
   "execution_count": 3,
   "id": "2849a6c2-22fe-47df-84db-cbfb4b06075b",
   "metadata": {
    "execution": {
     "iopub.execute_input": "2024-02-09T19:49:36.142982Z",
     "iopub.status.busy": "2024-02-09T19:49:36.142452Z",
     "iopub.status.idle": "2024-02-09T19:49:38.751856Z",
     "shell.execute_reply": "2024-02-09T19:49:38.750875Z"
    },
    "papermill": {
     "duration": 2.619177,
     "end_time": "2024-02-09T19:49:38.753290",
     "exception": false,
     "start_time": "2024-02-09T19:49:36.134113",
     "status": "completed"
    },
    "tags": []
   },
   "outputs": [],
   "source": [
    "# Sessão Spark\n",
    "spark = SparkSession.builder.getOrCreate()\n",
    "\n",
    "# Parametros de input e output das origens\n",
    "camadaLeitura = 'silver'\n",
    "camadaEscrita = 'gold'\n",
    "pasta = 'alunos'\n",
    "temp_blobs = '/home/jovyan/notebooks/temporary_blobs/' # pasta temporária para armazenamento de objetos\n",
    "\n",
    "# Conexão ao miniIO\n",
    "minio_endpoint = 'minio:9000'\n",
    "minio_access_key = 'minioaccesskey'\n",
    "minio_secret_key = 'miniosecretkey'\n",
    "minio_object_name = pasta\n",
    "minio_client = Minio(minio_endpoint, access_key=minio_access_key, secret_key=minio_secret_key, secure=False)\n",
    "\n",
    "# Definição de variáveis para versionamento dos dados na camada bronze\n",
    "minio_path = f'{pasta}'"
   ]
  },
  {
   "cell_type": "markdown",
   "id": "435aa9ea-7da5-4f7a-a984-a7b344586fc2",
   "metadata": {
    "papermill": {
     "duration": 0.007503,
     "end_time": "2024-02-09T19:49:38.766837",
     "exception": false,
     "start_time": "2024-02-09T19:49:38.759334",
     "status": "completed"
    },
    "tags": []
   },
   "source": [
    "### Leitura da camada Silver"
   ]
  },
  {
   "cell_type": "code",
   "execution_count": 4,
   "id": "3990b29b-7611-4281-a482-edf584e7d817",
   "metadata": {
    "execution": {
     "iopub.execute_input": "2024-02-09T19:49:38.782649Z",
     "iopub.status.busy": "2024-02-09T19:49:38.782041Z",
     "iopub.status.idle": "2024-02-09T19:49:40.248813Z",
     "shell.execute_reply": "2024-02-09T19:49:40.247902Z"
    },
    "papermill": {
     "duration": 1.476898,
     "end_time": "2024-02-09T19:49:40.250828",
     "exception": false,
     "start_time": "2024-02-09T19:49:38.773930",
     "status": "completed"
    },
    "tags": []
   },
   "outputs": [
    {
     "name": "stdout",
     "output_type": "stream",
     "text": [
      "Objeto encontrado: alunos/alunos20240209/part-00000-5dc35a31-513a-40ce-bc75-a55fa81ad591-c000.snappy.parquet\n",
      "Objeto encontrado: alunos/alunos20240209/part-00001-5dc35a31-513a-40ce-bc75-a55fa81ad591-c000.snappy.parquet\n",
      "Objeto encontrado: alunos/alunos20240209/part-00002-5dc35a31-513a-40ce-bc75-a55fa81ad591-c000.snappy.parquet\n",
      "Objeto encontrado: alunos/alunos20240209/part-00003-5dc35a31-513a-40ce-bc75-a55fa81ad591-c000.snappy.parquet\n",
      "Objeto encontrado: alunos/alunos20240209/part-00004-5dc35a31-513a-40ce-bc75-a55fa81ad591-c000.snappy.parquet\n",
      "Objeto encontrado: alunos/alunos20240209/part-00005-5dc35a31-513a-40ce-bc75-a55fa81ad591-c000.snappy.parquet\n",
      "Objeto encontrado: alunos/alunos20240209/part-00006-5dc35a31-513a-40ce-bc75-a55fa81ad591-c000.snappy.parquet\n",
      "Objeto encontrado: alunos/alunos20240209/part-00007-5dc35a31-513a-40ce-bc75-a55fa81ad591-c000.snappy.parquet\n",
      "Objeto encontrado: alunos/alunos20240209/part-00008-5dc35a31-513a-40ce-bc75-a55fa81ad591-c000.snappy.parquet\n",
      "Objeto encontrado: alunos/alunos20240209/part-00009-5dc35a31-513a-40ce-bc75-a55fa81ad591-c000.snappy.parquet\n",
      "Objeto encontrado: alunos/alunos20240209/part-00010-5dc35a31-513a-40ce-bc75-a55fa81ad591-c000.snappy.parquet\n",
      "Objeto encontrado: alunos/alunos20240209/part-00011-5dc35a31-513a-40ce-bc75-a55fa81ad591-c000.snappy.parquet\n"
     ]
    }
   ],
   "source": [
    "dataframes = []\n",
    "\n",
    "try:\n",
    "    # Lista objetos no bucket\n",
    "    objects = minio_client.list_objects(camadaLeitura, prefix=pasta, recursive=True)\n",
    "\n",
    "    # Itera sobre os objetos na pasta\n",
    "    for obj in objects:\n",
    "        # Lê o conteúdo do objeto\n",
    "        content = minio_client.get_object(camadaLeitura, obj.object_name).read()\n",
    "        \n",
    "        # Lê o conteúdo do objeto Parquet usando pyarrow e converte para DataFrame Pandas\n",
    "        df_pandas = pq.read_table(BytesIO(content)).to_pandas()\n",
    "        \n",
    "        # Adiciona o DataFrame Pandas à lista de DataFrames\n",
    "        dataframes.append(df_pandas)\n",
    "        \n",
    "        print(f\"Objeto encontrado: {obj.object_name}\")\n",
    "except error.MinioException as e:\n",
    "    print(f\"Erro ao listar objetos: {e}\")\n",
    "\n",
    "# Concatena todos os DataFrames Pandas em um único DataFrame Pandas\n",
    "consolidated_df_pandas = pd.concat(dataframes, ignore_index=True)\n",
    "\n",
    "# Converte para DataFrame PySpark\n",
    "df_alunos = spark.createDataFrame(consolidated_df_pandas)"
   ]
  },
  {
   "cell_type": "markdown",
   "id": "7ad4164b-2622-4d4d-bc68-d1cade059670",
   "metadata": {
    "papermill": {
     "duration": 0.008661,
     "end_time": "2024-02-09T19:49:40.264933",
     "exception": false,
     "start_time": "2024-02-09T19:49:40.256272",
     "status": "completed"
    },
    "tags": []
   },
   "source": [
    "### Tratamento dos dados"
   ]
  },
  {
   "cell_type": "code",
   "execution_count": 5,
   "id": "0eecb32f-615f-4b79-96c6-c3fa2ca47fb3",
   "metadata": {
    "execution": {
     "iopub.execute_input": "2024-02-09T19:49:40.282557Z",
     "iopub.status.busy": "2024-02-09T19:49:40.282229Z",
     "iopub.status.idle": "2024-02-09T19:49:42.434748Z",
     "shell.execute_reply": "2024-02-09T19:49:42.433728Z"
    },
    "papermill": {
     "duration": 2.163763,
     "end_time": "2024-02-09T19:49:42.436389",
     "exception": false,
     "start_time": "2024-02-09T19:49:40.272626",
     "status": "completed"
    },
    "tags": []
   },
   "outputs": [],
   "source": [
    "# Busca etl_date mais recente\n",
    "max_etl_date = df_alunos.agg(max(\"etl_date\")).collect()[0][0]\n",
    "\n",
    "# Filtra o Dataframe pelo etl_date mais recente\n",
    "df_alunos = df_alunos.select('id', 'nome', 'data_nascimento' ).where(col(\"etl_date\") == max_etl_date)"
   ]
  },
  {
   "cell_type": "markdown",
   "id": "9fd5188c-51a9-4893-8509-67f8db4b79bc",
   "metadata": {
    "papermill": {
     "duration": 0.007793,
     "end_time": "2024-02-09T19:49:42.449039",
     "exception": false,
     "start_time": "2024-02-09T19:49:42.441246",
     "status": "completed"
    },
    "tags": []
   },
   "source": [
    "### Gravação do dataframe em um diretório temporário"
   ]
  },
  {
   "cell_type": "code",
   "execution_count": 6,
   "id": "2d18424f-56d6-40f7-85be-918f8b48b55e",
   "metadata": {
    "execution": {
     "iopub.execute_input": "2024-02-09T19:49:42.469137Z",
     "iopub.status.busy": "2024-02-09T19:49:42.468884Z",
     "iopub.status.idle": "2024-02-09T19:49:44.188455Z",
     "shell.execute_reply": "2024-02-09T19:49:44.187660Z"
    },
    "papermill": {
     "duration": 1.730603,
     "end_time": "2024-02-09T19:49:44.189872",
     "exception": false,
     "start_time": "2024-02-09T19:49:42.459269",
     "status": "completed"
    },
    "tags": []
   },
   "outputs": [],
   "source": [
    "df_alunos.write.parquet(temp_blobs, mode=\"overwrite\")"
   ]
  },
  {
   "cell_type": "markdown",
   "id": "dd34be7d-a6bc-482c-8f23-3d69e140c055",
   "metadata": {
    "papermill": {
     "duration": 0.007332,
     "end_time": "2024-02-09T19:49:44.202026",
     "exception": false,
     "start_time": "2024-02-09T19:49:44.194694",
     "status": "completed"
    },
    "tags": []
   },
   "source": [
    "### Gravação na camada Gold"
   ]
  },
  {
   "cell_type": "code",
   "execution_count": 7,
   "id": "69d48ea0-0d84-4981-b38d-ff27691eeb99",
   "metadata": {
    "execution": {
     "iopub.execute_input": "2024-02-09T19:49:44.216675Z",
     "iopub.status.busy": "2024-02-09T19:49:44.216441Z",
     "iopub.status.idle": "2024-02-09T19:49:44.415725Z",
     "shell.execute_reply": "2024-02-09T19:49:44.415016Z"
    },
    "papermill": {
     "duration": 0.2083,
     "end_time": "2024-02-09T19:49:44.416983",
     "exception": false,
     "start_time": "2024-02-09T19:49:44.208683",
     "status": "completed"
    },
    "tags": []
   },
   "outputs": [
    {
     "name": "stdout",
     "output_type": "stream",
     "text": [
      "Arquivo 'part-00000-69004b97-6e8b-4c8c-983d-e688fb3eb3d7-c000.snappy.parquet' enviado com sucesso para o MinIO em 'alunos/part-00000-69004b97-6e8b-4c8c-983d-e688fb3eb3d7-c000.snappy.parquet'.\n",
      "Arquivo 'part-00001-69004b97-6e8b-4c8c-983d-e688fb3eb3d7-c000.snappy.parquet' enviado com sucesso para o MinIO em 'alunos/part-00001-69004b97-6e8b-4c8c-983d-e688fb3eb3d7-c000.snappy.parquet'.\n",
      "Arquivo 'part-00002-69004b97-6e8b-4c8c-983d-e688fb3eb3d7-c000.snappy.parquet' enviado com sucesso para o MinIO em 'alunos/part-00002-69004b97-6e8b-4c8c-983d-e688fb3eb3d7-c000.snappy.parquet'.\n",
      "Arquivo 'part-00003-69004b97-6e8b-4c8c-983d-e688fb3eb3d7-c000.snappy.parquet' enviado com sucesso para o MinIO em 'alunos/part-00003-69004b97-6e8b-4c8c-983d-e688fb3eb3d7-c000.snappy.parquet'.\n",
      "Arquivo 'part-00004-69004b97-6e8b-4c8c-983d-e688fb3eb3d7-c000.snappy.parquet' enviado com sucesso para o MinIO em 'alunos/part-00004-69004b97-6e8b-4c8c-983d-e688fb3eb3d7-c000.snappy.parquet'.\n",
      "Arquivo 'part-00005-69004b97-6e8b-4c8c-983d-e688fb3eb3d7-c000.snappy.parquet' enviado com sucesso para o MinIO em 'alunos/part-00005-69004b97-6e8b-4c8c-983d-e688fb3eb3d7-c000.snappy.parquet'.\n",
      "Arquivo 'part-00006-69004b97-6e8b-4c8c-983d-e688fb3eb3d7-c000.snappy.parquet' enviado com sucesso para o MinIO em 'alunos/part-00006-69004b97-6e8b-4c8c-983d-e688fb3eb3d7-c000.snappy.parquet'.\n",
      "Arquivo 'part-00007-69004b97-6e8b-4c8c-983d-e688fb3eb3d7-c000.snappy.parquet' enviado com sucesso para o MinIO em 'alunos/part-00007-69004b97-6e8b-4c8c-983d-e688fb3eb3d7-c000.snappy.parquet'.\n",
      "Arquivo 'part-00008-69004b97-6e8b-4c8c-983d-e688fb3eb3d7-c000.snappy.parquet' enviado com sucesso para o MinIO em 'alunos/part-00008-69004b97-6e8b-4c8c-983d-e688fb3eb3d7-c000.snappy.parquet'.\n",
      "Arquivo 'part-00009-69004b97-6e8b-4c8c-983d-e688fb3eb3d7-c000.snappy.parquet' enviado com sucesso para o MinIO em 'alunos/part-00009-69004b97-6e8b-4c8c-983d-e688fb3eb3d7-c000.snappy.parquet'.\n",
      "Arquivo 'part-00010-69004b97-6e8b-4c8c-983d-e688fb3eb3d7-c000.snappy.parquet' enviado com sucesso para o MinIO em 'alunos/part-00010-69004b97-6e8b-4c8c-983d-e688fb3eb3d7-c000.snappy.parquet'.\n",
      "Arquivo 'part-00011-69004b97-6e8b-4c8c-983d-e688fb3eb3d7-c000.snappy.parquet' enviado com sucesso para o MinIO em 'alunos/part-00011-69004b97-6e8b-4c8c-983d-e688fb3eb3d7-c000.snappy.parquet'.\n"
     ]
    }
   ],
   "source": [
    "# Recria bucket caso não exista\n",
    "if not minio_client.bucket_exists(camadaEscrita):\n",
    "    minio_client.make_bucket(camadaEscrita)\n",
    "\n",
    "# Lista todos os arquivos Parquet no diretório temporário de blobs\n",
    "arquivos_parquet = glob.glob(os.path.join(temp_blobs, '*.parquet'))\n",
    "\n",
    "# Exclui todos os arquivos existentes na pasta no MinIO\n",
    "objects = minio_client.list_objects(camadaEscrita, minio_path, recursive=True)\n",
    "for obj in objects:\n",
    "    try:\n",
    "        minio_client.remove_object(camadaEscrita, obj.object_name)\n",
    "        print(f\"Arquivo existente '{obj.object_name}' removido com sucesso do MinIO.\")\n",
    "    except S3Error as e:\n",
    "        print(f\"Erro ao excluir o arquivo existente do MinIO: {e}\")\n",
    "\n",
    "# Itera sobre a lista de arquivos Parquet e envia cada um para o MinIO\n",
    "for arquivo_parquet in arquivos_parquet:\n",
    "    try:\n",
    "        # Obtém o nome do arquivo\n",
    "        nome_arquivo = os.path.basename(arquivo_parquet)\n",
    "\n",
    "        # Envia o novo arquivo para o MinIO\n",
    "        minio_client.fput_object(camadaEscrita, os.path.join(minio_path, nome_arquivo), arquivo_parquet)\n",
    "        print(f\"Arquivo '{nome_arquivo}' enviado com sucesso para o MinIO em '{os.path.join(minio_path, nome_arquivo)}'.\")\n",
    "    except S3Error as e:\n",
    "        print(f\"Erro ao interagir com o MinIO: {e}\")"
   ]
  },
  {
   "cell_type": "markdown",
   "id": "5d7b6298-6223-4086-980b-9e1409b324ea",
   "metadata": {
    "papermill": {
     "duration": 0.007296,
     "end_time": "2024-02-09T19:49:44.428472",
     "exception": false,
     "start_time": "2024-02-09T19:49:44.421176",
     "status": "completed"
    },
    "tags": []
   },
   "source": [
    "### Remove dados do diretório temporário de blobs"
   ]
  },
  {
   "cell_type": "code",
   "execution_count": 8,
   "id": "a9373d36-1d90-45ab-bcf8-6c7cae5daffc",
   "metadata": {
    "execution": {
     "iopub.execute_input": "2024-02-09T19:49:44.442973Z",
     "iopub.status.busy": "2024-02-09T19:49:44.442739Z",
     "iopub.status.idle": "2024-02-09T19:49:45.540361Z",
     "shell.execute_reply": "2024-02-09T19:49:45.539585Z"
    },
    "papermill": {
     "duration": 1.106813,
     "end_time": "2024-02-09T19:49:45.541932",
     "exception": false,
     "start_time": "2024-02-09T19:49:44.435119",
     "status": "completed"
    },
    "tags": []
   },
   "outputs": [
    {
     "name": "stdout",
     "output_type": "stream",
     "text": [
      "/home/jovyan/notebooks/temporary_blobs/.part-00000-69004b97-6e8b-4c8c-983d-e688fb3eb3d7-c000.snappy.parquet.crc deletado com sucesso.\n",
      "/home/jovyan/notebooks/temporary_blobs/.part-00001-69004b97-6e8b-4c8c-983d-e688fb3eb3d7-c000.snappy.parquet.crc deletado com sucesso.\n",
      "/home/jovyan/notebooks/temporary_blobs/.part-00002-69004b97-6e8b-4c8c-983d-e688fb3eb3d7-c000.snappy.parquet.crc deletado com sucesso.\n",
      "/home/jovyan/notebooks/temporary_blobs/.part-00003-69004b97-6e8b-4c8c-983d-e688fb3eb3d7-c000.snappy.parquet.crc deletado com sucesso.\n",
      "/home/jovyan/notebooks/temporary_blobs/.part-00004-69004b97-6e8b-4c8c-983d-e688fb3eb3d7-c000.snappy.parquet.crc deletado com sucesso.\n",
      "/home/jovyan/notebooks/temporary_blobs/.part-00005-69004b97-6e8b-4c8c-983d-e688fb3eb3d7-c000.snappy.parquet.crc deletado com sucesso.\n",
      "/home/jovyan/notebooks/temporary_blobs/.part-00006-69004b97-6e8b-4c8c-983d-e688fb3eb3d7-c000.snappy.parquet.crc deletado com sucesso.\n",
      "/home/jovyan/notebooks/temporary_blobs/.part-00007-69004b97-6e8b-4c8c-983d-e688fb3eb3d7-c000.snappy.parquet.crc deletado com sucesso.\n",
      "/home/jovyan/notebooks/temporary_blobs/.part-00008-69004b97-6e8b-4c8c-983d-e688fb3eb3d7-c000.snappy.parquet.crc deletado com sucesso.\n",
      "/home/jovyan/notebooks/temporary_blobs/.part-00009-69004b97-6e8b-4c8c-983d-e688fb3eb3d7-c000.snappy.parquet.crc deletado com sucesso.\n",
      "/home/jovyan/notebooks/temporary_blobs/.part-00010-69004b97-6e8b-4c8c-983d-e688fb3eb3d7-c000.snappy.parquet.crc deletado com sucesso.\n"
     ]
    },
    {
     "name": "stdout",
     "output_type": "stream",
     "text": [
      "/home/jovyan/notebooks/temporary_blobs/.part-00011-69004b97-6e8b-4c8c-983d-e688fb3eb3d7-c000.snappy.parquet.crc deletado com sucesso.\n",
      "/home/jovyan/notebooks/temporary_blobs/._SUCCESS.crc deletado com sucesso.\n",
      "/home/jovyan/notebooks/temporary_blobs/part-00000-69004b97-6e8b-4c8c-983d-e688fb3eb3d7-c000.snappy.parquet deletado com sucesso.\n",
      "/home/jovyan/notebooks/temporary_blobs/part-00001-69004b97-6e8b-4c8c-983d-e688fb3eb3d7-c000.snappy.parquet deletado com sucesso.\n",
      "/home/jovyan/notebooks/temporary_blobs/part-00002-69004b97-6e8b-4c8c-983d-e688fb3eb3d7-c000.snappy.parquet deletado com sucesso.\n",
      "/home/jovyan/notebooks/temporary_blobs/part-00003-69004b97-6e8b-4c8c-983d-e688fb3eb3d7-c000.snappy.parquet deletado com sucesso.\n",
      "/home/jovyan/notebooks/temporary_blobs/part-00004-69004b97-6e8b-4c8c-983d-e688fb3eb3d7-c000.snappy.parquet deletado com sucesso.\n",
      "/home/jovyan/notebooks/temporary_blobs/part-00005-69004b97-6e8b-4c8c-983d-e688fb3eb3d7-c000.snappy.parquet deletado com sucesso.\n",
      "/home/jovyan/notebooks/temporary_blobs/part-00006-69004b97-6e8b-4c8c-983d-e688fb3eb3d7-c000.snappy.parquet deletado com sucesso.\n",
      "/home/jovyan/notebooks/temporary_blobs/part-00007-69004b97-6e8b-4c8c-983d-e688fb3eb3d7-c000.snappy.parquet deletado com sucesso.\n",
      "/home/jovyan/notebooks/temporary_blobs/part-00008-69004b97-6e8b-4c8c-983d-e688fb3eb3d7-c000.snappy.parquet deletado com sucesso.\n",
      "/home/jovyan/notebooks/temporary_blobs/part-00009-69004b97-6e8b-4c8c-983d-e688fb3eb3d7-c000.snappy.parquet deletado com sucesso.\n",
      "/home/jovyan/notebooks/temporary_blobs/part-00010-69004b97-6e8b-4c8c-983d-e688fb3eb3d7-c000.snappy.parquet deletado com sucesso.\n",
      "/home/jovyan/notebooks/temporary_blobs/part-00011-69004b97-6e8b-4c8c-983d-e688fb3eb3d7-c000.snappy.parquet deletado com sucesso.\n",
      "/home/jovyan/notebooks/temporary_blobs/_SUCCESS deletado com sucesso.\n"
     ]
    }
   ],
   "source": [
    "# Liste todos os arquivos na pasta\n",
    "arquivos_na_pasta = os.listdir(temp_blobs)\n",
    "\n",
    "# Itere sobre os arquivos e os delete\n",
    "for arquivo in arquivos_na_pasta:\n",
    "    caminho_completo = os.path.join(temp_blobs, arquivo)\n",
    "    try:\n",
    "        if os.path.isfile(caminho_completo):\n",
    "            os.remove(caminho_completo)\n",
    "            print(f'{caminho_completo} deletado com sucesso.')\n",
    "    except Exception as e:\n",
    "        print(f'Erro ao deletar {caminho_completo}: {e}')\n",
    "\n",
    "spark.stop()"
   ]
  }
 ],
 "metadata": {
  "kernelspec": {
   "display_name": "Python 3 (ipykernel)",
   "language": "python",
   "name": "python3"
  },
  "language_info": {
   "codemirror_mode": {
    "name": "ipython",
    "version": 3
   },
   "file_extension": ".py",
   "mimetype": "text/x-python",
   "name": "python",
   "nbconvert_exporter": "python",
   "pygments_lexer": "ipython3",
   "version": "3.11.6"
  },
  "papermill": {
   "default_parameters": {},
   "duration": 16.493676,
   "end_time": "2024-02-09T19:49:48.166013",
   "environment_variables": {},
   "exception": null,
   "input_path": "/home/jovyan/notebooks/dataset_alunos/3_silver_gold_alunos/3_silver_gold_alunos.ipynb",
   "output_path": "/home/jovyan/notebooks/dataset_alunos/3_silver_gold_alunos/3_silver_gold_alunos.ipynb",
   "parameters": {},
   "start_time": "2024-02-09T19:49:31.672337",
   "version": "2.5.0"
  }
 },
 "nbformat": 4,
 "nbformat_minor": 5
}