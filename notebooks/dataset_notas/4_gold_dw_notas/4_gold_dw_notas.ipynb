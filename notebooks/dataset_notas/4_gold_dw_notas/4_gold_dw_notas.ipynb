{
 "cells": [
  {
   "cell_type": "markdown",
   "id": "945755e0-a3bb-4f1b-a7ba-7ea78f7300bc",
   "metadata": {
    "papermill": {
     "duration": 0.00491,
     "end_time": "2024-02-09T19:53:58.968320",
     "exception": false,
     "start_time": "2024-02-09T19:53:58.963410",
     "status": "completed"
    },
    "tags": []
   },
   "source": [
    "## Objetivo do notebook\n",
    "#### O objetivo deste notebook é realizar a leitura de dados das origens do dataset notas na camada gold  e gravar no DW"
   ]
  },
  {
   "cell_type": "markdown",
   "id": "f4e8a200-cfd3-49dc-bb00-b3152191a435",
   "metadata": {
    "papermill": {
     "duration": 0.007247,
     "end_time": "2024-02-09T19:53:58.983899",
     "exception": false,
     "start_time": "2024-02-09T19:53:58.976652",
     "status": "completed"
    },
    "tags": []
   },
   "source": [
    "### Import Libs"
   ]
  },
  {
   "cell_type": "code",
   "execution_count": 1,
   "id": "b2c0ffc1-d4a0-45ef-b873-9b579026d391",
   "metadata": {
    "execution": {
     "iopub.execute_input": "2024-02-09T19:53:59.000770Z",
     "iopub.status.busy": "2024-02-09T19:53:59.000246Z",
     "iopub.status.idle": "2024-02-09T19:54:01.533345Z",
     "shell.execute_reply": "2024-02-09T19:54:01.532110Z"
    },
    "papermill": {
     "duration": 2.544299,
     "end_time": "2024-02-09T19:54:01.535879",
     "exception": false,
     "start_time": "2024-02-09T19:53:58.991580",
     "status": "completed"
    },
    "tags": []
   },
   "outputs": [
    {
     "name": "stdout",
     "output_type": "stream",
     "text": [
      "Requirement already satisfied: minio in /opt/conda/lib/python3.11/site-packages (7.2.3)\r\n",
      "Requirement already satisfied: certifi in /opt/conda/lib/python3.11/site-packages (from minio) (2023.7.22)\r\n",
      "Requirement already satisfied: urllib3 in /opt/conda/lib/python3.11/site-packages (from minio) (1.26.18)\r\n",
      "Requirement already satisfied: argon2-cffi in /opt/conda/lib/python3.11/site-packages (from minio) (23.1.0)\r\n",
      "Requirement already satisfied: pycryptodome in /opt/conda/lib/python3.11/site-packages (from minio) (3.20.0)\r\n",
      "Requirement already satisfied: typing-extensions in /opt/conda/lib/python3.11/site-packages (from minio) (4.8.0)\r\n"
     ]
    },
    {
     "name": "stdout",
     "output_type": "stream",
     "text": [
      "Requirement already satisfied: argon2-cffi-bindings in /opt/conda/lib/python3.11/site-packages (from argon2-cffi->minio) (21.2.0)\r\n",
      "Requirement already satisfied: cffi>=1.0.1 in /opt/conda/lib/python3.11/site-packages (from argon2-cffi-bindings->argon2-cffi->minio) (1.16.0)\r\n",
      "Requirement already satisfied: pycparser in /opt/conda/lib/python3.11/site-packages (from cffi>=1.0.1->argon2-cffi-bindings->argon2-cffi->minio) (2.21)\r\n"
     ]
    }
   ],
   "source": [
    "!pip install minio"
   ]
  },
  {
   "cell_type": "markdown",
   "id": "2130c581-8955-452b-8468-bbdbe96926d5",
   "metadata": {
    "papermill": {
     "duration": 0.00798,
     "end_time": "2024-02-09T19:54:01.552578",
     "exception": false,
     "start_time": "2024-02-09T19:54:01.544598",
     "status": "completed"
    },
    "tags": []
   },
   "source": [
    "### Import das libs"
   ]
  },
  {
   "cell_type": "code",
   "execution_count": 2,
   "id": "2ad9f64f-84d2-4516-bf27-cd2727eb08dc",
   "metadata": {
    "execution": {
     "iopub.execute_input": "2024-02-09T19:54:01.568303Z",
     "iopub.status.busy": "2024-02-09T19:54:01.568064Z",
     "iopub.status.idle": "2024-02-09T19:54:02.233147Z",
     "shell.execute_reply": "2024-02-09T19:54:02.232341Z"
    },
    "papermill": {
     "duration": 0.674965,
     "end_time": "2024-02-09T19:54:02.234563",
     "exception": false,
     "start_time": "2024-02-09T19:54:01.559598",
     "status": "completed"
    },
    "tags": []
   },
   "outputs": [],
   "source": [
    "from pyspark.sql import SparkSession\n",
    "from minio import Minio, error\n",
    "from io import BytesIO\n",
    "\n",
    "import os\n",
    "import pandas as pd\n",
    "import pyarrow.parquet as pq"
   ]
  },
  {
   "cell_type": "markdown",
   "id": "fbeff9c3-031c-42cb-bf70-31a96a98acbd",
   "metadata": {
    "papermill": {
     "duration": 0.007428,
     "end_time": "2024-02-09T19:54:02.247057",
     "exception": false,
     "start_time": "2024-02-09T19:54:02.239629",
     "status": "completed"
    },
    "tags": []
   },
   "source": [
    "### Definição de variáveis"
   ]
  },
  {
   "cell_type": "code",
   "execution_count": 3,
   "id": "acba31d1-8449-4b04-8bcc-342ee1a08f7d",
   "metadata": {
    "execution": {
     "iopub.execute_input": "2024-02-09T19:54:02.262173Z",
     "iopub.status.busy": "2024-02-09T19:54:02.261595Z",
     "iopub.status.idle": "2024-02-09T19:54:04.534594Z",
     "shell.execute_reply": "2024-02-09T19:54:04.533855Z"
    },
    "papermill": {
     "duration": 2.282231,
     "end_time": "2024-02-09T19:54:04.536002",
     "exception": false,
     "start_time": "2024-02-09T19:54:02.253771",
     "status": "completed"
    },
    "tags": []
   },
   "outputs": [],
   "source": [
    "# Sessão Spark\n",
    "spark = SparkSession.builder \\\n",
    "    .appName(\"CSV to PostgreSQL\") \\\n",
    "    .config(\"spark.driver.extraClassPath\", \"/home/jovyan/notebooks/jars/postgresql-42.6.0.jar\") \\\n",
    "    .config(\"spark.driver.memory\", \"4g\") \\\n",
    "    .config(\"spark.executor.memory\", \"4g\") \\\n",
    "    .getOrCreate()\n",
    "\n",
    "# Parametros de input e output das origens\n",
    "camadaLeitura= 'gold'\n",
    "pasta = 'notas/'\n",
    "temp_blobs = '/home/jovyan/notebooks/temporary_blobs/' # pasta temporária para armazenamento de objetos\n",
    "\n",
    "\n",
    "# Conexão ao miniIO\n",
    "minio_endpoint = 'minio:9000'\n",
    "minio_access_key = 'minioaccesskey'\n",
    "minio_secret_key = 'miniosecretkey'\n",
    "minio_object_name = pasta\n",
    "minio_client = Minio(minio_endpoint, access_key=minio_access_key, secret_key=minio_secret_key, secure=False)"
   ]
  },
  {
   "cell_type": "markdown",
   "id": "06db67d2-6ab5-4d46-9f52-264935b72300",
   "metadata": {
    "papermill": {
     "duration": 0.009869,
     "end_time": "2024-02-09T19:54:04.550988",
     "exception": false,
     "start_time": "2024-02-09T19:54:04.541119",
     "status": "completed"
    },
    "tags": []
   },
   "source": [
    "### Leitura da camada Gold"
   ]
  },
  {
   "cell_type": "code",
   "execution_count": 4,
   "id": "495e0f4f-cc20-4104-aba0-3656fc7b6755",
   "metadata": {
    "execution": {
     "iopub.execute_input": "2024-02-09T19:54:04.570383Z",
     "iopub.status.busy": "2024-02-09T19:54:04.569981Z",
     "iopub.status.idle": "2024-02-09T19:54:06.955976Z",
     "shell.execute_reply": "2024-02-09T19:54:06.955086Z"
    },
    "papermill": {
     "duration": 2.396144,
     "end_time": "2024-02-09T19:54:06.957396",
     "exception": false,
     "start_time": "2024-02-09T19:54:04.561252",
     "status": "completed"
    },
    "tags": []
   },
   "outputs": [
    {
     "name": "stdout",
     "output_type": "stream",
     "text": [
      "Objeto encontrado: notas/part-00000-10b75333-87fd-4754-9a75-0b265bebbc2b-c000.snappy.parquet\n",
      "Objeto encontrado: notas/part-00001-10b75333-87fd-4754-9a75-0b265bebbc2b-c000.snappy.parquet\n",
      "Objeto encontrado: notas/part-00002-10b75333-87fd-4754-9a75-0b265bebbc2b-c000.snappy.parquet\n",
      "Objeto encontrado: notas/part-00003-10b75333-87fd-4754-9a75-0b265bebbc2b-c000.snappy.parquet\n",
      "Objeto encontrado: notas/part-00004-10b75333-87fd-4754-9a75-0b265bebbc2b-c000.snappy.parquet\n",
      "Objeto encontrado: notas/part-00005-10b75333-87fd-4754-9a75-0b265bebbc2b-c000.snappy.parquet\n",
      "Objeto encontrado: notas/part-00006-10b75333-87fd-4754-9a75-0b265bebbc2b-c000.snappy.parquet\n",
      "Objeto encontrado: notas/part-00007-10b75333-87fd-4754-9a75-0b265bebbc2b-c000.snappy.parquet\n",
      "Objeto encontrado: notas/part-00008-10b75333-87fd-4754-9a75-0b265bebbc2b-c000.snappy.parquet\n",
      "Objeto encontrado: notas/part-00009-10b75333-87fd-4754-9a75-0b265bebbc2b-c000.snappy.parquet\n",
      "Objeto encontrado: notas/part-00010-10b75333-87fd-4754-9a75-0b265bebbc2b-c000.snappy.parquet\n",
      "Objeto encontrado: notas/part-00011-10b75333-87fd-4754-9a75-0b265bebbc2b-c000.snappy.parquet\n"
     ]
    }
   ],
   "source": [
    "dataframes = []\n",
    "\n",
    "try:\n",
    "    # Listar objetos no bucket\n",
    "    objects = minio_client.list_objects(camadaLeitura, prefix=pasta, recursive=True)\n",
    "\n",
    "    # Iterar sobre os objetos na pasta específica\n",
    "    for obj in objects:\n",
    "        # Lê o conteúdo do objeto\n",
    "        content = minio_client.get_object(camadaLeitura, obj.object_name).read()\n",
    "        \n",
    "        # Lê o conteúdo do objeto Parquet usando pyarrow e converte para DataFrame Pandas\n",
    "        df_pandas = pq.read_table(BytesIO(content)).to_pandas()\n",
    "        \n",
    "        # Adiciona o DataFrame Pandas à lista de DataFrames\n",
    "        dataframes.append(df_pandas)\n",
    "        \n",
    "        print(f\"Objeto encontrado: {obj.object_name}\")\n",
    "except error.MinioException as e:\n",
    "    print(f\"Erro ao listar objetos: {e}\")\n",
    "\n",
    "# Concatena todos os DataFrames Pandas em um único DataFrame Pandas\n",
    "consolidated_df_pandas = pd.concat(dataframes, ignore_index=True)\n",
    "\n",
    "# Converte para DataFrame PySpark\n",
    "df_matri_notas = spark.createDataFrame(consolidated_df_pandas)"
   ]
  },
  {
   "cell_type": "markdown",
   "id": "65d830ad-d39b-4d96-a14f-120a51403049",
   "metadata": {
    "papermill": {
     "duration": 0.007854,
     "end_time": "2024-02-09T19:54:06.970981",
     "exception": false,
     "start_time": "2024-02-09T19:54:06.963127",
     "status": "completed"
    },
    "tags": []
   },
   "source": [
    "### Gravação do dataframe em um diretório temporário"
   ]
  },
  {
   "cell_type": "code",
   "execution_count": 5,
   "id": "b91c4109-f5ff-4555-a0fb-f3bd995cb768",
   "metadata": {
    "execution": {
     "iopub.execute_input": "2024-02-09T19:54:06.987175Z",
     "iopub.status.busy": "2024-02-09T19:54:06.986869Z",
     "iopub.status.idle": "2024-02-09T19:54:10.167630Z",
     "shell.execute_reply": "2024-02-09T19:54:10.166787Z"
    },
    "papermill": {
     "duration": 3.190756,
     "end_time": "2024-02-09T19:54:10.169166",
     "exception": false,
     "start_time": "2024-02-09T19:54:06.978410",
     "status": "completed"
    },
    "tags": []
   },
   "outputs": [],
   "source": [
    "df_matri_notas.write.parquet(temp_blobs, mode=\"overwrite\")"
   ]
  },
  {
   "cell_type": "markdown",
   "id": "58a5dc15-c2bb-4ec0-9873-7e60959cac01",
   "metadata": {
    "papermill": {
     "duration": 0.007688,
     "end_time": "2024-02-09T19:54:10.181341",
     "exception": false,
     "start_time": "2024-02-09T19:54:10.173653",
     "status": "completed"
    },
    "tags": []
   },
   "source": [
    "### Gravação no DW"
   ]
  },
  {
   "cell_type": "code",
   "execution_count": 6,
   "id": "e582fbca-0fc4-4d22-874b-fc0ac0f70473",
   "metadata": {
    "execution": {
     "iopub.execute_input": "2024-02-09T19:54:10.196870Z",
     "iopub.status.busy": "2024-02-09T19:54:10.196253Z",
     "iopub.status.idle": "2024-02-09T19:54:11.452270Z",
     "shell.execute_reply": "2024-02-09T19:54:11.451252Z"
    },
    "papermill": {
     "duration": 1.265504,
     "end_time": "2024-02-09T19:54:11.453813",
     "exception": false,
     "start_time": "2024-02-09T19:54:10.188309",
     "status": "completed"
    },
    "tags": []
   },
   "outputs": [
    {
     "name": "stdout",
     "output_type": "stream",
     "text": [
      "Dados inseridos no banco de dados!\n"
     ]
    }
   ],
   "source": [
    "df_matri_notas = spark.read.parquet(temp_blobs, header=True)\n",
    "\n",
    "postgres_url = \"jdbc:postgresql://postgres:5432/prova\"\n",
    "postgres_properties = {\n",
    "    \"user\": \"postgres\",\n",
    "    \"password\": \"password\",\n",
    "    \"driver\": \"org.postgresql.Driver\"\n",
    "}\n",
    "postgres_table = \"fato_notas\"\n",
    "\n",
    "df_matri_notas.write \\\n",
    "    .format(\"jdbc\") \\\n",
    "    .option(\"url\", postgres_url) \\\n",
    "    .option(\"dbtable\", postgres_table) \\\n",
    "    .option(\"user\", postgres_properties[\"user\"]) \\\n",
    "    .option(\"password\", postgres_properties[\"password\"]) \\\n",
    "    .option(\"driver\", postgres_properties[\"driver\"]) \\\n",
    "    .mode(\"overwrite\") \\\n",
    "    .save()\n",
    "\n",
    "print('Dados inseridos no banco de dados!')\n"
   ]
  },
  {
   "cell_type": "markdown",
   "id": "7f9ea365-630c-4c8a-ae7c-39f85b8ec29a",
   "metadata": {
    "papermill": {
     "duration": 0.009313,
     "end_time": "2024-02-09T19:54:11.467683",
     "exception": false,
     "start_time": "2024-02-09T19:54:11.458370",
     "status": "completed"
    },
    "tags": []
   },
   "source": [
    "### Remove dados do diretório temporário de blobs"
   ]
  },
  {
   "cell_type": "code",
   "execution_count": 7,
   "id": "7d522f0d-4da5-430f-9bfd-65891f4a6dbb",
   "metadata": {
    "execution": {
     "iopub.execute_input": "2024-02-09T19:54:11.488773Z",
     "iopub.status.busy": "2024-02-09T19:54:11.488363Z",
     "iopub.status.idle": "2024-02-09T19:54:11.635516Z",
     "shell.execute_reply": "2024-02-09T19:54:11.634712Z"
    },
    "papermill": {
     "duration": 0.158647,
     "end_time": "2024-02-09T19:54:11.636760",
     "exception": false,
     "start_time": "2024-02-09T19:54:11.478113",
     "status": "completed"
    },
    "tags": []
   },
   "outputs": [
    {
     "name": "stdout",
     "output_type": "stream",
     "text": [
      "/home/jovyan/notebooks/temporary_blobs/.part-00000-4966e832-ddb5-406e-8fec-b740b5254e4c-c000.snappy.parquet.crc deletado com sucesso.\n",
      "/home/jovyan/notebooks/temporary_blobs/.part-00001-4966e832-ddb5-406e-8fec-b740b5254e4c-c000.snappy.parquet.crc deletado com sucesso.\n",
      "/home/jovyan/notebooks/temporary_blobs/.part-00002-4966e832-ddb5-406e-8fec-b740b5254e4c-c000.snappy.parquet.crc deletado com sucesso.\n",
      "/home/jovyan/notebooks/temporary_blobs/.part-00003-4966e832-ddb5-406e-8fec-b740b5254e4c-c000.snappy.parquet.crc deletado com sucesso.\n",
      "/home/jovyan/notebooks/temporary_blobs/.part-00004-4966e832-ddb5-406e-8fec-b740b5254e4c-c000.snappy.parquet.crc deletado com sucesso.\n",
      "/home/jovyan/notebooks/temporary_blobs/.part-00005-4966e832-ddb5-406e-8fec-b740b5254e4c-c000.snappy.parquet.crc deletado com sucesso.\n",
      "/home/jovyan/notebooks/temporary_blobs/.part-00006-4966e832-ddb5-406e-8fec-b740b5254e4c-c000.snappy.parquet.crc deletado com sucesso.\n",
      "/home/jovyan/notebooks/temporary_blobs/.part-00007-4966e832-ddb5-406e-8fec-b740b5254e4c-c000.snappy.parquet.crc deletado com sucesso.\n",
      "/home/jovyan/notebooks/temporary_blobs/.part-00008-4966e832-ddb5-406e-8fec-b740b5254e4c-c000.snappy.parquet.crc deletado com sucesso.\n",
      "/home/jovyan/notebooks/temporary_blobs/.part-00009-4966e832-ddb5-406e-8fec-b740b5254e4c-c000.snappy.parquet.crc deletado com sucesso.\n",
      "/home/jovyan/notebooks/temporary_blobs/.part-00010-4966e832-ddb5-406e-8fec-b740b5254e4c-c000.snappy.parquet.crc deletado com sucesso.\n",
      "/home/jovyan/notebooks/temporary_blobs/.part-00011-4966e832-ddb5-406e-8fec-b740b5254e4c-c000.snappy.parquet.crc deletado com sucesso.\n",
      "/home/jovyan/notebooks/temporary_blobs/._SUCCESS.crc deletado com sucesso.\n",
      "/home/jovyan/notebooks/temporary_blobs/part-00000-4966e832-ddb5-406e-8fec-b740b5254e4c-c000.snappy.parquet deletado com sucesso.\n",
      "/home/jovyan/notebooks/temporary_blobs/part-00001-4966e832-ddb5-406e-8fec-b740b5254e4c-c000.snappy.parquet deletado com sucesso.\n",
      "/home/jovyan/notebooks/temporary_blobs/part-00002-4966e832-ddb5-406e-8fec-b740b5254e4c-c000.snappy.parquet deletado com sucesso.\n",
      "/home/jovyan/notebooks/temporary_blobs/part-00003-4966e832-ddb5-406e-8fec-b740b5254e4c-c000.snappy.parquet deletado com sucesso.\n",
      "/home/jovyan/notebooks/temporary_blobs/part-00004-4966e832-ddb5-406e-8fec-b740b5254e4c-c000.snappy.parquet deletado com sucesso.\n",
      "/home/jovyan/notebooks/temporary_blobs/part-00005-4966e832-ddb5-406e-8fec-b740b5254e4c-c000.snappy.parquet deletado com sucesso.\n",
      "/home/jovyan/notebooks/temporary_blobs/part-00006-4966e832-ddb5-406e-8fec-b740b5254e4c-c000.snappy.parquet deletado com sucesso.\n",
      "/home/jovyan/notebooks/temporary_blobs/part-00007-4966e832-ddb5-406e-8fec-b740b5254e4c-c000.snappy.parquet deletado com sucesso.\n",
      "/home/jovyan/notebooks/temporary_blobs/part-00008-4966e832-ddb5-406e-8fec-b740b5254e4c-c000.snappy.parquet deletado com sucesso.\n",
      "/home/jovyan/notebooks/temporary_blobs/part-00009-4966e832-ddb5-406e-8fec-b740b5254e4c-c000.snappy.parquet deletado com sucesso.\n",
      "/home/jovyan/notebooks/temporary_blobs/part-00010-4966e832-ddb5-406e-8fec-b740b5254e4c-c000.snappy.parquet deletado com sucesso.\n",
      "/home/jovyan/notebooks/temporary_blobs/part-00011-4966e832-ddb5-406e-8fec-b740b5254e4c-c000.snappy.parquet deletado com sucesso.\n",
      "/home/jovyan/notebooks/temporary_blobs/_SUCCESS deletado com sucesso.\n"
     ]
    }
   ],
   "source": [
    "# Liste todos os arquivos na pasta\n",
    "arquivos_na_pasta = os.listdir(temp_blobs)\n",
    "\n",
    "# Itere sobre os arquivos e os delete\n",
    "for arquivo in arquivos_na_pasta:\n",
    "    caminho_completo = os.path.join(temp_blobs, arquivo)\n",
    "    try:\n",
    "        if os.path.isfile(caminho_completo):\n",
    "            os.remove(caminho_completo)\n",
    "            print(f'{caminho_completo} deletado com sucesso.')\n",
    "    except Exception as e:\n",
    "        print(f'Erro ao deletar {caminho_completo}: {e}')\n",
    "        \n",
    "spark.stop()"
   ]
  }
 ],
 "metadata": {
  "kernelspec": {
   "display_name": "Python 3 (ipykernel)",
   "language": "python",
   "name": "python3"
  },
  "language_info": {
   "codemirror_mode": {
    "name": "ipython",
    "version": 3
   },
   "file_extension": ".py",
   "mimetype": "text/x-python",
   "name": "python",
   "nbconvert_exporter": "python",
   "pygments_lexer": "ipython3",
   "version": "3.11.6"
  },
  "papermill": {
   "default_parameters": {},
   "duration": 16.110382,
   "end_time": "2024-02-09T19:54:14.262500",
   "environment_variables": {},
   "exception": null,
   "input_path": "/home/jovyan/notebooks/dataset_notas/4_gold_dw_notas/4_gold_dw_notas.ipynb",
   "output_path": "/home/jovyan/notebooks/dataset_notas/4_gold_dw_notas/4_gold_dw_notas.ipynb",
   "parameters": {},
   "start_time": "2024-02-09T19:53:58.152118",
   "version": "2.5.0"
  }
 },
 "nbformat": 4,
 "nbformat_minor": 5
}