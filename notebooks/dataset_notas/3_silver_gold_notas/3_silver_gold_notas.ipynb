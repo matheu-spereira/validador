{
 "cells": [
  {
   "cell_type": "markdown",
   "id": "553c19ae-788f-4a70-bbff-de2a77024c33",
   "metadata": {
    "papermill": {
     "duration": 0.00509,
     "end_time": "2024-02-09T19:53:41.165229",
     "exception": false,
     "start_time": "2024-02-09T19:53:41.160139",
     "status": "completed"
    },
    "tags": []
   },
   "source": [
    "## Objetivo do notebook\n",
    "#### O objetivo deste notebook é realizar a leitura de dados das origens do dataset alunos na camada silver e gravar de forma versionada na camada gold\n"
   ]
  },
  {
   "cell_type": "markdown",
   "id": "98040be4-19b4-4b7f-a22c-f5a892413cb3",
   "metadata": {
    "papermill": {
     "duration": 0.007203,
     "end_time": "2024-02-09T19:53:41.199769",
     "exception": false,
     "start_time": "2024-02-09T19:53:41.192566",
     "status": "completed"
    },
    "tags": []
   },
   "source": [
    "### Import Libs"
   ]
  },
  {
   "cell_type": "code",
   "execution_count": 1,
   "id": "942dde0f-19c6-4ad1-8326-4441ac5e24a6",
   "metadata": {
    "execution": {
     "iopub.execute_input": "2024-02-09T19:53:41.215129Z",
     "iopub.status.busy": "2024-02-09T19:53:41.214562Z",
     "iopub.status.idle": "2024-02-09T19:53:43.803611Z",
     "shell.execute_reply": "2024-02-09T19:53:43.800355Z"
    },
    "papermill": {
     "duration": 2.600811,
     "end_time": "2024-02-09T19:53:43.807205",
     "exception": false,
     "start_time": "2024-02-09T19:53:41.206394",
     "status": "completed"
    },
    "tags": []
   },
   "outputs": [
    {
     "name": "stdout",
     "output_type": "stream",
     "text": [
      "Requirement already satisfied: minio in /opt/conda/lib/python3.11/site-packages (7.2.3)\r\n",
      "Requirement already satisfied: certifi in /opt/conda/lib/python3.11/site-packages (from minio) (2023.7.22)\r\n",
      "Requirement already satisfied: urllib3 in /opt/conda/lib/python3.11/site-packages (from minio) (1.26.18)\r\n",
      "Requirement already satisfied: argon2-cffi in /opt/conda/lib/python3.11/site-packages (from minio) (23.1.0)\r\n",
      "Requirement already satisfied: pycryptodome in /opt/conda/lib/python3.11/site-packages (from minio) (3.20.0)\r\n",
      "Requirement already satisfied: typing-extensions in /opt/conda/lib/python3.11/site-packages (from minio) (4.8.0)\r\n",
      "Requirement already satisfied: argon2-cffi-bindings in /opt/conda/lib/python3.11/site-packages (from argon2-cffi->minio) (21.2.0)\r\n"
     ]
    },
    {
     "name": "stdout",
     "output_type": "stream",
     "text": [
      "Requirement already satisfied: cffi>=1.0.1 in /opt/conda/lib/python3.11/site-packages (from argon2-cffi-bindings->argon2-cffi->minio) (1.16.0)\r\n",
      "Requirement already satisfied: pycparser in /opt/conda/lib/python3.11/site-packages (from cffi>=1.0.1->argon2-cffi-bindings->argon2-cffi->minio) (2.21)\r\n"
     ]
    }
   ],
   "source": [
    "!pip install minio"
   ]
  },
  {
   "cell_type": "code",
   "execution_count": 2,
   "id": "3f09124d-a137-4fbf-8ebe-d6d44e13083a",
   "metadata": {
    "execution": {
     "iopub.execute_input": "2024-02-09T19:53:43.825924Z",
     "iopub.status.busy": "2024-02-09T19:53:43.825307Z",
     "iopub.status.idle": "2024-02-09T19:53:44.508279Z",
     "shell.execute_reply": "2024-02-09T19:53:44.507522Z"
    },
    "papermill": {
     "duration": 0.693289,
     "end_time": "2024-02-09T19:53:44.509751",
     "exception": false,
     "start_time": "2024-02-09T19:53:43.816462",
     "status": "completed"
    },
    "tags": []
   },
   "outputs": [],
   "source": [
    "from pyspark.sql import SparkSession\n",
    "from io import BytesIO\n",
    "from pyspark.sql.functions import col, max\n",
    "from pyspark.sql.window import Window\n",
    "from minio.error import S3Error\n",
    "from minio import Minio\n",
    "\n",
    "import glob\n",
    "import pyarrow.parquet as pq\n",
    "import os\n",
    "import pandas as pd"
   ]
  },
  {
   "cell_type": "markdown",
   "id": "53b4c9e6-5491-4420-9c7f-283ae7841c08",
   "metadata": {
    "papermill": {
     "duration": 0.007696,
     "end_time": "2024-02-09T19:53:44.522815",
     "exception": false,
     "start_time": "2024-02-09T19:53:44.515119",
     "status": "completed"
    },
    "tags": []
   },
   "source": [
    "### Definição de variáveis"
   ]
  },
  {
   "cell_type": "code",
   "execution_count": 3,
   "id": "2849a6c2-22fe-47df-84db-cbfb4b06075b",
   "metadata": {
    "execution": {
     "iopub.execute_input": "2024-02-09T19:53:44.538668Z",
     "iopub.status.busy": "2024-02-09T19:53:44.538333Z",
     "iopub.status.idle": "2024-02-09T19:53:46.884487Z",
     "shell.execute_reply": "2024-02-09T19:53:46.883481Z"
    },
    "papermill": {
     "duration": 2.356677,
     "end_time": "2024-02-09T19:53:46.886129",
     "exception": false,
     "start_time": "2024-02-09T19:53:44.529452",
     "status": "completed"
    },
    "tags": []
   },
   "outputs": [],
   "source": [
    "# Sessão Spark\n",
    "spark = SparkSession.builder.getOrCreate()\n",
    "\n",
    "# Parametros de input e output das origens\n",
    "camadaLeitura = 'silver'\n",
    "camadaEscrita = 'gold'\n",
    "pasta = 'notas'\n",
    "temp_blobs = '/home/jovyan/notebooks/temporary_blobs/' # pasta temporária para armazenamento de objetos\n",
    "\n",
    "# Conexão ao miniIO\n",
    "minio_endpoint = 'minio:9000'\n",
    "minio_access_key = 'minioaccesskey'\n",
    "minio_secret_key = 'miniosecretkey'\n",
    "minio_object_name = pasta\n",
    "minio_client = Minio(minio_endpoint, access_key=minio_access_key, secret_key=minio_secret_key, secure=False)\n",
    "\n",
    "# Definição de variáveis para versionamento dos dados na camada bronze\n",
    "minio_path = f'{pasta}'"
   ]
  },
  {
   "cell_type": "markdown",
   "id": "435aa9ea-7da5-4f7a-a984-a7b344586fc2",
   "metadata": {
    "papermill": {
     "duration": 0.007415,
     "end_time": "2024-02-09T19:53:46.898786",
     "exception": false,
     "start_time": "2024-02-09T19:53:46.891371",
     "status": "completed"
    },
    "tags": []
   },
   "source": [
    "### Leitura da camada Silver"
   ]
  },
  {
   "cell_type": "code",
   "execution_count": 4,
   "id": "3990b29b-7611-4281-a482-edf584e7d817",
   "metadata": {
    "execution": {
     "iopub.execute_input": "2024-02-09T19:53:46.915594Z",
     "iopub.status.busy": "2024-02-09T19:53:46.914897Z",
     "iopub.status.idle": "2024-02-09T19:53:49.759441Z",
     "shell.execute_reply": "2024-02-09T19:53:49.758307Z"
    },
    "papermill": {
     "duration": 2.855166,
     "end_time": "2024-02-09T19:53:49.761265",
     "exception": false,
     "start_time": "2024-02-09T19:53:46.906099",
     "status": "completed"
    },
    "tags": []
   },
   "outputs": [
    {
     "name": "stdout",
     "output_type": "stream",
     "text": [
      "Objeto encontrado: notas/notas20240209/part-00000-6cc2ff32-2dc7-48a3-9604-756f4ff38edb-c000.snappy.parquet\n",
      "Objeto encontrado: notas/notas20240209/part-00001-6cc2ff32-2dc7-48a3-9604-756f4ff38edb-c000.snappy.parquet\n",
      "Objeto encontrado: notas/notas20240209/part-00002-6cc2ff32-2dc7-48a3-9604-756f4ff38edb-c000.snappy.parquet\n",
      "Objeto encontrado: notas/notas20240209/part-00003-6cc2ff32-2dc7-48a3-9604-756f4ff38edb-c000.snappy.parquet\n",
      "Objeto encontrado: notas/notas20240209/part-00004-6cc2ff32-2dc7-48a3-9604-756f4ff38edb-c000.snappy.parquet\n",
      "Objeto encontrado: notas/notas20240209/part-00005-6cc2ff32-2dc7-48a3-9604-756f4ff38edb-c000.snappy.parquet\n",
      "Objeto encontrado: notas/notas20240209/part-00006-6cc2ff32-2dc7-48a3-9604-756f4ff38edb-c000.snappy.parquet\n",
      "Objeto encontrado: notas/notas20240209/part-00007-6cc2ff32-2dc7-48a3-9604-756f4ff38edb-c000.snappy.parquet\n",
      "Objeto encontrado: notas/notas20240209/part-00008-6cc2ff32-2dc7-48a3-9604-756f4ff38edb-c000.snappy.parquet\n",
      "Objeto encontrado: notas/notas20240209/part-00009-6cc2ff32-2dc7-48a3-9604-756f4ff38edb-c000.snappy.parquet\n",
      "Objeto encontrado: notas/notas20240209/part-00010-6cc2ff32-2dc7-48a3-9604-756f4ff38edb-c000.snappy.parquet\n",
      "Objeto encontrado: notas/notas20240209/part-00011-6cc2ff32-2dc7-48a3-9604-756f4ff38edb-c000.snappy.parquet\n"
     ]
    }
   ],
   "source": [
    "dataframes = []\n",
    "\n",
    "try:\n",
    "    # Lista objetos no bucket\n",
    "    objects = minio_client.list_objects(camadaLeitura, prefix=pasta, recursive=True)\n",
    "\n",
    "    # Itera sobre os objetos na pasta\n",
    "    for obj in objects:\n",
    "        # Lê o conteúdo do objeto\n",
    "        content = minio_client.get_object(camadaLeitura, obj.object_name).read()\n",
    "        \n",
    "        # Lê o conteúdo do objeto Parquet usando pyarrow e converte para DataFrame Pandas\n",
    "        df_pandas = pq.read_table(BytesIO(content)).to_pandas()\n",
    "        \n",
    "        # Adiciona o DataFrame Pandas à lista de DataFrames\n",
    "        dataframes.append(df_pandas)\n",
    "        \n",
    "        print(f\"Objeto encontrado: {obj.object_name}\")\n",
    "except error.MinioException as e:\n",
    "    print(f\"Erro ao listar objetos: {e}\")\n",
    "\n",
    "# Concatena todos os DataFrames Pandas em um único DataFrame Pandas\n",
    "consolidated_df_pandas = pd.concat(dataframes, ignore_index=True)\n",
    "\n",
    "# Converte para DataFrame PySpark\n",
    "df_matri_notas = spark.createDataFrame(consolidated_df_pandas)"
   ]
  },
  {
   "cell_type": "markdown",
   "id": "7ad4164b-2622-4d4d-bc68-d1cade059670",
   "metadata": {
    "papermill": {
     "duration": 0.007669,
     "end_time": "2024-02-09T19:53:49.773230",
     "exception": false,
     "start_time": "2024-02-09T19:53:49.765561",
     "status": "completed"
    },
    "tags": []
   },
   "source": [
    "### Tratamento dos dados"
   ]
  },
  {
   "cell_type": "code",
   "execution_count": 5,
   "id": "0eecb32f-615f-4b79-96c6-c3fa2ca47fb3",
   "metadata": {
    "execution": {
     "iopub.execute_input": "2024-02-09T19:53:49.789373Z",
     "iopub.status.busy": "2024-02-09T19:53:49.788913Z",
     "iopub.status.idle": "2024-02-09T19:53:52.198557Z",
     "shell.execute_reply": "2024-02-09T19:53:52.197750Z"
    },
    "papermill": {
     "duration": 2.420834,
     "end_time": "2024-02-09T19:53:52.201394",
     "exception": false,
     "start_time": "2024-02-09T19:53:49.780560",
     "status": "completed"
    },
    "tags": []
   },
   "outputs": [],
   "source": [
    "# Busca etl_date mais recente\n",
    "max_etl_date = df_matri_notas.agg(max(\"etl_date\")).collect()[0][0]\n",
    "\n",
    "# Filtra o Dataframe pelo etl_date mais recente\n",
    "df_matri_notas = df_matri_notas.select('id_matricula', 'id_disciplina', 'data', 'nota' ).where(col(\"etl_date\") == max_etl_date)"
   ]
  },
  {
   "cell_type": "markdown",
   "id": "9fd5188c-51a9-4893-8509-67f8db4b79bc",
   "metadata": {
    "papermill": {
     "duration": 0.00896,
     "end_time": "2024-02-09T19:53:52.214535",
     "exception": false,
     "start_time": "2024-02-09T19:53:52.205575",
     "status": "completed"
    },
    "tags": []
   },
   "source": [
    "### Gravação do dataframe em um diretório temporário"
   ]
  },
  {
   "cell_type": "code",
   "execution_count": 6,
   "id": "2d18424f-56d6-40f7-85be-918f8b48b55e",
   "metadata": {
    "execution": {
     "iopub.execute_input": "2024-02-09T19:53:52.235830Z",
     "iopub.status.busy": "2024-02-09T19:53:52.235274Z",
     "iopub.status.idle": "2024-02-09T19:53:54.175265Z",
     "shell.execute_reply": "2024-02-09T19:53:54.174320Z"
    },
    "papermill": {
     "duration": 1.952168,
     "end_time": "2024-02-09T19:53:54.176805",
     "exception": false,
     "start_time": "2024-02-09T19:53:52.224637",
     "status": "completed"
    },
    "tags": []
   },
   "outputs": [],
   "source": [
    "df_matri_notas.write.parquet(temp_blobs, mode=\"overwrite\")"
   ]
  },
  {
   "cell_type": "markdown",
   "id": "dd34be7d-a6bc-482c-8f23-3d69e140c055",
   "metadata": {
    "papermill": {
     "duration": 0.007747,
     "end_time": "2024-02-09T19:53:54.189684",
     "exception": false,
     "start_time": "2024-02-09T19:53:54.181937",
     "status": "completed"
    },
    "tags": []
   },
   "source": [
    "### Gravação na camada Gold"
   ]
  },
  {
   "cell_type": "code",
   "execution_count": 7,
   "id": "69d48ea0-0d84-4981-b38d-ff27691eeb99",
   "metadata": {
    "execution": {
     "iopub.execute_input": "2024-02-09T19:53:54.206343Z",
     "iopub.status.busy": "2024-02-09T19:53:54.205750Z",
     "iopub.status.idle": "2024-02-09T19:53:54.395909Z",
     "shell.execute_reply": "2024-02-09T19:53:54.395036Z"
    },
    "papermill": {
     "duration": 0.200587,
     "end_time": "2024-02-09T19:53:54.397445",
     "exception": false,
     "start_time": "2024-02-09T19:53:54.196858",
     "status": "completed"
    },
    "tags": []
   },
   "outputs": [
    {
     "name": "stdout",
     "output_type": "stream",
     "text": [
      "Arquivo 'part-00000-10b75333-87fd-4754-9a75-0b265bebbc2b-c000.snappy.parquet' enviado com sucesso para o MinIO em 'notas/part-00000-10b75333-87fd-4754-9a75-0b265bebbc2b-c000.snappy.parquet'.\n",
      "Arquivo 'part-00001-10b75333-87fd-4754-9a75-0b265bebbc2b-c000.snappy.parquet' enviado com sucesso para o MinIO em 'notas/part-00001-10b75333-87fd-4754-9a75-0b265bebbc2b-c000.snappy.parquet'.\n",
      "Arquivo 'part-00002-10b75333-87fd-4754-9a75-0b265bebbc2b-c000.snappy.parquet' enviado com sucesso para o MinIO em 'notas/part-00002-10b75333-87fd-4754-9a75-0b265bebbc2b-c000.snappy.parquet'.\n",
      "Arquivo 'part-00003-10b75333-87fd-4754-9a75-0b265bebbc2b-c000.snappy.parquet' enviado com sucesso para o MinIO em 'notas/part-00003-10b75333-87fd-4754-9a75-0b265bebbc2b-c000.snappy.parquet'.\n",
      "Arquivo 'part-00004-10b75333-87fd-4754-9a75-0b265bebbc2b-c000.snappy.parquet' enviado com sucesso para o MinIO em 'notas/part-00004-10b75333-87fd-4754-9a75-0b265bebbc2b-c000.snappy.parquet'.\n",
      "Arquivo 'part-00005-10b75333-87fd-4754-9a75-0b265bebbc2b-c000.snappy.parquet' enviado com sucesso para o MinIO em 'notas/part-00005-10b75333-87fd-4754-9a75-0b265bebbc2b-c000.snappy.parquet'.\n",
      "Arquivo 'part-00006-10b75333-87fd-4754-9a75-0b265bebbc2b-c000.snappy.parquet' enviado com sucesso para o MinIO em 'notas/part-00006-10b75333-87fd-4754-9a75-0b265bebbc2b-c000.snappy.parquet'.\n",
      "Arquivo 'part-00007-10b75333-87fd-4754-9a75-0b265bebbc2b-c000.snappy.parquet' enviado com sucesso para o MinIO em 'notas/part-00007-10b75333-87fd-4754-9a75-0b265bebbc2b-c000.snappy.parquet'.\n",
      "Arquivo 'part-00008-10b75333-87fd-4754-9a75-0b265bebbc2b-c000.snappy.parquet' enviado com sucesso para o MinIO em 'notas/part-00008-10b75333-87fd-4754-9a75-0b265bebbc2b-c000.snappy.parquet'.\n",
      "Arquivo 'part-00009-10b75333-87fd-4754-9a75-0b265bebbc2b-c000.snappy.parquet' enviado com sucesso para o MinIO em 'notas/part-00009-10b75333-87fd-4754-9a75-0b265bebbc2b-c000.snappy.parquet'.\n",
      "Arquivo 'part-00010-10b75333-87fd-4754-9a75-0b265bebbc2b-c000.snappy.parquet' enviado com sucesso para o MinIO em 'notas/part-00010-10b75333-87fd-4754-9a75-0b265bebbc2b-c000.snappy.parquet'.\n",
      "Arquivo 'part-00011-10b75333-87fd-4754-9a75-0b265bebbc2b-c000.snappy.parquet' enviado com sucesso para o MinIO em 'notas/part-00011-10b75333-87fd-4754-9a75-0b265bebbc2b-c000.snappy.parquet'.\n"
     ]
    }
   ],
   "source": [
    "# Recria bucket caso não exista\n",
    "if not minio_client.bucket_exists(camadaEscrita):\n",
    "    minio_client.make_bucket(camadaEscrita)\n",
    "\n",
    "# Lista todos os arquivos Parquet no diretório temporário de blobs\n",
    "arquivos_parquet = glob.glob(os.path.join(temp_blobs, '*.parquet'))\n",
    "\n",
    "# Exclui todos os arquivos existentes na pasta no MinIO\n",
    "objects = minio_client.list_objects(camadaEscrita, minio_path, recursive=True)\n",
    "for obj in objects:\n",
    "    try:\n",
    "        minio_client.remove_object(camadaEscrita, obj.object_name)\n",
    "        print(f\"Arquivo existente '{obj.object_name}' removido com sucesso do MinIO.\")\n",
    "    except S3Error as e:\n",
    "        print(f\"Erro ao excluir o arquivo existente do MinIO: {e}\")\n",
    "\n",
    "# Itera sobre a lista de arquivos Parquet e envia cada um para o MinIO\n",
    "for arquivo_parquet in arquivos_parquet:\n",
    "    try:\n",
    "        # Obtém o nome do arquivo\n",
    "        nome_arquivo = os.path.basename(arquivo_parquet)\n",
    "\n",
    "        # Envia o novo arquivo para o MinIO\n",
    "        minio_client.fput_object(camadaEscrita, os.path.join(minio_path, nome_arquivo), arquivo_parquet)\n",
    "        print(f\"Arquivo '{nome_arquivo}' enviado com sucesso para o MinIO em '{os.path.join(minio_path, nome_arquivo)}'.\")\n",
    "    except S3Error as e:\n",
    "        print(f\"Erro ao interagir com o MinIO: {e}\")"
   ]
  },
  {
   "cell_type": "markdown",
   "id": "5d7b6298-6223-4086-980b-9e1409b324ea",
   "metadata": {
    "papermill": {
     "duration": 0.007116,
     "end_time": "2024-02-09T19:53:54.409422",
     "exception": false,
     "start_time": "2024-02-09T19:53:54.402306",
     "status": "completed"
    },
    "tags": []
   },
   "source": [
    "### Remove dados do diretório temporário de blobs"
   ]
  },
  {
   "cell_type": "code",
   "execution_count": 8,
   "id": "a9373d36-1d90-45ab-bcf8-6c7cae5daffc",
   "metadata": {
    "execution": {
     "iopub.execute_input": "2024-02-09T19:53:54.424664Z",
     "iopub.status.busy": "2024-02-09T19:53:54.423914Z",
     "iopub.status.idle": "2024-02-09T19:53:55.496855Z",
     "shell.execute_reply": "2024-02-09T19:53:55.494930Z"
    },
    "papermill": {
     "duration": 1.084008,
     "end_time": "2024-02-09T19:53:55.500162",
     "exception": false,
     "start_time": "2024-02-09T19:53:54.416154",
     "status": "completed"
    },
    "tags": []
   },
   "outputs": [
    {
     "name": "stdout",
     "output_type": "stream",
     "text": [
      "/home/jovyan/notebooks/temporary_blobs/.part-00000-10b75333-87fd-4754-9a75-0b265bebbc2b-c000.snappy.parquet.crc deletado com sucesso.\n",
      "/home/jovyan/notebooks/temporary_blobs/.part-00001-10b75333-87fd-4754-9a75-0b265bebbc2b-c000.snappy.parquet.crc deletado com sucesso.\n",
      "/home/jovyan/notebooks/temporary_blobs/.part-00002-10b75333-87fd-4754-9a75-0b265bebbc2b-c000.snappy.parquet.crc deletado com sucesso.\n",
      "/home/jovyan/notebooks/temporary_blobs/.part-00003-10b75333-87fd-4754-9a75-0b265bebbc2b-c000.snappy.parquet.crc deletado com sucesso.\n",
      "/home/jovyan/notebooks/temporary_blobs/.part-00004-10b75333-87fd-4754-9a75-0b265bebbc2b-c000.snappy.parquet.crc deletado com sucesso.\n"
     ]
    },
    {
     "name": "stdout",
     "output_type": "stream",
     "text": [
      "/home/jovyan/notebooks/temporary_blobs/.part-00005-10b75333-87fd-4754-9a75-0b265bebbc2b-c000.snappy.parquet.crc deletado com sucesso.\n",
      "/home/jovyan/notebooks/temporary_blobs/.part-00006-10b75333-87fd-4754-9a75-0b265bebbc2b-c000.snappy.parquet.crc deletado com sucesso.\n",
      "/home/jovyan/notebooks/temporary_blobs/.part-00007-10b75333-87fd-4754-9a75-0b265bebbc2b-c000.snappy.parquet.crc deletado com sucesso.\n",
      "/home/jovyan/notebooks/temporary_blobs/.part-00008-10b75333-87fd-4754-9a75-0b265bebbc2b-c000.snappy.parquet.crc deletado com sucesso.\n",
      "/home/jovyan/notebooks/temporary_blobs/.part-00009-10b75333-87fd-4754-9a75-0b265bebbc2b-c000.snappy.parquet.crc deletado com sucesso.\n",
      "/home/jovyan/notebooks/temporary_blobs/.part-00010-10b75333-87fd-4754-9a75-0b265bebbc2b-c000.snappy.parquet.crc deletado com sucesso.\n",
      "/home/jovyan/notebooks/temporary_blobs/.part-00011-10b75333-87fd-4754-9a75-0b265bebbc2b-c000.snappy.parquet.crc deletado com sucesso.\n",
      "/home/jovyan/notebooks/temporary_blobs/._SUCCESS.crc deletado com sucesso.\n",
      "/home/jovyan/notebooks/temporary_blobs/part-00000-10b75333-87fd-4754-9a75-0b265bebbc2b-c000.snappy.parquet deletado com sucesso.\n",
      "/home/jovyan/notebooks/temporary_blobs/part-00001-10b75333-87fd-4754-9a75-0b265bebbc2b-c000.snappy.parquet deletado com sucesso.\n",
      "/home/jovyan/notebooks/temporary_blobs/part-00002-10b75333-87fd-4754-9a75-0b265bebbc2b-c000.snappy.parquet deletado com sucesso.\n",
      "/home/jovyan/notebooks/temporary_blobs/part-00003-10b75333-87fd-4754-9a75-0b265bebbc2b-c000.snappy.parquet deletado com sucesso.\n",
      "/home/jovyan/notebooks/temporary_blobs/part-00004-10b75333-87fd-4754-9a75-0b265bebbc2b-c000.snappy.parquet deletado com sucesso.\n",
      "/home/jovyan/notebooks/temporary_blobs/part-00005-10b75333-87fd-4754-9a75-0b265bebbc2b-c000.snappy.parquet deletado com sucesso.\n",
      "/home/jovyan/notebooks/temporary_blobs/part-00006-10b75333-87fd-4754-9a75-0b265bebbc2b-c000.snappy.parquet deletado com sucesso.\n",
      "/home/jovyan/notebooks/temporary_blobs/part-00007-10b75333-87fd-4754-9a75-0b265bebbc2b-c000.snappy.parquet deletado com sucesso.\n",
      "/home/jovyan/notebooks/temporary_blobs/part-00008-10b75333-87fd-4754-9a75-0b265bebbc2b-c000.snappy.parquet deletado com sucesso.\n",
      "/home/jovyan/notebooks/temporary_blobs/part-00009-10b75333-87fd-4754-9a75-0b265bebbc2b-c000.snappy.parquet deletado com sucesso.\n",
      "/home/jovyan/notebooks/temporary_blobs/part-00010-10b75333-87fd-4754-9a75-0b265bebbc2b-c000.snappy.parquet deletado com sucesso.\n",
      "/home/jovyan/notebooks/temporary_blobs/part-00011-10b75333-87fd-4754-9a75-0b265bebbc2b-c000.snappy.parquet deletado com sucesso.\n",
      "/home/jovyan/notebooks/temporary_blobs/_SUCCESS deletado com sucesso.\n"
     ]
    }
   ],
   "source": [
    "# Liste todos os arquivos na pasta\n",
    "arquivos_na_pasta = os.listdir(temp_blobs)\n",
    "\n",
    "# Itere sobre os arquivos e os delete\n",
    "for arquivo in arquivos_na_pasta:\n",
    "    caminho_completo = os.path.join(temp_blobs, arquivo)\n",
    "    try:\n",
    "        if os.path.isfile(caminho_completo):\n",
    "            os.remove(caminho_completo)\n",
    "            print(f'{caminho_completo} deletado com sucesso.')\n",
    "    except Exception as e:\n",
    "        print(f'Erro ao deletar {caminho_completo}: {e}')\n",
    "\n",
    "spark.stop()"
   ]
  }
 ],
 "metadata": {
  "kernelspec": {
   "display_name": "Python 3 (ipykernel)",
   "language": "python",
   "name": "python3"
  },
  "language_info": {
   "codemirror_mode": {
    "name": "ipython",
    "version": 3
   },
   "file_extension": ".py",
   "mimetype": "text/x-python",
   "name": "python",
   "nbconvert_exporter": "python",
   "pygments_lexer": "ipython3",
   "version": "3.11.6"
  },
  "papermill": {
   "default_parameters": {},
   "duration": 17.724616,
   "end_time": "2024-02-09T19:53:58.129930",
   "environment_variables": {},
   "exception": null,
   "input_path": "/home/jovyan/notebooks/dataset_notas/3_silver_gold_notas/3_silver_gold_notas.ipynb",
   "output_path": "/home/jovyan/notebooks/dataset_notas/3_silver_gold_notas/3_silver_gold_notas.ipynb",
   "parameters": {},
   "start_time": "2024-02-09T19:53:40.405314",
   "version": "2.5.0"
  }
 },
 "nbformat": 4,
 "nbformat_minor": 5
}