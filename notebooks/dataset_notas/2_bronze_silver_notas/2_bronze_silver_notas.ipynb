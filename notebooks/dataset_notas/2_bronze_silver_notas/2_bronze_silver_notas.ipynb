{
 "cells": [
  {
   "cell_type": "markdown",
   "id": "b0e7bb34-cd8b-44a0-9f31-96ea25b92f97",
   "metadata": {
    "papermill": {
     "duration": 0.004409,
     "end_time": "2024-02-09T19:53:25.740964",
     "exception": false,
     "start_time": "2024-02-09T19:53:25.736555",
     "status": "completed"
    },
    "tags": []
   },
   "source": [
    "## Objetivo do notebook\n",
    "#### O objetivo deste notebook é realizar a leitura de dados das origens do dataset notas na camada bronze e gravar de forma versionada na camada silver\n"
   ]
  },
  {
   "cell_type": "markdown",
   "id": "bdc6fc1b-5d00-421c-a512-fd85d0f35a8c",
   "metadata": {
    "papermill": {
     "duration": 0.007515,
     "end_time": "2024-02-09T19:53:25.755669",
     "exception": false,
     "start_time": "2024-02-09T19:53:25.748154",
     "status": "completed"
    },
    "tags": []
   },
   "source": [
    "### Import Libs"
   ]
  },
  {
   "cell_type": "code",
   "execution_count": 1,
   "id": "942dde0f-19c6-4ad1-8326-4441ac5e24a6",
   "metadata": {
    "execution": {
     "iopub.execute_input": "2024-02-09T19:53:25.771226Z",
     "iopub.status.busy": "2024-02-09T19:53:25.770844Z",
     "iopub.status.idle": "2024-02-09T19:53:28.279210Z",
     "shell.execute_reply": "2024-02-09T19:53:28.273760Z"
    },
    "papermill": {
     "duration": 2.518252,
     "end_time": "2024-02-09T19:53:28.280906",
     "exception": false,
     "start_time": "2024-02-09T19:53:25.762654",
     "status": "completed"
    },
    "tags": []
   },
   "outputs": [
    {
     "name": "stdout",
     "output_type": "stream",
     "text": [
      "Requirement already satisfied: minio in /opt/conda/lib/python3.11/site-packages (7.2.3)\r\n",
      "Requirement already satisfied: certifi in /opt/conda/lib/python3.11/site-packages (from minio) (2023.7.22)\r\n",
      "Requirement already satisfied: urllib3 in /opt/conda/lib/python3.11/site-packages (from minio) (1.26.18)\r\n",
      "Requirement already satisfied: argon2-cffi in /opt/conda/lib/python3.11/site-packages (from minio) (23.1.0)\r\n",
      "Requirement already satisfied: pycryptodome in /opt/conda/lib/python3.11/site-packages (from minio) (3.20.0)\r\n",
      "Requirement already satisfied: typing-extensions in /opt/conda/lib/python3.11/site-packages (from minio) (4.8.0)\r\n",
      "Requirement already satisfied: argon2-cffi-bindings in /opt/conda/lib/python3.11/site-packages (from argon2-cffi->minio) (21.2.0)\r\n"
     ]
    },
    {
     "name": "stdout",
     "output_type": "stream",
     "text": [
      "Requirement already satisfied: cffi>=1.0.1 in /opt/conda/lib/python3.11/site-packages (from argon2-cffi-bindings->argon2-cffi->minio) (1.16.0)\r\n",
      "Requirement already satisfied: pycparser in /opt/conda/lib/python3.11/site-packages (from cffi>=1.0.1->argon2-cffi-bindings->argon2-cffi->minio) (2.21)\r\n"
     ]
    }
   ],
   "source": [
    "!pip install minio"
   ]
  },
  {
   "cell_type": "code",
   "execution_count": 2,
   "id": "3f09124d-a137-4fbf-8ebe-d6d44e13083a",
   "metadata": {
    "execution": {
     "iopub.execute_input": "2024-02-09T19:53:28.294823Z",
     "iopub.status.busy": "2024-02-09T19:53:28.294579Z",
     "iopub.status.idle": "2024-02-09T19:53:28.987632Z",
     "shell.execute_reply": "2024-02-09T19:53:28.986769Z"
    },
    "papermill": {
     "duration": 0.702903,
     "end_time": "2024-02-09T19:53:28.989087",
     "exception": false,
     "start_time": "2024-02-09T19:53:28.286184",
     "status": "completed"
    },
    "tags": []
   },
   "outputs": [],
   "source": [
    "from pyspark.sql import SparkSession\n",
    "from datetime import datetime\n",
    "from minio import Minio\n",
    "from pyspark.sql.functions import to_date, when, col, lit,isnan\n",
    "from io import BytesIO\n",
    "\n",
    "import os\n",
    "import pandas as pd\n",
    "import glob\n",
    "import pyarrow.parquet as pq"
   ]
  },
  {
   "cell_type": "markdown",
   "id": "6380eb08-1880-49d2-bb20-ec359c8bc60e",
   "metadata": {
    "papermill": {
     "duration": 0.007407,
     "end_time": "2024-02-09T19:53:29.002258",
     "exception": false,
     "start_time": "2024-02-09T19:53:28.994851",
     "status": "completed"
    },
    "tags": []
   },
   "source": [
    "### Definição de variáveis"
   ]
  },
  {
   "cell_type": "code",
   "execution_count": 3,
   "id": "2849a6c2-22fe-47df-84db-cbfb4b06075b",
   "metadata": {
    "execution": {
     "iopub.execute_input": "2024-02-09T19:53:29.018070Z",
     "iopub.status.busy": "2024-02-09T19:53:29.017362Z",
     "iopub.status.idle": "2024-02-09T19:53:31.345582Z",
     "shell.execute_reply": "2024-02-09T19:53:31.344739Z"
    },
    "papermill": {
     "duration": 2.337839,
     "end_time": "2024-02-09T19:53:31.347026",
     "exception": false,
     "start_time": "2024-02-09T19:53:29.009187",
     "status": "completed"
    },
    "tags": []
   },
   "outputs": [],
   "source": [
    "# Sessão Spark\n",
    "spark = SparkSession.builder.getOrCreate()\n",
    "\n",
    "# Parametros de input e output das origens\n",
    "camadaLeitura = 'bronze'\n",
    "camadaEscrita = 'silver'\n",
    "pasta = 'notas'\n",
    "temp_blobs = '/home/jovyan/notebooks/temporary_blobs/' # pasta temporária para armazenamento de objetos\n",
    "\n",
    "# Conexão ao miniIO\n",
    "minio_endpoint = 'minio:9000'\n",
    "minio_access_key = 'minioaccesskey'\n",
    "minio_secret_key = 'miniosecretkey'\n",
    "minio_client = Minio(minio_endpoint, access_key=minio_access_key, secret_key=minio_secret_key, secure=False)\n",
    "\n",
    "# Definição de variáveis para versionamento dos dados na camada bronze\n",
    "timestamp = datetime.today().strftime('%Y%m%d')\n",
    "minio_path = f'{pasta}/{pasta + timestamp}'"
   ]
  },
  {
   "cell_type": "markdown",
   "id": "457c9954-f7a1-44b6-b93e-86feb9ffeadf",
   "metadata": {
    "papermill": {
     "duration": 0.007376,
     "end_time": "2024-02-09T19:53:31.359794",
     "exception": false,
     "start_time": "2024-02-09T19:53:31.352418",
     "status": "completed"
    },
    "tags": []
   },
   "source": [
    "### Leitura da camada Bronze"
   ]
  },
  {
   "cell_type": "code",
   "execution_count": 4,
   "id": "cc75659e-dff9-46a6-ad37-e82cfa029f45",
   "metadata": {
    "execution": {
     "iopub.execute_input": "2024-02-09T19:53:31.375169Z",
     "iopub.status.busy": "2024-02-09T19:53:31.374844Z",
     "iopub.status.idle": "2024-02-09T19:53:33.952512Z",
     "shell.execute_reply": "2024-02-09T19:53:33.951610Z"
    },
    "papermill": {
     "duration": 2.587187,
     "end_time": "2024-02-09T19:53:33.954032",
     "exception": false,
     "start_time": "2024-02-09T19:53:31.366845",
     "status": "completed"
    },
    "tags": []
   },
   "outputs": [
    {
     "name": "stdout",
     "output_type": "stream",
     "text": [
      "Objeto encontrado: notas / notas20240209/part-00000-3d90514f-b3ff-429a-86ce-4b553af0d133-c000.snappy.parquet\n",
      "Objeto encontrado: notas / notas20240209/part-00001-3d90514f-b3ff-429a-86ce-4b553af0d133-c000.snappy.parquet\n",
      "Objeto encontrado: notas / notas20240209/part-00002-3d90514f-b3ff-429a-86ce-4b553af0d133-c000.snappy.parquet\n",
      "Objeto encontrado: notas / notas20240209/part-00003-3d90514f-b3ff-429a-86ce-4b553af0d133-c000.snappy.parquet\n",
      "Objeto encontrado: notas / notas20240209/part-00004-3d90514f-b3ff-429a-86ce-4b553af0d133-c000.snappy.parquet\n",
      "Objeto encontrado: notas / notas20240209/part-00005-3d90514f-b3ff-429a-86ce-4b553af0d133-c000.snappy.parquet\n",
      "Objeto encontrado: notas / notas20240209/part-00006-3d90514f-b3ff-429a-86ce-4b553af0d133-c000.snappy.parquet\n",
      "Objeto encontrado: notas / notas20240209/part-00007-3d90514f-b3ff-429a-86ce-4b553af0d133-c000.snappy.parquet\n",
      "Objeto encontrado: notas / notas20240209/part-00008-3d90514f-b3ff-429a-86ce-4b553af0d133-c000.snappy.parquet\n",
      "Objeto encontrado: notas / notas20240209/part-00009-3d90514f-b3ff-429a-86ce-4b553af0d133-c000.snappy.parquet\n",
      "Objeto encontrado: notas / notas20240209/part-00010-3d90514f-b3ff-429a-86ce-4b553af0d133-c000.snappy.parquet\n",
      "Objeto encontrado: notas / notas20240209/part-00011-3d90514f-b3ff-429a-86ce-4b553af0d133-c000.snappy.parquet\n"
     ]
    }
   ],
   "source": [
    "dataframes = []\n",
    "\n",
    "try:\n",
    "    # Lista objetos no bucket\n",
    "    objects = minio_client.list_objects(camadaLeitura, prefix=pasta, recursive=True)\n",
    "\n",
    "    # Itera sobre os objetos na pasta\n",
    "    for obj in objects:\n",
    "        # Lê o conteúdo do objeto\n",
    "        content = minio_client.get_object(camadaLeitura, obj.object_name).read()\n",
    "        \n",
    "        # Lê o conteúdo do objeto Parquet usando pyarrow e converte para DataFrame Pandas\n",
    "        df_pandas = pq.read_table(BytesIO(content)).to_pandas()\n",
    "        \n",
    "        # Adiciona o DataFrame Pandas à lista de DataFrames\n",
    "        dataframes.append(df_pandas)\n",
    "        \n",
    "        print(f\"Objeto encontrado: {obj.object_name}\")\n",
    "except error.MinioException as e:\n",
    "    print(f\"Erro ao listar objetos: {e}\")\n",
    "\n",
    "# Concatena todos os DataFrames Pandas em um único DataFrame Pandas\n",
    "consolidated_df_pandas = pd.concat(dataframes, ignore_index=True)\n",
    "\n",
    "# Converte para DataFrame PySpark\n",
    "df_matri_notas = spark.createDataFrame(consolidated_df_pandas)"
   ]
  },
  {
   "cell_type": "markdown",
   "id": "02f1a9cd-cefd-4459-bc3a-f1ae1e25ae84",
   "metadata": {
    "papermill": {
     "duration": 0.007374,
     "end_time": "2024-02-09T19:53:33.967188",
     "exception": false,
     "start_time": "2024-02-09T19:53:33.959814",
     "status": "completed"
    },
    "tags": []
   },
   "source": [
    "### Tratamento dos dados"
   ]
  },
  {
   "cell_type": "code",
   "execution_count": 5,
   "id": "38440ed2-bdbd-4c08-867e-ee99f8dcb698",
   "metadata": {
    "execution": {
     "iopub.execute_input": "2024-02-09T19:53:33.982304Z",
     "iopub.status.busy": "2024-02-09T19:53:33.982000Z",
     "iopub.status.idle": "2024-02-09T19:53:34.078992Z",
     "shell.execute_reply": "2024-02-09T19:53:34.078245Z"
    },
    "papermill": {
     "duration": 0.106286,
     "end_time": "2024-02-09T19:53:34.080505",
     "exception": false,
     "start_time": "2024-02-09T19:53:33.974219",
     "status": "completed"
    },
    "tags": []
   },
   "outputs": [],
   "source": [
    "df_matri_notas = df_matri_notas.select(\n",
    "    'id_matricula',\n",
    "    'id_disciplina',\n",
    "    # Tipagem da coluna data\n",
    "    to_date('data').alias('data'),\n",
    "    # Retorna zero caso não tenha nota\n",
    "    when(isnan(col('nota')), lit(0)).otherwise(col('nota')).alias('nota'),\n",
    "    'etl_date'\n",
    ")"
   ]
  },
  {
   "cell_type": "markdown",
   "id": "b3a3f2bc-c574-4c71-a572-2d692974052f",
   "metadata": {
    "papermill": {
     "duration": 0.007513,
     "end_time": "2024-02-09T19:53:34.092663",
     "exception": false,
     "start_time": "2024-02-09T19:53:34.085150",
     "status": "completed"
    },
    "tags": []
   },
   "source": [
    "### Gravação do dataframe em um diretório temporário"
   ]
  },
  {
   "cell_type": "code",
   "execution_count": 6,
   "id": "2d18424f-56d6-40f7-85be-918f8b48b55e",
   "metadata": {
    "execution": {
     "iopub.execute_input": "2024-02-09T19:53:34.108066Z",
     "iopub.status.busy": "2024-02-09T19:53:34.107387Z",
     "iopub.status.idle": "2024-02-09T19:53:37.415288Z",
     "shell.execute_reply": "2024-02-09T19:53:37.414475Z"
    },
    "papermill": {
     "duration": 3.317526,
     "end_time": "2024-02-09T19:53:37.416691",
     "exception": false,
     "start_time": "2024-02-09T19:53:34.099165",
     "status": "completed"
    },
    "tags": []
   },
   "outputs": [],
   "source": [
    "df_matri_notas.write.parquet(temp_blobs, mode=\"overwrite\")"
   ]
  },
  {
   "cell_type": "markdown",
   "id": "55952c6d-db81-487d-bfe5-09ad180fe3f0",
   "metadata": {
    "papermill": {
     "duration": 0.007386,
     "end_time": "2024-02-09T19:53:37.428953",
     "exception": false,
     "start_time": "2024-02-09T19:53:37.421567",
     "status": "completed"
    },
    "tags": []
   },
   "source": [
    "### Gravação na camada Silver"
   ]
  },
  {
   "cell_type": "code",
   "execution_count": 7,
   "id": "5a3624f4-76bc-4757-8371-4a7249b75697",
   "metadata": {
    "execution": {
     "iopub.execute_input": "2024-02-09T19:53:37.444283Z",
     "iopub.status.busy": "2024-02-09T19:53:37.444051Z",
     "iopub.status.idle": "2024-02-09T19:53:37.623502Z",
     "shell.execute_reply": "2024-02-09T19:53:37.622736Z"
    },
    "papermill": {
     "duration": 0.189091,
     "end_time": "2024-02-09T19:53:37.624952",
     "exception": false,
     "start_time": "2024-02-09T19:53:37.435861",
     "status": "completed"
    },
    "tags": []
   },
   "outputs": [
    {
     "name": "stdout",
     "output_type": "stream",
     "text": [
      "Arquivo 'part-00000-6cc2ff32-2dc7-48a3-9604-756f4ff38edb-c000.snappy.parquet' enviado com sucesso para o MinIO em 'notas/notas20240209/part-00000-6cc2ff32-2dc7-48a3-9604-756f4ff38edb-c000.snappy.parquet'.\n",
      "Arquivo 'part-00001-6cc2ff32-2dc7-48a3-9604-756f4ff38edb-c000.snappy.parquet' enviado com sucesso para o MinIO em 'notas/notas20240209/part-00001-6cc2ff32-2dc7-48a3-9604-756f4ff38edb-c000.snappy.parquet'.\n",
      "Arquivo 'part-00002-6cc2ff32-2dc7-48a3-9604-756f4ff38edb-c000.snappy.parquet' enviado com sucesso para o MinIO em 'notas/notas20240209/part-00002-6cc2ff32-2dc7-48a3-9604-756f4ff38edb-c000.snappy.parquet'.\n",
      "Arquivo 'part-00003-6cc2ff32-2dc7-48a3-9604-756f4ff38edb-c000.snappy.parquet' enviado com sucesso para o MinIO em 'notas/notas20240209/part-00003-6cc2ff32-2dc7-48a3-9604-756f4ff38edb-c000.snappy.parquet'.\n",
      "Arquivo 'part-00004-6cc2ff32-2dc7-48a3-9604-756f4ff38edb-c000.snappy.parquet' enviado com sucesso para o MinIO em 'notas/notas20240209/part-00004-6cc2ff32-2dc7-48a3-9604-756f4ff38edb-c000.snappy.parquet'.\n",
      "Arquivo 'part-00005-6cc2ff32-2dc7-48a3-9604-756f4ff38edb-c000.snappy.parquet' enviado com sucesso para o MinIO em 'notas/notas20240209/part-00005-6cc2ff32-2dc7-48a3-9604-756f4ff38edb-c000.snappy.parquet'.\n",
      "Arquivo 'part-00006-6cc2ff32-2dc7-48a3-9604-756f4ff38edb-c000.snappy.parquet' enviado com sucesso para o MinIO em 'notas/notas20240209/part-00006-6cc2ff32-2dc7-48a3-9604-756f4ff38edb-c000.snappy.parquet'.\n",
      "Arquivo 'part-00007-6cc2ff32-2dc7-48a3-9604-756f4ff38edb-c000.snappy.parquet' enviado com sucesso para o MinIO em 'notas/notas20240209/part-00007-6cc2ff32-2dc7-48a3-9604-756f4ff38edb-c000.snappy.parquet'.\n",
      "Arquivo 'part-00008-6cc2ff32-2dc7-48a3-9604-756f4ff38edb-c000.snappy.parquet' enviado com sucesso para o MinIO em 'notas/notas20240209/part-00008-6cc2ff32-2dc7-48a3-9604-756f4ff38edb-c000.snappy.parquet'.\n",
      "Arquivo 'part-00009-6cc2ff32-2dc7-48a3-9604-756f4ff38edb-c000.snappy.parquet' enviado com sucesso para o MinIO em 'notas/notas20240209/part-00009-6cc2ff32-2dc7-48a3-9604-756f4ff38edb-c000.snappy.parquet'.\n",
      "Arquivo 'part-00010-6cc2ff32-2dc7-48a3-9604-756f4ff38edb-c000.snappy.parquet' enviado com sucesso para o MinIO em 'notas/notas20240209/part-00010-6cc2ff32-2dc7-48a3-9604-756f4ff38edb-c000.snappy.parquet'.\n",
      "Arquivo 'part-00011-6cc2ff32-2dc7-48a3-9604-756f4ff38edb-c000.snappy.parquet' enviado com sucesso para o MinIO em 'notas/notas20240209/part-00011-6cc2ff32-2dc7-48a3-9604-756f4ff38edb-c000.snappy.parquet'.\n"
     ]
    }
   ],
   "source": [
    "# Recria bucket caso não exista\n",
    "if not minio_client.bucket_exists(camadaEscrita):\n",
    "    minio_client.make_bucket(camadaEscrita)\n",
    "\n",
    "# Lista todos os arquivos Parquet no diretório temporário de blobs\n",
    "arquivos_parquet = glob.glob(os.path.join(temp_blobs, '*.parquet'))\n",
    "\n",
    "# Itera sobre a lista de arquivos Parquet e envia cada um para o MinIO\n",
    "for arquivo_parquet in arquivos_parquet:\n",
    "    try:\n",
    "        # Envia o arquivo para a camada bronze\n",
    "        nome_arquivo = os.path.basename(arquivo_parquet)\n",
    "        minio_client.fput_object(camadaEscrita, os.path.join(minio_path, nome_arquivo), arquivo_parquet)\n",
    "        print(f\"Arquivo '{nome_arquivo}' enviado com sucesso para o MinIO em '{os.path.join(minio_path, nome_arquivo)}'.\")\n",
    "    except S3Error as e:\n",
    "        print(f\"Erro ao enviar o arquivo para o MinIO: {e}\")"
   ]
  },
  {
   "cell_type": "markdown",
   "id": "adb7df5d-ec09-4162-b667-67228d42d4ec",
   "metadata": {
    "papermill": {
     "duration": 0.007307,
     "end_time": "2024-02-09T19:53:37.637077",
     "exception": false,
     "start_time": "2024-02-09T19:53:37.629770",
     "status": "completed"
    },
    "tags": []
   },
   "source": [
    "### Remove dados do diretório temporário de blobs"
   ]
  },
  {
   "cell_type": "code",
   "execution_count": 8,
   "id": "a9373d36-1d90-45ab-bcf8-6c7cae5daffc",
   "metadata": {
    "execution": {
     "iopub.execute_input": "2024-02-09T19:53:37.652321Z",
     "iopub.status.busy": "2024-02-09T19:53:37.652080Z",
     "iopub.status.idle": "2024-02-09T19:53:37.758264Z",
     "shell.execute_reply": "2024-02-09T19:53:37.757500Z"
    },
    "papermill": {
     "duration": 0.115712,
     "end_time": "2024-02-09T19:53:37.759632",
     "exception": false,
     "start_time": "2024-02-09T19:53:37.643920",
     "status": "completed"
    },
    "tags": []
   },
   "outputs": [
    {
     "name": "stdout",
     "output_type": "stream",
     "text": [
      "/home/jovyan/notebooks/temporary_blobs/.part-00000-6cc2ff32-2dc7-48a3-9604-756f4ff38edb-c000.snappy.parquet.crc deletado com sucesso.\n",
      "/home/jovyan/notebooks/temporary_blobs/.part-00001-6cc2ff32-2dc7-48a3-9604-756f4ff38edb-c000.snappy.parquet.crc deletado com sucesso.\n",
      "/home/jovyan/notebooks/temporary_blobs/.part-00002-6cc2ff32-2dc7-48a3-9604-756f4ff38edb-c000.snappy.parquet.crc deletado com sucesso.\n",
      "/home/jovyan/notebooks/temporary_blobs/.part-00003-6cc2ff32-2dc7-48a3-9604-756f4ff38edb-c000.snappy.parquet.crc deletado com sucesso.\n",
      "/home/jovyan/notebooks/temporary_blobs/.part-00004-6cc2ff32-2dc7-48a3-9604-756f4ff38edb-c000.snappy.parquet.crc deletado com sucesso.\n",
      "/home/jovyan/notebooks/temporary_blobs/.part-00005-6cc2ff32-2dc7-48a3-9604-756f4ff38edb-c000.snappy.parquet.crc deletado com sucesso.\n",
      "/home/jovyan/notebooks/temporary_blobs/.part-00006-6cc2ff32-2dc7-48a3-9604-756f4ff38edb-c000.snappy.parquet.crc deletado com sucesso.\n",
      "/home/jovyan/notebooks/temporary_blobs/.part-00007-6cc2ff32-2dc7-48a3-9604-756f4ff38edb-c000.snappy.parquet.crc deletado com sucesso.\n",
      "/home/jovyan/notebooks/temporary_blobs/.part-00008-6cc2ff32-2dc7-48a3-9604-756f4ff38edb-c000.snappy.parquet.crc deletado com sucesso.\n",
      "/home/jovyan/notebooks/temporary_blobs/.part-00009-6cc2ff32-2dc7-48a3-9604-756f4ff38edb-c000.snappy.parquet.crc deletado com sucesso.\n",
      "/home/jovyan/notebooks/temporary_blobs/.part-00010-6cc2ff32-2dc7-48a3-9604-756f4ff38edb-c000.snappy.parquet.crc deletado com sucesso.\n"
     ]
    },
    {
     "name": "stdout",
     "output_type": "stream",
     "text": [
      "/home/jovyan/notebooks/temporary_blobs/.part-00011-6cc2ff32-2dc7-48a3-9604-756f4ff38edb-c000.snappy.parquet.crc deletado com sucesso.\n",
      "/home/jovyan/notebooks/temporary_blobs/._SUCCESS.crc deletado com sucesso.\n",
      "/home/jovyan/notebooks/temporary_blobs/part-00000-6cc2ff32-2dc7-48a3-9604-756f4ff38edb-c000.snappy.parquet deletado com sucesso.\n",
      "/home/jovyan/notebooks/temporary_blobs/part-00001-6cc2ff32-2dc7-48a3-9604-756f4ff38edb-c000.snappy.parquet deletado com sucesso.\n",
      "/home/jovyan/notebooks/temporary_blobs/part-00002-6cc2ff32-2dc7-48a3-9604-756f4ff38edb-c000.snappy.parquet deletado com sucesso.\n",
      "/home/jovyan/notebooks/temporary_blobs/part-00003-6cc2ff32-2dc7-48a3-9604-756f4ff38edb-c000.snappy.parquet deletado com sucesso.\n",
      "/home/jovyan/notebooks/temporary_blobs/part-00004-6cc2ff32-2dc7-48a3-9604-756f4ff38edb-c000.snappy.parquet deletado com sucesso.\n",
      "/home/jovyan/notebooks/temporary_blobs/part-00005-6cc2ff32-2dc7-48a3-9604-756f4ff38edb-c000.snappy.parquet deletado com sucesso.\n",
      "/home/jovyan/notebooks/temporary_blobs/part-00006-6cc2ff32-2dc7-48a3-9604-756f4ff38edb-c000.snappy.parquet deletado com sucesso.\n",
      "/home/jovyan/notebooks/temporary_blobs/part-00007-6cc2ff32-2dc7-48a3-9604-756f4ff38edb-c000.snappy.parquet deletado com sucesso.\n",
      "/home/jovyan/notebooks/temporary_blobs/part-00008-6cc2ff32-2dc7-48a3-9604-756f4ff38edb-c000.snappy.parquet deletado com sucesso.\n",
      "/home/jovyan/notebooks/temporary_blobs/part-00009-6cc2ff32-2dc7-48a3-9604-756f4ff38edb-c000.snappy.parquet deletado com sucesso.\n",
      "/home/jovyan/notebooks/temporary_blobs/part-00010-6cc2ff32-2dc7-48a3-9604-756f4ff38edb-c000.snappy.parquet deletado com sucesso.\n",
      "/home/jovyan/notebooks/temporary_blobs/part-00011-6cc2ff32-2dc7-48a3-9604-756f4ff38edb-c000.snappy.parquet deletado com sucesso.\n",
      "/home/jovyan/notebooks/temporary_blobs/_SUCCESS deletado com sucesso.\n"
     ]
    }
   ],
   "source": [
    "# Liste todos os arquivos na pasta\n",
    "arquivos_na_pasta = os.listdir(temp_blobs)\n",
    "\n",
    "# Itere sobre os arquivos e os delete\n",
    "for arquivo in arquivos_na_pasta:\n",
    "    caminho_completo = os.path.join(temp_blobs, arquivo)\n",
    "    try:\n",
    "        if os.path.isfile(caminho_completo):\n",
    "            os.remove(caminho_completo)\n",
    "            print(f'{caminho_completo} deletado com sucesso.')\n",
    "    except Exception as e:\n",
    "        print(f'Erro ao deletar {caminho_completo}: {e}')\n",
    "\n",
    "spark.stop()"
   ]
  }
 ],
 "metadata": {
  "kernelspec": {
   "display_name": "Python 3 (ipykernel)",
   "language": "python",
   "name": "python3"
  },
  "language_info": {
   "codemirror_mode": {
    "name": "ipython",
    "version": 3
   },
   "file_extension": ".py",
   "mimetype": "text/x-python",
   "name": "python",
   "nbconvert_exporter": "python",
   "pygments_lexer": "ipython3",
   "version": "3.11.6"
  },
  "papermill": {
   "default_parameters": {},
   "duration": 15.543008,
   "end_time": "2024-02-09T19:53:40.383157",
   "environment_variables": {},
   "exception": null,
   "input_path": "/home/jovyan/notebooks/dataset_notas/2_bronze_silver_notas/2_bronze_silver_notas.ipynb",
   "output_path": "/home/jovyan/notebooks/dataset_notas/2_bronze_silver_notas/2_bronze_silver_notas.ipynb",
   "parameters": {},
   "start_time": "2024-02-09T19:53:24.840149",
   "version": "2.5.0"
  }
 },
 "nbformat": 4,
 "nbformat_minor": 5
}