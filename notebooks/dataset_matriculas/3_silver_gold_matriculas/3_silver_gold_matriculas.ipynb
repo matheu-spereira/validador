{
 "cells": [
  {
   "cell_type": "markdown",
   "id": "553c19ae-788f-4a70-bbff-de2a77024c33",
   "metadata": {
    "papermill": {
     "duration": 0.005971,
     "end_time": "2024-01-14T18:57:01.287177",
     "exception": false,
     "start_time": "2024-01-14T18:57:01.281206",
     "status": "completed"
    },
    "tags": []
   },
   "source": [
    "## Objetivo do notebook\n",
    "#### O objetivo deste notebook é realizar a leitura de dados das origens do dataset matrículas na camada silver e gravar de forma versionada na camada gold\n"
   ]
  },
  {
   "cell_type": "markdown",
   "id": "98040be4-19b4-4b7f-a22c-f5a892413cb3",
   "metadata": {
    "papermill": {
     "duration": 0.006853,
     "end_time": "2024-01-14T18:57:01.301421",
     "exception": false,
     "start_time": "2024-01-14T18:57:01.294568",
     "status": "completed"
    },
    "tags": []
   },
   "source": [
    "### Import Libs"
   ]
  },
  {
   "cell_type": "code",
   "execution_count": 1,
   "id": "942dde0f-19c6-4ad1-8326-4441ac5e24a6",
   "metadata": {
    "execution": {
     "iopub.execute_input": "2024-01-14T18:57:01.316036Z",
     "iopub.status.busy": "2024-01-14T18:57:01.315517Z",
     "iopub.status.idle": "2024-01-14T18:57:03.784900Z",
     "shell.execute_reply": "2024-01-14T18:57:03.781288Z"
    },
    "papermill": {
     "duration": 2.483542,
     "end_time": "2024-01-14T18:57:03.791473",
     "exception": false,
     "start_time": "2024-01-14T18:57:01.307931",
     "status": "completed"
    },
    "tags": []
   },
   "outputs": [
    {
     "name": "stdout",
     "output_type": "stream",
     "text": [
      "Requirement already satisfied: minio in /opt/conda/lib/python3.11/site-packages (7.2.3)\r\n",
      "Requirement already satisfied: certifi in /opt/conda/lib/python3.11/site-packages (from minio) (2023.7.22)\r\n",
      "Requirement already satisfied: urllib3 in /opt/conda/lib/python3.11/site-packages (from minio) (1.26.18)\r\n",
      "Requirement already satisfied: argon2-cffi in /opt/conda/lib/python3.11/site-packages (from minio) (23.1.0)\r\n",
      "Requirement already satisfied: pycryptodome in /opt/conda/lib/python3.11/site-packages (from minio) (3.20.0)\r\n",
      "Requirement already satisfied: typing-extensions in /opt/conda/lib/python3.11/site-packages (from minio) (4.8.0)\r\n",
      "Requirement already satisfied: argon2-cffi-bindings in /opt/conda/lib/python3.11/site-packages (from argon2-cffi->minio) (21.2.0)\r\n"
     ]
    },
    {
     "name": "stdout",
     "output_type": "stream",
     "text": [
      "Requirement already satisfied: cffi>=1.0.1 in /opt/conda/lib/python3.11/site-packages (from argon2-cffi-bindings->argon2-cffi->minio) (1.16.0)\r\n",
      "Requirement already satisfied: pycparser in /opt/conda/lib/python3.11/site-packages (from cffi>=1.0.1->argon2-cffi-bindings->argon2-cffi->minio) (2.21)\r\n"
     ]
    }
   ],
   "source": [
    "!pip install minio"
   ]
  },
  {
   "cell_type": "code",
   "execution_count": 2,
   "id": "3f09124d-a137-4fbf-8ebe-d6d44e13083a",
   "metadata": {
    "execution": {
     "iopub.execute_input": "2024-01-14T18:57:03.826143Z",
     "iopub.status.busy": "2024-01-14T18:57:03.825903Z",
     "iopub.status.idle": "2024-01-14T18:57:04.503010Z",
     "shell.execute_reply": "2024-01-14T18:57:04.502220Z"
    },
    "papermill": {
     "duration": 0.69263,
     "end_time": "2024-01-14T18:57:04.504423",
     "exception": false,
     "start_time": "2024-01-14T18:57:03.811793",
     "status": "completed"
    },
    "tags": []
   },
   "outputs": [],
   "source": [
    "from pyspark.sql import SparkSession\n",
    "from io import BytesIO\n",
    "from pyspark.sql.functions import col, max\n",
    "from pyspark.sql.window import Window\n",
    "from minio.error import S3Error\n",
    "from minio import Minio\n",
    "\n",
    "import glob\n",
    "import pyarrow.parquet as pq\n",
    "import os\n",
    "import pandas as pd"
   ]
  },
  {
   "cell_type": "markdown",
   "id": "53b4c9e6-5491-4420-9c7f-283ae7841c08",
   "metadata": {
    "papermill": {
     "duration": 0.007519,
     "end_time": "2024-01-14T18:57:04.517632",
     "exception": false,
     "start_time": "2024-01-14T18:57:04.510113",
     "status": "completed"
    },
    "tags": []
   },
   "source": [
    "### Definição de variáveis"
   ]
  },
  {
   "cell_type": "code",
   "execution_count": 3,
   "id": "2849a6c2-22fe-47df-84db-cbfb4b06075b",
   "metadata": {
    "execution": {
     "iopub.execute_input": "2024-01-14T18:57:04.532837Z",
     "iopub.status.busy": "2024-01-14T18:57:04.532147Z",
     "iopub.status.idle": "2024-01-14T18:57:06.719604Z",
     "shell.execute_reply": "2024-01-14T18:57:06.718879Z"
    },
    "papermill": {
     "duration": 2.19682,
     "end_time": "2024-01-14T18:57:06.721048",
     "exception": false,
     "start_time": "2024-01-14T18:57:04.524228",
     "status": "completed"
    },
    "tags": []
   },
   "outputs": [],
   "source": [
    "# Sessão Spark\n",
    "spark = SparkSession.builder.getOrCreate()\n",
    "\n",
    "# Parametros de input e output das origens\n",
    "camadaLeitura = 'silver'\n",
    "camadaEscrita = 'gold'\n",
    "pasta = 'matriculas'\n",
    "temp_blobs = '/home/jovyan/notebooks/temporary_blobs/' # pasta temporária para armazenamento de objetos\n",
    "\n",
    "# Conexão ao miniIO\n",
    "minio_endpoint = 'minio:9000'\n",
    "minio_access_key = 'minioaccesskey'\n",
    "minio_secret_key = 'miniosecretkey'\n",
    "minio_object_name = pasta\n",
    "minio_client = Minio(minio_endpoint, access_key=minio_access_key, secret_key=minio_secret_key, secure=False)\n",
    "\n",
    "# Definição de variáveis para versionamento dos dados na camada bronze\n",
    "minio_path = f'{pasta}'"
   ]
  },
  {
   "cell_type": "markdown",
   "id": "435aa9ea-7da5-4f7a-a984-a7b344586fc2",
   "metadata": {
    "papermill": {
     "duration": 0.007444,
     "end_time": "2024-01-14T18:57:06.734174",
     "exception": false,
     "start_time": "2024-01-14T18:57:06.726730",
     "status": "completed"
    },
    "tags": []
   },
   "source": [
    "### Leitura da camada Silver"
   ]
  },
  {
   "cell_type": "code",
   "execution_count": 4,
   "id": "3990b29b-7611-4281-a482-edf584e7d817",
   "metadata": {
    "execution": {
     "iopub.execute_input": "2024-01-14T18:57:06.748943Z",
     "iopub.status.busy": "2024-01-14T18:57:06.748700Z",
     "iopub.status.idle": "2024-01-14T18:57:08.831363Z",
     "shell.execute_reply": "2024-01-14T18:57:08.830672Z"
    },
    "papermill": {
     "duration": 2.092372,
     "end_time": "2024-01-14T18:57:08.832863",
     "exception": false,
     "start_time": "2024-01-14T18:57:06.740491",
     "status": "completed"
    },
    "tags": []
   },
   "outputs": [
    {
     "name": "stdout",
     "output_type": "stream",
     "text": [
      "Objeto encontrado: matriculas/matriculas20240114/part-00000-11ae5445-7a37-4bc7-9e86-6d3dcaa9f33a-c000.snappy.parquet\n",
      "Objeto encontrado: matriculas/matriculas20240114/part-00000-e5c1a6a4-88f2-4279-ba86-90f74277f819-c000.snappy.parquet\n",
      "Objeto encontrado: matriculas/matriculas20240114/part-00000-fe2ea4fc-f65f-4474-b632-52ea054c3cc3-c000.snappy.parquet\n",
      "Objeto encontrado: matriculas/matriculas20240114/part-00001-11ae5445-7a37-4bc7-9e86-6d3dcaa9f33a-c000.snappy.parquet\n",
      "Objeto encontrado: matriculas/matriculas20240114/part-00001-e5c1a6a4-88f2-4279-ba86-90f74277f819-c000.snappy.parquet\n",
      "Objeto encontrado: matriculas/matriculas20240114/part-00001-fe2ea4fc-f65f-4474-b632-52ea054c3cc3-c000.snappy.parquet\n",
      "Objeto encontrado: matriculas/matriculas20240114/part-00002-11ae5445-7a37-4bc7-9e86-6d3dcaa9f33a-c000.snappy.parquet\n",
      "Objeto encontrado: matriculas/matriculas20240114/part-00002-e5c1a6a4-88f2-4279-ba86-90f74277f819-c000.snappy.parquet\n",
      "Objeto encontrado: matriculas/matriculas20240114/part-00002-fe2ea4fc-f65f-4474-b632-52ea054c3cc3-c000.snappy.parquet\n",
      "Objeto encontrado: matriculas/matriculas20240114/part-00003-11ae5445-7a37-4bc7-9e86-6d3dcaa9f33a-c000.snappy.parquet\n",
      "Objeto encontrado: matriculas/matriculas20240114/part-00003-e5c1a6a4-88f2-4279-ba86-90f74277f819-c000.snappy.parquet\n",
      "Objeto encontrado: matriculas/matriculas20240114/part-00003-fe2ea4fc-f65f-4474-b632-52ea054c3cc3-c000.snappy.parquet\n",
      "Objeto encontrado: matriculas/matriculas20240114/part-00004-11ae5445-7a37-4bc7-9e86-6d3dcaa9f33a-c000.snappy.parquet\n",
      "Objeto encontrado: matriculas/matriculas20240114/part-00004-e5c1a6a4-88f2-4279-ba86-90f74277f819-c000.snappy.parquet\n",
      "Objeto encontrado: matriculas/matriculas20240114/part-00004-fe2ea4fc-f65f-4474-b632-52ea054c3cc3-c000.snappy.parquet\n",
      "Objeto encontrado: matriculas/matriculas20240114/part-00005-11ae5445-7a37-4bc7-9e86-6d3dcaa9f33a-c000.snappy.parquet\n",
      "Objeto encontrado: matriculas/matriculas20240114/part-00005-e5c1a6a4-88f2-4279-ba86-90f74277f819-c000.snappy.parquet\n",
      "Objeto encontrado: matriculas/matriculas20240114/part-00005-fe2ea4fc-f65f-4474-b632-52ea054c3cc3-c000.snappy.parquet\n",
      "Objeto encontrado: matriculas/matriculas20240114/part-00006-11ae5445-7a37-4bc7-9e86-6d3dcaa9f33a-c000.snappy.parquet\n",
      "Objeto encontrado: matriculas/matriculas20240114/part-00006-e5c1a6a4-88f2-4279-ba86-90f74277f819-c000.snappy.parquet\n",
      "Objeto encontrado: matriculas/matriculas20240114/part-00006-fe2ea4fc-f65f-4474-b632-52ea054c3cc3-c000.snappy.parquet\n",
      "Objeto encontrado: matriculas/matriculas20240114/part-00007-11ae5445-7a37-4bc7-9e86-6d3dcaa9f33a-c000.snappy.parquet\n",
      "Objeto encontrado: matriculas/matriculas20240114/part-00007-e5c1a6a4-88f2-4279-ba86-90f74277f819-c000.snappy.parquet\n",
      "Objeto encontrado: matriculas/matriculas20240114/part-00007-fe2ea4fc-f65f-4474-b632-52ea054c3cc3-c000.snappy.parquet\n",
      "Objeto encontrado: matriculas/matriculas20240114/part-00008-11ae5445-7a37-4bc7-9e86-6d3dcaa9f33a-c000.snappy.parquet\n",
      "Objeto encontrado: matriculas/matriculas20240114/part-00008-e5c1a6a4-88f2-4279-ba86-90f74277f819-c000.snappy.parquet\n",
      "Objeto encontrado: matriculas/matriculas20240114/part-00008-fe2ea4fc-f65f-4474-b632-52ea054c3cc3-c000.snappy.parquet\n",
      "Objeto encontrado: matriculas/matriculas20240114/part-00009-11ae5445-7a37-4bc7-9e86-6d3dcaa9f33a-c000.snappy.parquet\n",
      "Objeto encontrado: matriculas/matriculas20240114/part-00009-e5c1a6a4-88f2-4279-ba86-90f74277f819-c000.snappy.parquet\n",
      "Objeto encontrado: matriculas/matriculas20240114/part-00009-fe2ea4fc-f65f-4474-b632-52ea054c3cc3-c000.snappy.parquet\n",
      "Objeto encontrado: matriculas/matriculas20240114/part-00010-11ae5445-7a37-4bc7-9e86-6d3dcaa9f33a-c000.snappy.parquet\n",
      "Objeto encontrado: matriculas/matriculas20240114/part-00010-e5c1a6a4-88f2-4279-ba86-90f74277f819-c000.snappy.parquet\n",
      "Objeto encontrado: matriculas/matriculas20240114/part-00010-fe2ea4fc-f65f-4474-b632-52ea054c3cc3-c000.snappy.parquet\n",
      "Objeto encontrado: matriculas/matriculas20240114/part-00011-11ae5445-7a37-4bc7-9e86-6d3dcaa9f33a-c000.snappy.parquet\n",
      "Objeto encontrado: matriculas/matriculas20240114/part-00011-e5c1a6a4-88f2-4279-ba86-90f74277f819-c000.snappy.parquet\n",
      "Objeto encontrado: matriculas/matriculas20240114/part-00011-fe2ea4fc-f65f-4474-b632-52ea054c3cc3-c000.snappy.parquet\n"
     ]
    }
   ],
   "source": [
    "dataframes = []\n",
    "\n",
    "try:\n",
    "    # Lista objetos no bucket\n",
    "    objects = minio_client.list_objects(camadaLeitura, prefix=pasta, recursive=True)\n",
    "\n",
    "    # Itera sobre os objetos na pasta\n",
    "    for obj in objects:\n",
    "        # Lê o conteúdo do objeto\n",
    "        content = minio_client.get_object(camadaLeitura, obj.object_name).read()\n",
    "        \n",
    "        # Lê o conteúdo do objeto Parquet usando pyarrow e converte para DataFrame Pandas\n",
    "        df_pandas = pq.read_table(BytesIO(content)).to_pandas()\n",
    "        \n",
    "        # Adiciona o DataFrame Pandas à lista de DataFrames\n",
    "        dataframes.append(df_pandas)\n",
    "        \n",
    "        print(f\"Objeto encontrado: {obj.object_name}\")\n",
    "except error.MinioException as e:\n",
    "    print(f\"Erro ao listar objetos: {e}\")\n",
    "\n",
    "# Concatena todos os DataFrames Pandas em um único DataFrame Pandas\n",
    "consolidated_df_pandas = pd.concat(dataframes, ignore_index=True)\n",
    "\n",
    "# Converte para DataFrame PySpark\n",
    "df_matriculas = spark.createDataFrame(consolidated_df_pandas)"
   ]
  },
  {
   "cell_type": "markdown",
   "id": "7ad4164b-2622-4d4d-bc68-d1cade059670",
   "metadata": {
    "papermill": {
     "duration": 0.007591,
     "end_time": "2024-01-14T18:57:08.846453",
     "exception": false,
     "start_time": "2024-01-14T18:57:08.838862",
     "status": "completed"
    },
    "tags": []
   },
   "source": [
    "### Tratamento dos dados"
   ]
  },
  {
   "cell_type": "code",
   "execution_count": 5,
   "id": "0eecb32f-615f-4b79-96c6-c3fa2ca47fb3",
   "metadata": {
    "execution": {
     "iopub.execute_input": "2024-01-14T18:57:08.862496Z",
     "iopub.status.busy": "2024-01-14T18:57:08.862167Z",
     "iopub.status.idle": "2024-01-14T18:57:10.858532Z",
     "shell.execute_reply": "2024-01-14T18:57:10.857725Z"
    },
    "papermill": {
     "duration": 2.005444,
     "end_time": "2024-01-14T18:57:10.860015",
     "exception": false,
     "start_time": "2024-01-14T18:57:08.854571",
     "status": "completed"
    },
    "tags": []
   },
   "outputs": [],
   "source": [
    "# Busca etl_date mais recente\n",
    "max_etl_date = df_matriculas.agg(max(\"etl_date\")).collect()[0][0]\n",
    "\n",
    "# Filtra o Dataframe pelo etl_date mais recente\n",
    "df_matriculas = df_matriculas.select('id_matricula', 'id_turma', 'id_aluno', 'data_matricula', 'situacao', 'data_situacao', ).where(col(\"etl_date\") == max_etl_date)\n",
    "\n",
    "# Remove Duplicados\n",
    "df_matriculas = df_matriculas.dropDuplicates()"
   ]
  },
  {
   "cell_type": "markdown",
   "id": "9fd5188c-51a9-4893-8509-67f8db4b79bc",
   "metadata": {
    "papermill": {
     "duration": 0.007892,
     "end_time": "2024-01-14T18:57:10.873122",
     "exception": false,
     "start_time": "2024-01-14T18:57:10.865230",
     "status": "completed"
    },
    "tags": []
   },
   "source": [
    "### Gravação do dataframe em um diretório temporário"
   ]
  },
  {
   "cell_type": "code",
   "execution_count": 6,
   "id": "2d18424f-56d6-40f7-85be-918f8b48b55e",
   "metadata": {
    "execution": {
     "iopub.execute_input": "2024-01-14T18:57:10.889757Z",
     "iopub.status.busy": "2024-01-14T18:57:10.889362Z",
     "iopub.status.idle": "2024-01-14T18:57:12.707943Z",
     "shell.execute_reply": "2024-01-14T18:57:12.707146Z"
    },
    "papermill": {
     "duration": 1.828748,
     "end_time": "2024-01-14T18:57:12.709338",
     "exception": false,
     "start_time": "2024-01-14T18:57:10.880590",
     "status": "completed"
    },
    "tags": []
   },
   "outputs": [],
   "source": [
    "df_matriculas.write.parquet(temp_blobs, mode=\"overwrite\")"
   ]
  },
  {
   "cell_type": "markdown",
   "id": "dd34be7d-a6bc-482c-8f23-3d69e140c055",
   "metadata": {
    "papermill": {
     "duration": 0.00753,
     "end_time": "2024-01-14T18:57:12.721804",
     "exception": false,
     "start_time": "2024-01-14T18:57:12.714274",
     "status": "completed"
    },
    "tags": []
   },
   "source": [
    "### Gravação na camada Gold"
   ]
  },
  {
   "cell_type": "code",
   "execution_count": 7,
   "id": "69d48ea0-0d84-4981-b38d-ff27691eeb99",
   "metadata": {
    "execution": {
     "iopub.execute_input": "2024-01-14T18:57:12.737784Z",
     "iopub.status.busy": "2024-01-14T18:57:12.737240Z",
     "iopub.status.idle": "2024-01-14T18:57:12.775744Z",
     "shell.execute_reply": "2024-01-14T18:57:12.774998Z"
    },
    "papermill": {
     "duration": 0.048232,
     "end_time": "2024-01-14T18:57:12.777013",
     "exception": false,
     "start_time": "2024-01-14T18:57:12.728781",
     "status": "completed"
    },
    "tags": []
   },
   "outputs": [
    {
     "name": "stdout",
     "output_type": "stream",
     "text": [
      "Arquivo existente 'matriculas/part-00000-16f896ea-f9a1-4f2c-b0ea-78fdae07c10d-c000.snappy.parquet' removido com sucesso do MinIO.\n",
      "Arquivo 'part-00000-82f45cc7-6969-4b4d-9696-8576f7a77370-c000.snappy.parquet' enviado com sucesso para o MinIO em 'matriculas/part-00000-82f45cc7-6969-4b4d-9696-8576f7a77370-c000.snappy.parquet'.\n"
     ]
    }
   ],
   "source": [
    "# Recria bucket caso não exista\n",
    "if not minio_client.bucket_exists(camadaEscrita):\n",
    "    minio_client.make_bucket(camadaEscrita)\n",
    "\n",
    "# Lista todos os arquivos Parquet no diretório temporário de blobs\n",
    "arquivos_parquet = glob.glob(os.path.join(temp_blobs, '*.parquet'))\n",
    "\n",
    "# Exclui todos os arquivos existentes na pasta no MinIO\n",
    "objects = minio_client.list_objects(camadaEscrita, minio_path, recursive=True)\n",
    "for obj in objects:\n",
    "    try:\n",
    "        minio_client.remove_object(camadaEscrita, obj.object_name)\n",
    "        print(f\"Arquivo existente '{obj.object_name}' removido com sucesso do MinIO.\")\n",
    "    except S3Error as e:\n",
    "        print(f\"Erro ao excluir o arquivo existente do MinIO: {e}\")\n",
    "\n",
    "# Itera sobre a lista de arquivos Parquet e envia cada um para o MinIO\n",
    "for arquivo_parquet in arquivos_parquet:\n",
    "    try:\n",
    "        # Obtém o nome do arquivo\n",
    "        nome_arquivo = os.path.basename(arquivo_parquet)\n",
    "\n",
    "        # Envia o novo arquivo para o MinIO\n",
    "        minio_client.fput_object(camadaEscrita, os.path.join(minio_path, nome_arquivo), arquivo_parquet)\n",
    "        print(f\"Arquivo '{nome_arquivo}' enviado com sucesso para o MinIO em '{os.path.join(minio_path, nome_arquivo)}'.\")\n",
    "    except S3Error as e:\n",
    "        print(f\"Erro ao interagir com o MinIO: {e}\")"
   ]
  },
  {
   "cell_type": "markdown",
   "id": "5d7b6298-6223-4086-980b-9e1409b324ea",
   "metadata": {
    "papermill": {
     "duration": 0.007403,
     "end_time": "2024-01-14T18:57:12.789640",
     "exception": false,
     "start_time": "2024-01-14T18:57:12.782237",
     "status": "completed"
    },
    "tags": []
   },
   "source": [
    "### Remove dados do diretório temporário de blobs"
   ]
  },
  {
   "cell_type": "code",
   "execution_count": 8,
   "id": "a9373d36-1d90-45ab-bcf8-6c7cae5daffc",
   "metadata": {
    "execution": {
     "iopub.execute_input": "2024-01-14T18:57:12.804908Z",
     "iopub.status.busy": "2024-01-14T18:57:12.804137Z",
     "iopub.status.idle": "2024-01-14T18:57:13.573861Z",
     "shell.execute_reply": "2024-01-14T18:57:13.573090Z"
    },
    "papermill": {
     "duration": 0.778941,
     "end_time": "2024-01-14T18:57:13.575303",
     "exception": false,
     "start_time": "2024-01-14T18:57:12.796362",
     "status": "completed"
    },
    "tags": []
   },
   "outputs": [
    {
     "name": "stdout",
     "output_type": "stream",
     "text": [
      "/home/jovyan/notebooks/_temporary_blobs/.part-00000-82f45cc7-6969-4b4d-9696-8576f7a77370-c000.snappy.parquet.crc deletado com sucesso.\n",
      "/home/jovyan/notebooks/_temporary_blobs/._SUCCESS.crc deletado com sucesso.\n",
      "/home/jovyan/notebooks/_temporary_blobs/part-00000-82f45cc7-6969-4b4d-9696-8576f7a77370-c000.snappy.parquet deletado com sucesso.\n",
      "/home/jovyan/notebooks/_temporary_blobs/_SUCCESS deletado com sucesso.\n"
     ]
    }
   ],
   "source": [
    "# Liste todos os arquivos na pasta\n",
    "arquivos_na_pasta = os.listdir(temp_blobs)\n",
    "\n",
    "# Itere sobre os arquivos e os delete\n",
    "for arquivo in arquivos_na_pasta:\n",
    "    caminho_completo = os.path.join(temp_blobs, arquivo)\n",
    "    try:\n",
    "        if os.path.isfile(caminho_completo):\n",
    "            os.remove(caminho_completo)\n",
    "            print(f'{caminho_completo} deletado com sucesso.')\n",
    "    except Exception as e:\n",
    "        print(f'Erro ao deletar {caminho_completo}: {e}')\n",
    "\n",
    "spark.stop()"
   ]
  }
 ],
 "metadata": {
  "kernelspec": {
   "display_name": "Python 3 (ipykernel)",
   "language": "python",
   "name": "python3"
  },
  "language_info": {
   "codemirror_mode": {
    "name": "ipython",
    "version": 3
   },
   "file_extension": ".py",
   "mimetype": "text/x-python",
   "name": "python",
   "nbconvert_exporter": "python",
   "pygments_lexer": "ipython3",
   "version": "3.11.6"
  },
  "papermill": {
   "default_parameters": {},
   "duration": 15.646513,
   "end_time": "2024-01-14T18:57:16.199778",
   "environment_variables": {},
   "exception": null,
   "input_path": "/home/jovyan/notebooks/dataset_matriculas/3_silver_gold_matriculas/3_silver_gold_matriculas.ipynb",
   "output_path": "/home/jovyan/notebooks/dataset_matriculas/3_silver_gold_matriculas/3_silver_gold_matriculas.ipynb",
   "parameters": {},
   "start_time": "2024-01-14T18:57:00.553265",
   "version": "2.5.0"
  }
 },
 "nbformat": 4,
 "nbformat_minor": 5
}
