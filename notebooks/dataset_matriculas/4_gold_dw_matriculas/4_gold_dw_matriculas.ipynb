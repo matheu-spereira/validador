{
 "cells": [
  {
   "cell_type": "markdown",
   "id": "945755e0-a3bb-4f1b-a7ba-7ea78f7300bc",
   "metadata": {
    "papermill": {
     "duration": 0.007318,
     "end_time": "2024-01-14T18:57:17.013717",
     "exception": false,
     "start_time": "2024-01-14T18:57:17.006399",
     "status": "completed"
    },
    "tags": []
   },
   "source": [
    "## Objetivo do notebook\n",
    "#### O objetivo deste notebook é realizar a leitura de dados das origens do dataset matrículas na camada gold  e gravar no DW"
   ]
  },
  {
   "cell_type": "markdown",
   "id": "f4e8a200-cfd3-49dc-bb00-b3152191a435",
   "metadata": {
    "papermill": {
     "duration": 0.007279,
     "end_time": "2024-01-14T18:57:17.028261",
     "exception": false,
     "start_time": "2024-01-14T18:57:17.020982",
     "status": "completed"
    },
    "tags": []
   },
   "source": [
    "### Import Libs"
   ]
  },
  {
   "cell_type": "code",
   "execution_count": 1,
   "id": "b2c0ffc1-d4a0-45ef-b873-9b579026d391",
   "metadata": {
    "execution": {
     "iopub.execute_input": "2024-01-14T18:57:17.043260Z",
     "iopub.status.busy": "2024-01-14T18:57:17.043024Z",
     "iopub.status.idle": "2024-01-14T18:57:19.468445Z",
     "shell.execute_reply": "2024-01-14T18:57:19.467658Z"
    },
    "papermill": {
     "duration": 2.434885,
     "end_time": "2024-01-14T18:57:19.469830",
     "exception": false,
     "start_time": "2024-01-14T18:57:17.034945",
     "status": "completed"
    },
    "tags": []
   },
   "outputs": [
    {
     "name": "stdout",
     "output_type": "stream",
     "text": [
      "Requirement already satisfied: minio in /opt/conda/lib/python3.11/site-packages (7.2.3)\r\n",
      "Requirement already satisfied: certifi in /opt/conda/lib/python3.11/site-packages (from minio) (2023.7.22)\r\n",
      "Requirement already satisfied: urllib3 in /opt/conda/lib/python3.11/site-packages (from minio) (1.26.18)\r\n",
      "Requirement already satisfied: argon2-cffi in /opt/conda/lib/python3.11/site-packages (from minio) (23.1.0)\r\n",
      "Requirement already satisfied: pycryptodome in /opt/conda/lib/python3.11/site-packages (from minio) (3.20.0)\r\n",
      "Requirement already satisfied: typing-extensions in /opt/conda/lib/python3.11/site-packages (from minio) (4.8.0)\r\n",
      "Requirement already satisfied: argon2-cffi-bindings in /opt/conda/lib/python3.11/site-packages (from argon2-cffi->minio) (21.2.0)\r\n"
     ]
    },
    {
     "name": "stdout",
     "output_type": "stream",
     "text": [
      "Requirement already satisfied: cffi>=1.0.1 in /opt/conda/lib/python3.11/site-packages (from argon2-cffi-bindings->argon2-cffi->minio) (1.16.0)\r\n",
      "Requirement already satisfied: pycparser in /opt/conda/lib/python3.11/site-packages (from cffi>=1.0.1->argon2-cffi-bindings->argon2-cffi->minio) (2.21)\r\n"
     ]
    }
   ],
   "source": [
    "!pip install minio"
   ]
  },
  {
   "cell_type": "markdown",
   "id": "2130c581-8955-452b-8468-bbdbe96926d5",
   "metadata": {
    "papermill": {
     "duration": 0.007778,
     "end_time": "2024-01-14T18:57:19.483164",
     "exception": false,
     "start_time": "2024-01-14T18:57:19.475386",
     "status": "completed"
    },
    "tags": []
   },
   "source": [
    "### Import das libs"
   ]
  },
  {
   "cell_type": "code",
   "execution_count": 2,
   "id": "2ad9f64f-84d2-4516-bf27-cd2727eb08dc",
   "metadata": {
    "execution": {
     "iopub.execute_input": "2024-01-14T18:57:19.498693Z",
     "iopub.status.busy": "2024-01-14T18:57:19.498379Z",
     "iopub.status.idle": "2024-01-14T18:57:20.139424Z",
     "shell.execute_reply": "2024-01-14T18:57:20.138635Z"
    },
    "papermill": {
     "duration": 0.650695,
     "end_time": "2024-01-14T18:57:20.140810",
     "exception": false,
     "start_time": "2024-01-14T18:57:19.490115",
     "status": "completed"
    },
    "tags": []
   },
   "outputs": [],
   "source": [
    "from pyspark.sql import SparkSession\n",
    "from minio import Minio, error\n",
    "from io import BytesIO\n",
    "from pyspark.sql.functions import col, max\n",
    "\n",
    "import os\n",
    "import pandas as pd\n",
    "import pyarrow.parquet as pq"
   ]
  },
  {
   "cell_type": "markdown",
   "id": "fbeff9c3-031c-42cb-bf70-31a96a98acbd",
   "metadata": {
    "papermill": {
     "duration": 0.00756,
     "end_time": "2024-01-14T18:57:20.153713",
     "exception": false,
     "start_time": "2024-01-14T18:57:20.146153",
     "status": "completed"
    },
    "tags": []
   },
   "source": [
    "### Definição de variáveis"
   ]
  },
  {
   "cell_type": "code",
   "execution_count": 3,
   "id": "acba31d1-8449-4b04-8bcc-342ee1a08f7d",
   "metadata": {
    "execution": {
     "iopub.execute_input": "2024-01-14T18:57:20.168737Z",
     "iopub.status.busy": "2024-01-14T18:57:20.168424Z",
     "iopub.status.idle": "2024-01-14T18:57:22.352193Z",
     "shell.execute_reply": "2024-01-14T18:57:22.351382Z"
    },
    "papermill": {
     "duration": 2.193331,
     "end_time": "2024-01-14T18:57:22.353719",
     "exception": false,
     "start_time": "2024-01-14T18:57:20.160388",
     "status": "completed"
    },
    "tags": []
   },
   "outputs": [],
   "source": [
    "# Sessão Spark\n",
    "spark = SparkSession.builder \\\n",
    "    .appName(\"CSV to PostgreSQL\") \\\n",
    "    .config(\"spark.driver.extraClassPath\", \"/home/jovyan/notebooks/jars/postgresql-42.6.0.jar\") \\\n",
    "    .config(\"spark.driver.memory\", \"4g\") \\\n",
    "    .config(\"spark.executor.memory\", \"4g\") \\\n",
    "    .getOrCreate()\n",
    "\n",
    "# Parametros de input e output das origens\n",
    "camadaLeitura= 'gold'\n",
    "pasta = 'matriculas/'\n",
    "temp_blobs = '/home/jovyan/notebooks/temporary_blobs/' # pasta temporária para armazenamento de objetos\n",
    "\n",
    "\n",
    "# Conexão ao miniIO\n",
    "minio_endpoint = 'minio:9000'\n",
    "minio_access_key = 'minioaccesskey'\n",
    "minio_secret_key = 'miniosecretkey'\n",
    "minio_object_name = pasta\n",
    "minio_client = Minio(minio_endpoint, access_key=minio_access_key, secret_key=minio_secret_key, secure=False)"
   ]
  },
  {
   "cell_type": "markdown",
   "id": "06db67d2-6ab5-4d46-9f52-264935b72300",
   "metadata": {
    "papermill": {
     "duration": 0.007406,
     "end_time": "2024-01-14T18:57:22.366089",
     "exception": false,
     "start_time": "2024-01-14T18:57:22.358683",
     "status": "completed"
    },
    "tags": []
   },
   "source": [
    "### Leitura da camada Gold"
   ]
  },
  {
   "cell_type": "code",
   "execution_count": 4,
   "id": "495e0f4f-cc20-4104-aba0-3656fc7b6755",
   "metadata": {
    "execution": {
     "iopub.execute_input": "2024-01-14T18:57:22.381223Z",
     "iopub.status.busy": "2024-01-14T18:57:22.380786Z",
     "iopub.status.idle": "2024-01-14T18:57:23.724517Z",
     "shell.execute_reply": "2024-01-14T18:57:23.723708Z"
    },
    "papermill": {
     "duration": 1.353179,
     "end_time": "2024-01-14T18:57:23.726017",
     "exception": false,
     "start_time": "2024-01-14T18:57:22.372838",
     "status": "completed"
    },
    "tags": []
   },
   "outputs": [
    {
     "name": "stdout",
     "output_type": "stream",
     "text": [
      "Objeto encontrado: matriculas/part-00000-82f45cc7-6969-4b4d-9696-8576f7a77370-c000.snappy.parquet\n"
     ]
    }
   ],
   "source": [
    "dataframes = []\n",
    "\n",
    "try:\n",
    "    # Listar objetos no bucket\n",
    "    objects = minio_client.list_objects(camadaLeitura, prefix=pasta, recursive=True)\n",
    "\n",
    "    # Iterar sobre os objetos na pasta específica\n",
    "    for obj in objects:\n",
    "        # Lê o conteúdo do objeto\n",
    "        content = minio_client.get_object(camadaLeitura, obj.object_name).read()\n",
    "        \n",
    "        # Lê o conteúdo do objeto Parquet usando pyarrow e converte para DataFrame Pandas\n",
    "        df_pandas = pq.read_table(BytesIO(content)).to_pandas()\n",
    "        \n",
    "        # Adiciona o DataFrame Pandas à lista de DataFrames\n",
    "        dataframes.append(df_pandas)\n",
    "        \n",
    "        print(f\"Objeto encontrado: {obj.object_name}\")\n",
    "except error.MinioException as e:\n",
    "    print(f\"Erro ao listar objetos: {e}\")\n",
    "\n",
    "# Concatena todos os DataFrames Pandas em um único DataFrame Pandas\n",
    "consolidated_df_pandas = pd.concat(dataframes, ignore_index=True)\n",
    "\n",
    "# Converte para DataFrame PySpark\n",
    "df_matriculas = spark.createDataFrame(consolidated_df_pandas)"
   ]
  },
  {
   "cell_type": "markdown",
   "id": "65d830ad-d39b-4d96-a14f-120a51403049",
   "metadata": {
    "papermill": {
     "duration": 0.007895,
     "end_time": "2024-01-14T18:57:23.739475",
     "exception": false,
     "start_time": "2024-01-14T18:57:23.731580",
     "status": "completed"
    },
    "tags": []
   },
   "source": [
    "### Gravação do dataframe em um diretório temporário"
   ]
  },
  {
   "cell_type": "code",
   "execution_count": 5,
   "id": "b91c4109-f5ff-4555-a0fb-f3bd995cb768",
   "metadata": {
    "execution": {
     "iopub.execute_input": "2024-01-14T18:57:23.756431Z",
     "iopub.status.busy": "2024-01-14T18:57:23.755910Z",
     "iopub.status.idle": "2024-01-14T18:57:26.969396Z",
     "shell.execute_reply": "2024-01-14T18:57:26.968636Z"
    },
    "papermill": {
     "duration": 3.223921,
     "end_time": "2024-01-14T18:57:26.970958",
     "exception": false,
     "start_time": "2024-01-14T18:57:23.747037",
     "status": "completed"
    },
    "tags": []
   },
   "outputs": [],
   "source": [
    "df_matriculas.write.parquet(temp_blobs, mode=\"overwrite\")"
   ]
  },
  {
   "cell_type": "markdown",
   "id": "58a5dc15-c2bb-4ec0-9873-7e60959cac01",
   "metadata": {
    "papermill": {
     "duration": 0.007404,
     "end_time": "2024-01-14T18:57:26.983198",
     "exception": false,
     "start_time": "2024-01-14T18:57:26.975794",
     "status": "completed"
    },
    "tags": []
   },
   "source": [
    "### Gravação no DW"
   ]
  },
  {
   "cell_type": "code",
   "execution_count": 6,
   "id": "e582fbca-0fc4-4d22-874b-fc0ac0f70473",
   "metadata": {
    "execution": {
     "iopub.execute_input": "2024-01-14T18:57:26.998449Z",
     "iopub.status.busy": "2024-01-14T18:57:26.998219Z",
     "iopub.status.idle": "2024-01-14T18:57:28.986414Z",
     "shell.execute_reply": "2024-01-14T18:57:28.985625Z"
    },
    "papermill": {
     "duration": 1.998106,
     "end_time": "2024-01-14T18:57:28.988262",
     "exception": false,
     "start_time": "2024-01-14T18:57:26.990156",
     "status": "completed"
    },
    "tags": []
   },
   "outputs": [
    {
     "name": "stdout",
     "output_type": "stream",
     "text": [
      "Dados inseridos no banco de dados!\n"
     ]
    }
   ],
   "source": [
    "df_matriculas = spark.read.parquet(temp_blobs, header=True)\n",
    "\n",
    "postgres_url = \"jdbc:postgresql://postgres:5432/prova\"\n",
    "postgres_properties = {\n",
    "    \"user\": \"postgres\",\n",
    "    \"password\": \"password\",\n",
    "    \"driver\": \"org.postgresql.Driver\"\n",
    "}\n",
    "\n",
    "postgres_table = \"dim_matriculas\"\n",
    "\n",
    "\n",
    "df_matriculas.write \\\n",
    "    .format(\"jdbc\") \\\n",
    "    .option(\"url\", postgres_url) \\\n",
    "    .option(\"dbtable\", postgres_table) \\\n",
    "    .option(\"user\", postgres_properties[\"user\"]) \\\n",
    "    .option(\"password\", postgres_properties[\"password\"]) \\\n",
    "    .option(\"driver\", postgres_properties[\"driver\"]) \\\n",
    "    .mode(\"overwrite\") \\\n",
    "    .save()\n",
    "\n",
    "print('Dados inseridos no banco de dados!')"
   ]
  },
  {
   "cell_type": "markdown",
   "id": "7f9ea365-630c-4c8a-ae7c-39f85b8ec29a",
   "metadata": {
    "papermill": {
     "duration": 0.00805,
     "end_time": "2024-01-14T18:57:29.002362",
     "exception": false,
     "start_time": "2024-01-14T18:57:28.994312",
     "status": "completed"
    },
    "tags": []
   },
   "source": [
    "### Remove dados do diretório temporário de blobs"
   ]
  },
  {
   "cell_type": "code",
   "execution_count": 7,
   "id": "7d522f0d-4da5-430f-9bfd-65891f4a6dbb",
   "metadata": {
    "execution": {
     "iopub.execute_input": "2024-01-14T18:57:29.019257Z",
     "iopub.status.busy": "2024-01-14T18:57:29.018577Z",
     "iopub.status.idle": "2024-01-14T18:57:29.152083Z",
     "shell.execute_reply": "2024-01-14T18:57:29.151370Z"
    },
    "papermill": {
     "duration": 0.143802,
     "end_time": "2024-01-14T18:57:29.153401",
     "exception": false,
     "start_time": "2024-01-14T18:57:29.009599",
     "status": "completed"
    },
    "tags": []
   },
   "outputs": [
    {
     "name": "stdout",
     "output_type": "stream",
     "text": [
      "/home/jovyan/notebooks/_temporary_blobs/.part-00000-dfd62ef9-8bf6-4f04-b2a5-f89b52308134-c000.snappy.parquet.crc deletado com sucesso.\n",
      "/home/jovyan/notebooks/_temporary_blobs/.part-00001-dfd62ef9-8bf6-4f04-b2a5-f89b52308134-c000.snappy.parquet.crc deletado com sucesso.\n",
      "/home/jovyan/notebooks/_temporary_blobs/.part-00002-dfd62ef9-8bf6-4f04-b2a5-f89b52308134-c000.snappy.parquet.crc deletado com sucesso.\n",
      "/home/jovyan/notebooks/_temporary_blobs/.part-00003-dfd62ef9-8bf6-4f04-b2a5-f89b52308134-c000.snappy.parquet.crc deletado com sucesso.\n",
      "/home/jovyan/notebooks/_temporary_blobs/.part-00004-dfd62ef9-8bf6-4f04-b2a5-f89b52308134-c000.snappy.parquet.crc deletado com sucesso.\n",
      "/home/jovyan/notebooks/_temporary_blobs/.part-00005-dfd62ef9-8bf6-4f04-b2a5-f89b52308134-c000.snappy.parquet.crc deletado com sucesso.\n",
      "/home/jovyan/notebooks/_temporary_blobs/.part-00006-dfd62ef9-8bf6-4f04-b2a5-f89b52308134-c000.snappy.parquet.crc deletado com sucesso.\n",
      "/home/jovyan/notebooks/_temporary_blobs/.part-00007-dfd62ef9-8bf6-4f04-b2a5-f89b52308134-c000.snappy.parquet.crc deletado com sucesso.\n",
      "/home/jovyan/notebooks/_temporary_blobs/.part-00008-dfd62ef9-8bf6-4f04-b2a5-f89b52308134-c000.snappy.parquet.crc deletado com sucesso.\n",
      "/home/jovyan/notebooks/_temporary_blobs/.part-00009-dfd62ef9-8bf6-4f04-b2a5-f89b52308134-c000.snappy.parquet.crc deletado com sucesso.\n",
      "/home/jovyan/notebooks/_temporary_blobs/.part-00010-dfd62ef9-8bf6-4f04-b2a5-f89b52308134-c000.snappy.parquet.crc deletado com sucesso.\n",
      "/home/jovyan/notebooks/_temporary_blobs/.part-00011-dfd62ef9-8bf6-4f04-b2a5-f89b52308134-c000.snappy.parquet.crc deletado com sucesso.\n",
      "/home/jovyan/notebooks/_temporary_blobs/._SUCCESS.crc deletado com sucesso.\n",
      "/home/jovyan/notebooks/_temporary_blobs/part-00000-dfd62ef9-8bf6-4f04-b2a5-f89b52308134-c000.snappy.parquet deletado com sucesso.\n",
      "/home/jovyan/notebooks/_temporary_blobs/part-00001-dfd62ef9-8bf6-4f04-b2a5-f89b52308134-c000.snappy.parquet deletado com sucesso.\n",
      "/home/jovyan/notebooks/_temporary_blobs/part-00002-dfd62ef9-8bf6-4f04-b2a5-f89b52308134-c000.snappy.parquet deletado com sucesso.\n",
      "/home/jovyan/notebooks/_temporary_blobs/part-00003-dfd62ef9-8bf6-4f04-b2a5-f89b52308134-c000.snappy.parquet deletado com sucesso.\n",
      "/home/jovyan/notebooks/_temporary_blobs/part-00004-dfd62ef9-8bf6-4f04-b2a5-f89b52308134-c000.snappy.parquet deletado com sucesso.\n",
      "/home/jovyan/notebooks/_temporary_blobs/part-00005-dfd62ef9-8bf6-4f04-b2a5-f89b52308134-c000.snappy.parquet deletado com sucesso.\n",
      "/home/jovyan/notebooks/_temporary_blobs/part-00006-dfd62ef9-8bf6-4f04-b2a5-f89b52308134-c000.snappy.parquet deletado com sucesso.\n",
      "/home/jovyan/notebooks/_temporary_blobs/part-00007-dfd62ef9-8bf6-4f04-b2a5-f89b52308134-c000.snappy.parquet deletado com sucesso.\n",
      "/home/jovyan/notebooks/_temporary_blobs/part-00008-dfd62ef9-8bf6-4f04-b2a5-f89b52308134-c000.snappy.parquet deletado com sucesso.\n",
      "/home/jovyan/notebooks/_temporary_blobs/part-00009-dfd62ef9-8bf6-4f04-b2a5-f89b52308134-c000.snappy.parquet deletado com sucesso.\n",
      "/home/jovyan/notebooks/_temporary_blobs/part-00010-dfd62ef9-8bf6-4f04-b2a5-f89b52308134-c000.snappy.parquet deletado com sucesso.\n",
      "/home/jovyan/notebooks/_temporary_blobs/part-00011-dfd62ef9-8bf6-4f04-b2a5-f89b52308134-c000.snappy.parquet deletado com sucesso.\n",
      "/home/jovyan/notebooks/_temporary_blobs/_SUCCESS deletado com sucesso.\n"
     ]
    }
   ],
   "source": [
    "# Liste todos os arquivos na pasta\n",
    "arquivos_na_pasta = os.listdir(temp_blobs)\n",
    "\n",
    "# Itere sobre os arquivos e os delete\n",
    "for arquivo in arquivos_na_pasta:\n",
    "    caminho_completo = os.path.join(temp_blobs, arquivo)\n",
    "    try:\n",
    "        if os.path.isfile(caminho_completo):\n",
    "            os.remove(caminho_completo)\n",
    "            print(f'{caminho_completo} deletado com sucesso.')\n",
    "    except Exception as e:\n",
    "        print(f'Erro ao deletar {caminho_completo}: {e}')\n",
    "        \n",
    "spark.stop()"
   ]
  }
 ],
 "metadata": {
  "kernelspec": {
   "display_name": "Python 3 (ipykernel)",
   "language": "python",
   "name": "python3"
  },
  "language_info": {
   "codemirror_mode": {
    "name": "ipython",
    "version": 3
   },
   "file_extension": ".py",
   "mimetype": "text/x-python",
   "name": "python",
   "nbconvert_exporter": "python",
   "pygments_lexer": "ipython3",
   "version": "3.11.6"
  },
  "papermill": {
   "default_parameters": {},
   "duration": 15.549799,
   "end_time": "2024-01-14T18:57:31.775307",
   "environment_variables": {},
   "exception": null,
   "input_path": "/home/jovyan/notebooks/dataset_matriculas/4_gold_dw_matriculas/4_gold_dw_matriculas.ipynb",
   "output_path": "/home/jovyan/notebooks/dataset_matriculas/4_gold_dw_matriculas/4_gold_dw_matriculas.ipynb",
   "parameters": {},
   "start_time": "2024-01-14T18:57:16.225508",
   "version": "2.5.0"
  }
 },
 "nbformat": 4,
 "nbformat_minor": 5
}
