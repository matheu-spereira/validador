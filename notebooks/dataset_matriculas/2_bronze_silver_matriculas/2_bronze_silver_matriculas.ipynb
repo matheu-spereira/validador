{
 "cells": [
  {
   "cell_type": "markdown",
   "id": "b0e7bb34-cd8b-44a0-9f31-96ea25b92f97",
   "metadata": {
    "papermill": {
     "duration": 0.009299,
     "end_time": "2024-01-14T18:56:46.040641",
     "exception": false,
     "start_time": "2024-01-14T18:56:46.031342",
     "status": "completed"
    },
    "tags": []
   },
   "source": [
    "## Objetivo do notebook\n",
    "#### O objetivo deste notebook é realizar a leitura de dados das origens do dataset matrículas na camada bronze e gravar de forma versionada na camada silver\n"
   ]
  },
  {
   "cell_type": "markdown",
   "id": "bdc6fc1b-5d00-421c-a512-fd85d0f35a8c",
   "metadata": {
    "papermill": {
     "duration": 0.007444,
     "end_time": "2024-01-14T18:56:46.055870",
     "exception": false,
     "start_time": "2024-01-14T18:56:46.048426",
     "status": "completed"
    },
    "tags": []
   },
   "source": [
    "### Import Libs"
   ]
  },
  {
   "cell_type": "code",
   "execution_count": 1,
   "id": "942dde0f-19c6-4ad1-8326-4441ac5e24a6",
   "metadata": {
    "execution": {
     "iopub.execute_input": "2024-01-14T18:56:46.071833Z",
     "iopub.status.busy": "2024-01-14T18:56:46.071584Z",
     "iopub.status.idle": "2024-01-14T18:56:48.587297Z",
     "shell.execute_reply": "2024-01-14T18:56:48.585873Z"
    },
    "papermill": {
     "duration": 2.526109,
     "end_time": "2024-01-14T18:56:48.589009",
     "exception": false,
     "start_time": "2024-01-14T18:56:46.062900",
     "status": "completed"
    },
    "tags": []
   },
   "outputs": [
    {
     "name": "stdout",
     "output_type": "stream",
     "text": [
      "Requirement already satisfied: minio in /opt/conda/lib/python3.11/site-packages (7.2.3)\r\n",
      "Requirement already satisfied: certifi in /opt/conda/lib/python3.11/site-packages (from minio) (2023.7.22)\r\n",
      "Requirement already satisfied: urllib3 in /opt/conda/lib/python3.11/site-packages (from minio) (1.26.18)\r\n",
      "Requirement already satisfied: argon2-cffi in /opt/conda/lib/python3.11/site-packages (from minio) (23.1.0)\r\n",
      "Requirement already satisfied: pycryptodome in /opt/conda/lib/python3.11/site-packages (from minio) (3.20.0)\r\n",
      "Requirement already satisfied: typing-extensions in /opt/conda/lib/python3.11/site-packages (from minio) (4.8.0)\r\n"
     ]
    },
    {
     "name": "stdout",
     "output_type": "stream",
     "text": [
      "Requirement already satisfied: argon2-cffi-bindings in /opt/conda/lib/python3.11/site-packages (from argon2-cffi->minio) (21.2.0)\r\n",
      "Requirement already satisfied: cffi>=1.0.1 in /opt/conda/lib/python3.11/site-packages (from argon2-cffi-bindings->argon2-cffi->minio) (1.16.0)\r\n",
      "Requirement already satisfied: pycparser in /opt/conda/lib/python3.11/site-packages (from cffi>=1.0.1->argon2-cffi-bindings->argon2-cffi->minio) (2.21)\r\n"
     ]
    }
   ],
   "source": [
    "!pip install minio"
   ]
  },
  {
   "cell_type": "code",
   "execution_count": 2,
   "id": "3f09124d-a137-4fbf-8ebe-d6d44e13083a",
   "metadata": {
    "execution": {
     "iopub.execute_input": "2024-01-14T18:56:48.602843Z",
     "iopub.status.busy": "2024-01-14T18:56:48.602577Z",
     "iopub.status.idle": "2024-01-14T18:56:49.256675Z",
     "shell.execute_reply": "2024-01-14T18:56:49.255876Z"
    },
    "papermill": {
     "duration": 0.664259,
     "end_time": "2024-01-14T18:56:49.258134",
     "exception": false,
     "start_time": "2024-01-14T18:56:48.593875",
     "status": "completed"
    },
    "tags": []
   },
   "outputs": [],
   "source": [
    "from pyspark.sql import SparkSession\n",
    "from datetime import datetime\n",
    "from minio import Minio\n",
    "from pyspark.sql.functions import to_date,isnan,col, lit, when\n",
    "from io import BytesIO\n",
    "\n",
    "import os\n",
    "import pandas as pd\n",
    "import glob\n",
    "import pyarrow.parquet as pq"
   ]
  },
  {
   "cell_type": "markdown",
   "id": "6380eb08-1880-49d2-bb20-ec359c8bc60e",
   "metadata": {
    "papermill": {
     "duration": 0.007246,
     "end_time": "2024-01-14T18:56:49.270299",
     "exception": false,
     "start_time": "2024-01-14T18:56:49.263053",
     "status": "completed"
    },
    "tags": []
   },
   "source": [
    "### Definição de variáveis"
   ]
  },
  {
   "cell_type": "code",
   "execution_count": 3,
   "id": "2849a6c2-22fe-47df-84db-cbfb4b06075b",
   "metadata": {
    "execution": {
     "iopub.execute_input": "2024-01-14T18:56:49.285135Z",
     "iopub.status.busy": "2024-01-14T18:56:49.284835Z",
     "iopub.status.idle": "2024-01-14T18:56:51.460567Z",
     "shell.execute_reply": "2024-01-14T18:56:51.459781Z"
    },
    "papermill": {
     "duration": 2.185181,
     "end_time": "2024-01-14T18:56:51.462104",
     "exception": false,
     "start_time": "2024-01-14T18:56:49.276923",
     "status": "completed"
    },
    "tags": []
   },
   "outputs": [],
   "source": [
    "# Sessão Spark\n",
    "spark = SparkSession.builder.getOrCreate()\n",
    "\n",
    "# Parametros de input e output das origens\n",
    "camadaLeitura = 'bronze'\n",
    "camadaEscrita = 'silver'\n",
    "pasta = 'matriculas'\n",
    "temp_blobs = '/home/jovyan/notebooks/temporary_blobs/' # pasta temporária para armazenamento de objetos\n",
    "\n",
    "# Conexão ao miniIO\n",
    "minio_endpoint = 'minio:9000'\n",
    "minio_access_key = 'minioaccesskey'\n",
    "minio_secret_key = 'miniosecretkey'\n",
    "minio_client = Minio(minio_endpoint, access_key=minio_access_key, secret_key=minio_secret_key, secure=False)\n",
    "\n",
    "# Definição de variáveis para versionamento dos dados na camada bronze\n",
    "timestamp = datetime.today().strftime('%Y%m%d')\n",
    "minio_path = f'{pasta}/{pasta + timestamp}'"
   ]
  },
  {
   "cell_type": "markdown",
   "id": "457c9954-f7a1-44b6-b93e-86feb9ffeadf",
   "metadata": {
    "papermill": {
     "duration": 0.008284,
     "end_time": "2024-01-14T18:56:51.474967",
     "exception": false,
     "start_time": "2024-01-14T18:56:51.466683",
     "status": "completed"
    },
    "tags": []
   },
   "source": [
    "### Leitura da camada Bronze"
   ]
  },
  {
   "cell_type": "code",
   "execution_count": 4,
   "id": "cc75659e-dff9-46a6-ad37-e82cfa029f45",
   "metadata": {
    "execution": {
     "iopub.execute_input": "2024-01-14T18:56:51.492079Z",
     "iopub.status.busy": "2024-01-14T18:56:51.491444Z",
     "iopub.status.idle": "2024-01-14T18:56:53.243672Z",
     "shell.execute_reply": "2024-01-14T18:56:53.242946Z"
    },
    "papermill": {
     "duration": 1.762453,
     "end_time": "2024-01-14T18:56:53.245166",
     "exception": false,
     "start_time": "2024-01-14T18:56:51.482713",
     "status": "completed"
    },
    "tags": []
   },
   "outputs": [
    {
     "name": "stdout",
     "output_type": "stream",
     "text": [
      "Objeto encontrado: matriculas / matriculas20240114/part-00000-0a1d2a99-7c14-4def-9113-3bfb2f03f76f-c000.snappy.parquet\n",
      "Objeto encontrado: matriculas / matriculas20240114/part-00000-124a1528-7c79-4dc8-a54d-ab1dd2d4e2ef-c000.snappy.parquet\n",
      "Objeto encontrado: matriculas / matriculas20240114/part-00000-fd5de2c1-cfdd-4dce-823b-2180c4ac8e51-c000.snappy.parquet\n",
      "Objeto encontrado: matriculas / matriculas20240114/part-00001-0a1d2a99-7c14-4def-9113-3bfb2f03f76f-c000.snappy.parquet\n",
      "Objeto encontrado: matriculas / matriculas20240114/part-00001-124a1528-7c79-4dc8-a54d-ab1dd2d4e2ef-c000.snappy.parquet\n",
      "Objeto encontrado: matriculas / matriculas20240114/part-00001-fd5de2c1-cfdd-4dce-823b-2180c4ac8e51-c000.snappy.parquet\n",
      "Objeto encontrado: matriculas / matriculas20240114/part-00002-0a1d2a99-7c14-4def-9113-3bfb2f03f76f-c000.snappy.parquet\n",
      "Objeto encontrado: matriculas / matriculas20240114/part-00002-124a1528-7c79-4dc8-a54d-ab1dd2d4e2ef-c000.snappy.parquet\n",
      "Objeto encontrado: matriculas / matriculas20240114/part-00002-fd5de2c1-cfdd-4dce-823b-2180c4ac8e51-c000.snappy.parquet\n",
      "Objeto encontrado: matriculas / matriculas20240114/part-00003-0a1d2a99-7c14-4def-9113-3bfb2f03f76f-c000.snappy.parquet\n",
      "Objeto encontrado: matriculas / matriculas20240114/part-00003-124a1528-7c79-4dc8-a54d-ab1dd2d4e2ef-c000.snappy.parquet\n",
      "Objeto encontrado: matriculas / matriculas20240114/part-00003-fd5de2c1-cfdd-4dce-823b-2180c4ac8e51-c000.snappy.parquet\n",
      "Objeto encontrado: matriculas / matriculas20240114/part-00004-0a1d2a99-7c14-4def-9113-3bfb2f03f76f-c000.snappy.parquet\n",
      "Objeto encontrado: matriculas / matriculas20240114/part-00004-124a1528-7c79-4dc8-a54d-ab1dd2d4e2ef-c000.snappy.parquet\n",
      "Objeto encontrado: matriculas / matriculas20240114/part-00004-fd5de2c1-cfdd-4dce-823b-2180c4ac8e51-c000.snappy.parquet\n",
      "Objeto encontrado: matriculas / matriculas20240114/part-00005-0a1d2a99-7c14-4def-9113-3bfb2f03f76f-c000.snappy.parquet\n",
      "Objeto encontrado: matriculas / matriculas20240114/part-00005-124a1528-7c79-4dc8-a54d-ab1dd2d4e2ef-c000.snappy.parquet\n",
      "Objeto encontrado: matriculas / matriculas20240114/part-00005-fd5de2c1-cfdd-4dce-823b-2180c4ac8e51-c000.snappy.parquet\n",
      "Objeto encontrado: matriculas / matriculas20240114/part-00006-0a1d2a99-7c14-4def-9113-3bfb2f03f76f-c000.snappy.parquet\n",
      "Objeto encontrado: matriculas / matriculas20240114/part-00006-124a1528-7c79-4dc8-a54d-ab1dd2d4e2ef-c000.snappy.parquet\n",
      "Objeto encontrado: matriculas / matriculas20240114/part-00006-fd5de2c1-cfdd-4dce-823b-2180c4ac8e51-c000.snappy.parquet\n",
      "Objeto encontrado: matriculas / matriculas20240114/part-00007-0a1d2a99-7c14-4def-9113-3bfb2f03f76f-c000.snappy.parquet\n",
      "Objeto encontrado: matriculas / matriculas20240114/part-00007-124a1528-7c79-4dc8-a54d-ab1dd2d4e2ef-c000.snappy.parquet\n",
      "Objeto encontrado: matriculas / matriculas20240114/part-00007-fd5de2c1-cfdd-4dce-823b-2180c4ac8e51-c000.snappy.parquet\n",
      "Objeto encontrado: matriculas / matriculas20240114/part-00008-0a1d2a99-7c14-4def-9113-3bfb2f03f76f-c000.snappy.parquet\n",
      "Objeto encontrado: matriculas / matriculas20240114/part-00008-124a1528-7c79-4dc8-a54d-ab1dd2d4e2ef-c000.snappy.parquet\n",
      "Objeto encontrado: matriculas / matriculas20240114/part-00008-fd5de2c1-cfdd-4dce-823b-2180c4ac8e51-c000.snappy.parquet\n",
      "Objeto encontrado: matriculas / matriculas20240114/part-00009-0a1d2a99-7c14-4def-9113-3bfb2f03f76f-c000.snappy.parquet\n",
      "Objeto encontrado: matriculas / matriculas20240114/part-00009-124a1528-7c79-4dc8-a54d-ab1dd2d4e2ef-c000.snappy.parquet\n",
      "Objeto encontrado: matriculas / matriculas20240114/part-00009-fd5de2c1-cfdd-4dce-823b-2180c4ac8e51-c000.snappy.parquet\n",
      "Objeto encontrado: matriculas / matriculas20240114/part-00010-0a1d2a99-7c14-4def-9113-3bfb2f03f76f-c000.snappy.parquet\n",
      "Objeto encontrado: matriculas / matriculas20240114/part-00010-124a1528-7c79-4dc8-a54d-ab1dd2d4e2ef-c000.snappy.parquet\n",
      "Objeto encontrado: matriculas / matriculas20240114/part-00010-fd5de2c1-cfdd-4dce-823b-2180c4ac8e51-c000.snappy.parquet\n",
      "Objeto encontrado: matriculas / matriculas20240114/part-00011-0a1d2a99-7c14-4def-9113-3bfb2f03f76f-c000.snappy.parquet\n",
      "Objeto encontrado: matriculas / matriculas20240114/part-00011-124a1528-7c79-4dc8-a54d-ab1dd2d4e2ef-c000.snappy.parquet\n",
      "Objeto encontrado: matriculas / matriculas20240114/part-00011-fd5de2c1-cfdd-4dce-823b-2180c4ac8e51-c000.snappy.parquet\n"
     ]
    }
   ],
   "source": [
    "dataframes = []\n",
    "\n",
    "try:\n",
    "    # Lista objetos no bucket\n",
    "    objects = minio_client.list_objects(camadaLeitura, prefix=pasta, recursive=True)\n",
    "\n",
    "    # Itera sobre os objetos na pasta\n",
    "    for obj in objects:\n",
    "        # Lê o conteúdo do objeto\n",
    "        content = minio_client.get_object(camadaLeitura, obj.object_name).read()\n",
    "        \n",
    "        # Lê o conteúdo do objeto Parquet usando pyarrow e converte para DataFrame Pandas\n",
    "        df_pandas = pq.read_table(BytesIO(content)).to_pandas()\n",
    "        \n",
    "        # Adiciona o DataFrame Pandas à lista de DataFrames\n",
    "        dataframes.append(df_pandas)\n",
    "        \n",
    "        print(f\"Objeto encontrado: {obj.object_name}\")\n",
    "except error.MinioException as e:\n",
    "    print(f\"Erro ao listar objetos: {e}\")\n",
    "\n",
    "# Concatena todos os DataFrames Pandas em um único DataFrame Pandas\n",
    "consolidated_df_pandas = pd.concat(dataframes, ignore_index=True)\n",
    "\n",
    "# Converte para DataFrame PySpark\n",
    "df_matriculas = spark.createDataFrame(consolidated_df_pandas)"
   ]
  },
  {
   "cell_type": "markdown",
   "id": "02f1a9cd-cefd-4459-bc3a-f1ae1e25ae84",
   "metadata": {
    "papermill": {
     "duration": 0.007296,
     "end_time": "2024-01-14T18:56:53.256767",
     "exception": false,
     "start_time": "2024-01-14T18:56:53.249471",
     "status": "completed"
    },
    "tags": []
   },
   "source": [
    "### Tratamento dos dados"
   ]
  },
  {
   "cell_type": "code",
   "execution_count": 5,
   "id": "38440ed2-bdbd-4c08-867e-ee99f8dcb698",
   "metadata": {
    "execution": {
     "iopub.execute_input": "2024-01-14T18:56:53.271459Z",
     "iopub.status.busy": "2024-01-14T18:56:53.271138Z",
     "iopub.status.idle": "2024-01-14T18:56:53.373382Z",
     "shell.execute_reply": "2024-01-14T18:56:53.372583Z"
    },
    "papermill": {
     "duration": 0.111339,
     "end_time": "2024-01-14T18:56:53.374818",
     "exception": false,
     "start_time": "2024-01-14T18:56:53.263479",
     "status": "completed"
    },
    "tags": []
   },
   "outputs": [],
   "source": [
    "df_matriculas = df_matriculas.select(\n",
    "    'id_matricula',\n",
    "    'id_turma',\n",
    "    'id_aluno',\n",
    "     # Tipagem da coluna data_matricula\n",
    "     to_date('data_matricula').alias('data_matricula'),\n",
    "     # Preenche valores nulos de situação de matrícula\n",
    "     when(col('situacao') == \"NaN\", lit(\"Sem informação\")).otherwise(col('situacao')).alias('situacao'),\n",
    "     # Tipagem da coluna data_situacao\n",
    "     to_date('data_situacao').alias('data_situacao'),\n",
    "     'etl_date'\n",
    ")"
   ]
  },
  {
   "cell_type": "markdown",
   "id": "b3a3f2bc-c574-4c71-a572-2d692974052f",
   "metadata": {
    "papermill": {
     "duration": 0.00714,
     "end_time": "2024-01-14T18:56:53.386541",
     "exception": false,
     "start_time": "2024-01-14T18:56:53.379401",
     "status": "completed"
    },
    "tags": []
   },
   "source": [
    "### Gravação do dataframe em um diretório temporário"
   ]
  },
  {
   "cell_type": "code",
   "execution_count": 6,
   "id": "2d18424f-56d6-40f7-85be-918f8b48b55e",
   "metadata": {
    "execution": {
     "iopub.execute_input": "2024-01-14T18:56:53.401329Z",
     "iopub.status.busy": "2024-01-14T18:56:53.401094Z",
     "iopub.status.idle": "2024-01-14T18:56:56.675781Z",
     "shell.execute_reply": "2024-01-14T18:56:56.674710Z"
    },
    "papermill": {
     "duration": 3.284312,
     "end_time": "2024-01-14T18:56:56.677658",
     "exception": false,
     "start_time": "2024-01-14T18:56:53.393346",
     "status": "completed"
    },
    "tags": []
   },
   "outputs": [],
   "source": [
    "df_matriculas.write.parquet(temp_blobs, mode=\"overwrite\")"
   ]
  },
  {
   "cell_type": "markdown",
   "id": "55952c6d-db81-487d-bfe5-09ad180fe3f0",
   "metadata": {
    "papermill": {
     "duration": 0.007772,
     "end_time": "2024-01-14T18:56:56.691673",
     "exception": false,
     "start_time": "2024-01-14T18:56:56.683901",
     "status": "completed"
    },
    "tags": []
   },
   "source": [
    "### Gravação na camada Silver"
   ]
  },
  {
   "cell_type": "code",
   "execution_count": 7,
   "id": "5a3624f4-76bc-4757-8371-4a7249b75697",
   "metadata": {
    "execution": {
     "iopub.execute_input": "2024-01-14T18:56:56.708117Z",
     "iopub.status.busy": "2024-01-14T18:56:56.707725Z",
     "iopub.status.idle": "2024-01-14T18:56:56.882166Z",
     "shell.execute_reply": "2024-01-14T18:56:56.881411Z"
    },
    "papermill": {
     "duration": 0.184526,
     "end_time": "2024-01-14T18:56:56.883415",
     "exception": false,
     "start_time": "2024-01-14T18:56:56.698889",
     "status": "completed"
    },
    "tags": []
   },
   "outputs": [
    {
     "name": "stdout",
     "output_type": "stream",
     "text": [
      "Arquivo 'part-00000-e5c1a6a4-88f2-4279-ba86-90f74277f819-c000.snappy.parquet' enviado com sucesso para o MinIO em 'matriculas/matriculas20240114/part-00000-e5c1a6a4-88f2-4279-ba86-90f74277f819-c000.snappy.parquet'.\n",
      "Arquivo 'part-00001-e5c1a6a4-88f2-4279-ba86-90f74277f819-c000.snappy.parquet' enviado com sucesso para o MinIO em 'matriculas/matriculas20240114/part-00001-e5c1a6a4-88f2-4279-ba86-90f74277f819-c000.snappy.parquet'.\n",
      "Arquivo 'part-00002-e5c1a6a4-88f2-4279-ba86-90f74277f819-c000.snappy.parquet' enviado com sucesso para o MinIO em 'matriculas/matriculas20240114/part-00002-e5c1a6a4-88f2-4279-ba86-90f74277f819-c000.snappy.parquet'.\n",
      "Arquivo 'part-00003-e5c1a6a4-88f2-4279-ba86-90f74277f819-c000.snappy.parquet' enviado com sucesso para o MinIO em 'matriculas/matriculas20240114/part-00003-e5c1a6a4-88f2-4279-ba86-90f74277f819-c000.snappy.parquet'.\n",
      "Arquivo 'part-00004-e5c1a6a4-88f2-4279-ba86-90f74277f819-c000.snappy.parquet' enviado com sucesso para o MinIO em 'matriculas/matriculas20240114/part-00004-e5c1a6a4-88f2-4279-ba86-90f74277f819-c000.snappy.parquet'.\n",
      "Arquivo 'part-00005-e5c1a6a4-88f2-4279-ba86-90f74277f819-c000.snappy.parquet' enviado com sucesso para o MinIO em 'matriculas/matriculas20240114/part-00005-e5c1a6a4-88f2-4279-ba86-90f74277f819-c000.snappy.parquet'.\n",
      "Arquivo 'part-00006-e5c1a6a4-88f2-4279-ba86-90f74277f819-c000.snappy.parquet' enviado com sucesso para o MinIO em 'matriculas/matriculas20240114/part-00006-e5c1a6a4-88f2-4279-ba86-90f74277f819-c000.snappy.parquet'.\n",
      "Arquivo 'part-00007-e5c1a6a4-88f2-4279-ba86-90f74277f819-c000.snappy.parquet' enviado com sucesso para o MinIO em 'matriculas/matriculas20240114/part-00007-e5c1a6a4-88f2-4279-ba86-90f74277f819-c000.snappy.parquet'.\n",
      "Arquivo 'part-00008-e5c1a6a4-88f2-4279-ba86-90f74277f819-c000.snappy.parquet' enviado com sucesso para o MinIO em 'matriculas/matriculas20240114/part-00008-e5c1a6a4-88f2-4279-ba86-90f74277f819-c000.snappy.parquet'.\n",
      "Arquivo 'part-00009-e5c1a6a4-88f2-4279-ba86-90f74277f819-c000.snappy.parquet' enviado com sucesso para o MinIO em 'matriculas/matriculas20240114/part-00009-e5c1a6a4-88f2-4279-ba86-90f74277f819-c000.snappy.parquet'.\n",
      "Arquivo 'part-00010-e5c1a6a4-88f2-4279-ba86-90f74277f819-c000.snappy.parquet' enviado com sucesso para o MinIO em 'matriculas/matriculas20240114/part-00010-e5c1a6a4-88f2-4279-ba86-90f74277f819-c000.snappy.parquet'.\n",
      "Arquivo 'part-00011-e5c1a6a4-88f2-4279-ba86-90f74277f819-c000.snappy.parquet' enviado com sucesso para o MinIO em 'matriculas/matriculas20240114/part-00011-e5c1a6a4-88f2-4279-ba86-90f74277f819-c000.snappy.parquet'.\n"
     ]
    }
   ],
   "source": [
    "# Recria bucket caso não exista\n",
    "if not minio_client.bucket_exists(camadaEscrita):\n",
    "    minio_client.make_bucket(camadaEscrita)\n",
    "\n",
    "# Lista todos os arquivos Parquet no diretório temporário de blobs\n",
    "arquivos_parquet = glob.glob(os.path.join(temp_blobs, '*.parquet'))\n",
    "\n",
    "# Itera sobre a lista de arquivos Parquet e envia cada um para o MinIO\n",
    "for arquivo_parquet in arquivos_parquet:\n",
    "    try:\n",
    "        # Envia o arquivo para a camada bronze\n",
    "        nome_arquivo = os.path.basename(arquivo_parquet)\n",
    "        minio_client.fput_object(camadaEscrita, os.path.join(minio_path, nome_arquivo), arquivo_parquet)\n",
    "        print(f\"Arquivo '{nome_arquivo}' enviado com sucesso para o MinIO em '{os.path.join(minio_path, nome_arquivo)}'.\")\n",
    "    except S3Error as e:\n",
    "        print(f\"Erro ao enviar o arquivo para o MinIO: {e}\")"
   ]
  },
  {
   "cell_type": "markdown",
   "id": "adb7df5d-ec09-4162-b667-67228d42d4ec",
   "metadata": {
    "papermill": {
     "duration": 0.007033,
     "end_time": "2024-01-14T18:56:56.895200",
     "exception": false,
     "start_time": "2024-01-14T18:56:56.888167",
     "status": "completed"
    },
    "tags": []
   },
   "source": [
    "### Remove dados do diretório temporário de blobs"
   ]
  },
  {
   "cell_type": "code",
   "execution_count": 8,
   "id": "a9373d36-1d90-45ab-bcf8-6c7cae5daffc",
   "metadata": {
    "execution": {
     "iopub.execute_input": "2024-01-14T18:56:56.910184Z",
     "iopub.status.busy": "2024-01-14T18:56:56.909683Z",
     "iopub.status.idle": "2024-01-14T18:56:57.882902Z",
     "shell.execute_reply": "2024-01-14T18:56:57.880800Z"
    },
    "papermill": {
     "duration": 0.984679,
     "end_time": "2024-01-14T18:56:57.886664",
     "exception": false,
     "start_time": "2024-01-14T18:56:56.901985",
     "status": "completed"
    },
    "tags": []
   },
   "outputs": [
    {
     "name": "stdout",
     "output_type": "stream",
     "text": [
      "/home/jovyan/notebooks/_temporary_blobs/.part-00000-e5c1a6a4-88f2-4279-ba86-90f74277f819-c000.snappy.parquet.crc deletado com sucesso.\n",
      "/home/jovyan/notebooks/_temporary_blobs/.part-00001-e5c1a6a4-88f2-4279-ba86-90f74277f819-c000.snappy.parquet.crc deletado com sucesso.\n",
      "/home/jovyan/notebooks/_temporary_blobs/.part-00002-e5c1a6a4-88f2-4279-ba86-90f74277f819-c000.snappy.parquet.crc deletado com sucesso.\n",
      "/home/jovyan/notebooks/_temporary_blobs/.part-00003-e5c1a6a4-88f2-4279-ba86-90f74277f819-c000.snappy.parquet.crc deletado com sucesso.\n",
      "/home/jovyan/notebooks/_temporary_blobs/.part-00004-e5c1a6a4-88f2-4279-ba86-90f74277f819-c000.snappy.parquet.crc deletado com sucesso.\n",
      "/home/jovyan/notebooks/_temporary_blobs/.part-00005-e5c1a6a4-88f2-4279-ba86-90f74277f819-c000.snappy.parquet.crc deletado com sucesso.\n",
      "/home/jovyan/notebooks/_temporary_blobs/.part-00006-e5c1a6a4-88f2-4279-ba86-90f74277f819-c000.snappy.parquet.crc deletado com sucesso.\n",
      "/home/jovyan/notebooks/_temporary_blobs/.part-00007-e5c1a6a4-88f2-4279-ba86-90f74277f819-c000.snappy.parquet.crc deletado com sucesso.\n",
      "/home/jovyan/notebooks/_temporary_blobs/.part-00008-e5c1a6a4-88f2-4279-ba86-90f74277f819-c000.snappy.parquet.crc deletado com sucesso.\n",
      "/home/jovyan/notebooks/_temporary_blobs/.part-00009-e5c1a6a4-88f2-4279-ba86-90f74277f819-c000.snappy.parquet.crc deletado com sucesso.\n",
      "/home/jovyan/notebooks/_temporary_blobs/.part-00010-e5c1a6a4-88f2-4279-ba86-90f74277f819-c000.snappy.parquet.crc deletado com sucesso.\n",
      "/home/jovyan/notebooks/_temporary_blobs/.part-00011-e5c1a6a4-88f2-4279-ba86-90f74277f819-c000.snappy.parquet.crc deletado com sucesso.\n",
      "/home/jovyan/notebooks/_temporary_blobs/._SUCCESS.crc deletado com sucesso.\n",
      "/home/jovyan/notebooks/_temporary_blobs/part-00000-e5c1a6a4-88f2-4279-ba86-90f74277f819-c000.snappy.parquet deletado com sucesso.\n"
     ]
    },
    {
     "name": "stdout",
     "output_type": "stream",
     "text": [
      "/home/jovyan/notebooks/_temporary_blobs/part-00001-e5c1a6a4-88f2-4279-ba86-90f74277f819-c000.snappy.parquet deletado com sucesso.\n",
      "/home/jovyan/notebooks/_temporary_blobs/part-00002-e5c1a6a4-88f2-4279-ba86-90f74277f819-c000.snappy.parquet deletado com sucesso.\n",
      "/home/jovyan/notebooks/_temporary_blobs/part-00003-e5c1a6a4-88f2-4279-ba86-90f74277f819-c000.snappy.parquet deletado com sucesso.\n",
      "/home/jovyan/notebooks/_temporary_blobs/part-00004-e5c1a6a4-88f2-4279-ba86-90f74277f819-c000.snappy.parquet deletado com sucesso.\n",
      "/home/jovyan/notebooks/_temporary_blobs/part-00005-e5c1a6a4-88f2-4279-ba86-90f74277f819-c000.snappy.parquet deletado com sucesso.\n",
      "/home/jovyan/notebooks/_temporary_blobs/part-00006-e5c1a6a4-88f2-4279-ba86-90f74277f819-c000.snappy.parquet deletado com sucesso.\n",
      "/home/jovyan/notebooks/_temporary_blobs/part-00007-e5c1a6a4-88f2-4279-ba86-90f74277f819-c000.snappy.parquet deletado com sucesso.\n",
      "/home/jovyan/notebooks/_temporary_blobs/part-00008-e5c1a6a4-88f2-4279-ba86-90f74277f819-c000.snappy.parquet deletado com sucesso.\n",
      "/home/jovyan/notebooks/_temporary_blobs/part-00009-e5c1a6a4-88f2-4279-ba86-90f74277f819-c000.snappy.parquet deletado com sucesso.\n",
      "/home/jovyan/notebooks/_temporary_blobs/part-00010-e5c1a6a4-88f2-4279-ba86-90f74277f819-c000.snappy.parquet deletado com sucesso.\n",
      "/home/jovyan/notebooks/_temporary_blobs/part-00011-e5c1a6a4-88f2-4279-ba86-90f74277f819-c000.snappy.parquet deletado com sucesso.\n",
      "/home/jovyan/notebooks/_temporary_blobs/_SUCCESS deletado com sucesso.\n"
     ]
    }
   ],
   "source": [
    "# Liste todos os arquivos na pasta\n",
    "arquivos_na_pasta = os.listdir(temp_blobs)\n",
    "\n",
    "# Itere sobre os arquivos e os delete\n",
    "for arquivo in arquivos_na_pasta:\n",
    "    caminho_completo = os.path.join(temp_blobs, arquivo)\n",
    "    try:\n",
    "        if os.path.isfile(caminho_completo):\n",
    "            os.remove(caminho_completo)\n",
    "            print(f'{caminho_completo} deletado com sucesso.')\n",
    "    except Exception as e:\n",
    "        print(f'Erro ao deletar {caminho_completo}: {e}')\n",
    "\n",
    "spark.stop()"
   ]
  }
 ],
 "metadata": {
  "kernelspec": {
   "display_name": "Python 3 (ipykernel)",
   "language": "python",
   "name": "python3"
  },
  "language_info": {
   "codemirror_mode": {
    "name": "ipython",
    "version": 3
   },
   "file_extension": ".py",
   "mimetype": "text/x-python",
   "name": "python",
   "nbconvert_exporter": "python",
   "pygments_lexer": "ipython3",
   "version": "3.11.6"
  },
  "papermill": {
   "default_parameters": {},
   "duration": 15.370817,
   "end_time": "2024-01-14T18:57:00.517759",
   "environment_variables": {},
   "exception": null,
   "input_path": "/home/jovyan/notebooks/dataset_matriculas/2_bronze_silver_matriculas/2_bronze_silver_matriculas.ipynb",
   "output_path": "/home/jovyan/notebooks/dataset_matriculas/2_bronze_silver_matriculas/2_bronze_silver_matriculas.ipynb",
   "parameters": {},
   "start_time": "2024-01-14T18:56:45.146942",
   "version": "2.5.0"
  }
 },
 "nbformat": 4,
 "nbformat_minor": 5
}
