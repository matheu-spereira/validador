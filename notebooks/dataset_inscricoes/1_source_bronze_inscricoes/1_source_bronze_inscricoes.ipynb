{
 "cells": [
  {
   "cell_type": "markdown",
   "id": "ad166d29-a924-4a98-aa23-41a9e5545b22",
   "metadata": {
    "papermill": {
     "duration": 0.005108,
     "end_time": "2024-01-14T18:55:17.469607",
     "exception": false,
     "start_time": "2024-01-14T18:55:17.464499",
     "status": "completed"
    },
    "tags": []
   },
   "source": [
    "## Objetivo do notebook\n",
    "#### O objetivo deste notebook é realizar a leitura de dados das origens do dataset de matrículas em disciplinas e gravar de forma versionada na camada bronze\n"
   ]
  },
  {
   "cell_type": "markdown",
   "id": "0abb2b66-9f46-4424-8db0-0f360040be69",
   "metadata": {
    "papermill": {
     "duration": 0.007247,
     "end_time": "2024-01-14T18:55:17.484362",
     "exception": false,
     "start_time": "2024-01-14T18:55:17.477115",
     "status": "completed"
    },
    "tags": []
   },
   "source": [
    "### Import Libs"
   ]
  },
  {
   "cell_type": "code",
   "execution_count": 1,
   "id": "64dcf5ff-5d61-4770-9fa0-e77cc20a65c4",
   "metadata": {
    "execution": {
     "iopub.execute_input": "2024-01-14T18:55:17.500555Z",
     "iopub.status.busy": "2024-01-14T18:55:17.499910Z",
     "iopub.status.idle": "2024-01-14T18:55:19.969112Z",
     "shell.execute_reply": "2024-01-14T18:55:19.965196Z"
    },
    "papermill": {
     "duration": 2.483846,
     "end_time": "2024-01-14T18:55:19.975673",
     "exception": false,
     "start_time": "2024-01-14T18:55:17.491827",
     "status": "completed"
    },
    "tags": []
   },
   "outputs": [
    {
     "name": "stdout",
     "output_type": "stream",
     "text": [
      "Requirement already satisfied: minio in /opt/conda/lib/python3.11/site-packages (7.2.3)\r\n",
      "Requirement already satisfied: certifi in /opt/conda/lib/python3.11/site-packages (from minio) (2023.7.22)\r\n",
      "Requirement already satisfied: urllib3 in /opt/conda/lib/python3.11/site-packages (from minio) (1.26.18)\r\n",
      "Requirement already satisfied: argon2-cffi in /opt/conda/lib/python3.11/site-packages (from minio) (23.1.0)\r\n",
      "Requirement already satisfied: pycryptodome in /opt/conda/lib/python3.11/site-packages (from minio) (3.20.0)\r\n",
      "Requirement already satisfied: typing-extensions in /opt/conda/lib/python3.11/site-packages (from minio) (4.8.0)\r\n",
      "Requirement already satisfied: argon2-cffi-bindings in /opt/conda/lib/python3.11/site-packages (from argon2-cffi->minio) (21.2.0)\r\n"
     ]
    },
    {
     "name": "stdout",
     "output_type": "stream",
     "text": [
      "Requirement already satisfied: cffi>=1.0.1 in /opt/conda/lib/python3.11/site-packages (from argon2-cffi-bindings->argon2-cffi->minio) (1.16.0)\r\n",
      "Requirement already satisfied: pycparser in /opt/conda/lib/python3.11/site-packages (from cffi>=1.0.1->argon2-cffi-bindings->argon2-cffi->minio) (2.21)\r\n"
     ]
    }
   ],
   "source": [
    "!pip install minio"
   ]
  },
  {
   "cell_type": "code",
   "execution_count": 2,
   "id": "438a8381-135d-4019-8f53-ce0a99a0efd1",
   "metadata": {
    "editable": true,
    "execution": {
     "iopub.execute_input": "2024-01-14T18:55:19.990576Z",
     "iopub.status.busy": "2024-01-14T18:55:19.990306Z",
     "iopub.status.idle": "2024-01-14T18:55:20.591156Z",
     "shell.execute_reply": "2024-01-14T18:55:20.590376Z"
    },
    "papermill": {
     "duration": 0.611053,
     "end_time": "2024-01-14T18:55:20.592539",
     "exception": false,
     "start_time": "2024-01-14T18:55:19.981486",
     "status": "completed"
    },
    "slideshow": {
     "slide_type": ""
    },
    "tags": []
   },
   "outputs": [],
   "source": [
    "from pyspark.sql import SparkSession\n",
    "from datetime import datetime\n",
    "from minio import Minio\n",
    "from minio.error import S3Error\n",
    "from pyspark.sql.functions import lit\n",
    "from pyspark.sql.functions import current_timestamp\n",
    "\n",
    "import os\n",
    "import pandas as pd\n",
    "import glob"
   ]
  },
  {
   "cell_type": "markdown",
   "id": "3057a3d2-4db9-40da-834c-84e15ed9f09b",
   "metadata": {
    "papermill": {
     "duration": 0.007324,
     "end_time": "2024-01-14T18:55:20.605468",
     "exception": false,
     "start_time": "2024-01-14T18:55:20.598144",
     "status": "completed"
    },
    "tags": []
   },
   "source": [
    "### Definição de variáveis"
   ]
  },
  {
   "cell_type": "code",
   "execution_count": 3,
   "id": "3d58f5ea-59c2-4541-b284-e8c456f02e92",
   "metadata": {
    "execution": {
     "iopub.execute_input": "2024-01-14T18:55:20.620839Z",
     "iopub.status.busy": "2024-01-14T18:55:20.619980Z",
     "iopub.status.idle": "2024-01-14T18:55:22.794124Z",
     "shell.execute_reply": "2024-01-14T18:55:22.793314Z"
    },
    "papermill": {
     "duration": 2.183719,
     "end_time": "2024-01-14T18:55:22.795633",
     "exception": false,
     "start_time": "2024-01-14T18:55:20.611914",
     "status": "completed"
    },
    "tags": []
   },
   "outputs": [],
   "source": [
    "# Sessão Spark\n",
    "spark = SparkSession.builder.getOrCreate()\n",
    "\n",
    "# Parametros de input e output das origens\n",
    "camadaEscrita = 'bronze'\n",
    "pasta = 'inscricoes'\n",
    "url = \"https://raw.githubusercontent.com/willianmaria/00006-2024-data/main/matricula_disciplinas.csv\"\n",
    "temp_blobs = '/home/jovyan/notebooks/temporary_blobs/' # pasta temporária para armazenamento de objetos\n",
    "\n",
    "# Conexão ao miniIO\n",
    "minio_endpoint = 'minio:9000'\n",
    "minio_access_key = 'minioaccesskey'\n",
    "minio_secret_key = 'miniosecretkey'\n",
    "minio_object_name = pasta\n",
    "minio_client = Minio(minio_endpoint, access_key=minio_access_key, secret_key=minio_secret_key, secure=False)\n",
    "\n",
    "# Definição de variáveis para versionamento dos dados na camada bronze\n",
    "timestamp = datetime.today().strftime('%Y%m%d')\n",
    "minio_path = f'{pasta} / {pasta + timestamp}'"
   ]
  },
  {
   "cell_type": "markdown",
   "id": "b9992b3b-50f8-4dea-97fd-1dfae9ff9e28",
   "metadata": {
    "papermill": {
     "duration": 0.00734,
     "end_time": "2024-01-14T18:55:22.808325",
     "exception": false,
     "start_time": "2024-01-14T18:55:22.800985",
     "status": "completed"
    },
    "tags": []
   },
   "source": [
    "### Leitura e Tratamento dos dados"
   ]
  },
  {
   "cell_type": "code",
   "execution_count": 4,
   "id": "04482079-e9c7-41f2-b318-b6d0b316778e",
   "metadata": {
    "editable": true,
    "execution": {
     "iopub.execute_input": "2024-01-14T18:55:22.823523Z",
     "iopub.status.busy": "2024-01-14T18:55:22.823116Z",
     "iopub.status.idle": "2024-01-14T18:55:24.455961Z",
     "shell.execute_reply": "2024-01-14T18:55:24.455221Z"
    },
    "papermill": {
     "duration": 1.642691,
     "end_time": "2024-01-14T18:55:24.457547",
     "exception": false,
     "start_time": "2024-01-14T18:55:22.814856",
     "status": "completed"
    },
    "slideshow": {
     "slide_type": ""
    },
    "tags": []
   },
   "outputs": [],
   "source": [
    "# leitura do CSV\n",
    "df_matri_disc = pd.read_csv(url)\n",
    "#Geração de um dataframe spark\n",
    "df_matri_disc = spark.createDataFrame(df_matri_disc)\n",
    "#Criação de colunas de etl_Date\n",
    "df_matri_disc = df_matri_disc.withColumn(\"etl_date\", current_timestamp())"
   ]
  },
  {
   "cell_type": "markdown",
   "id": "cd29ea09-d3e6-4ac4-81bb-6858d7bd645d",
   "metadata": {
    "papermill": {
     "duration": 0.010103,
     "end_time": "2024-01-14T18:55:24.472133",
     "exception": false,
     "start_time": "2024-01-14T18:55:24.462030",
     "status": "completed"
    },
    "tags": []
   },
   "source": [
    "### Gravação do dataframe em um diretório temporário"
   ]
  },
  {
   "cell_type": "code",
   "execution_count": 5,
   "id": "90590fab-8fdb-4e74-b63f-9b74f950a5d0",
   "metadata": {
    "execution": {
     "iopub.execute_input": "2024-01-14T18:55:24.489826Z",
     "iopub.status.busy": "2024-01-14T18:55:24.489340Z",
     "iopub.status.idle": "2024-01-14T18:55:27.705062Z",
     "shell.execute_reply": "2024-01-14T18:55:27.704156Z"
    },
    "papermill": {
     "duration": 3.225031,
     "end_time": "2024-01-14T18:55:27.706634",
     "exception": false,
     "start_time": "2024-01-14T18:55:24.481603",
     "status": "completed"
    },
    "tags": []
   },
   "outputs": [],
   "source": [
    "df_matri_disc.write.parquet(temp_blobs, mode=\"overwrite\")"
   ]
  },
  {
   "cell_type": "markdown",
   "id": "ffc5fe16-c710-4ea9-91ff-280fd86dd6cb",
   "metadata": {
    "papermill": {
     "duration": 0.007394,
     "end_time": "2024-01-14T18:55:27.718912",
     "exception": false,
     "start_time": "2024-01-14T18:55:27.711518",
     "status": "completed"
    },
    "tags": []
   },
   "source": [
    "### Gravação na camada Bronze"
   ]
  },
  {
   "cell_type": "code",
   "execution_count": 6,
   "id": "1d2beb5a-b95b-4e28-a29e-4abfa3870911",
   "metadata": {
    "execution": {
     "iopub.execute_input": "2024-01-14T18:55:27.735276Z",
     "iopub.status.busy": "2024-01-14T18:55:27.734886Z",
     "iopub.status.idle": "2024-01-14T18:55:27.924495Z",
     "shell.execute_reply": "2024-01-14T18:55:27.923778Z"
    },
    "papermill": {
     "duration": 0.199201,
     "end_time": "2024-01-14T18:55:27.925710",
     "exception": false,
     "start_time": "2024-01-14T18:55:27.726509",
     "status": "completed"
    },
    "tags": []
   },
   "outputs": [
    {
     "name": "stdout",
     "output_type": "stream",
     "text": [
      "Arquivo 'part-00000-fb2e40fd-a141-4f36-8abf-5ad3bedf8b54-c000.snappy.parquet' enviado com sucesso para o MinIO em 'inscricoes / inscricoes20240114/part-00000-fb2e40fd-a141-4f36-8abf-5ad3bedf8b54-c000.snappy.parquet'.\n",
      "Arquivo 'part-00001-fb2e40fd-a141-4f36-8abf-5ad3bedf8b54-c000.snappy.parquet' enviado com sucesso para o MinIO em 'inscricoes / inscricoes20240114/part-00001-fb2e40fd-a141-4f36-8abf-5ad3bedf8b54-c000.snappy.parquet'.\n",
      "Arquivo 'part-00002-fb2e40fd-a141-4f36-8abf-5ad3bedf8b54-c000.snappy.parquet' enviado com sucesso para o MinIO em 'inscricoes / inscricoes20240114/part-00002-fb2e40fd-a141-4f36-8abf-5ad3bedf8b54-c000.snappy.parquet'.\n",
      "Arquivo 'part-00003-fb2e40fd-a141-4f36-8abf-5ad3bedf8b54-c000.snappy.parquet' enviado com sucesso para o MinIO em 'inscricoes / inscricoes20240114/part-00003-fb2e40fd-a141-4f36-8abf-5ad3bedf8b54-c000.snappy.parquet'.\n",
      "Arquivo 'part-00004-fb2e40fd-a141-4f36-8abf-5ad3bedf8b54-c000.snappy.parquet' enviado com sucesso para o MinIO em 'inscricoes / inscricoes20240114/part-00004-fb2e40fd-a141-4f36-8abf-5ad3bedf8b54-c000.snappy.parquet'.\n",
      "Arquivo 'part-00005-fb2e40fd-a141-4f36-8abf-5ad3bedf8b54-c000.snappy.parquet' enviado com sucesso para o MinIO em 'inscricoes / inscricoes20240114/part-00005-fb2e40fd-a141-4f36-8abf-5ad3bedf8b54-c000.snappy.parquet'.\n",
      "Arquivo 'part-00006-fb2e40fd-a141-4f36-8abf-5ad3bedf8b54-c000.snappy.parquet' enviado com sucesso para o MinIO em 'inscricoes / inscricoes20240114/part-00006-fb2e40fd-a141-4f36-8abf-5ad3bedf8b54-c000.snappy.parquet'.\n",
      "Arquivo 'part-00007-fb2e40fd-a141-4f36-8abf-5ad3bedf8b54-c000.snappy.parquet' enviado com sucesso para o MinIO em 'inscricoes / inscricoes20240114/part-00007-fb2e40fd-a141-4f36-8abf-5ad3bedf8b54-c000.snappy.parquet'.\n",
      "Arquivo 'part-00008-fb2e40fd-a141-4f36-8abf-5ad3bedf8b54-c000.snappy.parquet' enviado com sucesso para o MinIO em 'inscricoes / inscricoes20240114/part-00008-fb2e40fd-a141-4f36-8abf-5ad3bedf8b54-c000.snappy.parquet'.\n",
      "Arquivo 'part-00009-fb2e40fd-a141-4f36-8abf-5ad3bedf8b54-c000.snappy.parquet' enviado com sucesso para o MinIO em 'inscricoes / inscricoes20240114/part-00009-fb2e40fd-a141-4f36-8abf-5ad3bedf8b54-c000.snappy.parquet'.\n",
      "Arquivo 'part-00010-fb2e40fd-a141-4f36-8abf-5ad3bedf8b54-c000.snappy.parquet' enviado com sucesso para o MinIO em 'inscricoes / inscricoes20240114/part-00010-fb2e40fd-a141-4f36-8abf-5ad3bedf8b54-c000.snappy.parquet'.\n",
      "Arquivo 'part-00011-fb2e40fd-a141-4f36-8abf-5ad3bedf8b54-c000.snappy.parquet' enviado com sucesso para o MinIO em 'inscricoes / inscricoes20240114/part-00011-fb2e40fd-a141-4f36-8abf-5ad3bedf8b54-c000.snappy.parquet'.\n"
     ]
    }
   ],
   "source": [
    "# Recria bucket caso não exista\n",
    "if not minio_client.bucket_exists(camadaEscrita):\n",
    "    minio_client.make_bucket(camadaEscrita)\n",
    "\n",
    "# Lista todos os arquivos Parquet no diretório temporário de blobs\n",
    "arquivos_parquet = glob.glob(os.path.join(temp_blobs, '*.parquet'))\n",
    "\n",
    "# Itera sobre a lista de arquivos Parquet e envia cada um para o MinIO\n",
    "for arquivo_parquet in arquivos_parquet:\n",
    "    try:\n",
    "        # Envia o arquivo para a camada bronze\n",
    "        nome_arquivo = os.path.basename(arquivo_parquet)\n",
    "        minio_client.fput_object(camadaEscrita, os.path.join(minio_path, nome_arquivo), arquivo_parquet)\n",
    "        print(f\"Arquivo '{nome_arquivo}' enviado com sucesso para o MinIO em '{os.path.join(minio_path, nome_arquivo)}'.\")\n",
    "    except S3Error as e:\n",
    "        print(f\"Erro ao enviar o arquivo para o MinIO: {e}\")\n"
   ]
  },
  {
   "cell_type": "markdown",
   "id": "897c9edc-9fbb-4910-a65e-0d26d9a9e7c5",
   "metadata": {
    "papermill": {
     "duration": 0.007504,
     "end_time": "2024-01-14T18:55:27.938049",
     "exception": false,
     "start_time": "2024-01-14T18:55:27.930545",
     "status": "completed"
    },
    "tags": []
   },
   "source": [
    "### Remove dados do diretório temporário de blobs"
   ]
  },
  {
   "cell_type": "code",
   "execution_count": 7,
   "id": "9645e8ca-0356-4e1b-8450-8da9d1990f79",
   "metadata": {
    "execution": {
     "iopub.execute_input": "2024-01-14T18:55:27.952276Z",
     "iopub.status.busy": "2024-01-14T18:55:27.951714Z",
     "iopub.status.idle": "2024-01-14T18:55:28.887175Z",
     "shell.execute_reply": "2024-01-14T18:55:28.886463Z"
    },
    "papermill": {
     "duration": 0.944333,
     "end_time": "2024-01-14T18:55:28.888542",
     "exception": false,
     "start_time": "2024-01-14T18:55:27.944209",
     "status": "completed"
    },
    "tags": []
   },
   "outputs": [
    {
     "name": "stdout",
     "output_type": "stream",
     "text": [
      "/home/jovyan/notebooks/_temporary_blobs/.part-00000-fb2e40fd-a141-4f36-8abf-5ad3bedf8b54-c000.snappy.parquet.crc deletado com sucesso.\n",
      "/home/jovyan/notebooks/_temporary_blobs/.part-00001-fb2e40fd-a141-4f36-8abf-5ad3bedf8b54-c000.snappy.parquet.crc deletado com sucesso.\n",
      "/home/jovyan/notebooks/_temporary_blobs/.part-00002-fb2e40fd-a141-4f36-8abf-5ad3bedf8b54-c000.snappy.parquet.crc deletado com sucesso.\n",
      "/home/jovyan/notebooks/_temporary_blobs/.part-00003-fb2e40fd-a141-4f36-8abf-5ad3bedf8b54-c000.snappy.parquet.crc deletado com sucesso.\n"
     ]
    },
    {
     "name": "stdout",
     "output_type": "stream",
     "text": [
      "/home/jovyan/notebooks/_temporary_blobs/.part-00004-fb2e40fd-a141-4f36-8abf-5ad3bedf8b54-c000.snappy.parquet.crc deletado com sucesso.\n",
      "/home/jovyan/notebooks/_temporary_blobs/.part-00005-fb2e40fd-a141-4f36-8abf-5ad3bedf8b54-c000.snappy.parquet.crc deletado com sucesso.\n",
      "/home/jovyan/notebooks/_temporary_blobs/.part-00006-fb2e40fd-a141-4f36-8abf-5ad3bedf8b54-c000.snappy.parquet.crc deletado com sucesso.\n",
      "/home/jovyan/notebooks/_temporary_blobs/.part-00007-fb2e40fd-a141-4f36-8abf-5ad3bedf8b54-c000.snappy.parquet.crc deletado com sucesso.\n",
      "/home/jovyan/notebooks/_temporary_blobs/.part-00008-fb2e40fd-a141-4f36-8abf-5ad3bedf8b54-c000.snappy.parquet.crc deletado com sucesso.\n",
      "/home/jovyan/notebooks/_temporary_blobs/.part-00009-fb2e40fd-a141-4f36-8abf-5ad3bedf8b54-c000.snappy.parquet.crc deletado com sucesso.\n",
      "/home/jovyan/notebooks/_temporary_blobs/.part-00010-fb2e40fd-a141-4f36-8abf-5ad3bedf8b54-c000.snappy.parquet.crc deletado com sucesso.\n",
      "/home/jovyan/notebooks/_temporary_blobs/.part-00011-fb2e40fd-a141-4f36-8abf-5ad3bedf8b54-c000.snappy.parquet.crc deletado com sucesso.\n",
      "/home/jovyan/notebooks/_temporary_blobs/._SUCCESS.crc deletado com sucesso.\n",
      "/home/jovyan/notebooks/_temporary_blobs/part-00000-fb2e40fd-a141-4f36-8abf-5ad3bedf8b54-c000.snappy.parquet deletado com sucesso.\n",
      "/home/jovyan/notebooks/_temporary_blobs/part-00001-fb2e40fd-a141-4f36-8abf-5ad3bedf8b54-c000.snappy.parquet deletado com sucesso.\n",
      "/home/jovyan/notebooks/_temporary_blobs/part-00002-fb2e40fd-a141-4f36-8abf-5ad3bedf8b54-c000.snappy.parquet deletado com sucesso.\n",
      "/home/jovyan/notebooks/_temporary_blobs/part-00003-fb2e40fd-a141-4f36-8abf-5ad3bedf8b54-c000.snappy.parquet deletado com sucesso.\n",
      "/home/jovyan/notebooks/_temporary_blobs/part-00004-fb2e40fd-a141-4f36-8abf-5ad3bedf8b54-c000.snappy.parquet deletado com sucesso.\n",
      "/home/jovyan/notebooks/_temporary_blobs/part-00005-fb2e40fd-a141-4f36-8abf-5ad3bedf8b54-c000.snappy.parquet deletado com sucesso.\n",
      "/home/jovyan/notebooks/_temporary_blobs/part-00006-fb2e40fd-a141-4f36-8abf-5ad3bedf8b54-c000.snappy.parquet deletado com sucesso.\n",
      "/home/jovyan/notebooks/_temporary_blobs/part-00007-fb2e40fd-a141-4f36-8abf-5ad3bedf8b54-c000.snappy.parquet deletado com sucesso.\n",
      "/home/jovyan/notebooks/_temporary_blobs/part-00008-fb2e40fd-a141-4f36-8abf-5ad3bedf8b54-c000.snappy.parquet deletado com sucesso.\n",
      "/home/jovyan/notebooks/_temporary_blobs/part-00009-fb2e40fd-a141-4f36-8abf-5ad3bedf8b54-c000.snappy.parquet deletado com sucesso.\n",
      "/home/jovyan/notebooks/_temporary_blobs/part-00010-fb2e40fd-a141-4f36-8abf-5ad3bedf8b54-c000.snappy.parquet deletado com sucesso.\n",
      "/home/jovyan/notebooks/_temporary_blobs/part-00011-fb2e40fd-a141-4f36-8abf-5ad3bedf8b54-c000.snappy.parquet deletado com sucesso.\n",
      "/home/jovyan/notebooks/_temporary_blobs/_SUCCESS deletado com sucesso.\n"
     ]
    }
   ],
   "source": [
    "# Lista todos os arquivos na pasta\n",
    "arquivos_na_pasta = os.listdir(temp_blobs)\n",
    "\n",
    "# Itera sobre os arquivos e os deleta\n",
    "for arquivo in arquivos_na_pasta:\n",
    "    caminho_completo = os.path.join(temp_blobs, arquivo)\n",
    "    try:\n",
    "        if os.path.isfile(caminho_completo):\n",
    "            os.remove(caminho_completo)\n",
    "            print(f'{caminho_completo} deletado com sucesso.')\n",
    "    except Exception as e:\n",
    "        print(f'Erro ao deletar {caminho_completo}: {e}')\n",
    "\n",
    "spark.stop()"
   ]
  }
 ],
 "metadata": {
  "kernelspec": {
   "display_name": "Python 3 (ipykernel)",
   "language": "python",
   "name": "python3"
  },
  "language_info": {
   "codemirror_mode": {
    "name": "ipython",
    "version": 3
   },
   "file_extension": ".py",
   "mimetype": "text/x-python",
   "name": "python",
   "nbconvert_exporter": "python",
   "pygments_lexer": "ipython3",
   "version": "3.11.6"
  },
  "papermill": {
   "default_parameters": {},
   "duration": 14.807552,
   "end_time": "2024-01-14T18:55:31.511337",
   "environment_variables": {},
   "exception": null,
   "input_path": "/home/jovyan/notebooks/dataset_inscricoes/1_source_bronze_inscricoes/1_source_bronze_inscricoes.ipynb",
   "output_path": "/home/jovyan/notebooks/dataset_inscricoes/1_source_bronze_inscricoes/1_source_bronze_inscricoes.ipynb",
   "parameters": {},
   "start_time": "2024-01-14T18:55:16.703785",
   "version": "2.5.0"
  }
 },
 "nbformat": 4,
 "nbformat_minor": 5
}
