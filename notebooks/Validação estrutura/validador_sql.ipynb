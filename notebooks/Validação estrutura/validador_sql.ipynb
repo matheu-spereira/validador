{
 "cells": [
  {
   "cell_type": "markdown",
   "metadata": {},
   "source": [
    "## Este notebook tem como objetivo validar se as colunas das Views em um banco SQL SERVER estão de acordo com o Dicionário de Dados baseado nas colunas dos Endpoints da API do Caravel\n",
    "\n",
    "## Funcionamento:\n",
    "##### A função \"process_dataframes\", realiza um left join entre o df que contém os metadados da tabela do banco com o df do dicionário de dados através da coluna que representa o nome das colunas de ambos os dataframes(\"column_name\"). Após o join é retornado as colunas correspondentes do dicionário de dados que são (nome de coluna, tipo de dado e se é null ou não). A partir da obtenção dessas informaçãoes é realizado a validação dos metadados. Também é apresentado as colunas que estão no dicionário de dados mas não foram encontradas na tabela do banco, seja por não existirem ou por terem nomes diferentes entre si.\n",
    "\n",
    "## Pré-Requisitos:\n",
    "##### Os dicionários de dados devem ter uma tabela com as seguintes colunas: \"column_name\", \"data_type\" e \"is_nullable\" para realização dos join e validações.\n",
    "\n",
    "## Regras adicionais aplicadas:\n",
    "##### Durante a validação da tabela do banco, os tipos de dados (char, varchar, text, nchar, nvarchar e ntext) são consolidados como varchar.\n",
    "##### Durante a validação da tabela do banco, os tipos de dados (bigint, numeric, smallint, int e numeric) são consolidados como int.\n",
    "##### Obs: É possível ver essa consolidação na coluna \"dtype_consolidado\""
   ]
  },
  {
   "cell_type": "code",
   "execution_count": 1,
   "metadata": {},
   "outputs": [
    {
     "name": "stdout",
     "output_type": "stream",
     "text": [
      "Requirement already satisfied: psycopg2-binary in /opt/conda/lib/python3.11/site-packages (2.9.9)\n",
      "Requirement already satisfied: rich in /opt/conda/lib/python3.11/site-packages (13.7.0)\n",
      "Requirement already satisfied: markdown-it-py>=2.2.0 in /opt/conda/lib/python3.11/site-packages (from rich) (3.0.0)\n",
      "Requirement already satisfied: pygments<3.0.0,>=2.13.0 in /opt/conda/lib/python3.11/site-packages (from rich) (2.16.1)\n",
      "Requirement already satisfied: mdurl~=0.1 in /opt/conda/lib/python3.11/site-packages (from markdown-it-py>=2.2.0->rich) (0.1.2)\n"
     ]
    }
   ],
   "source": [
    "!pip install psycopg2-binary\n",
    "!pip install rich"
   ]
  },
  {
   "cell_type": "markdown",
   "metadata": {},
   "source": [
    "# Import libs"
   ]
  },
  {
   "cell_type": "code",
   "execution_count": 2,
   "metadata": {
    "tags": []
   },
   "outputs": [],
   "source": [
    "from sqlalchemy import create_engine\n",
    "import pandas as pd\n",
    "from valida_sql_v1_2 import DataFrameProcessor\n",
    "\n",
    "# Inicialize a instância do console Rich\n",
    "#console = Console()\n",
    "\n",
    "# Seta limite de linhas\n",
    "pd.set_option('display.max_rows',60)\n",
    "\n",
    "# Defina a função para aplicar a cor verde ao texto 'OK'\n",
    "#def neg_vermelho(val):\n",
    "#    color = 'green' if val == 'OK' else 'red'\n",
    "#    return 'color: {0!s}'.format(color)"
   ]
  },
  {
   "cell_type": "markdown",
   "metadata": {},
   "source": [
    "# Variáveis de conexão do banco"
   ]
  },
  {
   "cell_type": "code",
   "execution_count": 3,
   "metadata": {},
   "outputs": [],
   "source": [
    "#LEITURA VIEW BANCO\n",
    "# Configurações de conexão com o banco de dados\n",
    "user = 'postgres'\n",
    "password = 'password'\n",
    "host = 'postgres'\n",
    "port = '5432'  # Porta padrão do PostgreSQL\n",
    "database = 'prova'\n",
    "\n",
    "# Cria a string de conexão\n",
    "connection_string = f'postgresql://{user}:{password}@{host}:{port}/{database}'\n",
    "\n",
    "# Cria a engine de conexão\n",
    "engine = create_engine(connection_string)"
   ]
  },
  {
   "cell_type": "markdown",
   "metadata": {},
   "source": [
    "# Execução da Função Exemplo 1"
   ]
  },
  {
   "cell_type": "code",
   "execution_count": 4,
   "metadata": {},
   "outputs": [
    {
     "data": {
      "text/html": [
       "<pre style=\"white-space:pre;overflow-x:auto;line-height:normal;font-family:Menlo,'DejaVu Sans Mono',consolas,'Courier New',monospace\"><span style=\"color: #000080; text-decoration-color: #000080; font-weight: bold\">───────────────────────────────────────────── </span>RESULTADO DA VALIDAÇÃO<span style=\"color: #000080; text-decoration-color: #000080; font-weight: bold\"> ──────────────────────────────────────────────</span>\n",
       "</pre>\n"
      ],
      "text/plain": [
       "\u001b[1;34m───────────────────────────────────────────── \u001b[0mRESULTADO DA VALIDAÇÃO\u001b[1;34m ──────────────────────────────────────────────\u001b[0m\n"
      ]
     },
     "metadata": {},
     "output_type": "display_data"
    },
    {
     "name": "stdout",
     "output_type": "stream",
     "text": [
      "Nome da aba do dicionário de dados: a\n",
      "Schema da tabela do banco: public\n",
      "Nome da Tabela: fato_avaliacoes\n",
      "Hora e data: 2024-02-13 16:29:23.534603-03:00\n"
     ]
    },
    {
     "data": {
      "text/html": [
       "<pre style=\"white-space:pre;overflow-x:auto;line-height:normal;font-family:Menlo,'DejaVu Sans Mono',consolas,'Courier New',monospace\"><span style=\"color: #00ff00; text-decoration-color: #00ff00\">──────────────────────────────────────────── </span><span style=\"color: #008000; text-decoration-color: #008000; font-weight: bold\">RESUMO DA TABELA DO BANCO</span><span style=\"color: #00ff00; text-decoration-color: #00ff00\"> ────────────────────────────────────────────</span>\n",
       "</pre>\n"
      ],
      "text/plain": [
       "\u001b[92m──────────────────────────────────────────── \u001b[0m\u001b[1;32mRESUMO DA TABELA DO BANCO\u001b[0m\u001b[92m ────────────────────────────────────────────\u001b[0m\n"
      ]
     },
     "metadata": {},
     "output_type": "display_data"
    },
    {
     "data": {
      "text/html": [
       "<style type=\"text/css\">\n",
       "#T_2bc7a_row0_col2, #T_2bc7a_row1_col2, #T_2bc7a_row2_col2, #T_2bc7a_row3_col2 {\n",
       "  color: LimeGreen;\n",
       "}\n",
       "</style>\n",
       "<table id=\"T_2bc7a\">\n",
       "  <thead>\n",
       "    <tr>\n",
       "      <th class=\"blank level0\" >&nbsp;</th>\n",
       "      <th id=\"T_2bc7a_level0_col0\" class=\"col_heading level0 col0\" >column_name</th>\n",
       "      <th id=\"T_2bc7a_level0_col1\" class=\"col_heading level0 col1\" >Metadados coerentes com dicionário?</th>\n",
       "      <th id=\"T_2bc7a_level0_col2\" class=\"col_heading level0 col2\" >Observação</th>\n",
       "    </tr>\n",
       "  </thead>\n",
       "  <tbody>\n",
       "    <tr>\n",
       "      <th id=\"T_2bc7a_level0_row0\" class=\"row_heading level0 row0\" >0</th>\n",
       "      <td id=\"T_2bc7a_row0_col0\" class=\"data row0 col0\" >id_turma</td>\n",
       "      <td id=\"T_2bc7a_row0_col1\" class=\"data row0 col1\" >Sim</td>\n",
       "      <td id=\"T_2bc7a_row0_col2\" class=\"data row0 col2\" >OK</td>\n",
       "    </tr>\n",
       "    <tr>\n",
       "      <th id=\"T_2bc7a_level0_row1\" class=\"row_heading level0 row1\" >1</th>\n",
       "      <td id=\"T_2bc7a_row1_col0\" class=\"data row1 col0\" >id_disciplina</td>\n",
       "      <td id=\"T_2bc7a_row1_col1\" class=\"data row1 col1\" >Sim</td>\n",
       "      <td id=\"T_2bc7a_row1_col2\" class=\"data row1 col2\" >OK</td>\n",
       "    </tr>\n",
       "    <tr>\n",
       "      <th id=\"T_2bc7a_level0_row2\" class=\"row_heading level0 row2\" >2</th>\n",
       "      <td id=\"T_2bc7a_row2_col0\" class=\"data row2 col0\" >data_avaliacao</td>\n",
       "      <td id=\"T_2bc7a_row2_col1\" class=\"data row2 col1\" >Sim</td>\n",
       "      <td id=\"T_2bc7a_row2_col2\" class=\"data row2 col2\" >OK</td>\n",
       "    </tr>\n",
       "    <tr>\n",
       "      <th id=\"T_2bc7a_level0_row3\" class=\"row_heading level0 row3\" >3</th>\n",
       "      <td id=\"T_2bc7a_row3_col0\" class=\"data row3 col0\" >titulo</td>\n",
       "      <td id=\"T_2bc7a_row3_col1\" class=\"data row3 col1\" >Sim</td>\n",
       "      <td id=\"T_2bc7a_row3_col2\" class=\"data row3 col2\" >OK</td>\n",
       "    </tr>\n",
       "  </tbody>\n",
       "</table>\n"
      ],
      "text/plain": [
       "<pandas.io.formats.style.Styler at 0x7ff424c0d710>"
      ]
     },
     "metadata": {},
     "output_type": "display_data"
    },
    {
     "data": {
      "text/html": [
       "<pre style=\"white-space:pre;overflow-x:auto;line-height:normal;font-family:Menlo,'DejaVu Sans Mono',consolas,'Courier New',monospace\"><span style=\"color: #00ff00; text-decoration-color: #00ff00\">──────────────────────────── </span><span style=\"color: #008000; text-decoration-color: #008000; font-weight: bold\">COLUNAS DO DICIONÁRIO NÃO ENCONTRADAS NA TABELA DO BANCO</span><span style=\"color: #00ff00; text-decoration-color: #00ff00\"> ─────────────────────────────</span>\n",
       "</pre>\n"
      ],
      "text/plain": [
       "\u001b[92m──────────────────────────── \u001b[0m\u001b[1;32mCOLUNAS DO DICIONÁRIO NÃO ENCONTRADAS NA TABELA DO BANCO\u001b[0m\u001b[92m ─────────────────────────────\u001b[0m\n"
      ]
     },
     "metadata": {},
     "output_type": "display_data"
    },
    {
     "data": {
      "text/html": [
       "<div>\n",
       "<style scoped>\n",
       "    .dataframe tbody tr th:only-of-type {\n",
       "        vertical-align: middle;\n",
       "    }\n",
       "\n",
       "    .dataframe tbody tr th {\n",
       "        vertical-align: top;\n",
       "    }\n",
       "\n",
       "    .dataframe thead th {\n",
       "        text-align: right;\n",
       "    }\n",
       "</style>\n",
       "<table border=\"1\" class=\"dataframe\">\n",
       "  <thead>\n",
       "    <tr style=\"text-align: right;\">\n",
       "      <th></th>\n",
       "      <th>column_name</th>\n",
       "      <th>data_type</th>\n",
       "      <th>is_nullable</th>\n",
       "    </tr>\n",
       "  </thead>\n",
       "  <tbody>\n",
       "    <tr>\n",
       "      <th>0</th>\n",
       "      <td>a</td>\n",
       "      <td>int</td>\n",
       "      <td>NO</td>\n",
       "    </tr>\n",
       "    <tr>\n",
       "      <th>1</th>\n",
       "      <td>b</td>\n",
       "      <td>int</td>\n",
       "      <td>NO</td>\n",
       "    </tr>\n",
       "    <tr>\n",
       "      <th>2</th>\n",
       "      <td>a</td>\n",
       "      <td>int</td>\n",
       "      <td>NO</td>\n",
       "    </tr>\n",
       "    <tr>\n",
       "      <th>3</th>\n",
       "      <td>e</td>\n",
       "      <td>int</td>\n",
       "      <td>NO</td>\n",
       "    </tr>\n",
       "    <tr>\n",
       "      <th>4</th>\n",
       "      <td>f</td>\n",
       "      <td>text</td>\n",
       "      <td>YES</td>\n",
       "    </tr>\n",
       "  </tbody>\n",
       "</table>\n",
       "</div>"
      ],
      "text/plain": [
       "  column_name data_type is_nullable\n",
       "0           a       int          NO\n",
       "1           b       int          NO\n",
       "2           a       int          NO\n",
       "3           e       int          NO\n",
       "4           f      text         YES"
      ]
     },
     "metadata": {},
     "output_type": "display_data"
    },
    {
     "data": {
      "text/html": [
       "<pre style=\"white-space:pre;overflow-x:auto;line-height:normal;font-family:Menlo,'DejaVu Sans Mono',consolas,'Courier New',monospace\"><span style=\"color: #00ff00; text-decoration-color: #00ff00\">────────────────────────────────────────────────── </span><span style=\"color: #008000; text-decoration-color: #008000; font-weight: bold\">TOP </span><span style=\"color: #008000; text-decoration-color: #008000; font-weight: bold\">5</span><span style=\"color: #008000; text-decoration-color: #008000; font-weight: bold\"> LINHAS </span><span style=\"color: #00ff00; text-decoration-color: #00ff00\"> ──────────────────────────────────────────────────</span>\n",
       "</pre>\n"
      ],
      "text/plain": [
       "\u001b[92m────────────────────────────────────────────────── \u001b[0m\u001b[1;32mTOP \u001b[0m\u001b[1;32m5\u001b[0m\u001b[1;32m LINHAS \u001b[0m\u001b[92m ──────────────────────────────────────────────────\u001b[0m\n"
      ]
     },
     "metadata": {},
     "output_type": "display_data"
    },
    {
     "data": {
      "text/html": [
       "<div>\n",
       "<style scoped>\n",
       "    .dataframe tbody tr th:only-of-type {\n",
       "        vertical-align: middle;\n",
       "    }\n",
       "\n",
       "    .dataframe tbody tr th {\n",
       "        vertical-align: top;\n",
       "    }\n",
       "\n",
       "    .dataframe thead th {\n",
       "        text-align: right;\n",
       "    }\n",
       "</style>\n",
       "<table border=\"1\" class=\"dataframe\">\n",
       "  <thead>\n",
       "    <tr style=\"text-align: right;\">\n",
       "      <th></th>\n",
       "      <th>id_turma</th>\n",
       "      <th>id_disciplina</th>\n",
       "      <th>data_avaliacao</th>\n",
       "      <th>titulo</th>\n",
       "    </tr>\n",
       "  </thead>\n",
       "  <tbody>\n",
       "    <tr>\n",
       "      <th>0</th>\n",
       "      <td>2</td>\n",
       "      <td>203</td>\n",
       "      <td>2021-03-10</td>\n",
       "      <td>AV-EE-10-3-2021</td>\n",
       "    </tr>\n",
       "    <tr>\n",
       "      <th>1</th>\n",
       "      <td>4</td>\n",
       "      <td>404</td>\n",
       "      <td>2021-03-04</td>\n",
       "      <td>AV-PE-4-3-2021</td>\n",
       "    </tr>\n",
       "    <tr>\n",
       "      <th>2</th>\n",
       "      <td>1</td>\n",
       "      <td>103</td>\n",
       "      <td>2021-06-16</td>\n",
       "      <td>AV-SO-16-6-2021</td>\n",
       "    </tr>\n",
       "    <tr>\n",
       "      <th>3</th>\n",
       "      <td>2</td>\n",
       "      <td>203</td>\n",
       "      <td>2021-04-14</td>\n",
       "      <td>AV-EE-14-4-2021</td>\n",
       "    </tr>\n",
       "    <tr>\n",
       "      <th>4</th>\n",
       "      <td>2</td>\n",
       "      <td>201</td>\n",
       "      <td>2021-04-19</td>\n",
       "      <td>AV-GF-19-4-2021</td>\n",
       "    </tr>\n",
       "  </tbody>\n",
       "</table>\n",
       "</div>"
      ],
      "text/plain": [
       "   id_turma  id_disciplina data_avaliacao           titulo\n",
       "0         2            203     2021-03-10  AV-EE-10-3-2021\n",
       "1         4            404     2021-03-04   AV-PE-4-3-2021\n",
       "2         1            103     2021-06-16  AV-SO-16-6-2021\n",
       "3         2            203     2021-04-14  AV-EE-14-4-2021\n",
       "4         2            201     2021-04-19  AV-GF-19-4-2021"
      ]
     },
     "metadata": {},
     "output_type": "display_data"
    },
    {
     "data": {
      "text/html": [
       "<pre style=\"white-space:pre;overflow-x:auto;line-height:normal;font-family:Menlo,'DejaVu Sans Mono',consolas,'Courier New',monospace\"><span style=\"color: #00ff00; text-decoration-color: #00ff00\">──────────────────────────────────────── </span><span style=\"color: #008000; text-decoration-color: #008000; font-weight: bold\">DETALHES DA TABELA E DICIONÁRIO </span><span style=\"color: #00ff00; text-decoration-color: #00ff00\"> ─────────────────────────────────────────</span>\n",
       "</pre>\n"
      ],
      "text/plain": [
       "\u001b[92m──────────────────────────────────────── \u001b[0m\u001b[1;32mDETALHES DA TABELA E DICIONÁRIO \u001b[0m\u001b[92m ─────────────────────────────────────────\u001b[0m\n"
      ]
     },
     "metadata": {},
     "output_type": "display_data"
    },
    {
     "data": {
      "text/html": [
       "<style type=\"text/css\">\n",
       "#T_87a64_row0_col7, #T_87a64_row0_col8, #T_87a64_row0_col9, #T_87a64_row1_col7, #T_87a64_row1_col8, #T_87a64_row1_col9, #T_87a64_row2_col7, #T_87a64_row2_col8, #T_87a64_row2_col9, #T_87a64_row3_col7, #T_87a64_row3_col8, #T_87a64_row3_col9 {\n",
       "  color: LimeGreen;\n",
       "}\n",
       "</style>\n",
       "<table id=\"T_87a64\">\n",
       "  <thead>\n",
       "    <tr>\n",
       "      <th class=\"blank level0\" >&nbsp;</th>\n",
       "      <th id=\"T_87a64_level0_col0\" class=\"col_heading level0 col0\" >column_name</th>\n",
       "      <th id=\"T_87a64_level0_col1\" class=\"col_heading level0 col1\" >data_type</th>\n",
       "      <th id=\"T_87a64_level0_col2\" class=\"col_heading level0 col2\" >is_nullable</th>\n",
       "      <th id=\"T_87a64_level0_col3\" class=\"col_heading level0 col3\" >dtype_consolidado</th>\n",
       "      <th id=\"T_87a64_level0_col4\" class=\"col_heading level0 col4\" >dic_column_name</th>\n",
       "      <th id=\"T_87a64_level0_col5\" class=\"col_heading level0 col5\" >dic_data_type</th>\n",
       "      <th id=\"T_87a64_level0_col6\" class=\"col_heading level0 col6\" >dic_is_nullable</th>\n",
       "      <th id=\"T_87a64_level0_col7\" class=\"col_heading level0 col7\" >coluna_existente_no_dic?</th>\n",
       "      <th id=\"T_87a64_level0_col8\" class=\"col_heading level0 col8\" >tipagem_igual_dic?</th>\n",
       "      <th id=\"T_87a64_level0_col9\" class=\"col_heading level0 col9\" >null_igual_dic?</th>\n",
       "    </tr>\n",
       "  </thead>\n",
       "  <tbody>\n",
       "    <tr>\n",
       "      <th id=\"T_87a64_level0_row0\" class=\"row_heading level0 row0\" >0</th>\n",
       "      <td id=\"T_87a64_row0_col0\" class=\"data row0 col0\" >id_turma</td>\n",
       "      <td id=\"T_87a64_row0_col1\" class=\"data row0 col1\" >bigint</td>\n",
       "      <td id=\"T_87a64_row0_col2\" class=\"data row0 col2\" >YES</td>\n",
       "      <td id=\"T_87a64_row0_col3\" class=\"data row0 col3\" >int</td>\n",
       "      <td id=\"T_87a64_row0_col4\" class=\"data row0 col4\" >id_turma</td>\n",
       "      <td id=\"T_87a64_row0_col5\" class=\"data row0 col5\" >int</td>\n",
       "      <td id=\"T_87a64_row0_col6\" class=\"data row0 col6\" >YES</td>\n",
       "      <td id=\"T_87a64_row0_col7\" class=\"data row0 col7\" >sim</td>\n",
       "      <td id=\"T_87a64_row0_col8\" class=\"data row0 col8\" >sim</td>\n",
       "      <td id=\"T_87a64_row0_col9\" class=\"data row0 col9\" >sim</td>\n",
       "    </tr>\n",
       "    <tr>\n",
       "      <th id=\"T_87a64_level0_row1\" class=\"row_heading level0 row1\" >1</th>\n",
       "      <td id=\"T_87a64_row1_col0\" class=\"data row1 col0\" >id_disciplina</td>\n",
       "      <td id=\"T_87a64_row1_col1\" class=\"data row1 col1\" >bigint</td>\n",
       "      <td id=\"T_87a64_row1_col2\" class=\"data row1 col2\" >YES</td>\n",
       "      <td id=\"T_87a64_row1_col3\" class=\"data row1 col3\" >int</td>\n",
       "      <td id=\"T_87a64_row1_col4\" class=\"data row1 col4\" >id_disciplina</td>\n",
       "      <td id=\"T_87a64_row1_col5\" class=\"data row1 col5\" >int</td>\n",
       "      <td id=\"T_87a64_row1_col6\" class=\"data row1 col6\" >YES</td>\n",
       "      <td id=\"T_87a64_row1_col7\" class=\"data row1 col7\" >sim</td>\n",
       "      <td id=\"T_87a64_row1_col8\" class=\"data row1 col8\" >sim</td>\n",
       "      <td id=\"T_87a64_row1_col9\" class=\"data row1 col9\" >sim</td>\n",
       "    </tr>\n",
       "    <tr>\n",
       "      <th id=\"T_87a64_level0_row2\" class=\"row_heading level0 row2\" >2</th>\n",
       "      <td id=\"T_87a64_row2_col0\" class=\"data row2 col0\" >data_avaliacao</td>\n",
       "      <td id=\"T_87a64_row2_col1\" class=\"data row2 col1\" >date</td>\n",
       "      <td id=\"T_87a64_row2_col2\" class=\"data row2 col2\" >YES</td>\n",
       "      <td id=\"T_87a64_row2_col3\" class=\"data row2 col3\" >date</td>\n",
       "      <td id=\"T_87a64_row2_col4\" class=\"data row2 col4\" >data_avaliacao</td>\n",
       "      <td id=\"T_87a64_row2_col5\" class=\"data row2 col5\" >date</td>\n",
       "      <td id=\"T_87a64_row2_col6\" class=\"data row2 col6\" >YES</td>\n",
       "      <td id=\"T_87a64_row2_col7\" class=\"data row2 col7\" >sim</td>\n",
       "      <td id=\"T_87a64_row2_col8\" class=\"data row2 col8\" >sim</td>\n",
       "      <td id=\"T_87a64_row2_col9\" class=\"data row2 col9\" >sim</td>\n",
       "    </tr>\n",
       "    <tr>\n",
       "      <th id=\"T_87a64_level0_row3\" class=\"row_heading level0 row3\" >3</th>\n",
       "      <td id=\"T_87a64_row3_col0\" class=\"data row3 col0\" >titulo</td>\n",
       "      <td id=\"T_87a64_row3_col1\" class=\"data row3 col1\" >text</td>\n",
       "      <td id=\"T_87a64_row3_col2\" class=\"data row3 col2\" >YES</td>\n",
       "      <td id=\"T_87a64_row3_col3\" class=\"data row3 col3\" >varchar</td>\n",
       "      <td id=\"T_87a64_row3_col4\" class=\"data row3 col4\" >titulo</td>\n",
       "      <td id=\"T_87a64_row3_col5\" class=\"data row3 col5\" >varchar</td>\n",
       "      <td id=\"T_87a64_row3_col6\" class=\"data row3 col6\" >YES</td>\n",
       "      <td id=\"T_87a64_row3_col7\" class=\"data row3 col7\" >sim</td>\n",
       "      <td id=\"T_87a64_row3_col8\" class=\"data row3 col8\" >sim</td>\n",
       "      <td id=\"T_87a64_row3_col9\" class=\"data row3 col9\" >sim</td>\n",
       "    </tr>\n",
       "  </tbody>\n",
       "</table>\n"
      ],
      "text/plain": [
       "<pandas.io.formats.style.Styler at 0x7ff423763510>"
      ]
     },
     "metadata": {},
     "output_type": "display_data"
    }
   ],
   "source": [
    "#Parâmetros para leitura do Dicionário\n",
    "file_name = \"/home/jovyan/notebooks/Validação estrutura/a.xlsx\"  # Caminho do arquivo Excel - dicionário de dados\n",
    "sheet_name = 'a' #Aba do arquivo Excel - dicionário de dados\n",
    "\n",
    "#Parâmetros para leitura da tabela do banco\n",
    "schema = 'public' #Schema do tabeal do banco\n",
    "nome_tabela = 'fato_avaliacoes' #Nome da tabela do banco\n",
    "\n",
    "# Execução da Função. Recebe file_name, sheet_name, schema, nome_tabela e engine\n",
    "processor = DataFrameProcessor(file_name, sheet_name, schema, nome_tabela,engine)\n",
    "\n",
    "# Chama os métodos para processar os dataframes\n",
    "processor.read_excel_to_df() #Leitura do dicionário\n",
    "processor.execute_sql_to_df() #Comandos de leitura da tabela do banco\n",
    "processor.process_dataframes() #Retorno dos dataframes para exibição"
   ]
  },
  {
   "cell_type": "markdown",
   "metadata": {},
   "source": [
    "# Execução da Função Exemplo 2"
   ]
  },
  {
   "cell_type": "code",
   "execution_count": 5,
   "metadata": {},
   "outputs": [
    {
     "data": {
      "text/html": [
       "<pre style=\"white-space:pre;overflow-x:auto;line-height:normal;font-family:Menlo,'DejaVu Sans Mono',consolas,'Courier New',monospace\"><span style=\"color: #000080; text-decoration-color: #000080; font-weight: bold\">───────────────────────────────────────────── </span>RESULTADO DA VALIDAÇÃO<span style=\"color: #000080; text-decoration-color: #000080; font-weight: bold\"> ──────────────────────────────────────────────</span>\n",
       "</pre>\n"
      ],
      "text/plain": [
       "\u001b[1;34m───────────────────────────────────────────── \u001b[0mRESULTADO DA VALIDAÇÃO\u001b[1;34m ──────────────────────────────────────────────\u001b[0m\n"
      ]
     },
     "metadata": {},
     "output_type": "display_data"
    },
    {
     "name": "stdout",
     "output_type": "stream",
     "text": [
      "Nome da aba do dicionário de dados: b\n",
      "Schema da tabela do banco: public\n",
      "Nome da Tabela: view_avaliacoes3\n",
      "Hora e data: 2024-02-13 16:29:30.247712-03:00\n"
     ]
    },
    {
     "data": {
      "text/html": [
       "<pre style=\"white-space:pre;overflow-x:auto;line-height:normal;font-family:Menlo,'DejaVu Sans Mono',consolas,'Courier New',monospace\"><span style=\"color: #00ff00; text-decoration-color: #00ff00\">──────────────────────────────────────────── </span><span style=\"color: #008000; text-decoration-color: #008000; font-weight: bold\">RESUMO DA TABELA DO BANCO</span><span style=\"color: #00ff00; text-decoration-color: #00ff00\"> ────────────────────────────────────────────</span>\n",
       "</pre>\n"
      ],
      "text/plain": [
       "\u001b[92m──────────────────────────────────────────── \u001b[0m\u001b[1;32mRESUMO DA TABELA DO BANCO\u001b[0m\u001b[92m ────────────────────────────────────────────\u001b[0m\n"
      ]
     },
     "metadata": {},
     "output_type": "display_data"
    },
    {
     "data": {
      "text/html": [
       "<style type=\"text/css\">\n",
       "#T_6ff0d_row0_col2, #T_6ff0d_row1_col2 {\n",
       "  color: red;\n",
       "}\n",
       "#T_6ff0d_row2_col2, #T_6ff0d_row3_col2 {\n",
       "  color: LimeGreen;\n",
       "}\n",
       "</style>\n",
       "<table id=\"T_6ff0d\">\n",
       "  <thead>\n",
       "    <tr>\n",
       "      <th class=\"blank level0\" >&nbsp;</th>\n",
       "      <th id=\"T_6ff0d_level0_col0\" class=\"col_heading level0 col0\" >column_name</th>\n",
       "      <th id=\"T_6ff0d_level0_col1\" class=\"col_heading level0 col1\" >Metadados coerentes com dicionário?</th>\n",
       "      <th id=\"T_6ff0d_level0_col2\" class=\"col_heading level0 col2\" >Observação</th>\n",
       "    </tr>\n",
       "  </thead>\n",
       "  <tbody>\n",
       "    <tr>\n",
       "      <th id=\"T_6ff0d_level0_row0\" class=\"row_heading level0 row0\" >0</th>\n",
       "      <td id=\"T_6ff0d_row0_col0\" class=\"data row0 col0\" >id_turma</td>\n",
       "      <td id=\"T_6ff0d_row0_col1\" class=\"data row0 col1\" >Não</td>\n",
       "      <td id=\"T_6ff0d_row0_col2\" class=\"data row0 col2\" >Tipagem ou nullable diferentes do dicionário</td>\n",
       "    </tr>\n",
       "    <tr>\n",
       "      <th id=\"T_6ff0d_level0_row1\" class=\"row_heading level0 row1\" >1</th>\n",
       "      <td id=\"T_6ff0d_row1_col0\" class=\"data row1 col0\" >id_disciplina</td>\n",
       "      <td id=\"T_6ff0d_row1_col1\" class=\"data row1 col1\" >Não</td>\n",
       "      <td id=\"T_6ff0d_row1_col2\" class=\"data row1 col2\" >Não encontrada no dicionário</td>\n",
       "    </tr>\n",
       "    <tr>\n",
       "      <th id=\"T_6ff0d_level0_row2\" class=\"row_heading level0 row2\" >2</th>\n",
       "      <td id=\"T_6ff0d_row2_col0\" class=\"data row2 col0\" >data_avaliacao</td>\n",
       "      <td id=\"T_6ff0d_row2_col1\" class=\"data row2 col1\" >Sim</td>\n",
       "      <td id=\"T_6ff0d_row2_col2\" class=\"data row2 col2\" >OK</td>\n",
       "    </tr>\n",
       "    <tr>\n",
       "      <th id=\"T_6ff0d_level0_row3\" class=\"row_heading level0 row3\" >3</th>\n",
       "      <td id=\"T_6ff0d_row3_col0\" class=\"data row3 col0\" >titulo</td>\n",
       "      <td id=\"T_6ff0d_row3_col1\" class=\"data row3 col1\" >Sim</td>\n",
       "      <td id=\"T_6ff0d_row3_col2\" class=\"data row3 col2\" >OK</td>\n",
       "    </tr>\n",
       "  </tbody>\n",
       "</table>\n"
      ],
      "text/plain": [
       "<pandas.io.formats.style.Styler at 0x7ff423bffd10>"
      ]
     },
     "metadata": {},
     "output_type": "display_data"
    },
    {
     "data": {
      "text/html": [
       "<pre style=\"white-space:pre;overflow-x:auto;line-height:normal;font-family:Menlo,'DejaVu Sans Mono',consolas,'Courier New',monospace\"><span style=\"color: #00ff00; text-decoration-color: #00ff00\">──────────────────────────── </span><span style=\"color: #008000; text-decoration-color: #008000; font-weight: bold\">COLUNAS DO DICIONÁRIO NÃO ENCONTRADAS NA TABELA DO BANCO</span><span style=\"color: #00ff00; text-decoration-color: #00ff00\"> ─────────────────────────────</span>\n",
       "</pre>\n"
      ],
      "text/plain": [
       "\u001b[92m──────────────────────────── \u001b[0m\u001b[1;32mCOLUNAS DO DICIONÁRIO NÃO ENCONTRADAS NA TABELA DO BANCO\u001b[0m\u001b[92m ─────────────────────────────\u001b[0m\n"
      ]
     },
     "metadata": {},
     "output_type": "display_data"
    },
    {
     "data": {
      "text/html": [
       "<div>\n",
       "<style scoped>\n",
       "    .dataframe tbody tr th:only-of-type {\n",
       "        vertical-align: middle;\n",
       "    }\n",
       "\n",
       "    .dataframe tbody tr th {\n",
       "        vertical-align: top;\n",
       "    }\n",
       "\n",
       "    .dataframe thead th {\n",
       "        text-align: right;\n",
       "    }\n",
       "</style>\n",
       "<table border=\"1\" class=\"dataframe\">\n",
       "  <thead>\n",
       "    <tr style=\"text-align: right;\">\n",
       "      <th></th>\n",
       "      <th>column_name</th>\n",
       "      <th>data_type</th>\n",
       "      <th>is_nullable</th>\n",
       "    </tr>\n",
       "  </thead>\n",
       "  <tbody>\n",
       "    <tr>\n",
       "      <th>0</th>\n",
       "      <td>a</td>\n",
       "      <td>int</td>\n",
       "      <td>YES</td>\n",
       "    </tr>\n",
       "  </tbody>\n",
       "</table>\n",
       "</div>"
      ],
      "text/plain": [
       "  column_name data_type is_nullable\n",
       "0           a       int         YES"
      ]
     },
     "metadata": {},
     "output_type": "display_data"
    },
    {
     "data": {
      "text/html": [
       "<pre style=\"white-space:pre;overflow-x:auto;line-height:normal;font-family:Menlo,'DejaVu Sans Mono',consolas,'Courier New',monospace\"><span style=\"color: #00ff00; text-decoration-color: #00ff00\">────────────────────────────────────────────────── </span><span style=\"color: #008000; text-decoration-color: #008000; font-weight: bold\">TOP </span><span style=\"color: #008000; text-decoration-color: #008000; font-weight: bold\">5</span><span style=\"color: #008000; text-decoration-color: #008000; font-weight: bold\"> LINHAS </span><span style=\"color: #00ff00; text-decoration-color: #00ff00\"> ──────────────────────────────────────────────────</span>\n",
       "</pre>\n"
      ],
      "text/plain": [
       "\u001b[92m────────────────────────────────────────────────── \u001b[0m\u001b[1;32mTOP \u001b[0m\u001b[1;32m5\u001b[0m\u001b[1;32m LINHAS \u001b[0m\u001b[92m ──────────────────────────────────────────────────\u001b[0m\n"
      ]
     },
     "metadata": {},
     "output_type": "display_data"
    },
    {
     "data": {
      "text/html": [
       "<div>\n",
       "<style scoped>\n",
       "    .dataframe tbody tr th:only-of-type {\n",
       "        vertical-align: middle;\n",
       "    }\n",
       "\n",
       "    .dataframe tbody tr th {\n",
       "        vertical-align: top;\n",
       "    }\n",
       "\n",
       "    .dataframe thead th {\n",
       "        text-align: right;\n",
       "    }\n",
       "</style>\n",
       "<table border=\"1\" class=\"dataframe\">\n",
       "  <thead>\n",
       "    <tr style=\"text-align: right;\">\n",
       "      <th></th>\n",
       "      <th>id_turma</th>\n",
       "      <th>id_disciplina</th>\n",
       "      <th>data_avaliacao</th>\n",
       "      <th>titulo</th>\n",
       "    </tr>\n",
       "  </thead>\n",
       "  <tbody>\n",
       "    <tr>\n",
       "      <th>0</th>\n",
       "      <td>2</td>\n",
       "      <td>203</td>\n",
       "      <td>2021-03-10</td>\n",
       "      <td>AV-EE-10-3-2021</td>\n",
       "    </tr>\n",
       "    <tr>\n",
       "      <th>1</th>\n",
       "      <td>4</td>\n",
       "      <td>404</td>\n",
       "      <td>2021-03-04</td>\n",
       "      <td>AV-PE-4-3-2021</td>\n",
       "    </tr>\n",
       "    <tr>\n",
       "      <th>2</th>\n",
       "      <td>1</td>\n",
       "      <td>103</td>\n",
       "      <td>2021-06-16</td>\n",
       "      <td>AV-SO-16-6-2021</td>\n",
       "    </tr>\n",
       "    <tr>\n",
       "      <th>3</th>\n",
       "      <td>2</td>\n",
       "      <td>203</td>\n",
       "      <td>2021-04-14</td>\n",
       "      <td>AV-EE-14-4-2021</td>\n",
       "    </tr>\n",
       "    <tr>\n",
       "      <th>4</th>\n",
       "      <td>2</td>\n",
       "      <td>201</td>\n",
       "      <td>2021-04-19</td>\n",
       "      <td>AV-GF-19-4-2021</td>\n",
       "    </tr>\n",
       "  </tbody>\n",
       "</table>\n",
       "</div>"
      ],
      "text/plain": [
       "   id_turma  id_disciplina data_avaliacao           titulo\n",
       "0         2            203     2021-03-10  AV-EE-10-3-2021\n",
       "1         4            404     2021-03-04   AV-PE-4-3-2021\n",
       "2         1            103     2021-06-16  AV-SO-16-6-2021\n",
       "3         2            203     2021-04-14  AV-EE-14-4-2021\n",
       "4         2            201     2021-04-19  AV-GF-19-4-2021"
      ]
     },
     "metadata": {},
     "output_type": "display_data"
    },
    {
     "data": {
      "text/html": [
       "<pre style=\"white-space:pre;overflow-x:auto;line-height:normal;font-family:Menlo,'DejaVu Sans Mono',consolas,'Courier New',monospace\"><span style=\"color: #00ff00; text-decoration-color: #00ff00\">──────────────────────────────────────── </span><span style=\"color: #008000; text-decoration-color: #008000; font-weight: bold\">DETALHES DA TABELA E DICIONÁRIO </span><span style=\"color: #00ff00; text-decoration-color: #00ff00\"> ─────────────────────────────────────────</span>\n",
       "</pre>\n"
      ],
      "text/plain": [
       "\u001b[92m──────────────────────────────────────── \u001b[0m\u001b[1;32mDETALHES DA TABELA E DICIONÁRIO \u001b[0m\u001b[92m ─────────────────────────────────────────\u001b[0m\n"
      ]
     },
     "metadata": {},
     "output_type": "display_data"
    },
    {
     "data": {
      "text/html": [
       "<style type=\"text/css\">\n",
       "#T_8e309_row0_col7, #T_8e309_row0_col9, #T_8e309_row2_col7, #T_8e309_row2_col8, #T_8e309_row2_col9, #T_8e309_row3_col7, #T_8e309_row3_col8, #T_8e309_row3_col9 {\n",
       "  color: LimeGreen;\n",
       "}\n",
       "#T_8e309_row0_col8, #T_8e309_row1_col7, #T_8e309_row1_col8, #T_8e309_row1_col9 {\n",
       "  color: red;\n",
       "}\n",
       "</style>\n",
       "<table id=\"T_8e309\">\n",
       "  <thead>\n",
       "    <tr>\n",
       "      <th class=\"blank level0\" >&nbsp;</th>\n",
       "      <th id=\"T_8e309_level0_col0\" class=\"col_heading level0 col0\" >column_name</th>\n",
       "      <th id=\"T_8e309_level0_col1\" class=\"col_heading level0 col1\" >data_type</th>\n",
       "      <th id=\"T_8e309_level0_col2\" class=\"col_heading level0 col2\" >is_nullable</th>\n",
       "      <th id=\"T_8e309_level0_col3\" class=\"col_heading level0 col3\" >dtype_consolidado</th>\n",
       "      <th id=\"T_8e309_level0_col4\" class=\"col_heading level0 col4\" >dic_column_name</th>\n",
       "      <th id=\"T_8e309_level0_col5\" class=\"col_heading level0 col5\" >dic_data_type</th>\n",
       "      <th id=\"T_8e309_level0_col6\" class=\"col_heading level0 col6\" >dic_is_nullable</th>\n",
       "      <th id=\"T_8e309_level0_col7\" class=\"col_heading level0 col7\" >coluna_existente_no_dic?</th>\n",
       "      <th id=\"T_8e309_level0_col8\" class=\"col_heading level0 col8\" >tipagem_igual_dic?</th>\n",
       "      <th id=\"T_8e309_level0_col9\" class=\"col_heading level0 col9\" >null_igual_dic?</th>\n",
       "    </tr>\n",
       "  </thead>\n",
       "  <tbody>\n",
       "    <tr>\n",
       "      <th id=\"T_8e309_level0_row0\" class=\"row_heading level0 row0\" >0</th>\n",
       "      <td id=\"T_8e309_row0_col0\" class=\"data row0 col0\" >id_turma</td>\n",
       "      <td id=\"T_8e309_row0_col1\" class=\"data row0 col1\" >bigint</td>\n",
       "      <td id=\"T_8e309_row0_col2\" class=\"data row0 col2\" >YES</td>\n",
       "      <td id=\"T_8e309_row0_col3\" class=\"data row0 col3\" >int</td>\n",
       "      <td id=\"T_8e309_row0_col4\" class=\"data row0 col4\" >id_turma</td>\n",
       "      <td id=\"T_8e309_row0_col5\" class=\"data row0 col5\" >text</td>\n",
       "      <td id=\"T_8e309_row0_col6\" class=\"data row0 col6\" >YES</td>\n",
       "      <td id=\"T_8e309_row0_col7\" class=\"data row0 col7\" >sim</td>\n",
       "      <td id=\"T_8e309_row0_col8\" class=\"data row0 col8\" >não</td>\n",
       "      <td id=\"T_8e309_row0_col9\" class=\"data row0 col9\" >sim</td>\n",
       "    </tr>\n",
       "    <tr>\n",
       "      <th id=\"T_8e309_level0_row1\" class=\"row_heading level0 row1\" >1</th>\n",
       "      <td id=\"T_8e309_row1_col0\" class=\"data row1 col0\" >id_disciplina</td>\n",
       "      <td id=\"T_8e309_row1_col1\" class=\"data row1 col1\" >bigint</td>\n",
       "      <td id=\"T_8e309_row1_col2\" class=\"data row1 col2\" >YES</td>\n",
       "      <td id=\"T_8e309_row1_col3\" class=\"data row1 col3\" >int</td>\n",
       "      <td id=\"T_8e309_row1_col4\" class=\"data row1 col4\" >None</td>\n",
       "      <td id=\"T_8e309_row1_col5\" class=\"data row1 col5\" >None</td>\n",
       "      <td id=\"T_8e309_row1_col6\" class=\"data row1 col6\" >None</td>\n",
       "      <td id=\"T_8e309_row1_col7\" class=\"data row1 col7\" >não</td>\n",
       "      <td id=\"T_8e309_row1_col8\" class=\"data row1 col8\" >não</td>\n",
       "      <td id=\"T_8e309_row1_col9\" class=\"data row1 col9\" >não</td>\n",
       "    </tr>\n",
       "    <tr>\n",
       "      <th id=\"T_8e309_level0_row2\" class=\"row_heading level0 row2\" >2</th>\n",
       "      <td id=\"T_8e309_row2_col0\" class=\"data row2 col0\" >data_avaliacao</td>\n",
       "      <td id=\"T_8e309_row2_col1\" class=\"data row2 col1\" >date</td>\n",
       "      <td id=\"T_8e309_row2_col2\" class=\"data row2 col2\" >YES</td>\n",
       "      <td id=\"T_8e309_row2_col3\" class=\"data row2 col3\" >date</td>\n",
       "      <td id=\"T_8e309_row2_col4\" class=\"data row2 col4\" >data_avaliacao</td>\n",
       "      <td id=\"T_8e309_row2_col5\" class=\"data row2 col5\" >date</td>\n",
       "      <td id=\"T_8e309_row2_col6\" class=\"data row2 col6\" >YES</td>\n",
       "      <td id=\"T_8e309_row2_col7\" class=\"data row2 col7\" >sim</td>\n",
       "      <td id=\"T_8e309_row2_col8\" class=\"data row2 col8\" >sim</td>\n",
       "      <td id=\"T_8e309_row2_col9\" class=\"data row2 col9\" >sim</td>\n",
       "    </tr>\n",
       "    <tr>\n",
       "      <th id=\"T_8e309_level0_row3\" class=\"row_heading level0 row3\" >3</th>\n",
       "      <td id=\"T_8e309_row3_col0\" class=\"data row3 col0\" >titulo</td>\n",
       "      <td id=\"T_8e309_row3_col1\" class=\"data row3 col1\" >text</td>\n",
       "      <td id=\"T_8e309_row3_col2\" class=\"data row3 col2\" >YES</td>\n",
       "      <td id=\"T_8e309_row3_col3\" class=\"data row3 col3\" >varchar</td>\n",
       "      <td id=\"T_8e309_row3_col4\" class=\"data row3 col4\" >titulo</td>\n",
       "      <td id=\"T_8e309_row3_col5\" class=\"data row3 col5\" >varchar</td>\n",
       "      <td id=\"T_8e309_row3_col6\" class=\"data row3 col6\" >YES</td>\n",
       "      <td id=\"T_8e309_row3_col7\" class=\"data row3 col7\" >sim</td>\n",
       "      <td id=\"T_8e309_row3_col8\" class=\"data row3 col8\" >sim</td>\n",
       "      <td id=\"T_8e309_row3_col9\" class=\"data row3 col9\" >sim</td>\n",
       "    </tr>\n",
       "  </tbody>\n",
       "</table>\n"
      ],
      "text/plain": [
       "<pandas.io.formats.style.Styler at 0x7ff3b7764b50>"
      ]
     },
     "metadata": {},
     "output_type": "display_data"
    }
   ],
   "source": [
    "#Paramêtros para leitura do Dicionário\n",
    "file_name = \"/home/jovyan/notebooks/Validação estrutura/a.xlsx\"  # Caminho do arquivo Excel - dicionário de dados\n",
    "sheet_name = 'b' #Aba do arquivo Excel - dicionário de dados\n",
    "\n",
    "#Paramêtros para leitura da tabela do banco\n",
    "schema = 'public' #Schema do tabeal do banco\n",
    "nome_tabela = 'view_avaliacoes3' #Nome da tabela do banco\n",
    "\n",
    "# Execução da Função. Recebe file_name, sheet_name, schema, nome_tabela e engine\n",
    "processor = DataFrameProcessor(file_name, sheet_name, schema, nome_tabela,engine)\n",
    "\n",
    "# Chama os métodos para processar os dataframes\n",
    "processor.read_excel_to_df() #Leitura do dicionário\n",
    "processor.execute_sql_to_df() #Comandos de leitura da tabela do banco\n",
    "processor.process_dataframes() #Retorno dos dataframes para exibição"
   ]
  }
 ],
 "metadata": {
  "kernelspec": {
   "display_name": "Python 3 (ipykernel)",
   "language": "python",
   "name": "python3"
  },
  "language_info": {
   "codemirror_mode": {
    "name": "ipython",
    "version": 3
   },
   "file_extension": ".py",
   "mimetype": "text/x-python",
   "name": "python",
   "nbconvert_exporter": "python",
   "pygments_lexer": "ipython3",
   "version": "3.11.6"
  }
 },
 "nbformat": 4,
 "nbformat_minor": 4
}
