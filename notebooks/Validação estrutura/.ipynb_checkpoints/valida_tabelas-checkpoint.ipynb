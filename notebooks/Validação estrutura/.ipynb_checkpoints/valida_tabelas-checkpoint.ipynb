{
 "cells": [
  {
   "cell_type": "markdown",
   "metadata": {},
   "source": [
    "Este notebook tem como objetivo validar se as colunas das Views estão de acordo com o Dicionário de Dados baseado nas colunas dos Endpoints da API do Caravel"
   ]
  },
  {
   "cell_type": "code",
   "execution_count": 1,
   "metadata": {
    "tags": []
   },
   "outputs": [],
   "source": [
    "from sqlalchemy import create_engine\n",
    "import pandas as pd\n",
    "from validador import DataFrameProcessor"
   ]
  },
  {
   "cell_type": "code",
   "execution_count": 2,
   "metadata": {
    "tags": []
   },
   "outputs": [],
   "source": [
    "#LEITURA DICIONÁRIO\n",
    "file_name = \"/home/jovyan/notebooks/Validação estrutura/a.xlsx\"  # Certifique-se de fornecer o caminho correto do arquivo\n",
    "sheet_name = 'a'"
   ]
  },
  {
   "cell_type": "code",
   "execution_count": 3,
   "metadata": {
    "tags": []
   },
   "outputs": [],
   "source": [
    "#LEITURA VIEW BANCO\n",
    "\n",
    "# Configurações de conexão com o banco de dados\n",
    "user = 'postgres'\n",
    "password = 'password'\n",
    "host = 'postgres'\n",
    "port = '5432'  # Porta padrão do PostgreSQL\n",
    "database = 'prova'\n",
    "\n",
    "# Cria a string de conexão\n",
    "connection_string = f'postgresql://{user}:{password}@{host}:{port}/{database}'\n",
    "\n",
    "# Cria a engine de conexão\n",
    "engine = create_engine(connection_string)\n",
    "\n",
    "# Consulta SQL para selecionar os metadados da tabela\n",
    "query_aluno_sqlserver= \"SELECT column_name, data_type, is_nullable FROM information_schema.columns WHERE table_name = 'view_avaliacoes2';\""
   ]
  },
  {
   "cell_type": "markdown",
   "metadata": {},
   "source": [
    "## Execução da Função"
   ]
  },
  {
   "cell_type": "code",
   "execution_count": 4,
   "metadata": {
    "tags": []
   },
   "outputs": [
    {
     "name": "stdout",
     "output_type": "stream",
     "text": [
      "---------------------------------------------------------------------- RESUMO DA TABELA DO BANCO ----------------------------------------------------------------------\n",
      "+--------------+-----------------------------------+----------+\n",
      "|column_name   |Metadados coerentes com dicionário?|Observação|\n",
      "+--------------+-----------------------------------+----------+\n",
      "|id_turma      |Sim                                |OK        |\n",
      "|id_disciplina |Sim                                |OK        |\n",
      "|data_avaliacao|Sim                                |OK        |\n",
      "|titulo        |Sim                                |OK        |\n",
      "+--------------+-----------------------------------+----------+\n",
      "\n",
      "---------------------------------------------------------------------- DETALHES DA TABELA E DICIONÁRIO ----------------------------------------------------------------------\n",
      "+--------------+---------+-----------+-----------------+---------------+-------------+---------------+------------------------+------------------+---------------+\n",
      "|column_name   |data_type|is_nullable|dtype_consolidado|dic_column_name|dic_data_type|dic_is_nullable|coluna_existente_no_dic?|tipagem_igual_dic?|null_igual_dic?|\n",
      "+--------------+---------+-----------+-----------------+---------------+-------------+---------------+------------------------+------------------+---------------+\n",
      "|id_turma      |bigint   |YES        |int              |id_turma       |int          |YES            |sim                     |sim               |sim            |\n",
      "|id_disciplina |bigint   |YES        |int              |id_disciplina  |int          |YES            |sim                     |sim               |sim            |\n",
      "|data_avaliacao|date     |YES        |date             |data_avaliacao |date         |YES            |sim                     |sim               |sim            |\n",
      "|titulo        |text     |YES        |varchar          |titulo         |varchar      |YES            |sim                     |sim               |sim            |\n",
      "+--------------+---------+-----------+-----------------+---------------+-------------+---------------+------------------------+------------------+---------------+\n",
      "\n",
      "------------------------------------------------- COLUNAS DO DICIONÁRIO NÃO ENCONTRADAS NA TABELA DO BANCO -------------------------------------------------\n",
      "+-----------+---------+-----------+\n",
      "|column_name|data_type|is_nullable|\n",
      "+-----------+---------+-----------+\n",
      "|a          |int      |NO         |\n",
      "|b          |int      |NO         |\n",
      "|a          |int      |NO         |\n",
      "|e          |int      |NO         |\n",
      "+-----------+---------+-----------+\n",
      "\n"
     ]
    }
   ],
   "source": [
    "#processor = DataFrameProcessor(df, dic_vw)\n",
    "processor = DataFrameProcessor(file_name, sheet_name, query_aluno_sqlserver, engine)\n",
    "processor.read_excel_to_df()\n",
    "processor.execute_sql_to_df()\n",
    "processor.process_dataframes()\n",
    "processor.close_session()"
   ]
  }
 ],
 "metadata": {
  "kernelspec": {
   "display_name": "Python 3 (ipykernel)",
   "language": "python",
   "name": "python3"
  },
  "language_info": {
   "codemirror_mode": {
    "name": "ipython",
    "version": 3
   },
   "file_extension": ".py",
   "mimetype": "text/x-python",
   "name": "python",
   "nbconvert_exporter": "python",
   "pygments_lexer": "ipython3",
   "version": "3.11.6"
  }
 },
 "nbformat": 4,
 "nbformat_minor": 4
}
