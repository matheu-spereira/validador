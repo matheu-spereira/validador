{
 "cells": [
  {
   "cell_type": "markdown",
   "metadata": {},
   "source": [
    "## Este notebook tem como objetivo validar se as colunas das Views em um banco SQL SERVER estão de acordo com o Dicionário de Dados baseado nas colunas dos Endpoints da API do Caravel\n",
    "## A função desenvolvida recebe as seguintes variáveis:\n",
    "#### file_name = Localização do dicionário de dados (.xlsx);\n",
    "#### sheet_name = Nome da aba da planilha onde está contida o dicionário de dados da tabela a ser validada;\n",
    "#### query_sqlserver = Consulta SQL que irá retornar os metadados da tabela que será validada;\n",
    "#### engine = String de conexão do banco;\n",
    "\n",
    "\n",
    "## Funcionamento:\n",
    "#### A função \"process_dataframes\", realiza um left join entre o df que contém os metadados da tabela do banco com o df do dicionário de dados através da coluna que representa o nome das colunas de ambos os dataframes(\"column_name\"). Após o join é retornado as colunas correspondentes do dicionário de dados que são (nome de coluna, tipo de dado e se é null ou não). A partir da obtenção dessas informaçãoes é realizado a validação dos metadados. Também é apresentado as colunas que estão no dicionário de dados mas não foram encontradas na tabela do banco, seja por não existirem ou por terem nomes diferentes entre si.\n",
    "\n",
    "## Pré-Requisitos:\n",
    "#### O dicionários de dados devem ter uma tabela com as seguintes colunas: \"column_name\", \"data_type\" e \"is_nullable\" para realização dos join e validações.\n",
    "\n",
    "## Regras adicionais aplicadas:\n",
    "#### Durante a validação da tabela do banco, os tipos de dados (char, varchar, text, nchar, nvarchar e ntext) são consolidados como varchar.\n",
    "#### Durante a validação da tabela do banco, os tipos de dados (bigint, numeric, smallint, int e numeric) são consolidados como int.\n",
    "#### Obs: É possível ver essa consolidação na coluna \"dtype_consolidado\""
   ]
  },
  {
   "cell_type": "code",
   "execution_count": 1,
   "metadata": {},
   "outputs": [
    {
     "name": "stdout",
     "output_type": "stream",
     "text": [
      "Requirement already satisfied: psycopg2-binary in /opt/conda/lib/python3.11/site-packages (2.9.9)\n"
     ]
    }
   ],
   "source": [
    "!pip install psycopg2-binary"
   ]
  },
  {
   "cell_type": "code",
   "execution_count": 2,
   "metadata": {
    "tags": []
   },
   "outputs": [],
   "source": [
    "from sqlalchemy import create_engine\n",
    "import pandas as pd\n",
    "from validador import DataFrameProcessor"
   ]
  },
  {
   "cell_type": "code",
   "execution_count": 3,
   "metadata": {
    "tags": []
   },
   "outputs": [],
   "source": [
    "#LEITURA DICIONÁRIO\n",
    "file_name = \"/home/jovyan/notebooks/Validação estrutura/a.xlsx\"  # Certifique-se de fornecer o caminho correto do arquivo\n",
    "sheet_name = 'a'"
   ]
  },
  {
   "cell_type": "code",
   "execution_count": 4,
   "metadata": {
    "tags": []
   },
   "outputs": [],
   "source": [
    "#LEITURA VIEW BANCO\n",
    "# Configurações de conexão com o banco de dados\n",
    "user = 'postgres'\n",
    "password = 'password'\n",
    "host = 'postgres'\n",
    "port = '5432'  # Porta padrão do PostgreSQL\n",
    "database = 'prova'\n",
    "\n",
    "# Cria a string de conexão\n",
    "connection_string = f'postgresql://{user}:{password}@{host}:{port}/{database}'\n",
    "\n",
    "# Cria a engine de conexão\n",
    "engine = create_engine(connection_string)\n",
    "\n",
    "# Consulta SQL para selecionar os metadados da tabela\n",
    "query_sqlserver= \"SELECT column_name, data_type, is_nullable FROM information_schema.columns WHERE table_name = 'fato_avaliacoes';\""
   ]
  },
  {
   "cell_type": "markdown",
   "metadata": {},
   "source": [
    "## Execução da Função"
   ]
  },
  {
   "cell_type": "code",
   "execution_count": 5,
   "metadata": {
    "tags": []
   },
   "outputs": [
    {
     "name": "stdout",
     "output_type": "stream",
     "text": [
      "---------------------------------------------------------------------- RESUMO DA TABELA DO BANCO ----------------------------------------------------------------------\n",
      "+--------------+-----------------------------------+----------+\n",
      "|column_name   |Metadados coerentes com dicionário?|Observação|\n",
      "+--------------+-----------------------------------+----------+\n",
      "|id_turma      |Sim                                |OK        |\n",
      "|id_disciplina |Sim                                |OK        |\n",
      "|data_avaliacao|Sim                                |OK        |\n",
      "|titulo        |Sim                                |OK        |\n",
      "+--------------+-----------------------------------+----------+\n",
      "\n",
      "---------------------------------------------------------------------- DETALHES DA TABELA E DICIONÁRIO ----------------------------------------------------------------------\n",
      "+--------------+---------+-----------+-----------------+---------------+-------------+---------------+------------------------+------------------+---------------+\n",
      "|column_name   |data_type|is_nullable|dtype_consolidado|dic_column_name|dic_data_type|dic_is_nullable|coluna_existente_no_dic?|tipagem_igual_dic?|null_igual_dic?|\n",
      "+--------------+---------+-----------+-----------------+---------------+-------------+---------------+------------------------+------------------+---------------+\n",
      "|id_turma      |bigint   |YES        |int              |id_turma       |int          |YES            |sim                     |sim               |sim            |\n",
      "|id_disciplina |bigint   |YES        |int              |id_disciplina  |int          |YES            |sim                     |sim               |sim            |\n",
      "|data_avaliacao|date     |YES        |date             |data_avaliacao |date         |YES            |sim                     |sim               |sim            |\n",
      "|titulo        |text     |YES        |varchar          |titulo         |varchar      |YES            |sim                     |sim               |sim            |\n",
      "+--------------+---------+-----------+-----------------+---------------+-------------+---------------+------------------------+------------------+---------------+\n",
      "\n",
      "------------------------------------------------- COLUNAS DO DICIONÁRIO NÃO ENCONTRADAS NA TABELA DO BANCO -------------------------------------------------\n",
      "+-----------+---------+-----------+\n",
      "|column_name|data_type|is_nullable|\n",
      "+-----------+---------+-----------+\n",
      "|a          |int      |NO         |\n",
      "|b          |int      |NO         |\n",
      "|a          |int      |NO         |\n",
      "|e          |int      |NO         |\n",
      "|f          |text     |YES        |\n",
      "+-----------+---------+-----------+\n",
      "\n"
     ]
    }
   ],
   "source": [
    "#processor = DataFrameProcessor(df, dic_vw)\n",
    "processor = DataFrameProcessor(file_name, sheet_name, query_sqlserver, engine)\n",
    "processor.read_excel_to_df()\n",
    "processor.execute_sql_to_df()\n",
    "processor.process_dataframes()\n",
    "processor.close_session()\n",
    "\n",
    "engine.dispose()"
   ]
  }
 ],
 "metadata": {
  "kernelspec": {
   "display_name": "Python 3 (ipykernel)",
   "language": "python",
   "name": "python3"
  },
  "language_info": {
   "codemirror_mode": {
    "name": "ipython",
    "version": 3
   },
   "file_extension": ".py",
   "mimetype": "text/x-python",
   "name": "python",
   "nbconvert_exporter": "python",
   "pygments_lexer": "ipython3",
   "version": "3.11.6"
  }
 },
 "nbformat": 4,
 "nbformat_minor": 4
}
