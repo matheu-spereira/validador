{
 "cells": [
  {
   "cell_type": "markdown",
   "id": "ad166d29-a924-4a98-aa23-41a9e5545b22",
   "metadata": {
    "papermill": {
     "duration": 0.009006,
     "end_time": "2024-01-14T18:49:32.999164",
     "exception": false,
     "start_time": "2024-01-14T18:49:32.990158",
     "status": "completed"
    },
    "tags": []
   },
   "source": [
    "## Objetivo do notebook\n",
    "#### O objetivo deste notebook é realizar a leitura de dados das origens do dataset matrículas em aulas e gravar de forma versionada na camada bronze\n"
   ]
  },
  {
   "cell_type": "markdown",
   "id": "0abb2b66-9f46-4424-8db0-0f360040be69",
   "metadata": {
    "papermill": {
     "duration": 0.006749,
     "end_time": "2024-01-14T18:49:33.013158",
     "exception": false,
     "start_time": "2024-01-14T18:49:33.006409",
     "status": "completed"
    },
    "tags": []
   },
   "source": [
    "### Import Libs"
   ]
  },
  {
   "cell_type": "code",
   "execution_count": 1,
   "id": "64dcf5ff-5d61-4770-9fa0-e77cc20a65c4",
   "metadata": {
    "execution": {
     "iopub.execute_input": "2024-01-14T18:49:33.028020Z",
     "iopub.status.busy": "2024-01-14T18:49:33.027792Z",
     "iopub.status.idle": "2024-01-14T18:49:35.493538Z",
     "shell.execute_reply": "2024-01-14T18:49:35.491639Z"
    },
    "papermill": {
     "duration": 2.477092,
     "end_time": "2024-01-14T18:49:35.496998",
     "exception": false,
     "start_time": "2024-01-14T18:49:33.019906",
     "status": "completed"
    },
    "tags": []
   },
   "outputs": [
    {
     "name": "stdout",
     "output_type": "stream",
     "text": [
      "Requirement already satisfied: minio in /opt/conda/lib/python3.11/site-packages (7.2.3)\r\n",
      "Requirement already satisfied: certifi in /opt/conda/lib/python3.11/site-packages (from minio) (2023.7.22)\r\n",
      "Requirement already satisfied: urllib3 in /opt/conda/lib/python3.11/site-packages (from minio) (1.26.18)\r\n",
      "Requirement already satisfied: argon2-cffi in /opt/conda/lib/python3.11/site-packages (from minio) (23.1.0)\r\n",
      "Requirement already satisfied: pycryptodome in /opt/conda/lib/python3.11/site-packages (from minio) (3.20.0)\r\n",
      "Requirement already satisfied: typing-extensions in /opt/conda/lib/python3.11/site-packages (from minio) (4.8.0)\r\n"
     ]
    },
    {
     "name": "stdout",
     "output_type": "stream",
     "text": [
      "Requirement already satisfied: argon2-cffi-bindings in /opt/conda/lib/python3.11/site-packages (from argon2-cffi->minio) (21.2.0)\r\n",
      "Requirement already satisfied: cffi>=1.0.1 in /opt/conda/lib/python3.11/site-packages (from argon2-cffi-bindings->argon2-cffi->minio) (1.16.0)\r\n",
      "Requirement already satisfied: pycparser in /opt/conda/lib/python3.11/site-packages (from cffi>=1.0.1->argon2-cffi-bindings->argon2-cffi->minio) (2.21)\r\n"
     ]
    }
   ],
   "source": [
    "!pip install minio"
   ]
  },
  {
   "cell_type": "code",
   "execution_count": 2,
   "id": "438a8381-135d-4019-8f53-ce0a99a0efd1",
   "metadata": {
    "editable": true,
    "execution": {
     "iopub.execute_input": "2024-01-14T18:49:35.512376Z",
     "iopub.status.busy": "2024-01-14T18:49:35.512107Z",
     "iopub.status.idle": "2024-01-14T18:49:36.129252Z",
     "shell.execute_reply": "2024-01-14T18:49:36.128460Z"
    },
    "papermill": {
     "duration": 0.626916,
     "end_time": "2024-01-14T18:49:36.130602",
     "exception": false,
     "start_time": "2024-01-14T18:49:35.503686",
     "status": "completed"
    },
    "slideshow": {
     "slide_type": ""
    },
    "tags": []
   },
   "outputs": [],
   "source": [
    "from pyspark.sql import SparkSession\n",
    "from datetime import datetime\n",
    "from minio import Minio\n",
    "from minio.error import S3Error\n",
    "from pyspark.sql.functions import lit\n",
    "from pyspark.sql.functions import current_timestamp\n",
    "\n",
    "import os\n",
    "import pandas as pd\n",
    "import glob"
   ]
  },
  {
   "cell_type": "markdown",
   "id": "3057a3d2-4db9-40da-834c-84e15ed9f09b",
   "metadata": {
    "papermill": {
     "duration": 0.007358,
     "end_time": "2024-01-14T18:49:36.142593",
     "exception": false,
     "start_time": "2024-01-14T18:49:36.135235",
     "status": "completed"
    },
    "tags": []
   },
   "source": [
    "### Definição de variáveis"
   ]
  },
  {
   "cell_type": "code",
   "execution_count": 3,
   "id": "3d58f5ea-59c2-4541-b284-e8c456f02e92",
   "metadata": {
    "execution": {
     "iopub.execute_input": "2024-01-14T18:49:36.157413Z",
     "iopub.status.busy": "2024-01-14T18:49:36.157089Z",
     "iopub.status.idle": "2024-01-14T18:49:38.456126Z",
     "shell.execute_reply": "2024-01-14T18:49:38.455298Z"
    },
    "papermill": {
     "duration": 2.30811,
     "end_time": "2024-01-14T18:49:38.457522",
     "exception": false,
     "start_time": "2024-01-14T18:49:36.149412",
     "status": "completed"
    },
    "tags": []
   },
   "outputs": [],
   "source": [
    "# Sessão Spark\n",
    "spark = SparkSession.builder.getOrCreate()\n",
    "\n",
    "# Parametros de input e output das origens\n",
    "camadaEscrita = 'bronze'\n",
    "pasta = 'aulas'\n",
    "url = \"https://raw.githubusercontent.com/willianmaria/00006-2024-data/main/matricula_aulas.csv\"\n",
    "temp_blobs = '/home/jovyan/notebooks/temporary_blobs/' # pasta temporária para armazenamento de objetos\n",
    "\n",
    "# Conexão ao miniIO\n",
    "minio_endpoint = 'minio:9000'\n",
    "minio_access_key = 'minioaccesskey'\n",
    "minio_secret_key = 'miniosecretkey'\n",
    "minio_object_name = pasta\n",
    "minio_client = Minio(minio_endpoint, access_key=minio_access_key, secret_key=minio_secret_key, secure=False)\n",
    "\n",
    "# Definição de variáveis para versionamento dos dados na camada bronze\n",
    "timestamp = datetime.today().strftime('%Y%m%d')\n",
    "minio_path = f'{pasta} / {pasta + timestamp}'"
   ]
  },
  {
   "cell_type": "markdown",
   "id": "b9992b3b-50f8-4dea-97fd-1dfae9ff9e28",
   "metadata": {
    "papermill": {
     "duration": 0.007848,
     "end_time": "2024-01-14T18:49:38.469968",
     "exception": false,
     "start_time": "2024-01-14T18:49:38.462120",
     "status": "completed"
    },
    "tags": []
   },
   "source": [
    "### Leitura e Tratamento dos dados"
   ]
  },
  {
   "cell_type": "code",
   "execution_count": 4,
   "id": "04482079-e9c7-41f2-b318-b6d0b316778e",
   "metadata": {
    "editable": true,
    "execution": {
     "iopub.execute_input": "2024-01-14T18:49:38.485663Z",
     "iopub.status.busy": "2024-01-14T18:49:38.485424Z",
     "iopub.status.idle": "2024-01-14T18:49:46.135316Z",
     "shell.execute_reply": "2024-01-14T18:49:46.134263Z"
    },
    "papermill": {
     "duration": 7.660165,
     "end_time": "2024-01-14T18:49:46.136972",
     "exception": false,
     "start_time": "2024-01-14T18:49:38.476807",
     "status": "completed"
    },
    "slideshow": {
     "slide_type": ""
    },
    "tags": []
   },
   "outputs": [],
   "source": [
    "# leitura do CSV\n",
    "df_matri_aulas = pd.read_csv(url)\n",
    "#Geração de um dataframe spark\n",
    "df_matri_aulas = spark.createDataFrame(df_matri_aulas)\n",
    "#Criação de colunas de etl_Date\n",
    "df_matri_aulas = df_matri_aulas.withColumn(\"etl_date\", current_timestamp())"
   ]
  },
  {
   "cell_type": "markdown",
   "id": "cd29ea09-d3e6-4ac4-81bb-6858d7bd645d",
   "metadata": {
    "papermill": {
     "duration": 0.006907,
     "end_time": "2024-01-14T18:49:46.149085",
     "exception": false,
     "start_time": "2024-01-14T18:49:46.142178",
     "status": "completed"
    },
    "tags": []
   },
   "source": [
    "### Gravação do dataframe em um diretório temporário"
   ]
  },
  {
   "cell_type": "code",
   "execution_count": 5,
   "id": "90590fab-8fdb-4e74-b63f-9b74f950a5d0",
   "metadata": {
    "execution": {
     "iopub.execute_input": "2024-01-14T18:49:46.163930Z",
     "iopub.status.busy": "2024-01-14T18:49:46.163394Z",
     "iopub.status.idle": "2024-01-14T18:49:49.852170Z",
     "shell.execute_reply": "2024-01-14T18:49:49.851514Z"
    },
    "papermill": {
     "duration": 3.697874,
     "end_time": "2024-01-14T18:49:49.853687",
     "exception": false,
     "start_time": "2024-01-14T18:49:46.155813",
     "status": "completed"
    },
    "tags": []
   },
   "outputs": [],
   "source": [
    "df_matri_aulas.write.parquet(temp_blobs, mode=\"overwrite\")"
   ]
  },
  {
   "cell_type": "markdown",
   "id": "ffc5fe16-c710-4ea9-91ff-280fd86dd6cb",
   "metadata": {
    "papermill": {
     "duration": 0.007282,
     "end_time": "2024-01-14T18:49:49.866651",
     "exception": false,
     "start_time": "2024-01-14T18:49:49.859369",
     "status": "completed"
    },
    "tags": []
   },
   "source": [
    "### Gravação na camada Bronze"
   ]
  },
  {
   "cell_type": "code",
   "execution_count": 6,
   "id": "1d2beb5a-b95b-4e28-a29e-4abfa3870911",
   "metadata": {
    "execution": {
     "iopub.execute_input": "2024-01-14T18:49:49.883616Z",
     "iopub.status.busy": "2024-01-14T18:49:49.882693Z",
     "iopub.status.idle": "2024-01-14T18:49:50.101197Z",
     "shell.execute_reply": "2024-01-14T18:49:50.100398Z"
    },
    "papermill": {
     "duration": 0.228792,
     "end_time": "2024-01-14T18:49:50.102618",
     "exception": false,
     "start_time": "2024-01-14T18:49:49.873826",
     "status": "completed"
    },
    "tags": []
   },
   "outputs": [
    {
     "name": "stdout",
     "output_type": "stream",
     "text": [
      "Arquivo 'part-00000-1d1fd906-430b-478e-b6b4-e1cda180df94-c000.snappy.parquet' enviado com sucesso para o MinIO em 'aulas / aulas20240114/part-00000-1d1fd906-430b-478e-b6b4-e1cda180df94-c000.snappy.parquet'.\n",
      "Arquivo 'part-00001-1d1fd906-430b-478e-b6b4-e1cda180df94-c000.snappy.parquet' enviado com sucesso para o MinIO em 'aulas / aulas20240114/part-00001-1d1fd906-430b-478e-b6b4-e1cda180df94-c000.snappy.parquet'.\n",
      "Arquivo 'part-00002-1d1fd906-430b-478e-b6b4-e1cda180df94-c000.snappy.parquet' enviado com sucesso para o MinIO em 'aulas / aulas20240114/part-00002-1d1fd906-430b-478e-b6b4-e1cda180df94-c000.snappy.parquet'.\n",
      "Arquivo 'part-00003-1d1fd906-430b-478e-b6b4-e1cda180df94-c000.snappy.parquet' enviado com sucesso para o MinIO em 'aulas / aulas20240114/part-00003-1d1fd906-430b-478e-b6b4-e1cda180df94-c000.snappy.parquet'.\n",
      "Arquivo 'part-00004-1d1fd906-430b-478e-b6b4-e1cda180df94-c000.snappy.parquet' enviado com sucesso para o MinIO em 'aulas / aulas20240114/part-00004-1d1fd906-430b-478e-b6b4-e1cda180df94-c000.snappy.parquet'.\n",
      "Arquivo 'part-00005-1d1fd906-430b-478e-b6b4-e1cda180df94-c000.snappy.parquet' enviado com sucesso para o MinIO em 'aulas / aulas20240114/part-00005-1d1fd906-430b-478e-b6b4-e1cda180df94-c000.snappy.parquet'.\n",
      "Arquivo 'part-00006-1d1fd906-430b-478e-b6b4-e1cda180df94-c000.snappy.parquet' enviado com sucesso para o MinIO em 'aulas / aulas20240114/part-00006-1d1fd906-430b-478e-b6b4-e1cda180df94-c000.snappy.parquet'.\n",
      "Arquivo 'part-00007-1d1fd906-430b-478e-b6b4-e1cda180df94-c000.snappy.parquet' enviado com sucesso para o MinIO em 'aulas / aulas20240114/part-00007-1d1fd906-430b-478e-b6b4-e1cda180df94-c000.snappy.parquet'.\n",
      "Arquivo 'part-00008-1d1fd906-430b-478e-b6b4-e1cda180df94-c000.snappy.parquet' enviado com sucesso para o MinIO em 'aulas / aulas20240114/part-00008-1d1fd906-430b-478e-b6b4-e1cda180df94-c000.snappy.parquet'.\n",
      "Arquivo 'part-00009-1d1fd906-430b-478e-b6b4-e1cda180df94-c000.snappy.parquet' enviado com sucesso para o MinIO em 'aulas / aulas20240114/part-00009-1d1fd906-430b-478e-b6b4-e1cda180df94-c000.snappy.parquet'.\n",
      "Arquivo 'part-00010-1d1fd906-430b-478e-b6b4-e1cda180df94-c000.snappy.parquet' enviado com sucesso para o MinIO em 'aulas / aulas20240114/part-00010-1d1fd906-430b-478e-b6b4-e1cda180df94-c000.snappy.parquet'.\n",
      "Arquivo 'part-00011-1d1fd906-430b-478e-b6b4-e1cda180df94-c000.snappy.parquet' enviado com sucesso para o MinIO em 'aulas / aulas20240114/part-00011-1d1fd906-430b-478e-b6b4-e1cda180df94-c000.snappy.parquet'.\n"
     ]
    }
   ],
   "source": [
    "# Recria bucket caso não exista\n",
    "if not minio_client.bucket_exists(camadaEscrita):\n",
    "    minio_client.make_bucket(camadaEscrita)\n",
    "\n",
    "# Lista todos os arquivos Parquet no diretório temporário de blobs\n",
    "arquivos_parquet = glob.glob(os.path.join(temp_blobs, '*.parquet'))\n",
    "\n",
    "# Itera sobre a lista de arquivos Parquet e envia cada um para o MinIO\n",
    "for arquivo_parquet in arquivos_parquet:\n",
    "    try:\n",
    "        # Envia o arquivo para a camada bronze\n",
    "        nome_arquivo = os.path.basename(arquivo_parquet)\n",
    "        minio_client.fput_object(camadaEscrita, os.path.join(minio_path, nome_arquivo), arquivo_parquet)\n",
    "        print(f\"Arquivo '{nome_arquivo}' enviado com sucesso para o MinIO em '{os.path.join(minio_path, nome_arquivo)}'.\")\n",
    "    except S3Error as e:\n",
    "        print(f\"Erro ao enviar o arquivo para o MinIO: {e}\")\n"
   ]
  },
  {
   "cell_type": "markdown",
   "id": "897c9edc-9fbb-4910-a65e-0d26d9a9e7c5",
   "metadata": {
    "papermill": {
     "duration": 0.007326,
     "end_time": "2024-01-14T18:49:50.115426",
     "exception": false,
     "start_time": "2024-01-14T18:49:50.108100",
     "status": "completed"
    },
    "tags": []
   },
   "source": [
    "### Remove dados do diretório temporário de blobs"
   ]
  },
  {
   "cell_type": "code",
   "execution_count": 7,
   "id": "9645e8ca-0356-4e1b-8450-8da9d1990f79",
   "metadata": {
    "execution": {
     "iopub.execute_input": "2024-01-14T18:49:50.130293Z",
     "iopub.status.busy": "2024-01-14T18:49:50.130064Z",
     "iopub.status.idle": "2024-01-14T18:49:51.055537Z",
     "shell.execute_reply": "2024-01-14T18:49:51.052274Z"
    },
    "papermill": {
     "duration": 0.940706,
     "end_time": "2024-01-14T18:49:51.062742",
     "exception": false,
     "start_time": "2024-01-14T18:49:50.122036",
     "status": "completed"
    },
    "tags": []
   },
   "outputs": [
    {
     "name": "stdout",
     "output_type": "stream",
     "text": [
      "/home/jovyan/notebooks/_temporary_blobs/.part-00000-1d1fd906-430b-478e-b6b4-e1cda180df94-c000.snappy.parquet.crc deletado com sucesso.\n",
      "/home/jovyan/notebooks/_temporary_blobs/.part-00001-1d1fd906-430b-478e-b6b4-e1cda180df94-c000.snappy.parquet.crc deletado com sucesso.\n",
      "/home/jovyan/notebooks/_temporary_blobs/.part-00002-1d1fd906-430b-478e-b6b4-e1cda180df94-c000.snappy.parquet.crc deletado com sucesso.\n",
      "/home/jovyan/notebooks/_temporary_blobs/.part-00003-1d1fd906-430b-478e-b6b4-e1cda180df94-c000.snappy.parquet.crc deletado com sucesso.\n",
      "/home/jovyan/notebooks/_temporary_blobs/.part-00004-1d1fd906-430b-478e-b6b4-e1cda180df94-c000.snappy.parquet.crc deletado com sucesso.\n",
      "/home/jovyan/notebooks/_temporary_blobs/.part-00005-1d1fd906-430b-478e-b6b4-e1cda180df94-c000.snappy.parquet.crc deletado com sucesso.\n",
      "/home/jovyan/notebooks/_temporary_blobs/.part-00006-1d1fd906-430b-478e-b6b4-e1cda180df94-c000.snappy.parquet.crc deletado com sucesso.\n",
      "/home/jovyan/notebooks/_temporary_blobs/.part-00007-1d1fd906-430b-478e-b6b4-e1cda180df94-c000.snappy.parquet.crc deletado com sucesso.\n",
      "/home/jovyan/notebooks/_temporary_blobs/.part-00008-1d1fd906-430b-478e-b6b4-e1cda180df94-c000.snappy.parquet.crc deletado com sucesso.\n",
      "/home/jovyan/notebooks/_temporary_blobs/.part-00009-1d1fd906-430b-478e-b6b4-e1cda180df94-c000.snappy.parquet.crc deletado com sucesso.\n",
      "/home/jovyan/notebooks/_temporary_blobs/.part-00010-1d1fd906-430b-478e-b6b4-e1cda180df94-c000.snappy.parquet.crc deletado com sucesso.\n",
      "/home/jovyan/notebooks/_temporary_blobs/.part-00011-1d1fd906-430b-478e-b6b4-e1cda180df94-c000.snappy.parquet.crc deletado com sucesso.\n",
      "/home/jovyan/notebooks/_temporary_blobs/._SUCCESS.crc deletado com sucesso.\n",
      "/home/jovyan/notebooks/_temporary_blobs/part-00000-1d1fd906-430b-478e-b6b4-e1cda180df94-c000.snappy.parquet deletado com sucesso.\n",
      "/home/jovyan/notebooks/_temporary_blobs/part-00001-1d1fd906-430b-478e-b6b4-e1cda180df94-c000.snappy.parquet deletado com sucesso.\n",
      "/home/jovyan/notebooks/_temporary_blobs/part-00002-1d1fd906-430b-478e-b6b4-e1cda180df94-c000.snappy.parquet deletado com sucesso.\n",
      "/home/jovyan/notebooks/_temporary_blobs/part-00003-1d1fd906-430b-478e-b6b4-e1cda180df94-c000.snappy.parquet deletado com sucesso.\n",
      "/home/jovyan/notebooks/_temporary_blobs/part-00004-1d1fd906-430b-478e-b6b4-e1cda180df94-c000.snappy.parquet deletado com sucesso.\n",
      "/home/jovyan/notebooks/_temporary_blobs/part-00005-1d1fd906-430b-478e-b6b4-e1cda180df94-c000.snappy.parquet deletado com sucesso.\n",
      "/home/jovyan/notebooks/_temporary_blobs/part-00006-1d1fd906-430b-478e-b6b4-e1cda180df94-c000.snappy.parquet deletado com sucesso.\n",
      "/home/jovyan/notebooks/_temporary_blobs/part-00007-1d1fd906-430b-478e-b6b4-e1cda180df94-c000.snappy.parquet deletado com sucesso.\n",
      "/home/jovyan/notebooks/_temporary_blobs/part-00008-1d1fd906-430b-478e-b6b4-e1cda180df94-c000.snappy.parquet deletado com sucesso.\n",
      "/home/jovyan/notebooks/_temporary_blobs/part-00009-1d1fd906-430b-478e-b6b4-e1cda180df94-c000.snappy.parquet deletado com sucesso.\n",
      "/home/jovyan/notebooks/_temporary_blobs/part-00010-1d1fd906-430b-478e-b6b4-e1cda180df94-c000.snappy.parquet deletado com sucesso.\n",
      "/home/jovyan/notebooks/_temporary_blobs/part-00011-1d1fd906-430b-478e-b6b4-e1cda180df94-c000.snappy.parquet deletado com sucesso.\n",
      "/home/jovyan/notebooks/_temporary_blobs/_SUCCESS deletado com sucesso.\n"
     ]
    }
   ],
   "source": [
    "# Lista todos os arquivos na pasta\n",
    "arquivos_na_pasta = os.listdir(temp_blobs)\n",
    "\n",
    "# Itera sobre os arquivos e os deleta\n",
    "for arquivo in arquivos_na_pasta:\n",
    "    caminho_completo = os.path.join(temp_blobs, arquivo)\n",
    "    try:\n",
    "        if os.path.isfile(caminho_completo):\n",
    "            os.remove(caminho_completo)\n",
    "            print(f'{caminho_completo} deletado com sucesso.')\n",
    "    except Exception as e:\n",
    "        print(f'Erro ao deletar {caminho_completo}: {e}')\n",
    "\n",
    "spark.stop()"
   ]
  }
 ],
 "metadata": {
  "kernelspec": {
   "display_name": "Python 3 (ipykernel)",
   "language": "python",
   "name": "python3"
  },
  "language_info": {
   "codemirror_mode": {
    "name": "ipython",
    "version": 3
   },
   "file_extension": ".py",
   "mimetype": "text/x-python",
   "name": "python",
   "nbconvert_exporter": "python",
   "pygments_lexer": "ipython3",
   "version": "3.11.6"
  },
  "papermill": {
   "default_parameters": {},
   "duration": 21.662428,
   "end_time": "2024-01-14T18:49:53.701191",
   "environment_variables": {},
   "exception": null,
   "input_path": "/home/jovyan/notebooks/dataset_aulas/1_source_bronze_aulas/1_source_bronze_aulas.ipynb",
   "output_path": "/home/jovyan/notebooks/dataset_aulas/1_source_bronze_aulas/1_source_bronze_aulas.ipynb",
   "parameters": {},
   "start_time": "2024-01-14T18:49:32.038763",
   "version": "2.5.0"
  }
 },
 "nbformat": 4,
 "nbformat_minor": 5
}
