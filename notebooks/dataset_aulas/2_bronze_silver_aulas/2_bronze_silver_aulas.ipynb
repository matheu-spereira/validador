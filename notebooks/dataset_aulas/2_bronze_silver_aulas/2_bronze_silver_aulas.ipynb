{
 "cells": [
  {
   "cell_type": "markdown",
   "id": "b0e7bb34-cd8b-44a0-9f31-96ea25b92f97",
   "metadata": {
    "papermill": {
     "duration": 0.00895,
     "end_time": "2024-01-14T18:49:54.640439",
     "exception": false,
     "start_time": "2024-01-14T18:49:54.631489",
     "status": "completed"
    },
    "tags": []
   },
   "source": [
    "## Objetivo do notebook\n",
    "#### O objetivo deste notebook é realizar a leitura de dados das origens do dataset matrículas em aulas na camada bronze e gravar de forma versionada na camada silver\n"
   ]
  },
  {
   "cell_type": "markdown",
   "id": "bdc6fc1b-5d00-421c-a512-fd85d0f35a8c",
   "metadata": {
    "papermill": {
     "duration": 0.007017,
     "end_time": "2024-01-14T18:49:54.654916",
     "exception": false,
     "start_time": "2024-01-14T18:49:54.647899",
     "status": "completed"
    },
    "tags": []
   },
   "source": [
    "### Import Libs"
   ]
  },
  {
   "cell_type": "code",
   "execution_count": 1,
   "id": "942dde0f-19c6-4ad1-8326-4441ac5e24a6",
   "metadata": {
    "execution": {
     "iopub.execute_input": "2024-01-14T18:49:54.670238Z",
     "iopub.status.busy": "2024-01-14T18:49:54.669858Z",
     "iopub.status.idle": "2024-01-14T18:49:57.124095Z",
     "shell.execute_reply": "2024-01-14T18:49:57.123219Z"
    },
    "papermill": {
     "duration": 2.463721,
     "end_time": "2024-01-14T18:49:57.125533",
     "exception": false,
     "start_time": "2024-01-14T18:49:54.661812",
     "status": "completed"
    },
    "tags": []
   },
   "outputs": [
    {
     "name": "stdout",
     "output_type": "stream",
     "text": [
      "Requirement already satisfied: minio in /opt/conda/lib/python3.11/site-packages (7.2.3)\r\n",
      "Requirement already satisfied: certifi in /opt/conda/lib/python3.11/site-packages (from minio) (2023.7.22)\r\n",
      "Requirement already satisfied: urllib3 in /opt/conda/lib/python3.11/site-packages (from minio) (1.26.18)\r\n",
      "Requirement already satisfied: argon2-cffi in /opt/conda/lib/python3.11/site-packages (from minio) (23.1.0)\r\n",
      "Requirement already satisfied: pycryptodome in /opt/conda/lib/python3.11/site-packages (from minio) (3.20.0)\r\n",
      "Requirement already satisfied: typing-extensions in /opt/conda/lib/python3.11/site-packages (from minio) (4.8.0)\r\n",
      "Requirement already satisfied: argon2-cffi-bindings in /opt/conda/lib/python3.11/site-packages (from argon2-cffi->minio) (21.2.0)\r\n"
     ]
    },
    {
     "name": "stdout",
     "output_type": "stream",
     "text": [
      "Requirement already satisfied: cffi>=1.0.1 in /opt/conda/lib/python3.11/site-packages (from argon2-cffi-bindings->argon2-cffi->minio) (1.16.0)\r\n",
      "Requirement already satisfied: pycparser in /opt/conda/lib/python3.11/site-packages (from cffi>=1.0.1->argon2-cffi-bindings->argon2-cffi->minio) (2.21)\r\n"
     ]
    }
   ],
   "source": [
    "!pip install minio"
   ]
  },
  {
   "cell_type": "code",
   "execution_count": 2,
   "id": "3f09124d-a137-4fbf-8ebe-d6d44e13083a",
   "metadata": {
    "execution": {
     "iopub.execute_input": "2024-01-14T18:49:57.138921Z",
     "iopub.status.busy": "2024-01-14T18:49:57.138700Z",
     "iopub.status.idle": "2024-01-14T18:49:57.795062Z",
     "shell.execute_reply": "2024-01-14T18:49:57.794270Z"
    },
    "papermill": {
     "duration": 0.666128,
     "end_time": "2024-01-14T18:49:57.796428",
     "exception": false,
     "start_time": "2024-01-14T18:49:57.130300",
     "status": "completed"
    },
    "tags": []
   },
   "outputs": [],
   "source": [
    "from pyspark.sql import SparkSession\n",
    "from datetime import datetime\n",
    "from minio import Minio\n",
    "from pyspark.sql.functions import to_date, when, col, lit\n",
    "from io import BytesIO\n",
    "\n",
    "import os\n",
    "import pandas as pd\n",
    "import glob\n",
    "import pyarrow.parquet as pq"
   ]
  },
  {
   "cell_type": "markdown",
   "id": "6380eb08-1880-49d2-bb20-ec359c8bc60e",
   "metadata": {
    "papermill": {
     "duration": 0.007384,
     "end_time": "2024-01-14T18:49:57.809556",
     "exception": false,
     "start_time": "2024-01-14T18:49:57.802172",
     "status": "completed"
    },
    "tags": []
   },
   "source": [
    "### Definição de variáveis"
   ]
  },
  {
   "cell_type": "code",
   "execution_count": 3,
   "id": "2849a6c2-22fe-47df-84db-cbfb4b06075b",
   "metadata": {
    "execution": {
     "iopub.execute_input": "2024-01-14T18:49:57.824758Z",
     "iopub.status.busy": "2024-01-14T18:49:57.824139Z",
     "iopub.status.idle": "2024-01-14T18:50:00.007290Z",
     "shell.execute_reply": "2024-01-14T18:50:00.006399Z"
    },
    "papermill": {
     "duration": 2.192788,
     "end_time": "2024-01-14T18:50:00.008899",
     "exception": false,
     "start_time": "2024-01-14T18:49:57.816111",
     "status": "completed"
    },
    "tags": []
   },
   "outputs": [],
   "source": [
    "# Sessão Spark\n",
    "spark = SparkSession.builder.getOrCreate()\n",
    "\n",
    "# Parametros de input e output das origens\n",
    "camadaLeitura = 'bronze'\n",
    "camadaEscrita = 'silver'\n",
    "pasta = 'aulas'\n",
    "temp_blobs = '/home/jovyan/notebooks/temporary_blobs/' # pasta temporária para armazenamento de objetos\n",
    "\n",
    "# Conexão ao miniIO\n",
    "minio_endpoint = 'minio:9000'\n",
    "minio_access_key = 'minioaccesskey'\n",
    "minio_secret_key = 'miniosecretkey'\n",
    "minio_client = Minio(minio_endpoint, access_key=minio_access_key, secret_key=minio_secret_key, secure=False)\n",
    "\n",
    "# Definição de variáveis para versionamento dos dados na camada bronze\n",
    "timestamp = datetime.today().strftime('%Y%m%d')\n",
    "minio_path = f'{pasta}/{pasta + timestamp}'"
   ]
  },
  {
   "cell_type": "markdown",
   "id": "457c9954-f7a1-44b6-b93e-86feb9ffeadf",
   "metadata": {
    "papermill": {
     "duration": 0.007673,
     "end_time": "2024-01-14T18:50:00.022458",
     "exception": false,
     "start_time": "2024-01-14T18:50:00.014785",
     "status": "completed"
    },
    "tags": []
   },
   "source": [
    "### Leitura da camada Bronze"
   ]
  },
  {
   "cell_type": "code",
   "execution_count": 4,
   "id": "cc75659e-dff9-46a6-ad37-e82cfa029f45",
   "metadata": {
    "execution": {
     "iopub.execute_input": "2024-01-14T18:50:00.037844Z",
     "iopub.status.busy": "2024-01-14T18:50:00.037276Z",
     "iopub.status.idle": "2024-01-14T18:50:18.635311Z",
     "shell.execute_reply": "2024-01-14T18:50:18.634560Z"
    },
    "papermill": {
     "duration": 18.607244,
     "end_time": "2024-01-14T18:50:18.636734",
     "exception": false,
     "start_time": "2024-01-14T18:50:00.029490",
     "status": "completed"
    },
    "tags": []
   },
   "outputs": [
    {
     "name": "stdout",
     "output_type": "stream",
     "text": [
      "Objeto encontrado: aulas / aulas20240114/part-00000-1d1fd906-430b-478e-b6b4-e1cda180df94-c000.snappy.parquet\n",
      "Objeto encontrado: aulas / aulas20240114/part-00000-fff53895-e577-4c04-8373-98da223a9b78-c000.snappy.parquet\n",
      "Objeto encontrado: aulas / aulas20240114/part-00001-1d1fd906-430b-478e-b6b4-e1cda180df94-c000.snappy.parquet\n",
      "Objeto encontrado: aulas / aulas20240114/part-00001-fff53895-e577-4c04-8373-98da223a9b78-c000.snappy.parquet\n",
      "Objeto encontrado: aulas / aulas20240114/part-00002-1d1fd906-430b-478e-b6b4-e1cda180df94-c000.snappy.parquet\n",
      "Objeto encontrado: aulas / aulas20240114/part-00002-fff53895-e577-4c04-8373-98da223a9b78-c000.snappy.parquet\n",
      "Objeto encontrado: aulas / aulas20240114/part-00003-1d1fd906-430b-478e-b6b4-e1cda180df94-c000.snappy.parquet\n",
      "Objeto encontrado: aulas / aulas20240114/part-00003-fff53895-e577-4c04-8373-98da223a9b78-c000.snappy.parquet\n",
      "Objeto encontrado: aulas / aulas20240114/part-00004-1d1fd906-430b-478e-b6b4-e1cda180df94-c000.snappy.parquet\n",
      "Objeto encontrado: aulas / aulas20240114/part-00004-fff53895-e577-4c04-8373-98da223a9b78-c000.snappy.parquet\n",
      "Objeto encontrado: aulas / aulas20240114/part-00005-1d1fd906-430b-478e-b6b4-e1cda180df94-c000.snappy.parquet\n",
      "Objeto encontrado: aulas / aulas20240114/part-00005-fff53895-e577-4c04-8373-98da223a9b78-c000.snappy.parquet\n",
      "Objeto encontrado: aulas / aulas20240114/part-00006-1d1fd906-430b-478e-b6b4-e1cda180df94-c000.snappy.parquet\n",
      "Objeto encontrado: aulas / aulas20240114/part-00006-fff53895-e577-4c04-8373-98da223a9b78-c000.snappy.parquet\n",
      "Objeto encontrado: aulas / aulas20240114/part-00007-1d1fd906-430b-478e-b6b4-e1cda180df94-c000.snappy.parquet\n",
      "Objeto encontrado: aulas / aulas20240114/part-00007-fff53895-e577-4c04-8373-98da223a9b78-c000.snappy.parquet\n",
      "Objeto encontrado: aulas / aulas20240114/part-00008-1d1fd906-430b-478e-b6b4-e1cda180df94-c000.snappy.parquet\n",
      "Objeto encontrado: aulas / aulas20240114/part-00008-fff53895-e577-4c04-8373-98da223a9b78-c000.snappy.parquet\n",
      "Objeto encontrado: aulas / aulas20240114/part-00009-1d1fd906-430b-478e-b6b4-e1cda180df94-c000.snappy.parquet\n",
      "Objeto encontrado: aulas / aulas20240114/part-00009-fff53895-e577-4c04-8373-98da223a9b78-c000.snappy.parquet\n",
      "Objeto encontrado: aulas / aulas20240114/part-00010-1d1fd906-430b-478e-b6b4-e1cda180df94-c000.snappy.parquet\n",
      "Objeto encontrado: aulas / aulas20240114/part-00010-fff53895-e577-4c04-8373-98da223a9b78-c000.snappy.parquet\n",
      "Objeto encontrado: aulas / aulas20240114/part-00011-1d1fd906-430b-478e-b6b4-e1cda180df94-c000.snappy.parquet\n",
      "Objeto encontrado: aulas / aulas20240114/part-00011-fff53895-e577-4c04-8373-98da223a9b78-c000.snappy.parquet\n"
     ]
    }
   ],
   "source": [
    "dataframes = []\n",
    "\n",
    "try:\n",
    "    # Lista objetos no bucket\n",
    "    objects = minio_client.list_objects(camadaLeitura, prefix=pasta, recursive=True)\n",
    "\n",
    "    # Itera sobre os objetos na pasta\n",
    "    for obj in objects:\n",
    "        # Lê o conteúdo do objeto\n",
    "        content = minio_client.get_object(camadaLeitura, obj.object_name).read()\n",
    "        \n",
    "        # Lê o conteúdo do objeto Parquet usando pyarrow e converte para DataFrame Pandas\n",
    "        df_pandas = pq.read_table(BytesIO(content)).to_pandas()\n",
    "        \n",
    "        # Adiciona o DataFrame Pandas à lista de DataFrames\n",
    "        dataframes.append(df_pandas)\n",
    "        \n",
    "        print(f\"Objeto encontrado: {obj.object_name}\")\n",
    "except error.MinioException as e:\n",
    "    print(f\"Erro ao listar objetos: {e}\")\n",
    "\n",
    "# Concatena todos os DataFrames Pandas em um único DataFrame Pandas\n",
    "consolidated_df_pandas = pd.concat(dataframes, ignore_index=True)\n",
    "\n",
    "# Converte para DataFrame PySpark\n",
    "df_matri_aulas = spark.createDataFrame(consolidated_df_pandas)"
   ]
  },
  {
   "cell_type": "markdown",
   "id": "02f1a9cd-cefd-4459-bc3a-f1ae1e25ae84",
   "metadata": {
    "papermill": {
     "duration": 0.009622,
     "end_time": "2024-01-14T18:50:18.651814",
     "exception": false,
     "start_time": "2024-01-14T18:50:18.642192",
     "status": "completed"
    },
    "tags": []
   },
   "source": [
    "### Tratamento dos dados"
   ]
  },
  {
   "cell_type": "code",
   "execution_count": 5,
   "id": "38440ed2-bdbd-4c08-867e-ee99f8dcb698",
   "metadata": {
    "execution": {
     "iopub.execute_input": "2024-01-14T18:50:18.668583Z",
     "iopub.status.busy": "2024-01-14T18:50:18.668090Z",
     "iopub.status.idle": "2024-01-14T18:50:18.760139Z",
     "shell.execute_reply": "2024-01-14T18:50:18.759382Z"
    },
    "papermill": {
     "duration": 0.101045,
     "end_time": "2024-01-14T18:50:18.761559",
     "exception": false,
     "start_time": "2024-01-14T18:50:18.660514",
     "status": "completed"
    },
    "tags": []
   },
   "outputs": [],
   "source": [
    "df_matri_aulas = df_matri_aulas.select(\n",
    "    'id_matricula',\n",
    "    'id_disciplina',\n",
    "    # Retorna valores de presente ou falta\n",
    "    when(col('presente') == 'true', lit(\"Presente\")).otherwise(lit('Falta')).alias('presente'),\n",
    "    'etl_date',\n",
    "    # Tipagem da coluna data_nascimento\n",
    "    to_date('data_aula').alias('data_aula')\n",
    ")"
   ]
  },
  {
   "cell_type": "markdown",
   "id": "b3a3f2bc-c574-4c71-a572-2d692974052f",
   "metadata": {
    "papermill": {
     "duration": 0.00715,
     "end_time": "2024-01-14T18:50:18.773807",
     "exception": false,
     "start_time": "2024-01-14T18:50:18.766657",
     "status": "completed"
    },
    "tags": []
   },
   "source": [
    "### Gravação do dataframe em um diretório temporário"
   ]
  },
  {
   "cell_type": "code",
   "execution_count": 6,
   "id": "2d18424f-56d6-40f7-85be-918f8b48b55e",
   "metadata": {
    "execution": {
     "iopub.execute_input": "2024-01-14T18:50:18.788756Z",
     "iopub.status.busy": "2024-01-14T18:50:18.788159Z",
     "iopub.status.idle": "2024-01-14T18:50:22.842901Z",
     "shell.execute_reply": "2024-01-14T18:50:22.841963Z"
    },
    "papermill": {
     "duration": 4.06423,
     "end_time": "2024-01-14T18:50:22.844646",
     "exception": false,
     "start_time": "2024-01-14T18:50:18.780416",
     "status": "completed"
    },
    "tags": []
   },
   "outputs": [],
   "source": [
    "df_matri_aulas.write.parquet(temp_blobs, mode=\"overwrite\")"
   ]
  },
  {
   "cell_type": "markdown",
   "id": "55952c6d-db81-487d-bfe5-09ad180fe3f0",
   "metadata": {
    "papermill": {
     "duration": 0.006927,
     "end_time": "2024-01-14T18:50:22.856810",
     "exception": false,
     "start_time": "2024-01-14T18:50:22.849883",
     "status": "completed"
    },
    "tags": []
   },
   "source": [
    "### Gravação na camada Silver"
   ]
  },
  {
   "cell_type": "code",
   "execution_count": 7,
   "id": "5a3624f4-76bc-4757-8371-4a7249b75697",
   "metadata": {
    "execution": {
     "iopub.execute_input": "2024-01-14T18:50:22.870993Z",
     "iopub.status.busy": "2024-01-14T18:50:22.870729Z",
     "iopub.status.idle": "2024-01-14T18:50:23.048874Z",
     "shell.execute_reply": "2024-01-14T18:50:23.048024Z"
    },
    "papermill": {
     "duration": 0.187495,
     "end_time": "2024-01-14T18:50:23.050679",
     "exception": false,
     "start_time": "2024-01-14T18:50:22.863184",
     "status": "completed"
    },
    "tags": []
   },
   "outputs": [
    {
     "name": "stdout",
     "output_type": "stream",
     "text": [
      "Arquivo 'part-00000-51a171bb-816d-4920-8956-79bae906705a-c000.snappy.parquet' enviado com sucesso para o MinIO em 'aulas/aulas20240114/part-00000-51a171bb-816d-4920-8956-79bae906705a-c000.snappy.parquet'.\n",
      "Arquivo 'part-00001-51a171bb-816d-4920-8956-79bae906705a-c000.snappy.parquet' enviado com sucesso para o MinIO em 'aulas/aulas20240114/part-00001-51a171bb-816d-4920-8956-79bae906705a-c000.snappy.parquet'.\n",
      "Arquivo 'part-00002-51a171bb-816d-4920-8956-79bae906705a-c000.snappy.parquet' enviado com sucesso para o MinIO em 'aulas/aulas20240114/part-00002-51a171bb-816d-4920-8956-79bae906705a-c000.snappy.parquet'.\n",
      "Arquivo 'part-00003-51a171bb-816d-4920-8956-79bae906705a-c000.snappy.parquet' enviado com sucesso para o MinIO em 'aulas/aulas20240114/part-00003-51a171bb-816d-4920-8956-79bae906705a-c000.snappy.parquet'.\n",
      "Arquivo 'part-00004-51a171bb-816d-4920-8956-79bae906705a-c000.snappy.parquet' enviado com sucesso para o MinIO em 'aulas/aulas20240114/part-00004-51a171bb-816d-4920-8956-79bae906705a-c000.snappy.parquet'.\n",
      "Arquivo 'part-00005-51a171bb-816d-4920-8956-79bae906705a-c000.snappy.parquet' enviado com sucesso para o MinIO em 'aulas/aulas20240114/part-00005-51a171bb-816d-4920-8956-79bae906705a-c000.snappy.parquet'.\n",
      "Arquivo 'part-00006-51a171bb-816d-4920-8956-79bae906705a-c000.snappy.parquet' enviado com sucesso para o MinIO em 'aulas/aulas20240114/part-00006-51a171bb-816d-4920-8956-79bae906705a-c000.snappy.parquet'.\n",
      "Arquivo 'part-00007-51a171bb-816d-4920-8956-79bae906705a-c000.snappy.parquet' enviado com sucesso para o MinIO em 'aulas/aulas20240114/part-00007-51a171bb-816d-4920-8956-79bae906705a-c000.snappy.parquet'.\n",
      "Arquivo 'part-00008-51a171bb-816d-4920-8956-79bae906705a-c000.snappy.parquet' enviado com sucesso para o MinIO em 'aulas/aulas20240114/part-00008-51a171bb-816d-4920-8956-79bae906705a-c000.snappy.parquet'.\n",
      "Arquivo 'part-00009-51a171bb-816d-4920-8956-79bae906705a-c000.snappy.parquet' enviado com sucesso para o MinIO em 'aulas/aulas20240114/part-00009-51a171bb-816d-4920-8956-79bae906705a-c000.snappy.parquet'.\n",
      "Arquivo 'part-00010-51a171bb-816d-4920-8956-79bae906705a-c000.snappy.parquet' enviado com sucesso para o MinIO em 'aulas/aulas20240114/part-00010-51a171bb-816d-4920-8956-79bae906705a-c000.snappy.parquet'.\n",
      "Arquivo 'part-00011-51a171bb-816d-4920-8956-79bae906705a-c000.snappy.parquet' enviado com sucesso para o MinIO em 'aulas/aulas20240114/part-00011-51a171bb-816d-4920-8956-79bae906705a-c000.snappy.parquet'.\n"
     ]
    }
   ],
   "source": [
    "# Recria bucket caso não exista\n",
    "if not minio_client.bucket_exists(camadaEscrita):\n",
    "    minio_client.make_bucket(camadaEscrita)\n",
    "\n",
    "# Lista todos os arquivos Parquet no diretório temporário de blobs\n",
    "arquivos_parquet = glob.glob(os.path.join(temp_blobs, '*.parquet'))\n",
    "\n",
    "# Itera sobre a lista de arquivos Parquet e envia cada um para o MinIO\n",
    "for arquivo_parquet in arquivos_parquet:\n",
    "    try:\n",
    "        # Envia o arquivo para a camada bronze\n",
    "        nome_arquivo = os.path.basename(arquivo_parquet)\n",
    "        minio_client.fput_object(camadaEscrita, os.path.join(minio_path, nome_arquivo), arquivo_parquet)\n",
    "        print(f\"Arquivo '{nome_arquivo}' enviado com sucesso para o MinIO em '{os.path.join(minio_path, nome_arquivo)}'.\")\n",
    "    except S3Error as e:\n",
    "        print(f\"Erro ao enviar o arquivo para o MinIO: {e}\")"
   ]
  },
  {
   "cell_type": "markdown",
   "id": "adb7df5d-ec09-4162-b667-67228d42d4ec",
   "metadata": {
    "papermill": {
     "duration": 0.007009,
     "end_time": "2024-01-14T18:50:23.062629",
     "exception": false,
     "start_time": "2024-01-14T18:50:23.055620",
     "status": "completed"
    },
    "tags": []
   },
   "source": [
    "### Remove dados do diretório temporário de blobs"
   ]
  },
  {
   "cell_type": "code",
   "execution_count": 8,
   "id": "a9373d36-1d90-45ab-bcf8-6c7cae5daffc",
   "metadata": {
    "execution": {
     "iopub.execute_input": "2024-01-14T18:50:23.078666Z",
     "iopub.status.busy": "2024-01-14T18:50:23.077766Z",
     "iopub.status.idle": "2024-01-14T18:50:24.019617Z",
     "shell.execute_reply": "2024-01-14T18:50:24.018666Z"
    },
    "papermill": {
     "duration": 0.951945,
     "end_time": "2024-01-14T18:50:24.021473",
     "exception": false,
     "start_time": "2024-01-14T18:50:23.069528",
     "status": "completed"
    },
    "tags": []
   },
   "outputs": [
    {
     "name": "stdout",
     "output_type": "stream",
     "text": [
      "/home/jovyan/notebooks/_temporary_blobs/.part-00000-51a171bb-816d-4920-8956-79bae906705a-c000.snappy.parquet.crc deletado com sucesso.\n",
      "/home/jovyan/notebooks/_temporary_blobs/.part-00001-51a171bb-816d-4920-8956-79bae906705a-c000.snappy.parquet.crc deletado com sucesso.\n",
      "/home/jovyan/notebooks/_temporary_blobs/.part-00002-51a171bb-816d-4920-8956-79bae906705a-c000.snappy.parquet.crc deletado com sucesso.\n",
      "/home/jovyan/notebooks/_temporary_blobs/.part-00003-51a171bb-816d-4920-8956-79bae906705a-c000.snappy.parquet.crc deletado com sucesso.\n",
      "/home/jovyan/notebooks/_temporary_blobs/.part-00004-51a171bb-816d-4920-8956-79bae906705a-c000.snappy.parquet.crc deletado com sucesso.\n",
      "/home/jovyan/notebooks/_temporary_blobs/.part-00005-51a171bb-816d-4920-8956-79bae906705a-c000.snappy.parquet.crc deletado com sucesso.\n",
      "/home/jovyan/notebooks/_temporary_blobs/.part-00006-51a171bb-816d-4920-8956-79bae906705a-c000.snappy.parquet.crc deletado com sucesso.\n",
      "/home/jovyan/notebooks/_temporary_blobs/.part-00007-51a171bb-816d-4920-8956-79bae906705a-c000.snappy.parquet.crc deletado com sucesso.\n",
      "/home/jovyan/notebooks/_temporary_blobs/.part-00008-51a171bb-816d-4920-8956-79bae906705a-c000.snappy.parquet.crc deletado com sucesso.\n"
     ]
    },
    {
     "name": "stdout",
     "output_type": "stream",
     "text": [
      "/home/jovyan/notebooks/_temporary_blobs/.part-00009-51a171bb-816d-4920-8956-79bae906705a-c000.snappy.parquet.crc deletado com sucesso.\n",
      "/home/jovyan/notebooks/_temporary_blobs/.part-00010-51a171bb-816d-4920-8956-79bae906705a-c000.snappy.parquet.crc deletado com sucesso.\n",
      "/home/jovyan/notebooks/_temporary_blobs/.part-00011-51a171bb-816d-4920-8956-79bae906705a-c000.snappy.parquet.crc deletado com sucesso.\n",
      "/home/jovyan/notebooks/_temporary_blobs/._SUCCESS.crc deletado com sucesso.\n",
      "/home/jovyan/notebooks/_temporary_blobs/part-00000-51a171bb-816d-4920-8956-79bae906705a-c000.snappy.parquet deletado com sucesso.\n",
      "/home/jovyan/notebooks/_temporary_blobs/part-00001-51a171bb-816d-4920-8956-79bae906705a-c000.snappy.parquet deletado com sucesso.\n",
      "/home/jovyan/notebooks/_temporary_blobs/part-00002-51a171bb-816d-4920-8956-79bae906705a-c000.snappy.parquet deletado com sucesso.\n",
      "/home/jovyan/notebooks/_temporary_blobs/part-00003-51a171bb-816d-4920-8956-79bae906705a-c000.snappy.parquet deletado com sucesso.\n",
      "/home/jovyan/notebooks/_temporary_blobs/part-00004-51a171bb-816d-4920-8956-79bae906705a-c000.snappy.parquet deletado com sucesso.\n",
      "/home/jovyan/notebooks/_temporary_blobs/part-00005-51a171bb-816d-4920-8956-79bae906705a-c000.snappy.parquet deletado com sucesso.\n",
      "/home/jovyan/notebooks/_temporary_blobs/part-00006-51a171bb-816d-4920-8956-79bae906705a-c000.snappy.parquet deletado com sucesso.\n",
      "/home/jovyan/notebooks/_temporary_blobs/part-00007-51a171bb-816d-4920-8956-79bae906705a-c000.snappy.parquet deletado com sucesso.\n",
      "/home/jovyan/notebooks/_temporary_blobs/part-00008-51a171bb-816d-4920-8956-79bae906705a-c000.snappy.parquet deletado com sucesso.\n",
      "/home/jovyan/notebooks/_temporary_blobs/part-00009-51a171bb-816d-4920-8956-79bae906705a-c000.snappy.parquet deletado com sucesso.\n",
      "/home/jovyan/notebooks/_temporary_blobs/part-00010-51a171bb-816d-4920-8956-79bae906705a-c000.snappy.parquet deletado com sucesso.\n",
      "/home/jovyan/notebooks/_temporary_blobs/part-00011-51a171bb-816d-4920-8956-79bae906705a-c000.snappy.parquet deletado com sucesso.\n",
      "/home/jovyan/notebooks/_temporary_blobs/_SUCCESS deletado com sucesso.\n"
     ]
    }
   ],
   "source": [
    "# Liste todos os arquivos na pasta\n",
    "arquivos_na_pasta = os.listdir(temp_blobs)\n",
    "\n",
    "# Itere sobre os arquivos e os delete\n",
    "for arquivo in arquivos_na_pasta:\n",
    "    caminho_completo = os.path.join(temp_blobs, arquivo)\n",
    "    try:\n",
    "        if os.path.isfile(caminho_completo):\n",
    "            os.remove(caminho_completo)\n",
    "            print(f'{caminho_completo} deletado com sucesso.')\n",
    "    except Exception as e:\n",
    "        print(f'Erro ao deletar {caminho_completo}: {e}')\n",
    "\n",
    "spark.stop()"
   ]
  }
 ],
 "metadata": {
  "kernelspec": {
   "display_name": "Python 3 (ipykernel)",
   "language": "python",
   "name": "python3"
  },
  "language_info": {
   "codemirror_mode": {
    "name": "ipython",
    "version": 3
   },
   "file_extension": ".py",
   "mimetype": "text/x-python",
   "name": "python",
   "nbconvert_exporter": "python",
   "pygments_lexer": "ipython3",
   "version": "3.11.6"
  },
  "papermill": {
   "default_parameters": {},
   "duration": 32.916261,
   "end_time": "2024-01-14T18:50:26.647205",
   "environment_variables": {},
   "exception": null,
   "input_path": "/home/jovyan/notebooks/dataset_aulas/2_bronze_silver_aulas/2_bronze_silver_aulas.ipynb",
   "output_path": "/home/jovyan/notebooks/dataset_aulas/2_bronze_silver_aulas/2_bronze_silver_aulas.ipynb",
   "parameters": {},
   "start_time": "2024-01-14T18:49:53.730944",
   "version": "2.5.0"
  }
 },
 "nbformat": 4,
 "nbformat_minor": 5
}
