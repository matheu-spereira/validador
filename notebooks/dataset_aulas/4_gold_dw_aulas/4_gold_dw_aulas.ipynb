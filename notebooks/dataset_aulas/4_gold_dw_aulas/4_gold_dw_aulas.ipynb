{
 "cells": [
  {
   "cell_type": "markdown",
   "id": "945755e0-a3bb-4f1b-a7ba-7ea78f7300bc",
   "metadata": {
    "papermill": {
     "duration": 0.005474,
     "end_time": "2024-01-14T18:51:10.927642",
     "exception": false,
     "start_time": "2024-01-14T18:51:10.922168",
     "status": "completed"
    },
    "tags": []
   },
   "source": [
    "## Objetivo do notebook\n",
    "#### O objetivo deste notebook é realizar a leitura de dados das origens do dataset matrículas em aulas na camada gold  e gravar no DW"
   ]
  },
  {
   "cell_type": "markdown",
   "id": "f4e8a200-cfd3-49dc-bb00-b3152191a435",
   "metadata": {
    "papermill": {
     "duration": 0.008159,
     "end_time": "2024-01-14T18:51:10.944411",
     "exception": false,
     "start_time": "2024-01-14T18:51:10.936252",
     "status": "completed"
    },
    "tags": []
   },
   "source": [
    "### Import Libs"
   ]
  },
  {
   "cell_type": "code",
   "execution_count": 1,
   "id": "b2c0ffc1-d4a0-45ef-b873-9b579026d391",
   "metadata": {
    "execution": {
     "iopub.execute_input": "2024-01-14T18:51:10.962554Z",
     "iopub.status.busy": "2024-01-14T18:51:10.962288Z",
     "iopub.status.idle": "2024-01-14T18:51:13.452457Z",
     "shell.execute_reply": "2024-01-14T18:51:13.448382Z"
    },
    "papermill": {
     "duration": 2.506872,
     "end_time": "2024-01-14T18:51:13.459071",
     "exception": false,
     "start_time": "2024-01-14T18:51:10.952199",
     "status": "completed"
    },
    "tags": []
   },
   "outputs": [
    {
     "name": "stdout",
     "output_type": "stream",
     "text": [
      "Requirement already satisfied: minio in /opt/conda/lib/python3.11/site-packages (7.2.3)\r\n",
      "Requirement already satisfied: certifi in /opt/conda/lib/python3.11/site-packages (from minio) (2023.7.22)\r\n",
      "Requirement already satisfied: urllib3 in /opt/conda/lib/python3.11/site-packages (from minio) (1.26.18)\r\n",
      "Requirement already satisfied: argon2-cffi in /opt/conda/lib/python3.11/site-packages (from minio) (23.1.0)\r\n",
      "Requirement already satisfied: pycryptodome in /opt/conda/lib/python3.11/site-packages (from minio) (3.20.0)\r\n",
      "Requirement already satisfied: typing-extensions in /opt/conda/lib/python3.11/site-packages (from minio) (4.8.0)\r\n"
     ]
    },
    {
     "name": "stdout",
     "output_type": "stream",
     "text": [
      "Requirement already satisfied: argon2-cffi-bindings in /opt/conda/lib/python3.11/site-packages (from argon2-cffi->minio) (21.2.0)\r\n",
      "Requirement already satisfied: cffi>=1.0.1 in /opt/conda/lib/python3.11/site-packages (from argon2-cffi-bindings->argon2-cffi->minio) (1.16.0)\r\n",
      "Requirement already satisfied: pycparser in /opt/conda/lib/python3.11/site-packages (from cffi>=1.0.1->argon2-cffi-bindings->argon2-cffi->minio) (2.21)\r\n"
     ]
    }
   ],
   "source": [
    "!pip install minio"
   ]
  },
  {
   "cell_type": "markdown",
   "id": "2130c581-8955-452b-8468-bbdbe96926d5",
   "metadata": {
    "papermill": {
     "duration": 0.015966,
     "end_time": "2024-01-14T18:51:13.494061",
     "exception": false,
     "start_time": "2024-01-14T18:51:13.478095",
     "status": "completed"
    },
    "tags": []
   },
   "source": [
    "### Import das libs"
   ]
  },
  {
   "cell_type": "code",
   "execution_count": 2,
   "id": "2ad9f64f-84d2-4516-bf27-cd2727eb08dc",
   "metadata": {
    "execution": {
     "iopub.execute_input": "2024-01-14T18:51:13.510159Z",
     "iopub.status.busy": "2024-01-14T18:51:13.509602Z",
     "iopub.status.idle": "2024-01-14T18:51:14.213462Z",
     "shell.execute_reply": "2024-01-14T18:51:14.212659Z"
    },
    "papermill": {
     "duration": 0.713454,
     "end_time": "2024-01-14T18:51:14.214878",
     "exception": false,
     "start_time": "2024-01-14T18:51:13.501424",
     "status": "completed"
    },
    "tags": []
   },
   "outputs": [],
   "source": [
    "from pyspark.sql import SparkSession\n",
    "from minio import Minio, error\n",
    "from io import BytesIO\n",
    "\n",
    "import os\n",
    "import pandas as pd\n",
    "import pyarrow.parquet as pq"
   ]
  },
  {
   "cell_type": "markdown",
   "id": "fbeff9c3-031c-42cb-bf70-31a96a98acbd",
   "metadata": {
    "papermill": {
     "duration": 0.007342,
     "end_time": "2024-01-14T18:51:14.227667",
     "exception": false,
     "start_time": "2024-01-14T18:51:14.220325",
     "status": "completed"
    },
    "tags": []
   },
   "source": [
    "### Definição de variáveis"
   ]
  },
  {
   "cell_type": "code",
   "execution_count": 3,
   "id": "acba31d1-8449-4b04-8bcc-342ee1a08f7d",
   "metadata": {
    "execution": {
     "iopub.execute_input": "2024-01-14T18:51:14.242530Z",
     "iopub.status.busy": "2024-01-14T18:51:14.242219Z",
     "iopub.status.idle": "2024-01-14T18:51:16.427449Z",
     "shell.execute_reply": "2024-01-14T18:51:16.426593Z"
    },
    "papermill": {
     "duration": 2.194638,
     "end_time": "2024-01-14T18:51:16.429015",
     "exception": false,
     "start_time": "2024-01-14T18:51:14.234377",
     "status": "completed"
    },
    "tags": []
   },
   "outputs": [],
   "source": [
    "# Sessão Spark\n",
    "spark = SparkSession.builder \\\n",
    "    .appName(\"CSV to PostgreSQL\") \\\n",
    "    .config(\"spark.driver.extraClassPath\", \"/home/jovyan/notebooks/jars/postgresql-42.6.0.jar\") \\\n",
    "    .config(\"spark.driver.memory\", \"4g\") \\\n",
    "    .config(\"spark.executor.memory\", \"4g\") \\\n",
    "    .getOrCreate()\n",
    "\n",
    "# Parametros de input e output das origens\n",
    "camadaLeitura= 'gold'\n",
    "pasta = 'aulas/'\n",
    "temp_blobs = '/home/jovyan/notebooks/temporary_blobs/' # pasta temporária para armazenamento de objetos\n",
    "\n",
    "\n",
    "# Conexão ao miniIO\n",
    "minio_endpoint = 'minio:9000'\n",
    "minio_access_key = 'minioaccesskey'\n",
    "minio_secret_key = 'miniosecretkey'\n",
    "minio_object_name = pasta\n",
    "minio_client = Minio(minio_endpoint, access_key=minio_access_key, secret_key=minio_secret_key, secure=False)"
   ]
  },
  {
   "cell_type": "markdown",
   "id": "06db67d2-6ab5-4d46-9f52-264935b72300",
   "metadata": {
    "papermill": {
     "duration": 0.007345,
     "end_time": "2024-01-14T18:51:16.441654",
     "exception": false,
     "start_time": "2024-01-14T18:51:16.434309",
     "status": "completed"
    },
    "tags": []
   },
   "source": [
    "### Leitura da camada Gold"
   ]
  },
  {
   "cell_type": "code",
   "execution_count": 4,
   "id": "495e0f4f-cc20-4104-aba0-3656fc7b6755",
   "metadata": {
    "execution": {
     "iopub.execute_input": "2024-01-14T18:51:16.456590Z",
     "iopub.status.busy": "2024-01-14T18:51:16.456345Z",
     "iopub.status.idle": "2024-01-14T18:51:23.776649Z",
     "shell.execute_reply": "2024-01-14T18:51:23.775781Z"
    },
    "papermill": {
     "duration": 7.329841,
     "end_time": "2024-01-14T18:51:23.778238",
     "exception": false,
     "start_time": "2024-01-14T18:51:16.448397",
     "status": "completed"
    },
    "tags": []
   },
   "outputs": [
    {
     "name": "stdout",
     "output_type": "stream",
     "text": [
      "Objeto encontrado: aulas/part-00000-ff7e1f66-7286-4398-a73f-d6930222e3c8-c000.snappy.parquet\n",
      "Objeto encontrado: aulas/part-00001-ff7e1f66-7286-4398-a73f-d6930222e3c8-c000.snappy.parquet\n",
      "Objeto encontrado: aulas/part-00002-ff7e1f66-7286-4398-a73f-d6930222e3c8-c000.snappy.parquet\n",
      "Objeto encontrado: aulas/part-00003-ff7e1f66-7286-4398-a73f-d6930222e3c8-c000.snappy.parquet\n",
      "Objeto encontrado: aulas/part-00004-ff7e1f66-7286-4398-a73f-d6930222e3c8-c000.snappy.parquet\n",
      "Objeto encontrado: aulas/part-00005-ff7e1f66-7286-4398-a73f-d6930222e3c8-c000.snappy.parquet\n",
      "Objeto encontrado: aulas/part-00006-ff7e1f66-7286-4398-a73f-d6930222e3c8-c000.snappy.parquet\n",
      "Objeto encontrado: aulas/part-00007-ff7e1f66-7286-4398-a73f-d6930222e3c8-c000.snappy.parquet\n",
      "Objeto encontrado: aulas/part-00008-ff7e1f66-7286-4398-a73f-d6930222e3c8-c000.snappy.parquet\n",
      "Objeto encontrado: aulas/part-00009-ff7e1f66-7286-4398-a73f-d6930222e3c8-c000.snappy.parquet\n",
      "Objeto encontrado: aulas/part-00010-ff7e1f66-7286-4398-a73f-d6930222e3c8-c000.snappy.parquet\n",
      "Objeto encontrado: aulas/part-00011-ff7e1f66-7286-4398-a73f-d6930222e3c8-c000.snappy.parquet\n"
     ]
    }
   ],
   "source": [
    "dataframes = []\n",
    "\n",
    "try:\n",
    "    # Listar objetos no bucket\n",
    "    objects = minio_client.list_objects(camadaLeitura, prefix=pasta, recursive=True)\n",
    "\n",
    "    # Iterar sobre os objetos na pasta específica\n",
    "    for obj in objects:\n",
    "        # Lê o conteúdo do objeto\n",
    "        content = minio_client.get_object(camadaLeitura, obj.object_name).read()\n",
    "        \n",
    "        # Lê o conteúdo do objeto Parquet usando pyarrow e converte para DataFrame Pandas\n",
    "        df_pandas = pq.read_table(BytesIO(content)).to_pandas()\n",
    "        \n",
    "        # Adiciona o DataFrame Pandas à lista de DataFrames\n",
    "        dataframes.append(df_pandas)\n",
    "        \n",
    "        print(f\"Objeto encontrado: {obj.object_name}\")\n",
    "except error.MinioException as e:\n",
    "    print(f\"Erro ao listar objetos: {e}\")\n",
    "\n",
    "# Concatena todos os DataFrames Pandas em um único DataFrame Pandas\n",
    "consolidated_df_pandas = pd.concat(dataframes, ignore_index=True)\n",
    "\n",
    "# Converte para DataFrame PySpark\n",
    "df_matri_aulas = spark.createDataFrame(consolidated_df_pandas)"
   ]
  },
  {
   "cell_type": "markdown",
   "id": "65d830ad-d39b-4d96-a14f-120a51403049",
   "metadata": {
    "papermill": {
     "duration": 0.010239,
     "end_time": "2024-01-14T18:51:23.793361",
     "exception": false,
     "start_time": "2024-01-14T18:51:23.783122",
     "status": "completed"
    },
    "tags": []
   },
   "source": [
    "### Gravação do dataframe em um diretório temporário"
   ]
  },
  {
   "cell_type": "code",
   "execution_count": 5,
   "id": "b91c4109-f5ff-4555-a0fb-f3bd995cb768",
   "metadata": {
    "execution": {
     "iopub.execute_input": "2024-01-14T18:51:23.810372Z",
     "iopub.status.busy": "2024-01-14T18:51:23.809623Z",
     "iopub.status.idle": "2024-01-14T18:51:27.394408Z",
     "shell.execute_reply": "2024-01-14T18:51:27.393666Z"
    },
    "papermill": {
     "duration": 3.595178,
     "end_time": "2024-01-14T18:51:27.395996",
     "exception": false,
     "start_time": "2024-01-14T18:51:23.800818",
     "status": "completed"
    },
    "tags": []
   },
   "outputs": [],
   "source": [
    "df_matri_aulas.write.parquet(temp_blobs, mode=\"overwrite\")"
   ]
  },
  {
   "cell_type": "markdown",
   "id": "58a5dc15-c2bb-4ec0-9873-7e60959cac01",
   "metadata": {
    "papermill": {
     "duration": 0.007708,
     "end_time": "2024-01-14T18:51:27.408967",
     "exception": false,
     "start_time": "2024-01-14T18:51:27.401259",
     "status": "completed"
    },
    "tags": []
   },
   "source": [
    "### Gravação no DW"
   ]
  },
  {
   "cell_type": "code",
   "execution_count": 6,
   "id": "e582fbca-0fc4-4d22-874b-fc0ac0f70473",
   "metadata": {
    "execution": {
     "iopub.execute_input": "2024-01-14T18:51:27.425186Z",
     "iopub.status.busy": "2024-01-14T18:51:27.424947Z",
     "iopub.status.idle": "2024-01-14T18:51:29.908746Z",
     "shell.execute_reply": "2024-01-14T18:51:29.907939Z"
    },
    "papermill": {
     "duration": 2.493738,
     "end_time": "2024-01-14T18:51:29.910097",
     "exception": false,
     "start_time": "2024-01-14T18:51:27.416359",
     "status": "completed"
    },
    "tags": []
   },
   "outputs": [
    {
     "name": "stdout",
     "output_type": "stream",
     "text": [
      "Dados inseridos no banco de dados!\n"
     ]
    }
   ],
   "source": [
    "df_matri_aulas = spark.read.parquet(temp_blobs, header=True)\n",
    "\n",
    "postgres_url = \"jdbc:postgresql://postgres:5432/prova\"\n",
    "postgres_properties = {\n",
    "    \"user\": \"postgres\",\n",
    "    \"password\": \"password\",\n",
    "    \"driver\": \"org.postgresql.Driver\"\n",
    "}\n",
    "postgres_table = \"fato_aulas\"\n",
    "\n",
    "df_matri_aulas.write \\\n",
    "    .format(\"jdbc\") \\\n",
    "    .option(\"url\", postgres_url) \\\n",
    "    .option(\"dbtable\", postgres_table) \\\n",
    "    .option(\"user\", postgres_properties[\"user\"]) \\\n",
    "    .option(\"password\", postgres_properties[\"password\"]) \\\n",
    "    .option(\"driver\", postgres_properties[\"driver\"]) \\\n",
    "    .mode(\"overwrite\") \\\n",
    "    .save()\n",
    "\n",
    "print('Dados inseridos no banco de dados!')\n"
   ]
  },
  {
   "cell_type": "markdown",
   "id": "7f9ea365-630c-4c8a-ae7c-39f85b8ec29a",
   "metadata": {
    "papermill": {
     "duration": 0.008263,
     "end_time": "2024-01-14T18:51:29.922670",
     "exception": false,
     "start_time": "2024-01-14T18:51:29.914407",
     "status": "completed"
    },
    "tags": []
   },
   "source": [
    "### Remove dados do diretório temporário de blobs"
   ]
  },
  {
   "cell_type": "code",
   "execution_count": 7,
   "id": "7d522f0d-4da5-430f-9bfd-65891f4a6dbb",
   "metadata": {
    "execution": {
     "iopub.execute_input": "2024-01-14T18:51:29.940805Z",
     "iopub.status.busy": "2024-01-14T18:51:29.940243Z",
     "iopub.status.idle": "2024-01-14T18:51:30.598182Z",
     "shell.execute_reply": "2024-01-14T18:51:30.596877Z"
    },
    "papermill": {
     "duration": 0.669483,
     "end_time": "2024-01-14T18:51:30.599832",
     "exception": false,
     "start_time": "2024-01-14T18:51:29.930349",
     "status": "completed"
    },
    "tags": []
   },
   "outputs": [
    {
     "name": "stdout",
     "output_type": "stream",
     "text": [
      "/home/jovyan/notebooks/_temporary_blobs/.part-00000-7b51e5a1-a503-4a64-b8aa-a22b9a6e3c38-c000.snappy.parquet.crc deletado com sucesso.\n",
      "/home/jovyan/notebooks/_temporary_blobs/.part-00001-7b51e5a1-a503-4a64-b8aa-a22b9a6e3c38-c000.snappy.parquet.crc deletado com sucesso.\n",
      "/home/jovyan/notebooks/_temporary_blobs/.part-00002-7b51e5a1-a503-4a64-b8aa-a22b9a6e3c38-c000.snappy.parquet.crc deletado com sucesso.\n",
      "/home/jovyan/notebooks/_temporary_blobs/.part-00003-7b51e5a1-a503-4a64-b8aa-a22b9a6e3c38-c000.snappy.parquet.crc deletado com sucesso.\n",
      "/home/jovyan/notebooks/_temporary_blobs/.part-00004-7b51e5a1-a503-4a64-b8aa-a22b9a6e3c38-c000.snappy.parquet.crc deletado com sucesso.\n",
      "/home/jovyan/notebooks/_temporary_blobs/.part-00005-7b51e5a1-a503-4a64-b8aa-a22b9a6e3c38-c000.snappy.parquet.crc deletado com sucesso.\n",
      "/home/jovyan/notebooks/_temporary_blobs/.part-00006-7b51e5a1-a503-4a64-b8aa-a22b9a6e3c38-c000.snappy.parquet.crc deletado com sucesso.\n",
      "/home/jovyan/notebooks/_temporary_blobs/.part-00007-7b51e5a1-a503-4a64-b8aa-a22b9a6e3c38-c000.snappy.parquet.crc deletado com sucesso.\n",
      "/home/jovyan/notebooks/_temporary_blobs/.part-00008-7b51e5a1-a503-4a64-b8aa-a22b9a6e3c38-c000.snappy.parquet.crc deletado com sucesso.\n",
      "/home/jovyan/notebooks/_temporary_blobs/.part-00009-7b51e5a1-a503-4a64-b8aa-a22b9a6e3c38-c000.snappy.parquet.crc deletado com sucesso.\n",
      "/home/jovyan/notebooks/_temporary_blobs/.part-00010-7b51e5a1-a503-4a64-b8aa-a22b9a6e3c38-c000.snappy.parquet.crc deletado com sucesso.\n",
      "/home/jovyan/notebooks/_temporary_blobs/.part-00011-7b51e5a1-a503-4a64-b8aa-a22b9a6e3c38-c000.snappy.parquet.crc deletado com sucesso.\n",
      "/home/jovyan/notebooks/_temporary_blobs/._SUCCESS.crc deletado com sucesso.\n",
      "/home/jovyan/notebooks/_temporary_blobs/part-00000-7b51e5a1-a503-4a64-b8aa-a22b9a6e3c38-c000.snappy.parquet deletado com sucesso.\n",
      "/home/jovyan/notebooks/_temporary_blobs/part-00001-7b51e5a1-a503-4a64-b8aa-a22b9a6e3c38-c000.snappy.parquet deletado com sucesso.\n",
      "/home/jovyan/notebooks/_temporary_blobs/part-00002-7b51e5a1-a503-4a64-b8aa-a22b9a6e3c38-c000.snappy.parquet deletado com sucesso.\n",
      "/home/jovyan/notebooks/_temporary_blobs/part-00003-7b51e5a1-a503-4a64-b8aa-a22b9a6e3c38-c000.snappy.parquet deletado com sucesso.\n",
      "/home/jovyan/notebooks/_temporary_blobs/part-00004-7b51e5a1-a503-4a64-b8aa-a22b9a6e3c38-c000.snappy.parquet deletado com sucesso.\n",
      "/home/jovyan/notebooks/_temporary_blobs/part-00005-7b51e5a1-a503-4a64-b8aa-a22b9a6e3c38-c000.snappy.parquet deletado com sucesso.\n",
      "/home/jovyan/notebooks/_temporary_blobs/part-00006-7b51e5a1-a503-4a64-b8aa-a22b9a6e3c38-c000.snappy.parquet deletado com sucesso.\n",
      "/home/jovyan/notebooks/_temporary_blobs/part-00007-7b51e5a1-a503-4a64-b8aa-a22b9a6e3c38-c000.snappy.parquet deletado com sucesso.\n",
      "/home/jovyan/notebooks/_temporary_blobs/part-00008-7b51e5a1-a503-4a64-b8aa-a22b9a6e3c38-c000.snappy.parquet deletado com sucesso.\n",
      "/home/jovyan/notebooks/_temporary_blobs/part-00009-7b51e5a1-a503-4a64-b8aa-a22b9a6e3c38-c000.snappy.parquet deletado com sucesso.\n",
      "/home/jovyan/notebooks/_temporary_blobs/part-00010-7b51e5a1-a503-4a64-b8aa-a22b9a6e3c38-c000.snappy.parquet deletado com sucesso.\n",
      "/home/jovyan/notebooks/_temporary_blobs/part-00011-7b51e5a1-a503-4a64-b8aa-a22b9a6e3c38-c000.snappy.parquet deletado com sucesso.\n",
      "/home/jovyan/notebooks/_temporary_blobs/_SUCCESS deletado com sucesso.\n"
     ]
    }
   ],
   "source": [
    "# Liste todos os arquivos na pasta\n",
    "arquivos_na_pasta = os.listdir(temp_blobs)\n",
    "\n",
    "# Itere sobre os arquivos e os delete\n",
    "for arquivo in arquivos_na_pasta:\n",
    "    caminho_completo = os.path.join(temp_blobs, arquivo)\n",
    "    try:\n",
    "        if os.path.isfile(caminho_completo):\n",
    "            os.remove(caminho_completo)\n",
    "            print(f'{caminho_completo} deletado com sucesso.')\n",
    "    except Exception as e:\n",
    "        print(f'Erro ao deletar {caminho_completo}: {e}')\n",
    "        \n",
    "spark.stop()"
   ]
  }
 ],
 "metadata": {
  "kernelspec": {
   "display_name": "Python 3 (ipykernel)",
   "language": "python",
   "name": "python3"
  },
  "language_info": {
   "codemirror_mode": {
    "name": "ipython",
    "version": 3
   },
   "file_extension": ".py",
   "mimetype": "text/x-python",
   "name": "python",
   "nbconvert_exporter": "python",
   "pygments_lexer": "ipython3",
   "version": "3.11.6"
  },
  "papermill": {
   "default_parameters": {},
   "duration": 23.112653,
   "end_time": "2024-01-14T18:51:33.226897",
   "environment_variables": {},
   "exception": null,
   "input_path": "/home/jovyan/notebooks/dataset_aulas/4_gold_dw_aulas/4_gold_dw_aulas.ipynb",
   "output_path": "/home/jovyan/notebooks/dataset_aulas/4_gold_dw_aulas/4_gold_dw_aulas.ipynb",
   "parameters": {},
   "start_time": "2024-01-14T18:51:10.114244",
   "version": "2.5.0"
  }
 },
 "nbformat": 4,
 "nbformat_minor": 5
}
