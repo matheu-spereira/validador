{
 "cells": [
  {
   "cell_type": "markdown",
   "id": "945755e0-a3bb-4f1b-a7ba-7ea78f7300bc",
   "metadata": {
    "papermill": {
     "duration": 0.005493,
     "end_time": "2024-02-09T21:21:15.890677",
     "exception": false,
     "start_time": "2024-02-09T21:21:15.885184",
     "status": "completed"
    },
    "tags": []
   },
   "source": [
    "## Objetivo do notebook\n",
    "#### O objetivo deste notebook é realizar a leitura de dados das origens do dataset avaliações de turmas na camada gold  e gravar no DW"
   ]
  },
  {
   "cell_type": "markdown",
   "id": "f4e8a200-cfd3-49dc-bb00-b3152191a435",
   "metadata": {
    "papermill": {
     "duration": 0.007024,
     "end_time": "2024-02-09T21:21:15.905267",
     "exception": false,
     "start_time": "2024-02-09T21:21:15.898243",
     "status": "completed"
    },
    "tags": []
   },
   "source": [
    "### Import Libs"
   ]
  },
  {
   "cell_type": "code",
   "execution_count": 1,
   "id": "b2c0ffc1-d4a0-45ef-b873-9b579026d391",
   "metadata": {
    "execution": {
     "iopub.execute_input": "2024-02-09T21:21:15.920565Z",
     "iopub.status.busy": "2024-02-09T21:21:15.920336Z",
     "iopub.status.idle": "2024-02-09T21:21:18.460512Z",
     "shell.execute_reply": "2024-02-09T21:21:18.459629Z"
    },
    "papermill": {
     "duration": 2.549925,
     "end_time": "2024-02-09T21:21:18.461941",
     "exception": false,
     "start_time": "2024-02-09T21:21:15.912016",
     "status": "completed"
    },
    "tags": []
   },
   "outputs": [
    {
     "name": "stdout",
     "output_type": "stream",
     "text": [
      "Requirement already satisfied: minio in /opt/conda/lib/python3.11/site-packages (7.2.3)\r\n",
      "Requirement already satisfied: certifi in /opt/conda/lib/python3.11/site-packages (from minio) (2023.7.22)\r\n",
      "Requirement already satisfied: urllib3 in /opt/conda/lib/python3.11/site-packages (from minio) (1.26.18)\r\n",
      "Requirement already satisfied: argon2-cffi in /opt/conda/lib/python3.11/site-packages (from minio) (23.1.0)\r\n",
      "Requirement already satisfied: pycryptodome in /opt/conda/lib/python3.11/site-packages (from minio) (3.20.0)\r\n",
      "Requirement already satisfied: typing-extensions in /opt/conda/lib/python3.11/site-packages (from minio) (4.8.0)\r\n"
     ]
    },
    {
     "name": "stdout",
     "output_type": "stream",
     "text": [
      "Requirement already satisfied: argon2-cffi-bindings in /opt/conda/lib/python3.11/site-packages (from argon2-cffi->minio) (21.2.0)\r\n",
      "Requirement already satisfied: cffi>=1.0.1 in /opt/conda/lib/python3.11/site-packages (from argon2-cffi-bindings->argon2-cffi->minio) (1.16.0)\r\n",
      "Requirement already satisfied: pycparser in /opt/conda/lib/python3.11/site-packages (from cffi>=1.0.1->argon2-cffi-bindings->argon2-cffi->minio) (2.21)\r\n"
     ]
    }
   ],
   "source": [
    "!pip install minio"
   ]
  },
  {
   "cell_type": "markdown",
   "id": "2130c581-8955-452b-8468-bbdbe96926d5",
   "metadata": {
    "papermill": {
     "duration": 0.007905,
     "end_time": "2024-02-09T21:21:18.475387",
     "exception": false,
     "start_time": "2024-02-09T21:21:18.467482",
     "status": "completed"
    },
    "tags": []
   },
   "source": [
    "### Import das libs"
   ]
  },
  {
   "cell_type": "code",
   "execution_count": 2,
   "id": "2ad9f64f-84d2-4516-bf27-cd2727eb08dc",
   "metadata": {
    "execution": {
     "iopub.execute_input": "2024-02-09T21:21:18.491844Z",
     "iopub.status.busy": "2024-02-09T21:21:18.491598Z",
     "iopub.status.idle": "2024-02-09T21:21:19.209209Z",
     "shell.execute_reply": "2024-02-09T21:21:19.208419Z"
    },
    "papermill": {
     "duration": 0.727933,
     "end_time": "2024-02-09T21:21:19.210600",
     "exception": false,
     "start_time": "2024-02-09T21:21:18.482667",
     "status": "completed"
    },
    "tags": []
   },
   "outputs": [],
   "source": [
    "from pyspark.sql import SparkSession\n",
    "from minio import Minio, error\n",
    "from io import BytesIO\n",
    "\n",
    "import os\n",
    "import pandas as pd\n",
    "import pyarrow.parquet as pq"
   ]
  },
  {
   "cell_type": "markdown",
   "id": "fbeff9c3-031c-42cb-bf70-31a96a98acbd",
   "metadata": {
    "papermill": {
     "duration": 0.007903,
     "end_time": "2024-02-09T21:21:19.223741",
     "exception": false,
     "start_time": "2024-02-09T21:21:19.215838",
     "status": "completed"
    },
    "tags": []
   },
   "source": [
    "### Definição de variáveis"
   ]
  },
  {
   "cell_type": "code",
   "execution_count": 3,
   "id": "acba31d1-8449-4b04-8bcc-342ee1a08f7d",
   "metadata": {
    "execution": {
     "iopub.execute_input": "2024-02-09T21:21:19.239826Z",
     "iopub.status.busy": "2024-02-09T21:21:19.238898Z",
     "iopub.status.idle": "2024-02-09T21:21:21.524711Z",
     "shell.execute_reply": "2024-02-09T21:21:21.523732Z"
    },
    "papermill": {
     "duration": 2.295673,
     "end_time": "2024-02-09T21:21:21.526413",
     "exception": false,
     "start_time": "2024-02-09T21:21:19.230740",
     "status": "completed"
    },
    "tags": []
   },
   "outputs": [],
   "source": [
    "# Sessão Spark\n",
    "spark = SparkSession.builder \\\n",
    "    .appName(\"CSV to PostgreSQL\") \\\n",
    "    .config(\"spark.driver.extraClassPath\", \"/home/jovyan/notebooks/jars/postgresql-42.6.0.jar\") \\\n",
    "    .config(\"spark.driver.memory\", \"4g\") \\\n",
    "    .config(\"spark.executor.memory\", \"4g\") \\\n",
    "    .getOrCreate()\n",
    "\n",
    "# Parametros de input e output das origens\n",
    "camadaLeitura= 'gold'\n",
    "pasta = 'avaliacoes/'\n",
    "temp_blobs = '/home/jovyan/notebooks/temporary_blobs/' # pasta temporária para armazenamento de objetos\n",
    "\n",
    "\n",
    "# Conexão ao miniIO\n",
    "minio_endpoint = 'minio:9000'\n",
    "minio_access_key = 'minioaccesskey'\n",
    "minio_secret_key = 'miniosecretkey'\n",
    "minio_object_name = pasta\n",
    "minio_client = Minio(minio_endpoint, access_key=minio_access_key, secret_key=minio_secret_key, secure=False)"
   ]
  },
  {
   "cell_type": "markdown",
   "id": "06db67d2-6ab5-4d46-9f52-264935b72300",
   "metadata": {
    "papermill": {
     "duration": 0.00783,
     "end_time": "2024-02-09T21:21:21.539867",
     "exception": false,
     "start_time": "2024-02-09T21:21:21.532037",
     "status": "completed"
    },
    "tags": []
   },
   "source": [
    "### Leitura da camada Gold"
   ]
  },
  {
   "cell_type": "code",
   "execution_count": 4,
   "id": "495e0f4f-cc20-4104-aba0-3656fc7b6755",
   "metadata": {
    "execution": {
     "iopub.execute_input": "2024-02-09T21:21:21.557348Z",
     "iopub.status.busy": "2024-02-09T21:21:21.556976Z",
     "iopub.status.idle": "2024-02-09T21:21:22.925986Z",
     "shell.execute_reply": "2024-02-09T21:21:22.925049Z"
    },
    "papermill": {
     "duration": 1.380554,
     "end_time": "2024-02-09T21:21:22.927494",
     "exception": false,
     "start_time": "2024-02-09T21:21:21.546940",
     "status": "completed"
    },
    "tags": []
   },
   "outputs": [
    {
     "name": "stdout",
     "output_type": "stream",
     "text": [
      "Objeto encontrado: avaliacoes/part-00000-3a09b3e5-6791-4916-a4f3-bcf64e4625a1-c000.snappy.parquet\n",
      "Objeto encontrado: avaliacoes/part-00001-3a09b3e5-6791-4916-a4f3-bcf64e4625a1-c000.snappy.parquet\n",
      "Objeto encontrado: avaliacoes/part-00002-3a09b3e5-6791-4916-a4f3-bcf64e4625a1-c000.snappy.parquet\n",
      "Objeto encontrado: avaliacoes/part-00003-3a09b3e5-6791-4916-a4f3-bcf64e4625a1-c000.snappy.parquet\n",
      "Objeto encontrado: avaliacoes/part-00004-3a09b3e5-6791-4916-a4f3-bcf64e4625a1-c000.snappy.parquet\n",
      "Objeto encontrado: avaliacoes/part-00005-3a09b3e5-6791-4916-a4f3-bcf64e4625a1-c000.snappy.parquet\n",
      "Objeto encontrado: avaliacoes/part-00006-3a09b3e5-6791-4916-a4f3-bcf64e4625a1-c000.snappy.parquet\n",
      "Objeto encontrado: avaliacoes/part-00007-3a09b3e5-6791-4916-a4f3-bcf64e4625a1-c000.snappy.parquet\n",
      "Objeto encontrado: avaliacoes/part-00008-3a09b3e5-6791-4916-a4f3-bcf64e4625a1-c000.snappy.parquet\n",
      "Objeto encontrado: avaliacoes/part-00009-3a09b3e5-6791-4916-a4f3-bcf64e4625a1-c000.snappy.parquet\n",
      "Objeto encontrado: avaliacoes/part-00010-3a09b3e5-6791-4916-a4f3-bcf64e4625a1-c000.snappy.parquet\n",
      "Objeto encontrado: avaliacoes/part-00011-3a09b3e5-6791-4916-a4f3-bcf64e4625a1-c000.snappy.parquet\n"
     ]
    }
   ],
   "source": [
    "dataframes = []\n",
    "\n",
    "try:\n",
    "    # Listar objetos no bucket\n",
    "    objects = minio_client.list_objects(camadaLeitura, prefix=pasta, recursive=True)\n",
    "\n",
    "    # Iterar sobre os objetos na pasta específica\n",
    "    for obj in objects:\n",
    "        # Lê o conteúdo do objeto\n",
    "        content = minio_client.get_object(camadaLeitura, obj.object_name).read()\n",
    "        \n",
    "        # Lê o conteúdo do objeto Parquet usando pyarrow e converte para DataFrame Pandas\n",
    "        df_pandas = pq.read_table(BytesIO(content)).to_pandas()\n",
    "        \n",
    "        # Adiciona o DataFrame Pandas à lista de DataFrames\n",
    "        dataframes.append(df_pandas)\n",
    "        \n",
    "        print(f\"Objeto encontrado: {obj.object_name}\")\n",
    "except error.MinioException as e:\n",
    "    print(f\"Erro ao listar objetos: {e}\")\n",
    "\n",
    "# Concatena todos os DataFrames Pandas em um único DataFrame Pandas\n",
    "consolidated_df_pandas = pd.concat(dataframes, ignore_index=True)\n",
    "\n",
    "# Converte para DataFrame PySpark\n",
    "df_avaliacoes = spark.createDataFrame(consolidated_df_pandas)"
   ]
  },
  {
   "cell_type": "markdown",
   "id": "65d830ad-d39b-4d96-a14f-120a51403049",
   "metadata": {
    "papermill": {
     "duration": 0.007859,
     "end_time": "2024-02-09T21:21:22.940391",
     "exception": false,
     "start_time": "2024-02-09T21:21:22.932532",
     "status": "completed"
    },
    "tags": []
   },
   "source": [
    "### Gravação do dataframe em um diretório temporário"
   ]
  },
  {
   "cell_type": "code",
   "execution_count": 5,
   "id": "b91c4109-f5ff-4555-a0fb-f3bd995cb768",
   "metadata": {
    "execution": {
     "iopub.execute_input": "2024-02-09T21:21:22.956135Z",
     "iopub.status.busy": "2024-02-09T21:21:22.955748Z",
     "iopub.status.idle": "2024-02-09T21:21:26.184762Z",
     "shell.execute_reply": "2024-02-09T21:21:26.182871Z"
    },
    "papermill": {
     "duration": 3.24206,
     "end_time": "2024-02-09T21:21:26.189533",
     "exception": false,
     "start_time": "2024-02-09T21:21:22.947473",
     "status": "completed"
    },
    "tags": []
   },
   "outputs": [],
   "source": [
    "df_avaliacoes.write.parquet(temp_blobs, mode=\"overwrite\")"
   ]
  },
  {
   "cell_type": "markdown",
   "id": "58a5dc15-c2bb-4ec0-9873-7e60959cac01",
   "metadata": {
    "papermill": {
     "duration": 0.008223,
     "end_time": "2024-02-09T21:21:26.206861",
     "exception": false,
     "start_time": "2024-02-09T21:21:26.198638",
     "status": "completed"
    },
    "tags": []
   },
   "source": [
    "### Gravação no DW"
   ]
  },
  {
   "cell_type": "code",
   "execution_count": 6,
   "id": "e582fbca-0fc4-4d22-874b-fc0ac0f70473",
   "metadata": {
    "execution": {
     "iopub.execute_input": "2024-02-09T21:21:26.224830Z",
     "iopub.status.busy": "2024-02-09T21:21:26.224246Z",
     "iopub.status.idle": "2024-02-09T21:21:28.141468Z",
     "shell.execute_reply": "2024-02-09T21:21:28.140579Z"
    },
    "papermill": {
     "duration": 1.928527,
     "end_time": "2024-02-09T21:21:28.142815",
     "exception": false,
     "start_time": "2024-02-09T21:21:26.214288",
     "status": "completed"
    },
    "tags": []
   },
   "outputs": [
    {
     "name": "stdout",
     "output_type": "stream",
     "text": [
      "Dados inseridos no banco de dados!\n"
     ]
    }
   ],
   "source": [
    "df_avaliacoes = spark.read.parquet(temp_blobs, header=True)\n",
    "\n",
    "postgres_url = \"jdbc:postgresql://postgres:5432/prova\"\n",
    "postgres_properties = {\n",
    "    \"user\": \"postgres\",\n",
    "    \"password\": \"password\",\n",
    "    \"driver\": \"org.postgresql.Driver\"\n",
    "}\n",
    "postgres_table = \"fato_avaliacoes\"\n",
    "\n",
    "df_avaliacoes.write \\\n",
    "    .format(\"jdbc\") \\\n",
    "    .option(\"url\", postgres_url) \\\n",
    "    .option(\"dbtable\", postgres_table) \\\n",
    "    .option(\"user\", postgres_properties[\"user\"]) \\\n",
    "    .option(\"password\", postgres_properties[\"password\"]) \\\n",
    "    .option(\"driver\", postgres_properties[\"driver\"]) \\\n",
    "    .mode(\"overwrite\") \\\n",
    "    .save()\n",
    "\n",
    "print('Dados inseridos no banco de dados!')\n"
   ]
  },
  {
   "cell_type": "markdown",
   "id": "7f9ea365-630c-4c8a-ae7c-39f85b8ec29a",
   "metadata": {
    "papermill": {
     "duration": 0.008145,
     "end_time": "2024-02-09T21:21:28.155626",
     "exception": false,
     "start_time": "2024-02-09T21:21:28.147481",
     "status": "completed"
    },
    "tags": []
   },
   "source": [
    "### Remove dados do diretório temporário de blobs"
   ]
  },
  {
   "cell_type": "code",
   "execution_count": 7,
   "id": "7d522f0d-4da5-430f-9bfd-65891f4a6dbb",
   "metadata": {
    "execution": {
     "iopub.execute_input": "2024-02-09T21:21:28.173088Z",
     "iopub.status.busy": "2024-02-09T21:21:28.172444Z",
     "iopub.status.idle": "2024-02-09T21:21:28.396297Z",
     "shell.execute_reply": "2024-02-09T21:21:28.395511Z"
    },
    "papermill": {
     "duration": 0.234559,
     "end_time": "2024-02-09T21:21:28.397683",
     "exception": false,
     "start_time": "2024-02-09T21:21:28.163124",
     "status": "completed"
    },
    "tags": []
   },
   "outputs": [
    {
     "name": "stdout",
     "output_type": "stream",
     "text": [
      "/home/jovyan/notebooks/temporary_blobs/.part-00000-712958a9-d44f-481c-9bd6-328d5d75d326-c000.snappy.parquet.crc deletado com sucesso.\n",
      "/home/jovyan/notebooks/temporary_blobs/.part-00001-712958a9-d44f-481c-9bd6-328d5d75d326-c000.snappy.parquet.crc deletado com sucesso.\n",
      "/home/jovyan/notebooks/temporary_blobs/.part-00002-712958a9-d44f-481c-9bd6-328d5d75d326-c000.snappy.parquet.crc deletado com sucesso.\n",
      "/home/jovyan/notebooks/temporary_blobs/.part-00003-712958a9-d44f-481c-9bd6-328d5d75d326-c000.snappy.parquet.crc deletado com sucesso.\n",
      "/home/jovyan/notebooks/temporary_blobs/.part-00004-712958a9-d44f-481c-9bd6-328d5d75d326-c000.snappy.parquet.crc deletado com sucesso.\n",
      "/home/jovyan/notebooks/temporary_blobs/.part-00005-712958a9-d44f-481c-9bd6-328d5d75d326-c000.snappy.parquet.crc deletado com sucesso.\n",
      "/home/jovyan/notebooks/temporary_blobs/.part-00006-712958a9-d44f-481c-9bd6-328d5d75d326-c000.snappy.parquet.crc deletado com sucesso.\n",
      "/home/jovyan/notebooks/temporary_blobs/.part-00007-712958a9-d44f-481c-9bd6-328d5d75d326-c000.snappy.parquet.crc deletado com sucesso.\n",
      "/home/jovyan/notebooks/temporary_blobs/.part-00008-712958a9-d44f-481c-9bd6-328d5d75d326-c000.snappy.parquet.crc deletado com sucesso.\n",
      "/home/jovyan/notebooks/temporary_blobs/.part-00009-712958a9-d44f-481c-9bd6-328d5d75d326-c000.snappy.parquet.crc deletado com sucesso.\n",
      "/home/jovyan/notebooks/temporary_blobs/.part-00010-712958a9-d44f-481c-9bd6-328d5d75d326-c000.snappy.parquet.crc deletado com sucesso.\n",
      "/home/jovyan/notebooks/temporary_blobs/.part-00011-712958a9-d44f-481c-9bd6-328d5d75d326-c000.snappy.parquet.crc deletado com sucesso.\n",
      "/home/jovyan/notebooks/temporary_blobs/._SUCCESS.crc deletado com sucesso.\n",
      "/home/jovyan/notebooks/temporary_blobs/part-00000-712958a9-d44f-481c-9bd6-328d5d75d326-c000.snappy.parquet deletado com sucesso.\n",
      "/home/jovyan/notebooks/temporary_blobs/part-00001-712958a9-d44f-481c-9bd6-328d5d75d326-c000.snappy.parquet deletado com sucesso.\n",
      "/home/jovyan/notebooks/temporary_blobs/part-00002-712958a9-d44f-481c-9bd6-328d5d75d326-c000.snappy.parquet deletado com sucesso.\n",
      "/home/jovyan/notebooks/temporary_blobs/part-00003-712958a9-d44f-481c-9bd6-328d5d75d326-c000.snappy.parquet deletado com sucesso.\n",
      "/home/jovyan/notebooks/temporary_blobs/part-00004-712958a9-d44f-481c-9bd6-328d5d75d326-c000.snappy.parquet deletado com sucesso.\n",
      "/home/jovyan/notebooks/temporary_blobs/part-00005-712958a9-d44f-481c-9bd6-328d5d75d326-c000.snappy.parquet deletado com sucesso.\n",
      "/home/jovyan/notebooks/temporary_blobs/part-00006-712958a9-d44f-481c-9bd6-328d5d75d326-c000.snappy.parquet deletado com sucesso.\n",
      "/home/jovyan/notebooks/temporary_blobs/part-00007-712958a9-d44f-481c-9bd6-328d5d75d326-c000.snappy.parquet deletado com sucesso.\n",
      "/home/jovyan/notebooks/temporary_blobs/part-00008-712958a9-d44f-481c-9bd6-328d5d75d326-c000.snappy.parquet deletado com sucesso.\n",
      "/home/jovyan/notebooks/temporary_blobs/part-00009-712958a9-d44f-481c-9bd6-328d5d75d326-c000.snappy.parquet deletado com sucesso.\n",
      "/home/jovyan/notebooks/temporary_blobs/part-00010-712958a9-d44f-481c-9bd6-328d5d75d326-c000.snappy.parquet deletado com sucesso.\n",
      "/home/jovyan/notebooks/temporary_blobs/part-00011-712958a9-d44f-481c-9bd6-328d5d75d326-c000.snappy.parquet deletado com sucesso.\n",
      "/home/jovyan/notebooks/temporary_blobs/_SUCCESS deletado com sucesso.\n"
     ]
    }
   ],
   "source": [
    "# Liste todos os arquivos na pasta\n",
    "arquivos_na_pasta = os.listdir(temp_blobs)\n",
    "\n",
    "# Itere sobre os arquivos e os delete\n",
    "for arquivo in arquivos_na_pasta:\n",
    "    caminho_completo = os.path.join(temp_blobs, arquivo)\n",
    "    try:\n",
    "        if os.path.isfile(caminho_completo):\n",
    "            os.remove(caminho_completo)\n",
    "            print(f'{caminho_completo} deletado com sucesso.')\n",
    "    except Exception as e:\n",
    "        print(f'Erro ao deletar {caminho_completo}: {e}')\n",
    "        \n",
    "spark.stop()"
   ]
  }
 ],
 "metadata": {
  "kernelspec": {
   "display_name": "Python 3 (ipykernel)",
   "language": "python",
   "name": "python3"
  },
  "language_info": {
   "codemirror_mode": {
    "name": "ipython",
    "version": 3
   },
   "file_extension": ".py",
   "mimetype": "text/x-python",
   "name": "python",
   "nbconvert_exporter": "python",
   "pygments_lexer": "ipython3",
   "version": "3.11.6"
  },
  "papermill": {
   "default_parameters": {},
   "duration": 15.924532,
   "end_time": "2024-02-09T21:21:31.026818",
   "environment_variables": {},
   "exception": null,
   "input_path": "/home/jovyan/notebooks/dataset_avaliacoes/4_gold_dw_avaliacoes/4_gold_dw_avaliacoes.ipynb",
   "output_path": "/home/jovyan/notebooks/dataset_avaliacoes/4_gold_dw_avaliacoes/4_gold_dw_avaliacoes.ipynb",
   "parameters": {},
   "start_time": "2024-02-09T21:21:15.102286",
   "version": "2.5.0"
  }
 },
 "nbformat": 4,
 "nbformat_minor": 5
}