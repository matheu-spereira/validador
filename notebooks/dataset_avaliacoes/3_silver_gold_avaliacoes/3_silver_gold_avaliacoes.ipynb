{
 "cells": [
  {
   "cell_type": "markdown",
   "id": "553c19ae-788f-4a70-bbff-de2a77024c33",
   "metadata": {
    "papermill": {
     "duration": 0.003952,
     "end_time": "2024-02-12T13:38:50.530928",
     "exception": false,
     "start_time": "2024-02-12T13:38:50.526976",
     "status": "completed"
    },
    "tags": []
   },
   "source": [
    "## Objetivo do notebook\n",
    "#### O objetivo deste notebook é realizar a leitura de dados das origens do dataset avaliações de turmas  na camada silver e gravar de forma versionada na camada gold\n"
   ]
  },
  {
   "cell_type": "markdown",
   "id": "98040be4-19b4-4b7f-a22c-f5a892413cb3",
   "metadata": {
    "papermill": {
     "duration": 0.00679,
     "end_time": "2024-02-12T13:38:50.546632",
     "exception": false,
     "start_time": "2024-02-12T13:38:50.539842",
     "status": "completed"
    },
    "tags": []
   },
   "source": [
    "### Import Libs"
   ]
  },
  {
   "cell_type": "code",
   "execution_count": 1,
   "id": "942dde0f-19c6-4ad1-8326-4441ac5e24a6",
   "metadata": {
    "execution": {
     "iopub.execute_input": "2024-02-12T13:38:50.562716Z",
     "iopub.status.busy": "2024-02-12T13:38:50.561958Z",
     "iopub.status.idle": "2024-02-12T13:38:53.036216Z",
     "shell.execute_reply": "2024-02-12T13:38:53.035387Z"
    },
    "papermill": {
     "duration": 2.484778,
     "end_time": "2024-02-12T13:38:53.037703",
     "exception": false,
     "start_time": "2024-02-12T13:38:50.552925",
     "status": "completed"
    },
    "tags": []
   },
   "outputs": [
    {
     "name": "stdout",
     "output_type": "stream",
     "text": [
      "Requirement already satisfied: minio in /opt/conda/lib/python3.11/site-packages (7.2.4)\r\n",
      "Requirement already satisfied: certifi in /opt/conda/lib/python3.11/site-packages (from minio) (2023.7.22)\r\n",
      "Requirement already satisfied: urllib3 in /opt/conda/lib/python3.11/site-packages (from minio) (1.26.18)\r\n",
      "Requirement already satisfied: argon2-cffi in /opt/conda/lib/python3.11/site-packages (from minio) (23.1.0)\r\n",
      "Requirement already satisfied: pycryptodome in /opt/conda/lib/python3.11/site-packages (from minio) (3.20.0)\r\n",
      "Requirement already satisfied: typing-extensions in /opt/conda/lib/python3.11/site-packages (from minio) (4.8.0)\r\n",
      "Requirement already satisfied: argon2-cffi-bindings in /opt/conda/lib/python3.11/site-packages (from argon2-cffi->minio) (21.2.0)\r\n",
      "Requirement already satisfied: cffi>=1.0.1 in /opt/conda/lib/python3.11/site-packages (from argon2-cffi-bindings->argon2-cffi->minio) (1.16.0)\r\n",
      "Requirement already satisfied: pycparser in /opt/conda/lib/python3.11/site-packages (from cffi>=1.0.1->argon2-cffi-bindings->argon2-cffi->minio) (2.21)\r\n"
     ]
    }
   ],
   "source": [
    "!pip install minio"
   ]
  },
  {
   "cell_type": "code",
   "execution_count": 2,
   "id": "3f09124d-a137-4fbf-8ebe-d6d44e13083a",
   "metadata": {
    "execution": {
     "iopub.execute_input": "2024-02-12T13:38:53.052540Z",
     "iopub.status.busy": "2024-02-12T13:38:53.052264Z",
     "iopub.status.idle": "2024-02-12T13:38:53.826680Z",
     "shell.execute_reply": "2024-02-12T13:38:53.825499Z"
    },
    "papermill": {
     "duration": 0.785627,
     "end_time": "2024-02-12T13:38:53.829003",
     "exception": false,
     "start_time": "2024-02-12T13:38:53.043376",
     "status": "completed"
    },
    "tags": []
   },
   "outputs": [],
   "source": [
    "from pyspark.sql import SparkSession\n",
    "from io import BytesIO\n",
    "from pyspark.sql.functions import col, max\n",
    "from pyspark.sql.window import Window\n",
    "from minio.error import S3Error\n",
    "from minio import Minio\n",
    "\n",
    "import glob\n",
    "import pyarrow.parquet as pq\n",
    "import os\n",
    "import pandas as pd"
   ]
  },
  {
   "cell_type": "markdown",
   "id": "53b4c9e6-5491-4420-9c7f-283ae7841c08",
   "metadata": {
    "papermill": {
     "duration": 0.011015,
     "end_time": "2024-02-12T13:38:53.845640",
     "exception": false,
     "start_time": "2024-02-12T13:38:53.834625",
     "status": "completed"
    },
    "tags": []
   },
   "source": [
    "### Definição de variáveis"
   ]
  },
  {
   "cell_type": "code",
   "execution_count": 3,
   "id": "2849a6c2-22fe-47df-84db-cbfb4b06075b",
   "metadata": {
    "execution": {
     "iopub.execute_input": "2024-02-12T13:38:53.865057Z",
     "iopub.status.busy": "2024-02-12T13:38:53.864171Z",
     "iopub.status.idle": "2024-02-12T13:38:56.537974Z",
     "shell.execute_reply": "2024-02-12T13:38:56.536864Z"
    },
    "papermill": {
     "duration": 2.68558,
     "end_time": "2024-02-12T13:38:56.540088",
     "exception": false,
     "start_time": "2024-02-12T13:38:53.854508",
     "status": "completed"
    },
    "tags": []
   },
   "outputs": [],
   "source": [
    "# Sessão Spark\n",
    "spark = SparkSession.builder.getOrCreate()\n",
    "\n",
    "# Parametros de input e output das origens\n",
    "camadaLeitura = 'silver'\n",
    "camadaEscrita = 'gold'\n",
    "pasta = 'avaliacoes'\n",
    "temp_blobs = '/home/jovyan/notebooks/temporary_blobs/' # pasta temporária para armazenamento de objetos\n",
    "\n",
    "# Conexão ao miniIO\n",
    "minio_endpoint = 'minio:9000'\n",
    "minio_access_key = 'minioaccesskey'\n",
    "minio_secret_key = 'miniosecretkey'\n",
    "minio_object_name = pasta\n",
    "minio_client = Minio(minio_endpoint, access_key=minio_access_key, secret_key=minio_secret_key, secure=False)\n",
    "\n",
    "# Definição de variáveis para versionamento dos dados na camada bronze\n",
    "minio_path = f'{pasta}'"
   ]
  },
  {
   "cell_type": "markdown",
   "id": "435aa9ea-7da5-4f7a-a984-a7b344586fc2",
   "metadata": {
    "papermill": {
     "duration": 0.007869,
     "end_time": "2024-02-12T13:38:56.554189",
     "exception": false,
     "start_time": "2024-02-12T13:38:56.546320",
     "status": "completed"
    },
    "tags": []
   },
   "source": [
    "### Leitura da camada Silver"
   ]
  },
  {
   "cell_type": "code",
   "execution_count": 4,
   "id": "3990b29b-7611-4281-a482-edf584e7d817",
   "metadata": {
    "execution": {
     "iopub.execute_input": "2024-02-12T13:38:56.575914Z",
     "iopub.status.busy": "2024-02-12T13:38:56.575664Z",
     "iopub.status.idle": "2024-02-12T13:38:58.096727Z",
     "shell.execute_reply": "2024-02-12T13:38:58.095846Z"
    },
    "papermill": {
     "duration": 1.534122,
     "end_time": "2024-02-12T13:38:58.098386",
     "exception": false,
     "start_time": "2024-02-12T13:38:56.564264",
     "status": "completed"
    },
    "tags": []
   },
   "outputs": [
    {
     "name": "stdout",
     "output_type": "stream",
     "text": [
      "Objeto encontrado: avaliacoes/avaliacoes20240212/part-00000-c361ac0d-1f56-4296-abcf-08c22257882e-c000.snappy.parquet\n",
      "Objeto encontrado: avaliacoes/avaliacoes20240212/part-00001-c361ac0d-1f56-4296-abcf-08c22257882e-c000.snappy.parquet\n",
      "Objeto encontrado: avaliacoes/avaliacoes20240212/part-00002-c361ac0d-1f56-4296-abcf-08c22257882e-c000.snappy.parquet\n",
      "Objeto encontrado: avaliacoes/avaliacoes20240212/part-00003-c361ac0d-1f56-4296-abcf-08c22257882e-c000.snappy.parquet\n",
      "Objeto encontrado: avaliacoes/avaliacoes20240212/part-00004-c361ac0d-1f56-4296-abcf-08c22257882e-c000.snappy.parquet\n",
      "Objeto encontrado: avaliacoes/avaliacoes20240212/part-00005-c361ac0d-1f56-4296-abcf-08c22257882e-c000.snappy.parquet\n",
      "Objeto encontrado: avaliacoes/avaliacoes20240212/part-00006-c361ac0d-1f56-4296-abcf-08c22257882e-c000.snappy.parquet\n",
      "Objeto encontrado: avaliacoes/avaliacoes20240212/part-00007-c361ac0d-1f56-4296-abcf-08c22257882e-c000.snappy.parquet\n",
      "Objeto encontrado: avaliacoes/avaliacoes20240212/part-00008-c361ac0d-1f56-4296-abcf-08c22257882e-c000.snappy.parquet\n",
      "Objeto encontrado: avaliacoes/avaliacoes20240212/part-00009-c361ac0d-1f56-4296-abcf-08c22257882e-c000.snappy.parquet\n",
      "Objeto encontrado: avaliacoes/avaliacoes20240212/part-00010-c361ac0d-1f56-4296-abcf-08c22257882e-c000.snappy.parquet\n",
      "Objeto encontrado: avaliacoes/avaliacoes20240212/part-00011-c361ac0d-1f56-4296-abcf-08c22257882e-c000.snappy.parquet\n"
     ]
    }
   ],
   "source": [
    "dataframes = []\n",
    "\n",
    "try:\n",
    "    # Lista objetos no bucket\n",
    "    objects = minio_client.list_objects(camadaLeitura, prefix=pasta, recursive=True)\n",
    "\n",
    "    # Itera sobre os objetos na pasta\n",
    "    for obj in objects:\n",
    "        # Lê o conteúdo do objeto\n",
    "        content = minio_client.get_object(camadaLeitura, obj.object_name).read()\n",
    "        \n",
    "        # Lê o conteúdo do objeto Parquet usando pyarrow e converte para DataFrame Pandas\n",
    "        df_pandas = pq.read_table(BytesIO(content)).to_pandas()\n",
    "        \n",
    "        # Adiciona o DataFrame Pandas à lista de DataFrames\n",
    "        dataframes.append(df_pandas)\n",
    "        \n",
    "        print(f\"Objeto encontrado: {obj.object_name}\")\n",
    "except error.MinioException as e:\n",
    "    print(f\"Erro ao listar objetos: {e}\")\n",
    "\n",
    "# Concatena todos os DataFrames Pandas em um único DataFrame Pandas\n",
    "consolidated_df_pandas = pd.concat(dataframes, ignore_index=True)\n",
    "\n",
    "# Converte para DataFrame PySpark\n",
    "df_avaliacoes = spark.createDataFrame(consolidated_df_pandas)"
   ]
  },
  {
   "cell_type": "markdown",
   "id": "7ad4164b-2622-4d4d-bc68-d1cade059670",
   "metadata": {
    "papermill": {
     "duration": 0.008022,
     "end_time": "2024-02-12T13:38:58.112253",
     "exception": false,
     "start_time": "2024-02-12T13:38:58.104231",
     "status": "completed"
    },
    "tags": []
   },
   "source": [
    "### Tratamento dos dados"
   ]
  },
  {
   "cell_type": "code",
   "execution_count": 5,
   "id": "0eecb32f-615f-4b79-96c6-c3fa2ca47fb3",
   "metadata": {
    "execution": {
     "iopub.execute_input": "2024-02-12T13:38:58.127859Z",
     "iopub.status.busy": "2024-02-12T13:38:58.127529Z",
     "iopub.status.idle": "2024-02-12T13:39:00.163105Z",
     "shell.execute_reply": "2024-02-12T13:39:00.162296Z"
    },
    "papermill": {
     "duration": 2.045314,
     "end_time": "2024-02-12T13:39:00.164609",
     "exception": false,
     "start_time": "2024-02-12T13:38:58.119295",
     "status": "completed"
    },
    "tags": []
   },
   "outputs": [],
   "source": [
    "# Busca etl_date mais recente\n",
    "max_etl_date = df_avaliacoes.agg(max(\"etl_date\")).collect()[0][0]\n",
    "\n",
    "# Filtra o Dataframe pelo etl_date mais recente\n",
    "df_avaliacoes = df_avaliacoes.select('id_turma', 'id_disciplina', 'data_avaliacao', 'titulo').where(col(\"etl_date\") == max_etl_date)"
   ]
  },
  {
   "cell_type": "markdown",
   "id": "9fd5188c-51a9-4893-8509-67f8db4b79bc",
   "metadata": {
    "papermill": {
     "duration": 0.00784,
     "end_time": "2024-02-12T13:39:00.177731",
     "exception": false,
     "start_time": "2024-02-12T13:39:00.169891",
     "status": "completed"
    },
    "tags": []
   },
   "source": [
    "### Gravação do dataframe em um diretório temporário"
   ]
  },
  {
   "cell_type": "code",
   "execution_count": 6,
   "id": "2d18424f-56d6-40f7-85be-918f8b48b55e",
   "metadata": {
    "execution": {
     "iopub.execute_input": "2024-02-12T13:39:00.193916Z",
     "iopub.status.busy": "2024-02-12T13:39:00.193436Z",
     "iopub.status.idle": "2024-02-12T13:39:01.863283Z",
     "shell.execute_reply": "2024-02-12T13:39:01.862531Z"
    },
    "papermill": {
     "duration": 1.679585,
     "end_time": "2024-02-12T13:39:01.864921",
     "exception": false,
     "start_time": "2024-02-12T13:39:00.185336",
     "status": "completed"
    },
    "tags": []
   },
   "outputs": [],
   "source": [
    "df_avaliacoes.write.parquet(temp_blobs, mode=\"overwrite\")"
   ]
  },
  {
   "cell_type": "markdown",
   "id": "dd34be7d-a6bc-482c-8f23-3d69e140c055",
   "metadata": {
    "papermill": {
     "duration": 0.008464,
     "end_time": "2024-02-12T13:39:01.878114",
     "exception": false,
     "start_time": "2024-02-12T13:39:01.869650",
     "status": "completed"
    },
    "tags": []
   },
   "source": [
    "### Gravação na camada Gold"
   ]
  },
  {
   "cell_type": "code",
   "execution_count": 7,
   "id": "69d48ea0-0d84-4981-b38d-ff27691eeb99",
   "metadata": {
    "execution": {
     "iopub.execute_input": "2024-02-12T13:39:01.895302Z",
     "iopub.status.busy": "2024-02-12T13:39:01.894272Z",
     "iopub.status.idle": "2024-02-12T13:39:02.086585Z",
     "shell.execute_reply": "2024-02-12T13:39:02.085775Z"
    },
    "papermill": {
     "duration": 0.202236,
     "end_time": "2024-02-12T13:39:02.087934",
     "exception": false,
     "start_time": "2024-02-12T13:39:01.885698",
     "status": "completed"
    },
    "tags": []
   },
   "outputs": [
    {
     "name": "stdout",
     "output_type": "stream",
     "text": [
      "Arquivo 'part-00000-40f137b7-8bae-41df-81d1-56df5bba3c3a-c000.snappy.parquet' enviado com sucesso para o MinIO em 'avaliacoes/part-00000-40f137b7-8bae-41df-81d1-56df5bba3c3a-c000.snappy.parquet'.\n",
      "Arquivo 'part-00001-40f137b7-8bae-41df-81d1-56df5bba3c3a-c000.snappy.parquet' enviado com sucesso para o MinIO em 'avaliacoes/part-00001-40f137b7-8bae-41df-81d1-56df5bba3c3a-c000.snappy.parquet'.\n",
      "Arquivo 'part-00002-40f137b7-8bae-41df-81d1-56df5bba3c3a-c000.snappy.parquet' enviado com sucesso para o MinIO em 'avaliacoes/part-00002-40f137b7-8bae-41df-81d1-56df5bba3c3a-c000.snappy.parquet'.\n",
      "Arquivo 'part-00003-40f137b7-8bae-41df-81d1-56df5bba3c3a-c000.snappy.parquet' enviado com sucesso para o MinIO em 'avaliacoes/part-00003-40f137b7-8bae-41df-81d1-56df5bba3c3a-c000.snappy.parquet'.\n",
      "Arquivo 'part-00004-40f137b7-8bae-41df-81d1-56df5bba3c3a-c000.snappy.parquet' enviado com sucesso para o MinIO em 'avaliacoes/part-00004-40f137b7-8bae-41df-81d1-56df5bba3c3a-c000.snappy.parquet'.\n",
      "Arquivo 'part-00005-40f137b7-8bae-41df-81d1-56df5bba3c3a-c000.snappy.parquet' enviado com sucesso para o MinIO em 'avaliacoes/part-00005-40f137b7-8bae-41df-81d1-56df5bba3c3a-c000.snappy.parquet'.\n",
      "Arquivo 'part-00006-40f137b7-8bae-41df-81d1-56df5bba3c3a-c000.snappy.parquet' enviado com sucesso para o MinIO em 'avaliacoes/part-00006-40f137b7-8bae-41df-81d1-56df5bba3c3a-c000.snappy.parquet'.\n",
      "Arquivo 'part-00007-40f137b7-8bae-41df-81d1-56df5bba3c3a-c000.snappy.parquet' enviado com sucesso para o MinIO em 'avaliacoes/part-00007-40f137b7-8bae-41df-81d1-56df5bba3c3a-c000.snappy.parquet'.\n",
      "Arquivo 'part-00008-40f137b7-8bae-41df-81d1-56df5bba3c3a-c000.snappy.parquet' enviado com sucesso para o MinIO em 'avaliacoes/part-00008-40f137b7-8bae-41df-81d1-56df5bba3c3a-c000.snappy.parquet'.\n",
      "Arquivo 'part-00009-40f137b7-8bae-41df-81d1-56df5bba3c3a-c000.snappy.parquet' enviado com sucesso para o MinIO em 'avaliacoes/part-00009-40f137b7-8bae-41df-81d1-56df5bba3c3a-c000.snappy.parquet'.\n",
      "Arquivo 'part-00010-40f137b7-8bae-41df-81d1-56df5bba3c3a-c000.snappy.parquet' enviado com sucesso para o MinIO em 'avaliacoes/part-00010-40f137b7-8bae-41df-81d1-56df5bba3c3a-c000.snappy.parquet'.\n",
      "Arquivo 'part-00011-40f137b7-8bae-41df-81d1-56df5bba3c3a-c000.snappy.parquet' enviado com sucesso para o MinIO em 'avaliacoes/part-00011-40f137b7-8bae-41df-81d1-56df5bba3c3a-c000.snappy.parquet'.\n"
     ]
    }
   ],
   "source": [
    "# Recria bucket caso não exista\n",
    "if not minio_client.bucket_exists(camadaEscrita):\n",
    "    minio_client.make_bucket(camadaEscrita)\n",
    "\n",
    "# Lista todos os arquivos Parquet no diretório temporário de blobs\n",
    "arquivos_parquet = glob.glob(os.path.join(temp_blobs, '*.parquet'))\n",
    "\n",
    "# Exclui todos os arquivos existentes na pasta no MinIO\n",
    "objects = minio_client.list_objects(camadaEscrita, minio_path, recursive=True)\n",
    "for obj in objects:\n",
    "    try:\n",
    "        minio_client.remove_object(camadaEscrita, obj.object_name)\n",
    "        print(f\"Arquivo existente '{obj.object_name}' removido com sucesso do MinIO.\")\n",
    "    except S3Error as e:\n",
    "        print(f\"Erro ao excluir o arquivo existente do MinIO: {e}\")\n",
    "\n",
    "# Itera sobre a lista de arquivos Parquet e envia cada um para o MinIO\n",
    "for arquivo_parquet in arquivos_parquet:\n",
    "    try:\n",
    "        # Obtém o nome do arquivo\n",
    "        nome_arquivo = os.path.basename(arquivo_parquet)\n",
    "\n",
    "        # Envia o novo arquivo para o MinIO\n",
    "        minio_client.fput_object(camadaEscrita, os.path.join(minio_path, nome_arquivo), arquivo_parquet)\n",
    "        print(f\"Arquivo '{nome_arquivo}' enviado com sucesso para o MinIO em '{os.path.join(minio_path, nome_arquivo)}'.\")\n",
    "    except S3Error as e:\n",
    "        print(f\"Erro ao interagir com o MinIO: {e}\")"
   ]
  },
  {
   "cell_type": "markdown",
   "id": "5d7b6298-6223-4086-980b-9e1409b324ea",
   "metadata": {
    "papermill": {
     "duration": 0.007626,
     "end_time": "2024-02-12T13:39:02.100008",
     "exception": false,
     "start_time": "2024-02-12T13:39:02.092382",
     "status": "completed"
    },
    "tags": []
   },
   "source": [
    "### Remove dados do diretório temporário de blobs"
   ]
  },
  {
   "cell_type": "code",
   "execution_count": 8,
   "id": "a9373d36-1d90-45ab-bcf8-6c7cae5daffc",
   "metadata": {
    "execution": {
     "iopub.execute_input": "2024-02-12T13:39:02.115714Z",
     "iopub.status.busy": "2024-02-12T13:39:02.115474Z",
     "iopub.status.idle": "2024-02-12T13:39:02.240781Z",
     "shell.execute_reply": "2024-02-12T13:39:02.240079Z"
    },
    "papermill": {
     "duration": 0.135001,
     "end_time": "2024-02-12T13:39:02.242049",
     "exception": false,
     "start_time": "2024-02-12T13:39:02.107048",
     "status": "completed"
    },
    "tags": []
   },
   "outputs": [
    {
     "name": "stdout",
     "output_type": "stream",
     "text": [
      "/home/jovyan/notebooks/temporary_blobs/.part-00000-40f137b7-8bae-41df-81d1-56df5bba3c3a-c000.snappy.parquet.crc deletado com sucesso.\n",
      "/home/jovyan/notebooks/temporary_blobs/.part-00001-40f137b7-8bae-41df-81d1-56df5bba3c3a-c000.snappy.parquet.crc deletado com sucesso.\n",
      "/home/jovyan/notebooks/temporary_blobs/.part-00002-40f137b7-8bae-41df-81d1-56df5bba3c3a-c000.snappy.parquet.crc deletado com sucesso.\n",
      "/home/jovyan/notebooks/temporary_blobs/.part-00003-40f137b7-8bae-41df-81d1-56df5bba3c3a-c000.snappy.parquet.crc deletado com sucesso.\n",
      "/home/jovyan/notebooks/temporary_blobs/.part-00004-40f137b7-8bae-41df-81d1-56df5bba3c3a-c000.snappy.parquet.crc deletado com sucesso.\n",
      "/home/jovyan/notebooks/temporary_blobs/.part-00005-40f137b7-8bae-41df-81d1-56df5bba3c3a-c000.snappy.parquet.crc deletado com sucesso.\n",
      "/home/jovyan/notebooks/temporary_blobs/.part-00006-40f137b7-8bae-41df-81d1-56df5bba3c3a-c000.snappy.parquet.crc deletado com sucesso.\n",
      "/home/jovyan/notebooks/temporary_blobs/.part-00007-40f137b7-8bae-41df-81d1-56df5bba3c3a-c000.snappy.parquet.crc deletado com sucesso.\n",
      "/home/jovyan/notebooks/temporary_blobs/.part-00008-40f137b7-8bae-41df-81d1-56df5bba3c3a-c000.snappy.parquet.crc deletado com sucesso.\n",
      "/home/jovyan/notebooks/temporary_blobs/.part-00009-40f137b7-8bae-41df-81d1-56df5bba3c3a-c000.snappy.parquet.crc deletado com sucesso.\n",
      "/home/jovyan/notebooks/temporary_blobs/.part-00010-40f137b7-8bae-41df-81d1-56df5bba3c3a-c000.snappy.parquet.crc deletado com sucesso.\n"
     ]
    },
    {
     "name": "stdout",
     "output_type": "stream",
     "text": [
      "/home/jovyan/notebooks/temporary_blobs/.part-00011-40f137b7-8bae-41df-81d1-56df5bba3c3a-c000.snappy.parquet.crc deletado com sucesso.\n",
      "/home/jovyan/notebooks/temporary_blobs/._SUCCESS.crc deletado com sucesso.\n",
      "/home/jovyan/notebooks/temporary_blobs/part-00000-40f137b7-8bae-41df-81d1-56df5bba3c3a-c000.snappy.parquet deletado com sucesso.\n",
      "/home/jovyan/notebooks/temporary_blobs/part-00001-40f137b7-8bae-41df-81d1-56df5bba3c3a-c000.snappy.parquet deletado com sucesso.\n",
      "/home/jovyan/notebooks/temporary_blobs/part-00002-40f137b7-8bae-41df-81d1-56df5bba3c3a-c000.snappy.parquet deletado com sucesso.\n",
      "/home/jovyan/notebooks/temporary_blobs/part-00003-40f137b7-8bae-41df-81d1-56df5bba3c3a-c000.snappy.parquet deletado com sucesso.\n",
      "/home/jovyan/notebooks/temporary_blobs/part-00004-40f137b7-8bae-41df-81d1-56df5bba3c3a-c000.snappy.parquet deletado com sucesso.\n",
      "/home/jovyan/notebooks/temporary_blobs/part-00005-40f137b7-8bae-41df-81d1-56df5bba3c3a-c000.snappy.parquet deletado com sucesso.\n",
      "/home/jovyan/notebooks/temporary_blobs/part-00006-40f137b7-8bae-41df-81d1-56df5bba3c3a-c000.snappy.parquet deletado com sucesso.\n",
      "/home/jovyan/notebooks/temporary_blobs/part-00007-40f137b7-8bae-41df-81d1-56df5bba3c3a-c000.snappy.parquet deletado com sucesso.\n",
      "/home/jovyan/notebooks/temporary_blobs/part-00008-40f137b7-8bae-41df-81d1-56df5bba3c3a-c000.snappy.parquet deletado com sucesso.\n",
      "/home/jovyan/notebooks/temporary_blobs/part-00009-40f137b7-8bae-41df-81d1-56df5bba3c3a-c000.snappy.parquet deletado com sucesso.\n",
      "/home/jovyan/notebooks/temporary_blobs/part-00010-40f137b7-8bae-41df-81d1-56df5bba3c3a-c000.snappy.parquet deletado com sucesso.\n",
      "/home/jovyan/notebooks/temporary_blobs/part-00011-40f137b7-8bae-41df-81d1-56df5bba3c3a-c000.snappy.parquet deletado com sucesso.\n",
      "/home/jovyan/notebooks/temporary_blobs/_SUCCESS deletado com sucesso.\n"
     ]
    }
   ],
   "source": [
    "# Liste todos os arquivos na pasta\n",
    "arquivos_na_pasta = os.listdir(temp_blobs)\n",
    "\n",
    "# Itere sobre os arquivos e os delete\n",
    "for arquivo in arquivos_na_pasta:\n",
    "    caminho_completo = os.path.join(temp_blobs, arquivo)\n",
    "    try:\n",
    "        if os.path.isfile(caminho_completo):\n",
    "            os.remove(caminho_completo)\n",
    "            print(f'{caminho_completo} deletado com sucesso.')\n",
    "    except Exception as e:\n",
    "        print(f'Erro ao deletar {caminho_completo}: {e}')\n",
    "\n",
    "spark.stop()"
   ]
  }
 ],
 "metadata": {
  "kernelspec": {
   "display_name": "Python 3 (ipykernel)",
   "language": "python",
   "name": "python3"
  },
  "language_info": {
   "codemirror_mode": {
    "name": "ipython",
    "version": 3
   },
   "file_extension": ".py",
   "mimetype": "text/x-python",
   "name": "python",
   "nbconvert_exporter": "python",
   "pygments_lexer": "ipython3",
   "version": "3.11.6"
  },
  "papermill": {
   "default_parameters": {},
   "duration": 15.122502,
   "end_time": "2024-02-12T13:39:04.866011",
   "environment_variables": {},
   "exception": null,
   "input_path": "/home/jovyan/notebooks/dataset_avaliacoes/3_silver_gold_avaliacoes/3_silver_gold_avaliacoes.ipynb",
   "output_path": "/home/jovyan/notebooks/dataset_avaliacoes/3_silver_gold_avaliacoes/3_silver_gold_avaliacoes.ipynb",
   "parameters": {},
   "start_time": "2024-02-12T13:38:49.743509",
   "version": "2.5.0"
  }
 },
 "nbformat": 4,
 "nbformat_minor": 5
}