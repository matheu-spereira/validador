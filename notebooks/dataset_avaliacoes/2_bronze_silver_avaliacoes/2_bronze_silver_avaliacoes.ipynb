{
 "cells": [
  {
   "cell_type": "markdown",
   "id": "b0e7bb34-cd8b-44a0-9f31-96ea25b92f97",
   "metadata": {
    "papermill": {
     "duration": 0.008,
     "end_time": "2024-02-09T21:20:46.334131",
     "exception": false,
     "start_time": "2024-02-09T21:20:46.326131",
     "status": "completed"
    },
    "tags": []
   },
   "source": [
    "## Objetivo do notebook\n",
    "#### O objetivo deste notebook é realizar a leitura de dados das origens do dataset avaliações de turmas  na camada bronze e gravar de forma versionada na camada silver\n"
   ]
  },
  {
   "cell_type": "markdown",
   "id": "bdc6fc1b-5d00-421c-a512-fd85d0f35a8c",
   "metadata": {
    "papermill": {
     "duration": 0.006741,
     "end_time": "2024-02-09T21:20:46.348334",
     "exception": false,
     "start_time": "2024-02-09T21:20:46.341593",
     "status": "completed"
    },
    "tags": []
   },
   "source": [
    "### Import Libs"
   ]
  },
  {
   "cell_type": "code",
   "execution_count": 1,
   "id": "942dde0f-19c6-4ad1-8326-4441ac5e24a6",
   "metadata": {
    "execution": {
     "iopub.execute_input": "2024-02-09T21:20:46.362810Z",
     "iopub.status.busy": "2024-02-09T21:20:46.362581Z",
     "iopub.status.idle": "2024-02-09T21:20:48.798265Z",
     "shell.execute_reply": "2024-02-09T21:20:48.794981Z"
    },
    "papermill": {
     "duration": 2.450078,
     "end_time": "2024-02-09T21:20:48.805011",
     "exception": false,
     "start_time": "2024-02-09T21:20:46.354933",
     "status": "completed"
    },
    "tags": []
   },
   "outputs": [
    {
     "name": "stdout",
     "output_type": "stream",
     "text": [
      "Requirement already satisfied: minio in /opt/conda/lib/python3.11/site-packages (7.2.3)\r\n"
     ]
    },
    {
     "name": "stdout",
     "output_type": "stream",
     "text": [
      "Requirement already satisfied: certifi in /opt/conda/lib/python3.11/site-packages (from minio) (2023.7.22)\r\n",
      "Requirement already satisfied: urllib3 in /opt/conda/lib/python3.11/site-packages (from minio) (1.26.18)\r\n",
      "Requirement already satisfied: argon2-cffi in /opt/conda/lib/python3.11/site-packages (from minio) (23.1.0)\r\n",
      "Requirement already satisfied: pycryptodome in /opt/conda/lib/python3.11/site-packages (from minio) (3.20.0)\r\n",
      "Requirement already satisfied: typing-extensions in /opt/conda/lib/python3.11/site-packages (from minio) (4.8.0)\r\n",
      "Requirement already satisfied: argon2-cffi-bindings in /opt/conda/lib/python3.11/site-packages (from argon2-cffi->minio) (21.2.0)\r\n",
      "Requirement already satisfied: cffi>=1.0.1 in /opt/conda/lib/python3.11/site-packages (from argon2-cffi-bindings->argon2-cffi->minio) (1.16.0)\r\n",
      "Requirement already satisfied: pycparser in /opt/conda/lib/python3.11/site-packages (from cffi>=1.0.1->argon2-cffi-bindings->argon2-cffi->minio) (2.21)\r\n"
     ]
    }
   ],
   "source": [
    "!pip install minio"
   ]
  },
  {
   "cell_type": "code",
   "execution_count": 2,
   "id": "3f09124d-a137-4fbf-8ebe-d6d44e13083a",
   "metadata": {
    "execution": {
     "iopub.execute_input": "2024-02-09T21:20:48.836639Z",
     "iopub.status.busy": "2024-02-09T21:20:48.836403Z",
     "iopub.status.idle": "2024-02-09T21:20:49.505570Z",
     "shell.execute_reply": "2024-02-09T21:20:49.504805Z"
    },
    "papermill": {
     "duration": 0.681075,
     "end_time": "2024-02-09T21:20:49.506991",
     "exception": false,
     "start_time": "2024-02-09T21:20:48.825916",
     "status": "completed"
    },
    "tags": []
   },
   "outputs": [],
   "source": [
    "from pyspark.sql import SparkSession\n",
    "from datetime import datetime\n",
    "from minio import Minio\n",
    "from pyspark.sql.functions import to_date\n",
    "from io import BytesIO\n",
    "\n",
    "import os\n",
    "import pandas as pd\n",
    "import glob\n",
    "import pyarrow.parquet as pq"
   ]
  },
  {
   "cell_type": "markdown",
   "id": "6380eb08-1880-49d2-bb20-ec359c8bc60e",
   "metadata": {
    "papermill": {
     "duration": 0.007564,
     "end_time": "2024-02-09T21:20:49.518895",
     "exception": false,
     "start_time": "2024-02-09T21:20:49.511331",
     "status": "completed"
    },
    "tags": []
   },
   "source": [
    "### Definição de variáveis"
   ]
  },
  {
   "cell_type": "code",
   "execution_count": 3,
   "id": "2849a6c2-22fe-47df-84db-cbfb4b06075b",
   "metadata": {
    "execution": {
     "iopub.execute_input": "2024-02-09T21:20:49.533660Z",
     "iopub.status.busy": "2024-02-09T21:20:49.533324Z",
     "iopub.status.idle": "2024-02-09T21:20:51.825193Z",
     "shell.execute_reply": "2024-02-09T21:20:51.824288Z"
    },
    "papermill": {
     "duration": 2.301035,
     "end_time": "2024-02-09T21:20:51.826555",
     "exception": false,
     "start_time": "2024-02-09T21:20:49.525520",
     "status": "completed"
    },
    "tags": []
   },
   "outputs": [],
   "source": [
    "# Sessão Spark\n",
    "spark = SparkSession.builder.getOrCreate()\n",
    "\n",
    "# Parametros de input e output das origens\n",
    "camadaLeitura = 'bronze'\n",
    "camadaEscrita = 'silver'\n",
    "pasta = 'avaliacoes'\n",
    "temp_blobs = '/home/jovyan/notebooks/temporary_blobs/' # pasta temporária para armazenamento de objetos\n",
    "\n",
    "# Conexão ao miniIO\n",
    "minio_endpoint = 'minio:9000'\n",
    "minio_access_key = 'minioaccesskey'\n",
    "minio_secret_key = 'miniosecretkey'\n",
    "minio_client = Minio(minio_endpoint, access_key=minio_access_key, secret_key=minio_secret_key, secure=False)\n",
    "\n",
    "# Definição de variáveis para versionamento dos dados na camada bronze\n",
    "timestamp = datetime.today().strftime('%Y%m%d')\n",
    "minio_path = f'{pasta}/{pasta + timestamp}'"
   ]
  },
  {
   "cell_type": "markdown",
   "id": "457c9954-f7a1-44b6-b93e-86feb9ffeadf",
   "metadata": {
    "papermill": {
     "duration": 0.032549,
     "end_time": "2024-02-09T21:20:51.864036",
     "exception": false,
     "start_time": "2024-02-09T21:20:51.831487",
     "status": "completed"
    },
    "tags": []
   },
   "source": [
    "### Leitura da camada Bronze"
   ]
  },
  {
   "cell_type": "code",
   "execution_count": 4,
   "id": "cc75659e-dff9-46a6-ad37-e82cfa029f45",
   "metadata": {
    "execution": {
     "iopub.execute_input": "2024-02-09T21:20:51.879855Z",
     "iopub.status.busy": "2024-02-09T21:20:51.879608Z",
     "iopub.status.idle": "2024-02-09T21:20:53.333493Z",
     "shell.execute_reply": "2024-02-09T21:20:53.332540Z"
    },
    "papermill": {
     "duration": 1.463803,
     "end_time": "2024-02-09T21:20:53.335215",
     "exception": false,
     "start_time": "2024-02-09T21:20:51.871412",
     "status": "completed"
    },
    "tags": []
   },
   "outputs": [
    {
     "name": "stdout",
     "output_type": "stream",
     "text": [
      "Objeto encontrado: avaliacoes / avaliacoes20240209/part-00000-dcc78927-b299-45df-a4d1-5b3cf45ce3d6-c000.snappy.parquet\n",
      "Objeto encontrado: avaliacoes / avaliacoes20240209/part-00001-dcc78927-b299-45df-a4d1-5b3cf45ce3d6-c000.snappy.parquet\n",
      "Objeto encontrado: avaliacoes / avaliacoes20240209/part-00002-dcc78927-b299-45df-a4d1-5b3cf45ce3d6-c000.snappy.parquet\n",
      "Objeto encontrado: avaliacoes / avaliacoes20240209/part-00003-dcc78927-b299-45df-a4d1-5b3cf45ce3d6-c000.snappy.parquet\n",
      "Objeto encontrado: avaliacoes / avaliacoes20240209/part-00004-dcc78927-b299-45df-a4d1-5b3cf45ce3d6-c000.snappy.parquet\n",
      "Objeto encontrado: avaliacoes / avaliacoes20240209/part-00005-dcc78927-b299-45df-a4d1-5b3cf45ce3d6-c000.snappy.parquet\n",
      "Objeto encontrado: avaliacoes / avaliacoes20240209/part-00006-dcc78927-b299-45df-a4d1-5b3cf45ce3d6-c000.snappy.parquet\n",
      "Objeto encontrado: avaliacoes / avaliacoes20240209/part-00007-dcc78927-b299-45df-a4d1-5b3cf45ce3d6-c000.snappy.parquet\n",
      "Objeto encontrado: avaliacoes / avaliacoes20240209/part-00008-dcc78927-b299-45df-a4d1-5b3cf45ce3d6-c000.snappy.parquet\n",
      "Objeto encontrado: avaliacoes / avaliacoes20240209/part-00009-dcc78927-b299-45df-a4d1-5b3cf45ce3d6-c000.snappy.parquet\n",
      "Objeto encontrado: avaliacoes / avaliacoes20240209/part-00010-dcc78927-b299-45df-a4d1-5b3cf45ce3d6-c000.snappy.parquet\n",
      "Objeto encontrado: avaliacoes / avaliacoes20240209/part-00011-dcc78927-b299-45df-a4d1-5b3cf45ce3d6-c000.snappy.parquet\n"
     ]
    }
   ],
   "source": [
    "dataframes = []\n",
    "\n",
    "try:\n",
    "    # Lista objetos no bucket\n",
    "    objects = minio_client.list_objects(camadaLeitura, prefix=pasta, recursive=True)\n",
    "\n",
    "    # Itera sobre os objetos na pasta\n",
    "    for obj in objects:\n",
    "        # Lê o conteúdo do objeto\n",
    "        content = minio_client.get_object(camadaLeitura, obj.object_name).read()\n",
    "        \n",
    "        # Lê o conteúdo do objeto Parquet usando pyarrow e converte para DataFrame Pandas\n",
    "        df_pandas = pq.read_table(BytesIO(content)).to_pandas()\n",
    "        \n",
    "        # Adiciona o DataFrame Pandas à lista de DataFrames\n",
    "        dataframes.append(df_pandas)\n",
    "        \n",
    "        print(f\"Objeto encontrado: {obj.object_name}\")\n",
    "except error.MinioException as e:\n",
    "    print(f\"Erro ao listar objetos: {e}\")\n",
    "\n",
    "# Concatena todos os DataFrames Pandas em um único DataFrame Pandas\n",
    "consolidated_df_pandas = pd.concat(dataframes, ignore_index=True)\n",
    "\n",
    "# Converte para DataFrame PySpark\n",
    "df_avaliacoes = spark.createDataFrame(consolidated_df_pandas)"
   ]
  },
  {
   "cell_type": "markdown",
   "id": "02f1a9cd-cefd-4459-bc3a-f1ae1e25ae84",
   "metadata": {
    "papermill": {
     "duration": 0.008151,
     "end_time": "2024-02-09T21:20:53.349400",
     "exception": false,
     "start_time": "2024-02-09T21:20:53.341249",
     "status": "completed"
    },
    "tags": []
   },
   "source": [
    "### Tratamento dos dados"
   ]
  },
  {
   "cell_type": "code",
   "execution_count": 5,
   "id": "38440ed2-bdbd-4c08-867e-ee99f8dcb698",
   "metadata": {
    "execution": {
     "iopub.execute_input": "2024-02-09T21:20:53.366999Z",
     "iopub.status.busy": "2024-02-09T21:20:53.366225Z",
     "iopub.status.idle": "2024-02-09T21:20:53.449442Z",
     "shell.execute_reply": "2024-02-09T21:20:53.448680Z"
    },
    "papermill": {
     "duration": 0.09373,
     "end_time": "2024-02-09T21:20:53.450833",
     "exception": false,
     "start_time": "2024-02-09T21:20:53.357103",
     "status": "completed"
    },
    "tags": []
   },
   "outputs": [],
   "source": [
    "df_avaliacoes = df_avaliacoes.select(\n",
    "    'id_turma',\n",
    "    'id_disciplina',\n",
    "    to_date('data_avaliacao').alias('data_avaliacao'),\n",
    "    'titulo',\n",
    "    'etl_date'\n",
    ")"
   ]
  },
  {
   "cell_type": "markdown",
   "id": "b3a3f2bc-c574-4c71-a572-2d692974052f",
   "metadata": {
    "papermill": {
     "duration": 0.007101,
     "end_time": "2024-02-09T21:20:53.462380",
     "exception": false,
     "start_time": "2024-02-09T21:20:53.455279",
     "status": "completed"
    },
    "tags": []
   },
   "source": [
    "### Gravação do dataframe em um diretório temporário"
   ]
  },
  {
   "cell_type": "code",
   "execution_count": 6,
   "id": "2d18424f-56d6-40f7-85be-918f8b48b55e",
   "metadata": {
    "execution": {
     "iopub.execute_input": "2024-02-09T21:20:53.477858Z",
     "iopub.status.busy": "2024-02-09T21:20:53.477195Z",
     "iopub.status.idle": "2024-02-09T21:20:56.538405Z",
     "shell.execute_reply": "2024-02-09T21:20:56.537609Z"
    },
    "papermill": {
     "duration": 3.070598,
     "end_time": "2024-02-09T21:20:56.539910",
     "exception": false,
     "start_time": "2024-02-09T21:20:53.469312",
     "status": "completed"
    },
    "tags": []
   },
   "outputs": [],
   "source": [
    "df_avaliacoes.write.parquet(temp_blobs, mode=\"overwrite\")"
   ]
  },
  {
   "cell_type": "markdown",
   "id": "55952c6d-db81-487d-bfe5-09ad180fe3f0",
   "metadata": {
    "papermill": {
     "duration": 0.007647,
     "end_time": "2024-02-09T21:20:56.552828",
     "exception": false,
     "start_time": "2024-02-09T21:20:56.545181",
     "status": "completed"
    },
    "tags": []
   },
   "source": [
    "### Gravação na camada Silver"
   ]
  },
  {
   "cell_type": "code",
   "execution_count": 7,
   "id": "5a3624f4-76bc-4757-8371-4a7249b75697",
   "metadata": {
    "execution": {
     "iopub.execute_input": "2024-02-09T21:20:56.569160Z",
     "iopub.status.busy": "2024-02-09T21:20:56.568901Z",
     "iopub.status.idle": "2024-02-09T21:20:56.755308Z",
     "shell.execute_reply": "2024-02-09T21:20:56.754422Z"
    },
    "papermill": {
     "duration": 0.196698,
     "end_time": "2024-02-09T21:20:56.757139",
     "exception": false,
     "start_time": "2024-02-09T21:20:56.560441",
     "status": "completed"
    },
    "tags": []
   },
   "outputs": [
    {
     "name": "stdout",
     "output_type": "stream",
     "text": [
      "Arquivo 'part-00000-25862720-3b5c-421f-af95-c4da6f0813c2-c000.snappy.parquet' enviado com sucesso para o MinIO em 'avaliacoes/avaliacoes20240209/part-00000-25862720-3b5c-421f-af95-c4da6f0813c2-c000.snappy.parquet'.\n",
      "Arquivo 'part-00001-25862720-3b5c-421f-af95-c4da6f0813c2-c000.snappy.parquet' enviado com sucesso para o MinIO em 'avaliacoes/avaliacoes20240209/part-00001-25862720-3b5c-421f-af95-c4da6f0813c2-c000.snappy.parquet'.\n",
      "Arquivo 'part-00002-25862720-3b5c-421f-af95-c4da6f0813c2-c000.snappy.parquet' enviado com sucesso para o MinIO em 'avaliacoes/avaliacoes20240209/part-00002-25862720-3b5c-421f-af95-c4da6f0813c2-c000.snappy.parquet'.\n",
      "Arquivo 'part-00003-25862720-3b5c-421f-af95-c4da6f0813c2-c000.snappy.parquet' enviado com sucesso para o MinIO em 'avaliacoes/avaliacoes20240209/part-00003-25862720-3b5c-421f-af95-c4da6f0813c2-c000.snappy.parquet'.\n",
      "Arquivo 'part-00004-25862720-3b5c-421f-af95-c4da6f0813c2-c000.snappy.parquet' enviado com sucesso para o MinIO em 'avaliacoes/avaliacoes20240209/part-00004-25862720-3b5c-421f-af95-c4da6f0813c2-c000.snappy.parquet'.\n",
      "Arquivo 'part-00005-25862720-3b5c-421f-af95-c4da6f0813c2-c000.snappy.parquet' enviado com sucesso para o MinIO em 'avaliacoes/avaliacoes20240209/part-00005-25862720-3b5c-421f-af95-c4da6f0813c2-c000.snappy.parquet'.\n",
      "Arquivo 'part-00006-25862720-3b5c-421f-af95-c4da6f0813c2-c000.snappy.parquet' enviado com sucesso para o MinIO em 'avaliacoes/avaliacoes20240209/part-00006-25862720-3b5c-421f-af95-c4da6f0813c2-c000.snappy.parquet'.\n",
      "Arquivo 'part-00007-25862720-3b5c-421f-af95-c4da6f0813c2-c000.snappy.parquet' enviado com sucesso para o MinIO em 'avaliacoes/avaliacoes20240209/part-00007-25862720-3b5c-421f-af95-c4da6f0813c2-c000.snappy.parquet'.\n",
      "Arquivo 'part-00008-25862720-3b5c-421f-af95-c4da6f0813c2-c000.snappy.parquet' enviado com sucesso para o MinIO em 'avaliacoes/avaliacoes20240209/part-00008-25862720-3b5c-421f-af95-c4da6f0813c2-c000.snappy.parquet'.\n",
      "Arquivo 'part-00009-25862720-3b5c-421f-af95-c4da6f0813c2-c000.snappy.parquet' enviado com sucesso para o MinIO em 'avaliacoes/avaliacoes20240209/part-00009-25862720-3b5c-421f-af95-c4da6f0813c2-c000.snappy.parquet'.\n",
      "Arquivo 'part-00010-25862720-3b5c-421f-af95-c4da6f0813c2-c000.snappy.parquet' enviado com sucesso para o MinIO em 'avaliacoes/avaliacoes20240209/part-00010-25862720-3b5c-421f-af95-c4da6f0813c2-c000.snappy.parquet'.\n",
      "Arquivo 'part-00011-25862720-3b5c-421f-af95-c4da6f0813c2-c000.snappy.parquet' enviado com sucesso para o MinIO em 'avaliacoes/avaliacoes20240209/part-00011-25862720-3b5c-421f-af95-c4da6f0813c2-c000.snappy.parquet'.\n"
     ]
    }
   ],
   "source": [
    "# Recria bucket caso não exista\n",
    "if not minio_client.bucket_exists(camadaEscrita):\n",
    "    minio_client.make_bucket(camadaEscrita)\n",
    "\n",
    "# Lista todos os arquivos Parquet no diretório temporário de blobs\n",
    "arquivos_parquet = glob.glob(os.path.join(temp_blobs, '*.parquet'))\n",
    "\n",
    "# Itera sobre a lista de arquivos Parquet e envia cada um para o MinIO\n",
    "for arquivo_parquet in arquivos_parquet:\n",
    "    try:\n",
    "        # Envia o arquivo para a camada bronze\n",
    "        nome_arquivo = os.path.basename(arquivo_parquet)\n",
    "        minio_client.fput_object(camadaEscrita, os.path.join(minio_path, nome_arquivo), arquivo_parquet)\n",
    "        print(f\"Arquivo '{nome_arquivo}' enviado com sucesso para o MinIO em '{os.path.join(minio_path, nome_arquivo)}'.\")\n",
    "    except S3Error as e:\n",
    "        print(f\"Erro ao enviar o arquivo para o MinIO: {e}\")"
   ]
  },
  {
   "cell_type": "markdown",
   "id": "adb7df5d-ec09-4162-b667-67228d42d4ec",
   "metadata": {
    "papermill": {
     "duration": 0.007841,
     "end_time": "2024-02-09T21:20:56.771788",
     "exception": false,
     "start_time": "2024-02-09T21:20:56.763947",
     "status": "completed"
    },
    "tags": []
   },
   "source": [
    "### Remove dados do diretório temporário de blobs"
   ]
  },
  {
   "cell_type": "code",
   "execution_count": 8,
   "id": "a9373d36-1d90-45ab-bcf8-6c7cae5daffc",
   "metadata": {
    "execution": {
     "iopub.execute_input": "2024-02-09T21:20:56.788893Z",
     "iopub.status.busy": "2024-02-09T21:20:56.788461Z",
     "iopub.status.idle": "2024-02-09T21:20:56.905593Z",
     "shell.execute_reply": "2024-02-09T21:20:56.904755Z"
    },
    "papermill": {
     "duration": 0.127724,
     "end_time": "2024-02-09T21:20:56.906819",
     "exception": false,
     "start_time": "2024-02-09T21:20:56.779095",
     "status": "completed"
    },
    "tags": []
   },
   "outputs": [
    {
     "name": "stdout",
     "output_type": "stream",
     "text": [
      "/home/jovyan/notebooks/temporary_blobs/.part-00000-25862720-3b5c-421f-af95-c4da6f0813c2-c000.snappy.parquet.crc deletado com sucesso.\n",
      "/home/jovyan/notebooks/temporary_blobs/.part-00001-25862720-3b5c-421f-af95-c4da6f0813c2-c000.snappy.parquet.crc deletado com sucesso.\n",
      "/home/jovyan/notebooks/temporary_blobs/.part-00002-25862720-3b5c-421f-af95-c4da6f0813c2-c000.snappy.parquet.crc deletado com sucesso.\n",
      "/home/jovyan/notebooks/temporary_blobs/.part-00003-25862720-3b5c-421f-af95-c4da6f0813c2-c000.snappy.parquet.crc deletado com sucesso.\n"
     ]
    },
    {
     "name": "stdout",
     "output_type": "stream",
     "text": [
      "/home/jovyan/notebooks/temporary_blobs/.part-00004-25862720-3b5c-421f-af95-c4da6f0813c2-c000.snappy.parquet.crc deletado com sucesso.\n",
      "/home/jovyan/notebooks/temporary_blobs/.part-00005-25862720-3b5c-421f-af95-c4da6f0813c2-c000.snappy.parquet.crc deletado com sucesso.\n",
      "/home/jovyan/notebooks/temporary_blobs/.part-00006-25862720-3b5c-421f-af95-c4da6f0813c2-c000.snappy.parquet.crc deletado com sucesso.\n",
      "/home/jovyan/notebooks/temporary_blobs/.part-00007-25862720-3b5c-421f-af95-c4da6f0813c2-c000.snappy.parquet.crc deletado com sucesso.\n",
      "/home/jovyan/notebooks/temporary_blobs/.part-00008-25862720-3b5c-421f-af95-c4da6f0813c2-c000.snappy.parquet.crc deletado com sucesso.\n",
      "/home/jovyan/notebooks/temporary_blobs/.part-00009-25862720-3b5c-421f-af95-c4da6f0813c2-c000.snappy.parquet.crc deletado com sucesso.\n",
      "/home/jovyan/notebooks/temporary_blobs/.part-00010-25862720-3b5c-421f-af95-c4da6f0813c2-c000.snappy.parquet.crc deletado com sucesso.\n",
      "/home/jovyan/notebooks/temporary_blobs/.part-00011-25862720-3b5c-421f-af95-c4da6f0813c2-c000.snappy.parquet.crc deletado com sucesso.\n",
      "/home/jovyan/notebooks/temporary_blobs/._SUCCESS.crc deletado com sucesso.\n",
      "/home/jovyan/notebooks/temporary_blobs/part-00000-25862720-3b5c-421f-af95-c4da6f0813c2-c000.snappy.parquet deletado com sucesso.\n",
      "/home/jovyan/notebooks/temporary_blobs/part-00001-25862720-3b5c-421f-af95-c4da6f0813c2-c000.snappy.parquet deletado com sucesso.\n",
      "/home/jovyan/notebooks/temporary_blobs/part-00002-25862720-3b5c-421f-af95-c4da6f0813c2-c000.snappy.parquet deletado com sucesso.\n",
      "/home/jovyan/notebooks/temporary_blobs/part-00003-25862720-3b5c-421f-af95-c4da6f0813c2-c000.snappy.parquet deletado com sucesso.\n",
      "/home/jovyan/notebooks/temporary_blobs/part-00004-25862720-3b5c-421f-af95-c4da6f0813c2-c000.snappy.parquet deletado com sucesso.\n",
      "/home/jovyan/notebooks/temporary_blobs/part-00005-25862720-3b5c-421f-af95-c4da6f0813c2-c000.snappy.parquet deletado com sucesso.\n",
      "/home/jovyan/notebooks/temporary_blobs/part-00006-25862720-3b5c-421f-af95-c4da6f0813c2-c000.snappy.parquet deletado com sucesso.\n",
      "/home/jovyan/notebooks/temporary_blobs/part-00007-25862720-3b5c-421f-af95-c4da6f0813c2-c000.snappy.parquet deletado com sucesso.\n",
      "/home/jovyan/notebooks/temporary_blobs/part-00008-25862720-3b5c-421f-af95-c4da6f0813c2-c000.snappy.parquet deletado com sucesso.\n",
      "/home/jovyan/notebooks/temporary_blobs/part-00009-25862720-3b5c-421f-af95-c4da6f0813c2-c000.snappy.parquet deletado com sucesso.\n",
      "/home/jovyan/notebooks/temporary_blobs/part-00010-25862720-3b5c-421f-af95-c4da6f0813c2-c000.snappy.parquet deletado com sucesso.\n",
      "/home/jovyan/notebooks/temporary_blobs/part-00011-25862720-3b5c-421f-af95-c4da6f0813c2-c000.snappy.parquet deletado com sucesso.\n",
      "/home/jovyan/notebooks/temporary_blobs/_SUCCESS deletado com sucesso.\n"
     ]
    }
   ],
   "source": [
    "# Liste todos os arquivos na pasta\n",
    "arquivos_na_pasta = os.listdir(temp_blobs)\n",
    "\n",
    "# Itere sobre os arquivos e os delete\n",
    "for arquivo in arquivos_na_pasta:\n",
    "    caminho_completo = os.path.join(temp_blobs, arquivo)\n",
    "    try:\n",
    "        if os.path.isfile(caminho_completo):\n",
    "            os.remove(caminho_completo)\n",
    "            print(f'{caminho_completo} deletado com sucesso.')\n",
    "    except Exception as e:\n",
    "        print(f'Erro ao deletar {caminho_completo}: {e}')\n",
    "\n",
    "spark.stop()"
   ]
  }
 ],
 "metadata": {
  "kernelspec": {
   "display_name": "Python 3 (ipykernel)",
   "language": "python",
   "name": "python3"
  },
  "language_info": {
   "codemirror_mode": {
    "name": "ipython",
    "version": 3
   },
   "file_extension": ".py",
   "mimetype": "text/x-python",
   "name": "python",
   "nbconvert_exporter": "python",
   "pygments_lexer": "ipython3",
   "version": "3.11.6"
  },
  "papermill": {
   "default_parameters": {},
   "duration": 14.183275,
   "end_time": "2024-02-09T21:20:59.531522",
   "environment_variables": {},
   "exception": null,
   "input_path": "/home/jovyan/notebooks/dataset_avaliacoes/2_bronze_silver_avaliacoes/2_bronze_silver_avaliacoes.ipynb",
   "output_path": "/home/jovyan/notebooks/dataset_avaliacoes/2_bronze_silver_avaliacoes/2_bronze_silver_avaliacoes.ipynb",
   "parameters": {},
   "start_time": "2024-02-09T21:20:45.348247",
   "version": "2.5.0"
  }
 },
 "nbformat": 4,
 "nbformat_minor": 5
}