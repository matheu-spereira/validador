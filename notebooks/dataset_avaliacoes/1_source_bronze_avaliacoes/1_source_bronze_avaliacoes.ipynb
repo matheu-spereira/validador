{
 "cells": [
  {
   "cell_type": "markdown",
   "id": "ad166d29-a924-4a98-aa23-41a9e5545b22",
   "metadata": {
    "papermill": {
     "duration": 0.008842,
     "end_time": "2024-02-09T21:20:30.525376",
     "exception": false,
     "start_time": "2024-02-09T21:20:30.516534",
     "status": "completed"
    },
    "tags": []
   },
   "source": [
    "## Objetivo do notebook\n",
    "#### O objetivo deste notebook é realizar a leitura de dados das origens do dataset avaliações de turmas e gravar de forma versionada na camada bronze\n"
   ]
  },
  {
   "cell_type": "markdown",
   "id": "0abb2b66-9f46-4424-8db0-0f360040be69",
   "metadata": {
    "papermill": {
     "duration": 0.007228,
     "end_time": "2024-02-09T21:20:30.540613",
     "exception": false,
     "start_time": "2024-02-09T21:20:30.533385",
     "status": "completed"
    },
    "tags": []
   },
   "source": [
    "### Import Libs"
   ]
  },
  {
   "cell_type": "code",
   "execution_count": 1,
   "id": "64dcf5ff-5d61-4770-9fa0-e77cc20a65c4",
   "metadata": {
    "execution": {
     "iopub.execute_input": "2024-02-09T21:20:30.556300Z",
     "iopub.status.busy": "2024-02-09T21:20:30.556073Z",
     "iopub.status.idle": "2024-02-09T21:20:33.202824Z",
     "shell.execute_reply": "2024-02-09T21:20:33.201961Z"
    },
    "papermill": {
     "duration": 2.656603,
     "end_time": "2024-02-09T21:20:33.204402",
     "exception": false,
     "start_time": "2024-02-09T21:20:30.547799",
     "status": "completed"
    },
    "tags": []
   },
   "outputs": [
    {
     "name": "stdout",
     "output_type": "stream",
     "text": [
      "Requirement already satisfied: minio in /opt/conda/lib/python3.11/site-packages (7.2.3)\r\n",
      "Requirement already satisfied: certifi in /opt/conda/lib/python3.11/site-packages (from minio) (2023.7.22)\r\n",
      "Requirement already satisfied: urllib3 in /opt/conda/lib/python3.11/site-packages (from minio) (1.26.18)\r\n"
     ]
    },
    {
     "name": "stdout",
     "output_type": "stream",
     "text": [
      "Requirement already satisfied: argon2-cffi in /opt/conda/lib/python3.11/site-packages (from minio) (23.1.0)\r\n",
      "Requirement already satisfied: pycryptodome in /opt/conda/lib/python3.11/site-packages (from minio) (3.20.0)\r\n",
      "Requirement already satisfied: typing-extensions in /opt/conda/lib/python3.11/site-packages (from minio) (4.8.0)\r\n",
      "Requirement already satisfied: argon2-cffi-bindings in /opt/conda/lib/python3.11/site-packages (from argon2-cffi->minio) (21.2.0)\r\n",
      "Requirement already satisfied: cffi>=1.0.1 in /opt/conda/lib/python3.11/site-packages (from argon2-cffi-bindings->argon2-cffi->minio) (1.16.0)\r\n",
      "Requirement already satisfied: pycparser in /opt/conda/lib/python3.11/site-packages (from cffi>=1.0.1->argon2-cffi-bindings->argon2-cffi->minio) (2.21)\r\n"
     ]
    }
   ],
   "source": [
    "!pip install minio"
   ]
  },
  {
   "cell_type": "code",
   "execution_count": 2,
   "id": "438a8381-135d-4019-8f53-ce0a99a0efd1",
   "metadata": {
    "editable": true,
    "execution": {
     "iopub.execute_input": "2024-02-09T21:20:33.218770Z",
     "iopub.status.busy": "2024-02-09T21:20:33.218327Z",
     "iopub.status.idle": "2024-02-09T21:20:34.008810Z",
     "shell.execute_reply": "2024-02-09T21:20:34.008017Z"
    },
    "papermill": {
     "duration": 0.801171,
     "end_time": "2024-02-09T21:20:34.010240",
     "exception": false,
     "start_time": "2024-02-09T21:20:33.209069",
     "status": "completed"
    },
    "slideshow": {
     "slide_type": ""
    },
    "tags": []
   },
   "outputs": [],
   "source": [
    "from pyspark.sql import SparkSession\n",
    "from datetime import datetime\n",
    "from minio import Minio\n",
    "from minio.error import S3Error\n",
    "from pyspark.sql.functions import lit\n",
    "from pyspark.sql.functions import current_timestamp\n",
    "\n",
    "import os\n",
    "import pandas as pd\n",
    "import glob"
   ]
  },
  {
   "cell_type": "markdown",
   "id": "3057a3d2-4db9-40da-834c-84e15ed9f09b",
   "metadata": {
    "papermill": {
     "duration": 0.007684,
     "end_time": "2024-02-09T21:20:34.022894",
     "exception": false,
     "start_time": "2024-02-09T21:20:34.015210",
     "status": "completed"
    },
    "tags": []
   },
   "source": [
    "### Definição de variáveis"
   ]
  },
  {
   "cell_type": "code",
   "execution_count": 3,
   "id": "3d58f5ea-59c2-4541-b284-e8c456f02e92",
   "metadata": {
    "execution": {
     "iopub.execute_input": "2024-02-09T21:20:34.038813Z",
     "iopub.status.busy": "2024-02-09T21:20:34.038363Z",
     "iopub.status.idle": "2024-02-09T21:20:36.495367Z",
     "shell.execute_reply": "2024-02-09T21:20:36.494512Z"
    },
    "papermill": {
     "duration": 2.466841,
     "end_time": "2024-02-09T21:20:36.496824",
     "exception": false,
     "start_time": "2024-02-09T21:20:34.029983",
     "status": "completed"
    },
    "tags": []
   },
   "outputs": [],
   "source": [
    "# Sessão Spark\n",
    "spark = SparkSession.builder.getOrCreate()\n",
    "\n",
    "# Parametros de input e output das origens\n",
    "camadaEscrita = 'bronze'\n",
    "pasta = 'avaliacoes'\n",
    "url = \"https://raw.githubusercontent.com/willianmaria/00006-2024-data/main/turma_avaliacoes.csv\"\n",
    "temp_blobs = '/home/jovyan/notebooks/temporary_blobs/' # pasta temporária para armazenamento de objetos\n",
    "\n",
    "# Conexão ao miniIO\n",
    "minio_endpoint = 'minio:9000'\n",
    "minio_access_key = 'minioaccesskey'\n",
    "minio_secret_key = 'miniosecretkey'\n",
    "minio_object_name = pasta\n",
    "minio_client = Minio(minio_endpoint, access_key=minio_access_key, secret_key=minio_secret_key, secure=False)\n",
    "\n",
    "# Definição de variáveis para versionamento dos dados na camada bronze\n",
    "timestamp = datetime.today().strftime('%Y%m%d')\n",
    "minio_path = f'{pasta} / {pasta + timestamp}'"
   ]
  },
  {
   "cell_type": "markdown",
   "id": "b9992b3b-50f8-4dea-97fd-1dfae9ff9e28",
   "metadata": {
    "papermill": {
     "duration": 0.007605,
     "end_time": "2024-02-09T21:20:36.509600",
     "exception": false,
     "start_time": "2024-02-09T21:20:36.501995",
     "status": "completed"
    },
    "tags": []
   },
   "source": [
    "### Leitura e Tratamento dos dados"
   ]
  },
  {
   "cell_type": "code",
   "execution_count": 4,
   "id": "04482079-e9c7-41f2-b318-b6d0b316778e",
   "metadata": {
    "editable": true,
    "execution": {
     "iopub.execute_input": "2024-02-09T21:20:36.525290Z",
     "iopub.status.busy": "2024-02-09T21:20:36.525046Z",
     "iopub.status.idle": "2024-02-09T21:20:38.103158Z",
     "shell.execute_reply": "2024-02-09T21:20:38.102363Z"
    },
    "papermill": {
     "duration": 1.587884,
     "end_time": "2024-02-09T21:20:38.104635",
     "exception": false,
     "start_time": "2024-02-09T21:20:36.516751",
     "status": "completed"
    },
    "slideshow": {
     "slide_type": ""
    },
    "tags": []
   },
   "outputs": [],
   "source": [
    "# leitura do CSV\n",
    "df_avaliacoes = pd.read_csv(url)\n",
    "#Geração de um dataframe spark\n",
    "df_avaliacoes = spark.createDataFrame(df_avaliacoes)\n",
    "#Criação de colunas de etl_Date\n",
    "df_avaliacoes = df_avaliacoes.withColumn(\"etl_date\", current_timestamp())"
   ]
  },
  {
   "cell_type": "markdown",
   "id": "cd29ea09-d3e6-4ac4-81bb-6858d7bd645d",
   "metadata": {
    "papermill": {
     "duration": 0.007527,
     "end_time": "2024-02-09T21:20:38.117138",
     "exception": false,
     "start_time": "2024-02-09T21:20:38.109611",
     "status": "completed"
    },
    "tags": []
   },
   "source": [
    "### Gravação do dataframe em um diretório temporário"
   ]
  },
  {
   "cell_type": "code",
   "execution_count": 5,
   "id": "90590fab-8fdb-4e74-b63f-9b74f950a5d0",
   "metadata": {
    "execution": {
     "iopub.execute_input": "2024-02-09T21:20:38.133125Z",
     "iopub.status.busy": "2024-02-09T21:20:38.132510Z",
     "iopub.status.idle": "2024-02-09T21:20:41.374948Z",
     "shell.execute_reply": "2024-02-09T21:20:41.373677Z"
    },
    "papermill": {
     "duration": 3.253458,
     "end_time": "2024-02-09T21:20:41.377661",
     "exception": false,
     "start_time": "2024-02-09T21:20:38.124203",
     "status": "completed"
    },
    "tags": []
   },
   "outputs": [],
   "source": [
    "df_avaliacoes.write.parquet(temp_blobs, mode=\"overwrite\")"
   ]
  },
  {
   "cell_type": "markdown",
   "id": "ffc5fe16-c710-4ea9-91ff-280fd86dd6cb",
   "metadata": {
    "papermill": {
     "duration": 0.007987,
     "end_time": "2024-02-09T21:20:41.392030",
     "exception": false,
     "start_time": "2024-02-09T21:20:41.384043",
     "status": "completed"
    },
    "tags": []
   },
   "source": [
    "### Gravação na camada Bronze"
   ]
  },
  {
   "cell_type": "code",
   "execution_count": 6,
   "id": "1d2beb5a-b95b-4e28-a29e-4abfa3870911",
   "metadata": {
    "execution": {
     "iopub.execute_input": "2024-02-09T21:20:41.408788Z",
     "iopub.status.busy": "2024-02-09T21:20:41.408496Z",
     "iopub.status.idle": "2024-02-09T21:20:41.597095Z",
     "shell.execute_reply": "2024-02-09T21:20:41.596306Z"
    },
    "papermill": {
     "duration": 0.199068,
     "end_time": "2024-02-09T21:20:41.598471",
     "exception": false,
     "start_time": "2024-02-09T21:20:41.399403",
     "status": "completed"
    },
    "tags": []
   },
   "outputs": [
    {
     "name": "stdout",
     "output_type": "stream",
     "text": [
      "Arquivo 'part-00000-dcc78927-b299-45df-a4d1-5b3cf45ce3d6-c000.snappy.parquet' enviado com sucesso para o MinIO em 'avaliacoes / avaliacoes20240209/part-00000-dcc78927-b299-45df-a4d1-5b3cf45ce3d6-c000.snappy.parquet'.\n",
      "Arquivo 'part-00001-dcc78927-b299-45df-a4d1-5b3cf45ce3d6-c000.snappy.parquet' enviado com sucesso para o MinIO em 'avaliacoes / avaliacoes20240209/part-00001-dcc78927-b299-45df-a4d1-5b3cf45ce3d6-c000.snappy.parquet'.\n",
      "Arquivo 'part-00002-dcc78927-b299-45df-a4d1-5b3cf45ce3d6-c000.snappy.parquet' enviado com sucesso para o MinIO em 'avaliacoes / avaliacoes20240209/part-00002-dcc78927-b299-45df-a4d1-5b3cf45ce3d6-c000.snappy.parquet'.\n",
      "Arquivo 'part-00003-dcc78927-b299-45df-a4d1-5b3cf45ce3d6-c000.snappy.parquet' enviado com sucesso para o MinIO em 'avaliacoes / avaliacoes20240209/part-00003-dcc78927-b299-45df-a4d1-5b3cf45ce3d6-c000.snappy.parquet'.\n",
      "Arquivo 'part-00004-dcc78927-b299-45df-a4d1-5b3cf45ce3d6-c000.snappy.parquet' enviado com sucesso para o MinIO em 'avaliacoes / avaliacoes20240209/part-00004-dcc78927-b299-45df-a4d1-5b3cf45ce3d6-c000.snappy.parquet'.\n",
      "Arquivo 'part-00005-dcc78927-b299-45df-a4d1-5b3cf45ce3d6-c000.snappy.parquet' enviado com sucesso para o MinIO em 'avaliacoes / avaliacoes20240209/part-00005-dcc78927-b299-45df-a4d1-5b3cf45ce3d6-c000.snappy.parquet'.\n",
      "Arquivo 'part-00006-dcc78927-b299-45df-a4d1-5b3cf45ce3d6-c000.snappy.parquet' enviado com sucesso para o MinIO em 'avaliacoes / avaliacoes20240209/part-00006-dcc78927-b299-45df-a4d1-5b3cf45ce3d6-c000.snappy.parquet'.\n",
      "Arquivo 'part-00007-dcc78927-b299-45df-a4d1-5b3cf45ce3d6-c000.snappy.parquet' enviado com sucesso para o MinIO em 'avaliacoes / avaliacoes20240209/part-00007-dcc78927-b299-45df-a4d1-5b3cf45ce3d6-c000.snappy.parquet'.\n",
      "Arquivo 'part-00008-dcc78927-b299-45df-a4d1-5b3cf45ce3d6-c000.snappy.parquet' enviado com sucesso para o MinIO em 'avaliacoes / avaliacoes20240209/part-00008-dcc78927-b299-45df-a4d1-5b3cf45ce3d6-c000.snappy.parquet'.\n",
      "Arquivo 'part-00009-dcc78927-b299-45df-a4d1-5b3cf45ce3d6-c000.snappy.parquet' enviado com sucesso para o MinIO em 'avaliacoes / avaliacoes20240209/part-00009-dcc78927-b299-45df-a4d1-5b3cf45ce3d6-c000.snappy.parquet'.\n",
      "Arquivo 'part-00010-dcc78927-b299-45df-a4d1-5b3cf45ce3d6-c000.snappy.parquet' enviado com sucesso para o MinIO em 'avaliacoes / avaliacoes20240209/part-00010-dcc78927-b299-45df-a4d1-5b3cf45ce3d6-c000.snappy.parquet'.\n",
      "Arquivo 'part-00011-dcc78927-b299-45df-a4d1-5b3cf45ce3d6-c000.snappy.parquet' enviado com sucesso para o MinIO em 'avaliacoes / avaliacoes20240209/part-00011-dcc78927-b299-45df-a4d1-5b3cf45ce3d6-c000.snappy.parquet'.\n"
     ]
    }
   ],
   "source": [
    "# Recria bucket caso não exista\n",
    "if not minio_client.bucket_exists(camadaEscrita):\n",
    "    minio_client.make_bucket(camadaEscrita)\n",
    "\n",
    "# Lista todos os arquivos Parquet no diretório temporário de blobs\n",
    "arquivos_parquet = glob.glob(os.path.join(temp_blobs, '*.parquet'))\n",
    "\n",
    "# Itera sobre a lista de arquivos Parquet e envia cada um para o MinIO\n",
    "for arquivo_parquet in arquivos_parquet:\n",
    "    try:\n",
    "        # Envia o arquivo para a camada bronze\n",
    "        nome_arquivo = os.path.basename(arquivo_parquet)\n",
    "        minio_client.fput_object(camadaEscrita, os.path.join(minio_path, nome_arquivo), arquivo_parquet)\n",
    "        print(f\"Arquivo '{nome_arquivo}' enviado com sucesso para o MinIO em '{os.path.join(minio_path, nome_arquivo)}'.\")\n",
    "    except S3Error as e:\n",
    "        print(f\"Erro ao enviar o arquivo para o MinIO: {e}\")\n"
   ]
  },
  {
   "cell_type": "markdown",
   "id": "897c9edc-9fbb-4910-a65e-0d26d9a9e7c5",
   "metadata": {
    "papermill": {
     "duration": 0.007569,
     "end_time": "2024-02-09T21:20:41.610934",
     "exception": false,
     "start_time": "2024-02-09T21:20:41.603365",
     "status": "completed"
    },
    "tags": []
   },
   "source": [
    "### Remove dados do diretório temporário de blobs"
   ]
  },
  {
   "cell_type": "code",
   "execution_count": 7,
   "id": "9645e8ca-0356-4e1b-8450-8da9d1990f79",
   "metadata": {
    "execution": {
     "iopub.execute_input": "2024-02-09T21:20:41.626208Z",
     "iopub.status.busy": "2024-02-09T21:20:41.625694Z",
     "iopub.status.idle": "2024-02-09T21:20:42.690866Z",
     "shell.execute_reply": "2024-02-09T21:20:42.690128Z"
    },
    "papermill": {
     "duration": 1.074705,
     "end_time": "2024-02-09T21:20:42.692339",
     "exception": false,
     "start_time": "2024-02-09T21:20:41.617634",
     "status": "completed"
    },
    "tags": []
   },
   "outputs": [
    {
     "name": "stdout",
     "output_type": "stream",
     "text": [
      "/home/jovyan/notebooks/temporary_blobs/.part-00000-dcc78927-b299-45df-a4d1-5b3cf45ce3d6-c000.snappy.parquet.crc deletado com sucesso.\n",
      "/home/jovyan/notebooks/temporary_blobs/.part-00001-dcc78927-b299-45df-a4d1-5b3cf45ce3d6-c000.snappy.parquet.crc deletado com sucesso.\n",
      "/home/jovyan/notebooks/temporary_blobs/.part-00002-dcc78927-b299-45df-a4d1-5b3cf45ce3d6-c000.snappy.parquet.crc deletado com sucesso.\n",
      "/home/jovyan/notebooks/temporary_blobs/.part-00003-dcc78927-b299-45df-a4d1-5b3cf45ce3d6-c000.snappy.parquet.crc deletado com sucesso.\n",
      "/home/jovyan/notebooks/temporary_blobs/.part-00004-dcc78927-b299-45df-a4d1-5b3cf45ce3d6-c000.snappy.parquet.crc deletado com sucesso.\n",
      "/home/jovyan/notebooks/temporary_blobs/.part-00005-dcc78927-b299-45df-a4d1-5b3cf45ce3d6-c000.snappy.parquet.crc deletado com sucesso.\n",
      "/home/jovyan/notebooks/temporary_blobs/.part-00006-dcc78927-b299-45df-a4d1-5b3cf45ce3d6-c000.snappy.parquet.crc deletado com sucesso.\n",
      "/home/jovyan/notebooks/temporary_blobs/.part-00007-dcc78927-b299-45df-a4d1-5b3cf45ce3d6-c000.snappy.parquet.crc deletado com sucesso.\n",
      "/home/jovyan/notebooks/temporary_blobs/.part-00008-dcc78927-b299-45df-a4d1-5b3cf45ce3d6-c000.snappy.parquet.crc deletado com sucesso.\n",
      "/home/jovyan/notebooks/temporary_blobs/.part-00009-dcc78927-b299-45df-a4d1-5b3cf45ce3d6-c000.snappy.parquet.crc deletado com sucesso.\n",
      "/home/jovyan/notebooks/temporary_blobs/.part-00010-dcc78927-b299-45df-a4d1-5b3cf45ce3d6-c000.snappy.parquet.crc deletado com sucesso.\n",
      "/home/jovyan/notebooks/temporary_blobs/.part-00011-dcc78927-b299-45df-a4d1-5b3cf45ce3d6-c000.snappy.parquet.crc deletado com sucesso.\n",
      "/home/jovyan/notebooks/temporary_blobs/._SUCCESS.crc deletado com sucesso.\n"
     ]
    },
    {
     "name": "stdout",
     "output_type": "stream",
     "text": [
      "/home/jovyan/notebooks/temporary_blobs/part-00000-dcc78927-b299-45df-a4d1-5b3cf45ce3d6-c000.snappy.parquet deletado com sucesso.\n",
      "/home/jovyan/notebooks/temporary_blobs/part-00001-dcc78927-b299-45df-a4d1-5b3cf45ce3d6-c000.snappy.parquet deletado com sucesso.\n",
      "/home/jovyan/notebooks/temporary_blobs/part-00002-dcc78927-b299-45df-a4d1-5b3cf45ce3d6-c000.snappy.parquet deletado com sucesso.\n",
      "/home/jovyan/notebooks/temporary_blobs/part-00003-dcc78927-b299-45df-a4d1-5b3cf45ce3d6-c000.snappy.parquet deletado com sucesso.\n",
      "/home/jovyan/notebooks/temporary_blobs/part-00004-dcc78927-b299-45df-a4d1-5b3cf45ce3d6-c000.snappy.parquet deletado com sucesso.\n",
      "/home/jovyan/notebooks/temporary_blobs/part-00005-dcc78927-b299-45df-a4d1-5b3cf45ce3d6-c000.snappy.parquet deletado com sucesso.\n",
      "/home/jovyan/notebooks/temporary_blobs/part-00006-dcc78927-b299-45df-a4d1-5b3cf45ce3d6-c000.snappy.parquet deletado com sucesso.\n",
      "/home/jovyan/notebooks/temporary_blobs/part-00007-dcc78927-b299-45df-a4d1-5b3cf45ce3d6-c000.snappy.parquet deletado com sucesso.\n",
      "/home/jovyan/notebooks/temporary_blobs/part-00008-dcc78927-b299-45df-a4d1-5b3cf45ce3d6-c000.snappy.parquet deletado com sucesso.\n",
      "/home/jovyan/notebooks/temporary_blobs/part-00009-dcc78927-b299-45df-a4d1-5b3cf45ce3d6-c000.snappy.parquet deletado com sucesso.\n",
      "/home/jovyan/notebooks/temporary_blobs/part-00010-dcc78927-b299-45df-a4d1-5b3cf45ce3d6-c000.snappy.parquet deletado com sucesso.\n",
      "/home/jovyan/notebooks/temporary_blobs/part-00011-dcc78927-b299-45df-a4d1-5b3cf45ce3d6-c000.snappy.parquet deletado com sucesso.\n",
      "/home/jovyan/notebooks/temporary_blobs/_SUCCESS deletado com sucesso.\n"
     ]
    }
   ],
   "source": [
    "# Lista todos os arquivos na pasta\n",
    "arquivos_na_pasta = os.listdir(temp_blobs)\n",
    "\n",
    "# Itera sobre os arquivos e os deleta\n",
    "for arquivo in arquivos_na_pasta:\n",
    "    caminho_completo = os.path.join(temp_blobs, arquivo)\n",
    "    try:\n",
    "        if os.path.isfile(caminho_completo):\n",
    "            os.remove(caminho_completo)\n",
    "            print(f'{caminho_completo} deletado com sucesso.')\n",
    "    except Exception as e:\n",
    "        print(f'Erro ao deletar {caminho_completo}: {e}')\n",
    "\n",
    "spark.stop()"
   ]
  }
 ],
 "metadata": {
  "kernelspec": {
   "display_name": "Python 3 (ipykernel)",
   "language": "python",
   "name": "python3"
  },
  "language_info": {
   "codemirror_mode": {
    "name": "ipython",
    "version": 3
   },
   "file_extension": ".py",
   "mimetype": "text/x-python",
   "name": "python",
   "nbconvert_exporter": "python",
   "pygments_lexer": "ipython3",
   "version": "3.11.6"
  },
  "papermill": {
   "default_parameters": {},
   "duration": 15.602446,
   "end_time": "2024-02-09T21:20:45.318290",
   "environment_variables": {},
   "exception": null,
   "input_path": "/home/jovyan/notebooks/dataset_avaliacoes/1_source_bronze_avaliacoes/1_source_bronze_avaliacoes.ipynb",
   "output_path": "/home/jovyan/notebooks/dataset_avaliacoes/1_source_bronze_avaliacoes/1_source_bronze_avaliacoes.ipynb",
   "parameters": {},
   "start_time": "2024-02-09T21:20:29.715844",
   "version": "2.5.0"
  }
 },
 "nbformat": 4,
 "nbformat_minor": 5
}