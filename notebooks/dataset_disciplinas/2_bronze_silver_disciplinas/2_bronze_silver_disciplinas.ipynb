{
 "cells": [
  {
   "cell_type": "markdown",
   "id": "b0e7bb34-cd8b-44a0-9f31-96ea25b92f97",
   "metadata": {
    "papermill": {
     "duration": 0.019504,
     "end_time": "2024-01-14T18:54:21.929881",
     "exception": false,
     "start_time": "2024-01-14T18:54:21.910377",
     "status": "completed"
    },
    "tags": []
   },
   "source": [
    "## Objetivo do notebook\n",
    "#### O objetivo deste notebook é realizar a leitura de dados das origens do dataset disciplinas na camada bronze e gravar de forma versionada na camada silver\n"
   ]
  },
  {
   "cell_type": "markdown",
   "id": "bdc6fc1b-5d00-421c-a512-fd85d0f35a8c",
   "metadata": {
    "papermill": {
     "duration": 0.006892,
     "end_time": "2024-01-14T18:54:21.947350",
     "exception": false,
     "start_time": "2024-01-14T18:54:21.940458",
     "status": "completed"
    },
    "tags": []
   },
   "source": [
    "### Import Libs"
   ]
  },
  {
   "cell_type": "code",
   "execution_count": 1,
   "id": "942dde0f-19c6-4ad1-8326-4441ac5e24a6",
   "metadata": {
    "execution": {
     "iopub.execute_input": "2024-01-14T18:54:21.962837Z",
     "iopub.status.busy": "2024-01-14T18:54:21.962393Z",
     "iopub.status.idle": "2024-01-14T18:54:24.440367Z",
     "shell.execute_reply": "2024-01-14T18:54:24.436477Z"
    },
    "papermill": {
     "duration": 2.492867,
     "end_time": "2024-01-14T18:54:24.447223",
     "exception": false,
     "start_time": "2024-01-14T18:54:21.954356",
     "status": "completed"
    },
    "tags": []
   },
   "outputs": [
    {
     "name": "stdout",
     "output_type": "stream",
     "text": [
      "Requirement already satisfied: minio in /opt/conda/lib/python3.11/site-packages (7.2.3)\r\n",
      "Requirement already satisfied: certifi in /opt/conda/lib/python3.11/site-packages (from minio) (2023.7.22)\r\n",
      "Requirement already satisfied: urllib3 in /opt/conda/lib/python3.11/site-packages (from minio) (1.26.18)\r\n",
      "Requirement already satisfied: argon2-cffi in /opt/conda/lib/python3.11/site-packages (from minio) (23.1.0)\r\n",
      "Requirement already satisfied: pycryptodome in /opt/conda/lib/python3.11/site-packages (from minio) (3.20.0)\r\n",
      "Requirement already satisfied: typing-extensions in /opt/conda/lib/python3.11/site-packages (from minio) (4.8.0)\r\n",
      "Requirement already satisfied: argon2-cffi-bindings in /opt/conda/lib/python3.11/site-packages (from argon2-cffi->minio) (21.2.0)\r\n"
     ]
    },
    {
     "name": "stdout",
     "output_type": "stream",
     "text": [
      "Requirement already satisfied: cffi>=1.0.1 in /opt/conda/lib/python3.11/site-packages (from argon2-cffi-bindings->argon2-cffi->minio) (1.16.0)\r\n",
      "Requirement already satisfied: pycparser in /opt/conda/lib/python3.11/site-packages (from cffi>=1.0.1->argon2-cffi-bindings->argon2-cffi->minio) (2.21)\r\n"
     ]
    }
   ],
   "source": [
    "!pip install minio"
   ]
  },
  {
   "cell_type": "code",
   "execution_count": 2,
   "id": "3f09124d-a137-4fbf-8ebe-d6d44e13083a",
   "metadata": {
    "execution": {
     "iopub.execute_input": "2024-01-14T18:54:24.470502Z",
     "iopub.status.busy": "2024-01-14T18:54:24.470149Z",
     "iopub.status.idle": "2024-01-14T18:54:25.128212Z",
     "shell.execute_reply": "2024-01-14T18:54:25.127410Z"
    },
    "papermill": {
     "duration": 0.670486,
     "end_time": "2024-01-14T18:54:25.129595",
     "exception": false,
     "start_time": "2024-01-14T18:54:24.459109",
     "status": "completed"
    },
    "tags": []
   },
   "outputs": [],
   "source": [
    "from pyspark.sql import SparkSession\n",
    "from datetime import datetime\n",
    "from minio import Minio\n",
    "from pyspark.sql.functions import when, col, lit,isnan\n",
    "from io import BytesIO\n",
    "\n",
    "import os\n",
    "import pandas as pd\n",
    "import glob\n",
    "import pyarrow.parquet as pq"
   ]
  },
  {
   "cell_type": "markdown",
   "id": "6380eb08-1880-49d2-bb20-ec359c8bc60e",
   "metadata": {
    "papermill": {
     "duration": 0.007494,
     "end_time": "2024-01-14T18:54:25.142273",
     "exception": false,
     "start_time": "2024-01-14T18:54:25.134779",
     "status": "completed"
    },
    "tags": []
   },
   "source": [
    "### Definição de variáveis"
   ]
  },
  {
   "cell_type": "code",
   "execution_count": 3,
   "id": "2849a6c2-22fe-47df-84db-cbfb4b06075b",
   "metadata": {
    "execution": {
     "iopub.execute_input": "2024-01-14T18:54:25.165649Z",
     "iopub.status.busy": "2024-01-14T18:54:25.165343Z",
     "iopub.status.idle": "2024-01-14T18:54:27.343784Z",
     "shell.execute_reply": "2024-01-14T18:54:27.342916Z"
    },
    "papermill": {
     "duration": 2.196205,
     "end_time": "2024-01-14T18:54:27.345163",
     "exception": false,
     "start_time": "2024-01-14T18:54:25.148958",
     "status": "completed"
    },
    "tags": []
   },
   "outputs": [],
   "source": [
    "# Sessão Spark\n",
    "spark = SparkSession.builder.getOrCreate()\n",
    "\n",
    "# Parametros de input e output das origens\n",
    "camadaLeitura = 'bronze'\n",
    "camadaEscrita = 'silver'\n",
    "pasta = 'disciplinas'\n",
    "temp_blobs = '/home/jovyan/notebooks/temporary_blobs/' # pasta temporária para armazenamento de objetos\n",
    "\n",
    "# Conexão ao miniIO\n",
    "minio_endpoint = 'minio:9000'\n",
    "minio_access_key = 'minioaccesskey'\n",
    "minio_secret_key = 'miniosecretkey'\n",
    "minio_client = Minio(minio_endpoint, access_key=minio_access_key, secret_key=minio_secret_key, secure=False)\n",
    "\n",
    "# Definição de variáveis para versionamento dos dados na camada bronze\n",
    "timestamp = datetime.today().strftime('%Y%m%d')\n",
    "minio_path = f'{pasta}/{pasta + timestamp}'"
   ]
  },
  {
   "cell_type": "markdown",
   "id": "457c9954-f7a1-44b6-b93e-86feb9ffeadf",
   "metadata": {
    "papermill": {
     "duration": 0.007463,
     "end_time": "2024-01-14T18:54:27.357958",
     "exception": false,
     "start_time": "2024-01-14T18:54:27.350495",
     "status": "completed"
    },
    "tags": []
   },
   "source": [
    "### Leitura da camada Bronze"
   ]
  },
  {
   "cell_type": "code",
   "execution_count": 4,
   "id": "cc75659e-dff9-46a6-ad37-e82cfa029f45",
   "metadata": {
    "execution": {
     "iopub.execute_input": "2024-01-14T18:54:27.372889Z",
     "iopub.status.busy": "2024-01-14T18:54:27.372639Z",
     "iopub.status.idle": "2024-01-14T18:54:28.775975Z",
     "shell.execute_reply": "2024-01-14T18:54:28.775171Z"
    },
    "papermill": {
     "duration": 1.412695,
     "end_time": "2024-01-14T18:54:28.777389",
     "exception": false,
     "start_time": "2024-01-14T18:54:27.364694",
     "status": "completed"
    },
    "tags": []
   },
   "outputs": [
    {
     "name": "stdout",
     "output_type": "stream",
     "text": [
      "Objeto encontrado: disciplinas / disciplinas20240114/part-00000-5f09ef2a-7027-431f-a363-b014b76eecd1-c000.snappy.parquet\n",
      "Objeto encontrado: disciplinas / disciplinas20240114/part-00000-95df0857-4f1b-46a9-88f8-e813b9bf1dbd-c000.snappy.parquet\n",
      "Objeto encontrado: disciplinas / disciplinas20240114/part-00000-b7d4935b-1992-4a7d-8cb9-1a1abb67f557-c000.snappy.parquet\n",
      "Objeto encontrado: disciplinas / disciplinas20240114/part-00000-f5fd30b7-9d0a-47c2-9aa7-839e40025c20-c000.snappy.parquet\n",
      "Objeto encontrado: disciplinas / disciplinas20240114/part-00001-5f09ef2a-7027-431f-a363-b014b76eecd1-c000.snappy.parquet\n",
      "Objeto encontrado: disciplinas / disciplinas20240114/part-00001-95df0857-4f1b-46a9-88f8-e813b9bf1dbd-c000.snappy.parquet\n",
      "Objeto encontrado: disciplinas / disciplinas20240114/part-00001-b7d4935b-1992-4a7d-8cb9-1a1abb67f557-c000.snappy.parquet\n",
      "Objeto encontrado: disciplinas / disciplinas20240114/part-00001-f5fd30b7-9d0a-47c2-9aa7-839e40025c20-c000.snappy.parquet\n",
      "Objeto encontrado: disciplinas / disciplinas20240114/part-00002-5f09ef2a-7027-431f-a363-b014b76eecd1-c000.snappy.parquet\n",
      "Objeto encontrado: disciplinas / disciplinas20240114/part-00002-95df0857-4f1b-46a9-88f8-e813b9bf1dbd-c000.snappy.parquet\n",
      "Objeto encontrado: disciplinas / disciplinas20240114/part-00002-b7d4935b-1992-4a7d-8cb9-1a1abb67f557-c000.snappy.parquet\n",
      "Objeto encontrado: disciplinas / disciplinas20240114/part-00002-f5fd30b7-9d0a-47c2-9aa7-839e40025c20-c000.snappy.parquet\n",
      "Objeto encontrado: disciplinas / disciplinas20240114/part-00003-5f09ef2a-7027-431f-a363-b014b76eecd1-c000.snappy.parquet\n",
      "Objeto encontrado: disciplinas / disciplinas20240114/part-00003-95df0857-4f1b-46a9-88f8-e813b9bf1dbd-c000.snappy.parquet\n",
      "Objeto encontrado: disciplinas / disciplinas20240114/part-00003-b7d4935b-1992-4a7d-8cb9-1a1abb67f557-c000.snappy.parquet\n",
      "Objeto encontrado: disciplinas / disciplinas20240114/part-00003-f5fd30b7-9d0a-47c2-9aa7-839e40025c20-c000.snappy.parquet\n",
      "Objeto encontrado: disciplinas / disciplinas20240114/part-00004-5f09ef2a-7027-431f-a363-b014b76eecd1-c000.snappy.parquet\n",
      "Objeto encontrado: disciplinas / disciplinas20240114/part-00004-95df0857-4f1b-46a9-88f8-e813b9bf1dbd-c000.snappy.parquet\n",
      "Objeto encontrado: disciplinas / disciplinas20240114/part-00004-b7d4935b-1992-4a7d-8cb9-1a1abb67f557-c000.snappy.parquet\n",
      "Objeto encontrado: disciplinas / disciplinas20240114/part-00004-f5fd30b7-9d0a-47c2-9aa7-839e40025c20-c000.snappy.parquet\n",
      "Objeto encontrado: disciplinas / disciplinas20240114/part-00005-5f09ef2a-7027-431f-a363-b014b76eecd1-c000.snappy.parquet\n",
      "Objeto encontrado: disciplinas / disciplinas20240114/part-00005-95df0857-4f1b-46a9-88f8-e813b9bf1dbd-c000.snappy.parquet\n",
      "Objeto encontrado: disciplinas / disciplinas20240114/part-00005-b7d4935b-1992-4a7d-8cb9-1a1abb67f557-c000.snappy.parquet\n",
      "Objeto encontrado: disciplinas / disciplinas20240114/part-00005-f5fd30b7-9d0a-47c2-9aa7-839e40025c20-c000.snappy.parquet\n",
      "Objeto encontrado: disciplinas / disciplinas20240114/part-00006-5f09ef2a-7027-431f-a363-b014b76eecd1-c000.snappy.parquet\n",
      "Objeto encontrado: disciplinas / disciplinas20240114/part-00006-95df0857-4f1b-46a9-88f8-e813b9bf1dbd-c000.snappy.parquet\n",
      "Objeto encontrado: disciplinas / disciplinas20240114/part-00006-b7d4935b-1992-4a7d-8cb9-1a1abb67f557-c000.snappy.parquet\n",
      "Objeto encontrado: disciplinas / disciplinas20240114/part-00006-f5fd30b7-9d0a-47c2-9aa7-839e40025c20-c000.snappy.parquet\n",
      "Objeto encontrado: disciplinas / disciplinas20240114/part-00007-5f09ef2a-7027-431f-a363-b014b76eecd1-c000.snappy.parquet\n",
      "Objeto encontrado: disciplinas / disciplinas20240114/part-00007-95df0857-4f1b-46a9-88f8-e813b9bf1dbd-c000.snappy.parquet\n",
      "Objeto encontrado: disciplinas / disciplinas20240114/part-00007-b7d4935b-1992-4a7d-8cb9-1a1abb67f557-c000.snappy.parquet\n",
      "Objeto encontrado: disciplinas / disciplinas20240114/part-00007-f5fd30b7-9d0a-47c2-9aa7-839e40025c20-c000.snappy.parquet\n",
      "Objeto encontrado: disciplinas / disciplinas20240114/part-00008-5f09ef2a-7027-431f-a363-b014b76eecd1-c000.snappy.parquet\n",
      "Objeto encontrado: disciplinas / disciplinas20240114/part-00008-95df0857-4f1b-46a9-88f8-e813b9bf1dbd-c000.snappy.parquet\n",
      "Objeto encontrado: disciplinas / disciplinas20240114/part-00008-b7d4935b-1992-4a7d-8cb9-1a1abb67f557-c000.snappy.parquet\n",
      "Objeto encontrado: disciplinas / disciplinas20240114/part-00008-f5fd30b7-9d0a-47c2-9aa7-839e40025c20-c000.snappy.parquet\n",
      "Objeto encontrado: disciplinas / disciplinas20240114/part-00009-5f09ef2a-7027-431f-a363-b014b76eecd1-c000.snappy.parquet\n",
      "Objeto encontrado: disciplinas / disciplinas20240114/part-00009-95df0857-4f1b-46a9-88f8-e813b9bf1dbd-c000.snappy.parquet\n",
      "Objeto encontrado: disciplinas / disciplinas20240114/part-00009-b7d4935b-1992-4a7d-8cb9-1a1abb67f557-c000.snappy.parquet\n",
      "Objeto encontrado: disciplinas / disciplinas20240114/part-00009-f5fd30b7-9d0a-47c2-9aa7-839e40025c20-c000.snappy.parquet\n",
      "Objeto encontrado: disciplinas / disciplinas20240114/part-00010-5f09ef2a-7027-431f-a363-b014b76eecd1-c000.snappy.parquet\n",
      "Objeto encontrado: disciplinas / disciplinas20240114/part-00010-95df0857-4f1b-46a9-88f8-e813b9bf1dbd-c000.snappy.parquet\n",
      "Objeto encontrado: disciplinas / disciplinas20240114/part-00010-b7d4935b-1992-4a7d-8cb9-1a1abb67f557-c000.snappy.parquet\n",
      "Objeto encontrado: disciplinas / disciplinas20240114/part-00010-f5fd30b7-9d0a-47c2-9aa7-839e40025c20-c000.snappy.parquet\n",
      "Objeto encontrado: disciplinas / disciplinas20240114/part-00011-5f09ef2a-7027-431f-a363-b014b76eecd1-c000.snappy.parquet\n",
      "Objeto encontrado: disciplinas / disciplinas20240114/part-00011-95df0857-4f1b-46a9-88f8-e813b9bf1dbd-c000.snappy.parquet\n",
      "Objeto encontrado: disciplinas / disciplinas20240114/part-00011-b7d4935b-1992-4a7d-8cb9-1a1abb67f557-c000.snappy.parquet\n",
      "Objeto encontrado: disciplinas / disciplinas20240114/part-00011-f5fd30b7-9d0a-47c2-9aa7-839e40025c20-c000.snappy.parquet\n"
     ]
    }
   ],
   "source": [
    "dataframes = []\n",
    "\n",
    "try:\n",
    "    # Lista objetos no bucket\n",
    "    objects = minio_client.list_objects(camadaLeitura, prefix=pasta, recursive=True)\n",
    "\n",
    "    # Itera sobre os objetos na pasta\n",
    "    for obj in objects:\n",
    "        # Lê o conteúdo do objeto\n",
    "        content = minio_client.get_object(camadaLeitura, obj.object_name).read()\n",
    "        \n",
    "        # Lê o conteúdo do objeto Parquet usando pyarrow e converte para DataFrame Pandas\n",
    "        df_pandas = pq.read_table(BytesIO(content)).to_pandas()\n",
    "        \n",
    "        # Adiciona o DataFrame Pandas à lista de DataFrames\n",
    "        dataframes.append(df_pandas)\n",
    "        \n",
    "        print(f\"Objeto encontrado: {obj.object_name}\")\n",
    "except error.MinioException as e:\n",
    "    print(f\"Erro ao listar objetos: {e}\")\n",
    "\n",
    "# Concatena todos os DataFrames Pandas em um único DataFrame Pandas\n",
    "consolidated_df_pandas = pd.concat(dataframes, ignore_index=True)\n",
    "\n",
    "# Converte para DataFrame PySpark\n",
    "df_disciplinas = spark.createDataFrame(consolidated_df_pandas)"
   ]
  },
  {
   "cell_type": "markdown",
   "id": "02f1a9cd-cefd-4459-bc3a-f1ae1e25ae84",
   "metadata": {
    "papermill": {
     "duration": 0.007374,
     "end_time": "2024-01-14T18:54:28.789847",
     "exception": false,
     "start_time": "2024-01-14T18:54:28.782473",
     "status": "completed"
    },
    "tags": []
   },
   "source": [
    "### Tratamento dos dados"
   ]
  },
  {
   "cell_type": "code",
   "execution_count": 5,
   "id": "38440ed2-bdbd-4c08-867e-ee99f8dcb698",
   "metadata": {
    "execution": {
     "iopub.execute_input": "2024-01-14T18:54:28.804916Z",
     "iopub.status.busy": "2024-01-14T18:54:28.804593Z",
     "iopub.status.idle": "2024-01-14T18:54:28.901176Z",
     "shell.execute_reply": "2024-01-14T18:54:28.900399Z"
    },
    "papermill": {
     "duration": 0.105727,
     "end_time": "2024-01-14T18:54:28.902478",
     "exception": false,
     "start_time": "2024-01-14T18:54:28.796751",
     "status": "completed"
    },
    "tags": []
   },
   "outputs": [],
   "source": [
    "df_disciplinas = df_disciplinas.select(\n",
    "    'id',\n",
    "    'id_curso',\n",
    "    'nome',\n",
    "    'sigla',\n",
    "    'dia_semana',\n",
    "    'carga_horaria',\n",
    "    # Remove campos sem nota e retonar 0\n",
    "    when(isnan(col('avaliacoes')), lit(0)).otherwise(col('avaliacoes')).alias('avaliacoes'),\n",
    "    'etl_date',\n",
    ")"
   ]
  },
  {
   "cell_type": "markdown",
   "id": "b3a3f2bc-c574-4c71-a572-2d692974052f",
   "metadata": {
    "papermill": {
     "duration": 0.006981,
     "end_time": "2024-01-14T18:54:28.914233",
     "exception": false,
     "start_time": "2024-01-14T18:54:28.907252",
     "status": "completed"
    },
    "tags": []
   },
   "source": [
    "### Gravação do dataframe em um diretório temporário"
   ]
  },
  {
   "cell_type": "code",
   "execution_count": 6,
   "id": "2d18424f-56d6-40f7-85be-918f8b48b55e",
   "metadata": {
    "execution": {
     "iopub.execute_input": "2024-01-14T18:54:28.928841Z",
     "iopub.status.busy": "2024-01-14T18:54:28.928608Z",
     "iopub.status.idle": "2024-01-14T18:54:32.155973Z",
     "shell.execute_reply": "2024-01-14T18:54:32.155106Z"
    },
    "papermill": {
     "duration": 3.236723,
     "end_time": "2024-01-14T18:54:32.157586",
     "exception": false,
     "start_time": "2024-01-14T18:54:28.920863",
     "status": "completed"
    },
    "tags": []
   },
   "outputs": [],
   "source": [
    "df_disciplinas.write.parquet(temp_blobs, mode=\"overwrite\")"
   ]
  },
  {
   "cell_type": "markdown",
   "id": "55952c6d-db81-487d-bfe5-09ad180fe3f0",
   "metadata": {
    "papermill": {
     "duration": 0.007556,
     "end_time": "2024-01-14T18:54:32.171867",
     "exception": false,
     "start_time": "2024-01-14T18:54:32.164311",
     "status": "completed"
    },
    "tags": []
   },
   "source": [
    "### Gravação na camada Silver"
   ]
  },
  {
   "cell_type": "code",
   "execution_count": 7,
   "id": "5a3624f4-76bc-4757-8371-4a7249b75697",
   "metadata": {
    "execution": {
     "iopub.execute_input": "2024-01-14T18:54:32.186996Z",
     "iopub.status.busy": "2024-01-14T18:54:32.186509Z",
     "iopub.status.idle": "2024-01-14T18:54:32.355115Z",
     "shell.execute_reply": "2024-01-14T18:54:32.354368Z"
    },
    "papermill": {
     "duration": 0.177772,
     "end_time": "2024-01-14T18:54:32.356339",
     "exception": false,
     "start_time": "2024-01-14T18:54:32.178567",
     "status": "completed"
    },
    "tags": []
   },
   "outputs": [
    {
     "name": "stdout",
     "output_type": "stream",
     "text": [
      "Arquivo 'part-00000-c018727c-20e0-4b16-9712-d31f266b44e0-c000.snappy.parquet' enviado com sucesso para o MinIO em 'disciplinas/disciplinas20240114/part-00000-c018727c-20e0-4b16-9712-d31f266b44e0-c000.snappy.parquet'.\n",
      "Arquivo 'part-00001-c018727c-20e0-4b16-9712-d31f266b44e0-c000.snappy.parquet' enviado com sucesso para o MinIO em 'disciplinas/disciplinas20240114/part-00001-c018727c-20e0-4b16-9712-d31f266b44e0-c000.snappy.parquet'.\n",
      "Arquivo 'part-00002-c018727c-20e0-4b16-9712-d31f266b44e0-c000.snappy.parquet' enviado com sucesso para o MinIO em 'disciplinas/disciplinas20240114/part-00002-c018727c-20e0-4b16-9712-d31f266b44e0-c000.snappy.parquet'.\n",
      "Arquivo 'part-00003-c018727c-20e0-4b16-9712-d31f266b44e0-c000.snappy.parquet' enviado com sucesso para o MinIO em 'disciplinas/disciplinas20240114/part-00003-c018727c-20e0-4b16-9712-d31f266b44e0-c000.snappy.parquet'.\n",
      "Arquivo 'part-00004-c018727c-20e0-4b16-9712-d31f266b44e0-c000.snappy.parquet' enviado com sucesso para o MinIO em 'disciplinas/disciplinas20240114/part-00004-c018727c-20e0-4b16-9712-d31f266b44e0-c000.snappy.parquet'.\n",
      "Arquivo 'part-00005-c018727c-20e0-4b16-9712-d31f266b44e0-c000.snappy.parquet' enviado com sucesso para o MinIO em 'disciplinas/disciplinas20240114/part-00005-c018727c-20e0-4b16-9712-d31f266b44e0-c000.snappy.parquet'.\n",
      "Arquivo 'part-00006-c018727c-20e0-4b16-9712-d31f266b44e0-c000.snappy.parquet' enviado com sucesso para o MinIO em 'disciplinas/disciplinas20240114/part-00006-c018727c-20e0-4b16-9712-d31f266b44e0-c000.snappy.parquet'.\n",
      "Arquivo 'part-00007-c018727c-20e0-4b16-9712-d31f266b44e0-c000.snappy.parquet' enviado com sucesso para o MinIO em 'disciplinas/disciplinas20240114/part-00007-c018727c-20e0-4b16-9712-d31f266b44e0-c000.snappy.parquet'.\n",
      "Arquivo 'part-00008-c018727c-20e0-4b16-9712-d31f266b44e0-c000.snappy.parquet' enviado com sucesso para o MinIO em 'disciplinas/disciplinas20240114/part-00008-c018727c-20e0-4b16-9712-d31f266b44e0-c000.snappy.parquet'.\n",
      "Arquivo 'part-00009-c018727c-20e0-4b16-9712-d31f266b44e0-c000.snappy.parquet' enviado com sucesso para o MinIO em 'disciplinas/disciplinas20240114/part-00009-c018727c-20e0-4b16-9712-d31f266b44e0-c000.snappy.parquet'.\n",
      "Arquivo 'part-00010-c018727c-20e0-4b16-9712-d31f266b44e0-c000.snappy.parquet' enviado com sucesso para o MinIO em 'disciplinas/disciplinas20240114/part-00010-c018727c-20e0-4b16-9712-d31f266b44e0-c000.snappy.parquet'.\n",
      "Arquivo 'part-00011-c018727c-20e0-4b16-9712-d31f266b44e0-c000.snappy.parquet' enviado com sucesso para o MinIO em 'disciplinas/disciplinas20240114/part-00011-c018727c-20e0-4b16-9712-d31f266b44e0-c000.snappy.parquet'.\n"
     ]
    }
   ],
   "source": [
    "# Recria bucket caso não exista\n",
    "if not minio_client.bucket_exists(camadaEscrita):\n",
    "    minio_client.make_bucket(camadaEscrita)\n",
    "\n",
    "# Lista todos os arquivos Parquet no diretório temporário de blobs\n",
    "arquivos_parquet = glob.glob(os.path.join(temp_blobs, '*.parquet'))\n",
    "\n",
    "# Itera sobre a lista de arquivos Parquet e envia cada um para o MinIO\n",
    "for arquivo_parquet in arquivos_parquet:\n",
    "    try:\n",
    "        # Envia o arquivo para a camada bronze\n",
    "        nome_arquivo = os.path.basename(arquivo_parquet)\n",
    "        minio_client.fput_object(camadaEscrita, os.path.join(minio_path, nome_arquivo), arquivo_parquet)\n",
    "        print(f\"Arquivo '{nome_arquivo}' enviado com sucesso para o MinIO em '{os.path.join(minio_path, nome_arquivo)}'.\")\n",
    "    except S3Error as e:\n",
    "        print(f\"Erro ao enviar o arquivo para o MinIO: {e}\")"
   ]
  },
  {
   "cell_type": "markdown",
   "id": "adb7df5d-ec09-4162-b667-67228d42d4ec",
   "metadata": {
    "papermill": {
     "duration": 0.007505,
     "end_time": "2024-01-14T18:54:32.368596",
     "exception": false,
     "start_time": "2024-01-14T18:54:32.361091",
     "status": "completed"
    },
    "tags": []
   },
   "source": [
    "### Remove dados do diretório temporário de blobs"
   ]
  },
  {
   "cell_type": "code",
   "execution_count": 8,
   "id": "a9373d36-1d90-45ab-bcf8-6c7cae5daffc",
   "metadata": {
    "execution": {
     "iopub.execute_input": "2024-01-14T18:54:32.383895Z",
     "iopub.status.busy": "2024-01-14T18:54:32.383139Z",
     "iopub.status.idle": "2024-01-14T18:54:33.341495Z",
     "shell.execute_reply": "2024-01-14T18:54:33.339542Z"
    },
    "papermill": {
     "duration": 0.969269,
     "end_time": "2024-01-14T18:54:33.344662",
     "exception": false,
     "start_time": "2024-01-14T18:54:32.375393",
     "status": "completed"
    },
    "tags": []
   },
   "outputs": [
    {
     "name": "stdout",
     "output_type": "stream",
     "text": [
      "/home/jovyan/notebooks/_temporary_blobs/.part-00000-c018727c-20e0-4b16-9712-d31f266b44e0-c000.snappy.parquet.crc deletado com sucesso.\n",
      "/home/jovyan/notebooks/_temporary_blobs/.part-00001-c018727c-20e0-4b16-9712-d31f266b44e0-c000.snappy.parquet.crc deletado com sucesso.\n",
      "/home/jovyan/notebooks/_temporary_blobs/.part-00002-c018727c-20e0-4b16-9712-d31f266b44e0-c000.snappy.parquet.crc deletado com sucesso.\n",
      "/home/jovyan/notebooks/_temporary_blobs/.part-00003-c018727c-20e0-4b16-9712-d31f266b44e0-c000.snappy.parquet.crc deletado com sucesso.\n",
      "/home/jovyan/notebooks/_temporary_blobs/.part-00004-c018727c-20e0-4b16-9712-d31f266b44e0-c000.snappy.parquet.crc deletado com sucesso.\n",
      "/home/jovyan/notebooks/_temporary_blobs/.part-00005-c018727c-20e0-4b16-9712-d31f266b44e0-c000.snappy.parquet.crc deletado com sucesso.\n",
      "/home/jovyan/notebooks/_temporary_blobs/.part-00006-c018727c-20e0-4b16-9712-d31f266b44e0-c000.snappy.parquet.crc deletado com sucesso.\n",
      "/home/jovyan/notebooks/_temporary_blobs/.part-00007-c018727c-20e0-4b16-9712-d31f266b44e0-c000.snappy.parquet.crc deletado com sucesso.\n",
      "/home/jovyan/notebooks/_temporary_blobs/.part-00008-c018727c-20e0-4b16-9712-d31f266b44e0-c000.snappy.parquet.crc deletado com sucesso.\n",
      "/home/jovyan/notebooks/_temporary_blobs/.part-00009-c018727c-20e0-4b16-9712-d31f266b44e0-c000.snappy.parquet.crc deletado com sucesso.\n",
      "/home/jovyan/notebooks/_temporary_blobs/.part-00010-c018727c-20e0-4b16-9712-d31f266b44e0-c000.snappy.parquet.crc deletado com sucesso.\n",
      "/home/jovyan/notebooks/_temporary_blobs/.part-00011-c018727c-20e0-4b16-9712-d31f266b44e0-c000.snappy.parquet.crc deletado com sucesso.\n",
      "/home/jovyan/notebooks/_temporary_blobs/._SUCCESS.crc deletado com sucesso.\n",
      "/home/jovyan/notebooks/_temporary_blobs/part-00000-c018727c-20e0-4b16-9712-d31f266b44e0-c000.snappy.parquet deletado com sucesso.\n",
      "/home/jovyan/notebooks/_temporary_blobs/part-00001-c018727c-20e0-4b16-9712-d31f266b44e0-c000.snappy.parquet deletado com sucesso.\n"
     ]
    },
    {
     "name": "stdout",
     "output_type": "stream",
     "text": [
      "/home/jovyan/notebooks/_temporary_blobs/part-00002-c018727c-20e0-4b16-9712-d31f266b44e0-c000.snappy.parquet deletado com sucesso.\n",
      "/home/jovyan/notebooks/_temporary_blobs/part-00003-c018727c-20e0-4b16-9712-d31f266b44e0-c000.snappy.parquet deletado com sucesso.\n",
      "/home/jovyan/notebooks/_temporary_blobs/part-00004-c018727c-20e0-4b16-9712-d31f266b44e0-c000.snappy.parquet deletado com sucesso.\n",
      "/home/jovyan/notebooks/_temporary_blobs/part-00005-c018727c-20e0-4b16-9712-d31f266b44e0-c000.snappy.parquet deletado com sucesso.\n",
      "/home/jovyan/notebooks/_temporary_blobs/part-00006-c018727c-20e0-4b16-9712-d31f266b44e0-c000.snappy.parquet deletado com sucesso.\n",
      "/home/jovyan/notebooks/_temporary_blobs/part-00007-c018727c-20e0-4b16-9712-d31f266b44e0-c000.snappy.parquet deletado com sucesso.\n",
      "/home/jovyan/notebooks/_temporary_blobs/part-00008-c018727c-20e0-4b16-9712-d31f266b44e0-c000.snappy.parquet deletado com sucesso.\n",
      "/home/jovyan/notebooks/_temporary_blobs/part-00009-c018727c-20e0-4b16-9712-d31f266b44e0-c000.snappy.parquet deletado com sucesso.\n",
      "/home/jovyan/notebooks/_temporary_blobs/part-00010-c018727c-20e0-4b16-9712-d31f266b44e0-c000.snappy.parquet deletado com sucesso.\n",
      "/home/jovyan/notebooks/_temporary_blobs/part-00011-c018727c-20e0-4b16-9712-d31f266b44e0-c000.snappy.parquet deletado com sucesso.\n",
      "/home/jovyan/notebooks/_temporary_blobs/_SUCCESS deletado com sucesso.\n"
     ]
    }
   ],
   "source": [
    "# Liste todos os arquivos na pasta\n",
    "arquivos_na_pasta = os.listdir(temp_blobs)\n",
    "\n",
    "# Itere sobre os arquivos e os delete\n",
    "for arquivo in arquivos_na_pasta:\n",
    "    caminho_completo = os.path.join(temp_blobs, arquivo)\n",
    "    try:\n",
    "        if os.path.isfile(caminho_completo):\n",
    "            os.remove(caminho_completo)\n",
    "            print(f'{caminho_completo} deletado com sucesso.')\n",
    "    except Exception as e:\n",
    "        print(f'Erro ao deletar {caminho_completo}: {e}')\n",
    "\n",
    "spark.stop()"
   ]
  }
 ],
 "metadata": {
  "kernelspec": {
   "display_name": "Python 3 (ipykernel)",
   "language": "python",
   "name": "python3"
  },
  "language_info": {
   "codemirror_mode": {
    "name": "ipython",
    "version": 3
   },
   "file_extension": ".py",
   "mimetype": "text/x-python",
   "name": "python",
   "nbconvert_exporter": "python",
   "pygments_lexer": "ipython3",
   "version": "3.11.6"
  },
  "papermill": {
   "default_parameters": {},
   "duration": 14.959868,
   "end_time": "2024-01-14T18:54:35.976328",
   "environment_variables": {},
   "exception": null,
   "input_path": "/home/jovyan/notebooks/dataset_disciplinas/2_bronze_silver_disciplinas/2_bronze_silver_disciplinas.ipynb",
   "output_path": "/home/jovyan/notebooks/dataset_disciplinas/2_bronze_silver_disciplinas/2_bronze_silver_disciplinas.ipynb",
   "parameters": {},
   "start_time": "2024-01-14T18:54:21.016460",
   "version": "2.5.0"
  }
 },
 "nbformat": 4,
 "nbformat_minor": 5
}
