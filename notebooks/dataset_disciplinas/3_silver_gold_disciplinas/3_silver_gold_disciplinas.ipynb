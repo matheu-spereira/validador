{
 "cells": [
  {
   "cell_type": "markdown",
   "id": "553c19ae-788f-4a70-bbff-de2a77024c33",
   "metadata": {
    "papermill": {
     "duration": 0.00452,
     "end_time": "2024-01-14T18:54:36.942465",
     "exception": false,
     "start_time": "2024-01-14T18:54:36.937945",
     "status": "completed"
    },
    "tags": []
   },
   "source": [
    "## Objetivo do notebook\n",
    "#### O objetivo deste notebook é realizar a leitura de dados das origens do dataset disciplinas na camada silver e gravar de forma versionada na camada gold\n"
   ]
  },
  {
   "cell_type": "markdown",
   "id": "98040be4-19b4-4b7f-a22c-f5a892413cb3",
   "metadata": {
    "papermill": {
     "duration": 0.006929,
     "end_time": "2024-01-14T18:54:36.956717",
     "exception": false,
     "start_time": "2024-01-14T18:54:36.949788",
     "status": "completed"
    },
    "tags": []
   },
   "source": [
    "### Import Libs"
   ]
  },
  {
   "cell_type": "code",
   "execution_count": 1,
   "id": "942dde0f-19c6-4ad1-8326-4441ac5e24a6",
   "metadata": {
    "execution": {
     "iopub.execute_input": "2024-01-14T18:54:36.972317Z",
     "iopub.status.busy": "2024-01-14T18:54:36.972005Z",
     "iopub.status.idle": "2024-01-14T18:54:39.454192Z",
     "shell.execute_reply": "2024-01-14T18:54:39.452680Z"
    },
    "papermill": {
     "duration": 2.49314,
     "end_time": "2024-01-14T18:54:39.456906",
     "exception": false,
     "start_time": "2024-01-14T18:54:36.963766",
     "status": "completed"
    },
    "tags": []
   },
   "outputs": [
    {
     "name": "stdout",
     "output_type": "stream",
     "text": [
      "Requirement already satisfied: minio in /opt/conda/lib/python3.11/site-packages (7.2.3)\r\n",
      "Requirement already satisfied: certifi in /opt/conda/lib/python3.11/site-packages (from minio) (2023.7.22)\r\n",
      "Requirement already satisfied: urllib3 in /opt/conda/lib/python3.11/site-packages (from minio) (1.26.18)\r\n",
      "Requirement already satisfied: argon2-cffi in /opt/conda/lib/python3.11/site-packages (from minio) (23.1.0)\r\n",
      "Requirement already satisfied: pycryptodome in /opt/conda/lib/python3.11/site-packages (from minio) (3.20.0)\r\n",
      "Requirement already satisfied: typing-extensions in /opt/conda/lib/python3.11/site-packages (from minio) (4.8.0)\r\n",
      "Requirement already satisfied: argon2-cffi-bindings in /opt/conda/lib/python3.11/site-packages (from argon2-cffi->minio) (21.2.0)\r\n"
     ]
    },
    {
     "name": "stdout",
     "output_type": "stream",
     "text": [
      "Requirement already satisfied: cffi>=1.0.1 in /opt/conda/lib/python3.11/site-packages (from argon2-cffi-bindings->argon2-cffi->minio) (1.16.0)\r\n",
      "Requirement already satisfied: pycparser in /opt/conda/lib/python3.11/site-packages (from cffi>=1.0.1->argon2-cffi-bindings->argon2-cffi->minio) (2.21)\r\n"
     ]
    }
   ],
   "source": [
    "!pip install minio"
   ]
  },
  {
   "cell_type": "code",
   "execution_count": 2,
   "id": "3f09124d-a137-4fbf-8ebe-d6d44e13083a",
   "metadata": {
    "execution": {
     "iopub.execute_input": "2024-01-14T18:54:39.473519Z",
     "iopub.status.busy": "2024-01-14T18:54:39.473073Z",
     "iopub.status.idle": "2024-01-14T18:54:40.149980Z",
     "shell.execute_reply": "2024-01-14T18:54:40.149216Z"
    },
    "papermill": {
     "duration": 0.686876,
     "end_time": "2024-01-14T18:54:40.151424",
     "exception": false,
     "start_time": "2024-01-14T18:54:39.464548",
     "status": "completed"
    },
    "tags": []
   },
   "outputs": [],
   "source": [
    "from pyspark.sql import SparkSession\n",
    "from io import BytesIO\n",
    "from pyspark.sql.functions import col, max\n",
    "from pyspark.sql.window import Window\n",
    "from minio.error import S3Error\n",
    "from minio import Minio\n",
    "\n",
    "import glob\n",
    "import pyarrow.parquet as pq\n",
    "import os\n",
    "import pandas as pd"
   ]
  },
  {
   "cell_type": "markdown",
   "id": "53b4c9e6-5491-4420-9c7f-283ae7841c08",
   "metadata": {
    "papermill": {
     "duration": 0.007278,
     "end_time": "2024-01-14T18:54:40.164500",
     "exception": false,
     "start_time": "2024-01-14T18:54:40.157222",
     "status": "completed"
    },
    "tags": []
   },
   "source": [
    "### Definição de variáveis"
   ]
  },
  {
   "cell_type": "code",
   "execution_count": 3,
   "id": "2849a6c2-22fe-47df-84db-cbfb4b06075b",
   "metadata": {
    "execution": {
     "iopub.execute_input": "2024-01-14T18:54:40.179923Z",
     "iopub.status.busy": "2024-01-14T18:54:40.179293Z",
     "iopub.status.idle": "2024-01-14T18:54:42.348163Z",
     "shell.execute_reply": "2024-01-14T18:54:42.347301Z"
    },
    "papermill": {
     "duration": 2.178682,
     "end_time": "2024-01-14T18:54:42.349783",
     "exception": false,
     "start_time": "2024-01-14T18:54:40.171101",
     "status": "completed"
    },
    "tags": []
   },
   "outputs": [],
   "source": [
    "# Sessão Spark\n",
    "spark = SparkSession.builder.getOrCreate()\n",
    "\n",
    "# Parametros de input e output das origens\n",
    "camadaLeitura = 'silver'\n",
    "camadaEscrita = 'gold'\n",
    "pasta = 'disciplinas'\n",
    "temp_blobs = '/home/jovyan/notebooks/temporary_blobs/' # pasta temporária para armazenamento de objetos\n",
    "\n",
    "# Conexão ao miniIO\n",
    "minio_endpoint = 'minio:9000'\n",
    "minio_access_key = 'minioaccesskey'\n",
    "minio_secret_key = 'miniosecretkey'\n",
    "minio_object_name = pasta\n",
    "minio_client = Minio(minio_endpoint, access_key=minio_access_key, secret_key=minio_secret_key, secure=False)\n",
    "\n",
    "# Definição de variáveis para versionamento dos dados na camada bronze\n",
    "minio_path = f'{pasta}'"
   ]
  },
  {
   "cell_type": "markdown",
   "id": "435aa9ea-7da5-4f7a-a984-a7b344586fc2",
   "metadata": {
    "papermill": {
     "duration": 0.007347,
     "end_time": "2024-01-14T18:54:42.362630",
     "exception": false,
     "start_time": "2024-01-14T18:54:42.355283",
     "status": "completed"
    },
    "tags": []
   },
   "source": [
    "### Leitura da camada Silver"
   ]
  },
  {
   "cell_type": "code",
   "execution_count": 4,
   "id": "3990b29b-7611-4281-a482-edf584e7d817",
   "metadata": {
    "execution": {
     "iopub.execute_input": "2024-01-14T18:54:42.378042Z",
     "iopub.status.busy": "2024-01-14T18:54:42.377503Z",
     "iopub.status.idle": "2024-01-14T18:54:43.840789Z",
     "shell.execute_reply": "2024-01-14T18:54:43.840022Z"
    },
    "papermill": {
     "duration": 1.472849,
     "end_time": "2024-01-14T18:54:43.842200",
     "exception": false,
     "start_time": "2024-01-14T18:54:42.369351",
     "status": "completed"
    },
    "tags": []
   },
   "outputs": [
    {
     "name": "stdout",
     "output_type": "stream",
     "text": [
      "Objeto encontrado: disciplinas/disciplinas20240114/part-00000-106ae202-1623-4b4f-8c52-017fb4f71a85-c000.snappy.parquet\n",
      "Objeto encontrado: disciplinas/disciplinas20240114/part-00000-4fb7a07f-f510-45ea-a05a-25e46df95bec-c000.snappy.parquet\n",
      "Objeto encontrado: disciplinas/disciplinas20240114/part-00000-52a9171d-3094-4ace-8e4c-db0e8de20abf-c000.snappy.parquet\n",
      "Objeto encontrado: disciplinas/disciplinas20240114/part-00000-c018727c-20e0-4b16-9712-d31f266b44e0-c000.snappy.parquet\n",
      "Objeto encontrado: disciplinas/disciplinas20240114/part-00001-106ae202-1623-4b4f-8c52-017fb4f71a85-c000.snappy.parquet\n",
      "Objeto encontrado: disciplinas/disciplinas20240114/part-00001-4fb7a07f-f510-45ea-a05a-25e46df95bec-c000.snappy.parquet\n",
      "Objeto encontrado: disciplinas/disciplinas20240114/part-00001-52a9171d-3094-4ace-8e4c-db0e8de20abf-c000.snappy.parquet\n",
      "Objeto encontrado: disciplinas/disciplinas20240114/part-00001-c018727c-20e0-4b16-9712-d31f266b44e0-c000.snappy.parquet\n",
      "Objeto encontrado: disciplinas/disciplinas20240114/part-00002-106ae202-1623-4b4f-8c52-017fb4f71a85-c000.snappy.parquet\n",
      "Objeto encontrado: disciplinas/disciplinas20240114/part-00002-4fb7a07f-f510-45ea-a05a-25e46df95bec-c000.snappy.parquet\n",
      "Objeto encontrado: disciplinas/disciplinas20240114/part-00002-52a9171d-3094-4ace-8e4c-db0e8de20abf-c000.snappy.parquet\n",
      "Objeto encontrado: disciplinas/disciplinas20240114/part-00002-c018727c-20e0-4b16-9712-d31f266b44e0-c000.snappy.parquet\n",
      "Objeto encontrado: disciplinas/disciplinas20240114/part-00003-106ae202-1623-4b4f-8c52-017fb4f71a85-c000.snappy.parquet\n",
      "Objeto encontrado: disciplinas/disciplinas20240114/part-00003-4fb7a07f-f510-45ea-a05a-25e46df95bec-c000.snappy.parquet\n",
      "Objeto encontrado: disciplinas/disciplinas20240114/part-00003-52a9171d-3094-4ace-8e4c-db0e8de20abf-c000.snappy.parquet\n",
      "Objeto encontrado: disciplinas/disciplinas20240114/part-00003-c018727c-20e0-4b16-9712-d31f266b44e0-c000.snappy.parquet\n",
      "Objeto encontrado: disciplinas/disciplinas20240114/part-00004-106ae202-1623-4b4f-8c52-017fb4f71a85-c000.snappy.parquet\n",
      "Objeto encontrado: disciplinas/disciplinas20240114/part-00004-4fb7a07f-f510-45ea-a05a-25e46df95bec-c000.snappy.parquet\n",
      "Objeto encontrado: disciplinas/disciplinas20240114/part-00004-52a9171d-3094-4ace-8e4c-db0e8de20abf-c000.snappy.parquet\n",
      "Objeto encontrado: disciplinas/disciplinas20240114/part-00004-c018727c-20e0-4b16-9712-d31f266b44e0-c000.snappy.parquet\n",
      "Objeto encontrado: disciplinas/disciplinas20240114/part-00005-106ae202-1623-4b4f-8c52-017fb4f71a85-c000.snappy.parquet\n",
      "Objeto encontrado: disciplinas/disciplinas20240114/part-00005-4fb7a07f-f510-45ea-a05a-25e46df95bec-c000.snappy.parquet\n",
      "Objeto encontrado: disciplinas/disciplinas20240114/part-00005-52a9171d-3094-4ace-8e4c-db0e8de20abf-c000.snappy.parquet\n",
      "Objeto encontrado: disciplinas/disciplinas20240114/part-00005-c018727c-20e0-4b16-9712-d31f266b44e0-c000.snappy.parquet\n",
      "Objeto encontrado: disciplinas/disciplinas20240114/part-00006-106ae202-1623-4b4f-8c52-017fb4f71a85-c000.snappy.parquet\n",
      "Objeto encontrado: disciplinas/disciplinas20240114/part-00006-4fb7a07f-f510-45ea-a05a-25e46df95bec-c000.snappy.parquet\n",
      "Objeto encontrado: disciplinas/disciplinas20240114/part-00006-52a9171d-3094-4ace-8e4c-db0e8de20abf-c000.snappy.parquet\n",
      "Objeto encontrado: disciplinas/disciplinas20240114/part-00006-c018727c-20e0-4b16-9712-d31f266b44e0-c000.snappy.parquet\n",
      "Objeto encontrado: disciplinas/disciplinas20240114/part-00007-106ae202-1623-4b4f-8c52-017fb4f71a85-c000.snappy.parquet\n",
      "Objeto encontrado: disciplinas/disciplinas20240114/part-00007-4fb7a07f-f510-45ea-a05a-25e46df95bec-c000.snappy.parquet\n",
      "Objeto encontrado: disciplinas/disciplinas20240114/part-00007-52a9171d-3094-4ace-8e4c-db0e8de20abf-c000.snappy.parquet\n",
      "Objeto encontrado: disciplinas/disciplinas20240114/part-00007-c018727c-20e0-4b16-9712-d31f266b44e0-c000.snappy.parquet\n",
      "Objeto encontrado: disciplinas/disciplinas20240114/part-00008-106ae202-1623-4b4f-8c52-017fb4f71a85-c000.snappy.parquet\n",
      "Objeto encontrado: disciplinas/disciplinas20240114/part-00008-4fb7a07f-f510-45ea-a05a-25e46df95bec-c000.snappy.parquet\n",
      "Objeto encontrado: disciplinas/disciplinas20240114/part-00008-52a9171d-3094-4ace-8e4c-db0e8de20abf-c000.snappy.parquet\n",
      "Objeto encontrado: disciplinas/disciplinas20240114/part-00008-c018727c-20e0-4b16-9712-d31f266b44e0-c000.snappy.parquet\n",
      "Objeto encontrado: disciplinas/disciplinas20240114/part-00009-106ae202-1623-4b4f-8c52-017fb4f71a85-c000.snappy.parquet\n",
      "Objeto encontrado: disciplinas/disciplinas20240114/part-00009-4fb7a07f-f510-45ea-a05a-25e46df95bec-c000.snappy.parquet\n",
      "Objeto encontrado: disciplinas/disciplinas20240114/part-00009-52a9171d-3094-4ace-8e4c-db0e8de20abf-c000.snappy.parquet\n",
      "Objeto encontrado: disciplinas/disciplinas20240114/part-00009-c018727c-20e0-4b16-9712-d31f266b44e0-c000.snappy.parquet\n",
      "Objeto encontrado: disciplinas/disciplinas20240114/part-00010-106ae202-1623-4b4f-8c52-017fb4f71a85-c000.snappy.parquet\n",
      "Objeto encontrado: disciplinas/disciplinas20240114/part-00010-4fb7a07f-f510-45ea-a05a-25e46df95bec-c000.snappy.parquet\n",
      "Objeto encontrado: disciplinas/disciplinas20240114/part-00010-52a9171d-3094-4ace-8e4c-db0e8de20abf-c000.snappy.parquet\n",
      "Objeto encontrado: disciplinas/disciplinas20240114/part-00010-c018727c-20e0-4b16-9712-d31f266b44e0-c000.snappy.parquet\n",
      "Objeto encontrado: disciplinas/disciplinas20240114/part-00011-106ae202-1623-4b4f-8c52-017fb4f71a85-c000.snappy.parquet\n",
      "Objeto encontrado: disciplinas/disciplinas20240114/part-00011-4fb7a07f-f510-45ea-a05a-25e46df95bec-c000.snappy.parquet\n",
      "Objeto encontrado: disciplinas/disciplinas20240114/part-00011-52a9171d-3094-4ace-8e4c-db0e8de20abf-c000.snappy.parquet\n",
      "Objeto encontrado: disciplinas/disciplinas20240114/part-00011-c018727c-20e0-4b16-9712-d31f266b44e0-c000.snappy.parquet\n"
     ]
    }
   ],
   "source": [
    "dataframes = []\n",
    "\n",
    "try:\n",
    "    # Lista objetos no bucket\n",
    "    objects = minio_client.list_objects(camadaLeitura, prefix=pasta, recursive=True)\n",
    "\n",
    "    # Itera sobre os objetos na pasta\n",
    "    for obj in objects:\n",
    "        # Lê o conteúdo do objeto\n",
    "        content = minio_client.get_object(camadaLeitura, obj.object_name).read()\n",
    "        \n",
    "        # Lê o conteúdo do objeto Parquet usando pyarrow e converte para DataFrame Pandas\n",
    "        df_pandas = pq.read_table(BytesIO(content)).to_pandas()\n",
    "        \n",
    "        # Adiciona o DataFrame Pandas à lista de DataFrames\n",
    "        dataframes.append(df_pandas)\n",
    "        \n",
    "        print(f\"Objeto encontrado: {obj.object_name}\")\n",
    "except error.MinioException as e:\n",
    "    print(f\"Erro ao listar objetos: {e}\")\n",
    "\n",
    "# Concatena todos os DataFrames Pandas em um único DataFrame Pandas\n",
    "consolidated_df_pandas = pd.concat(dataframes, ignore_index=True)\n",
    "\n",
    "# Converte para DataFrame PySpark\n",
    "df_disciplinas = spark.createDataFrame(consolidated_df_pandas)"
   ]
  },
  {
   "cell_type": "markdown",
   "id": "7ad4164b-2622-4d4d-bc68-d1cade059670",
   "metadata": {
    "papermill": {
     "duration": 0.007431,
     "end_time": "2024-01-14T18:54:43.854817",
     "exception": false,
     "start_time": "2024-01-14T18:54:43.847386",
     "status": "completed"
    },
    "tags": []
   },
   "source": [
    "### Tratamento dos dados"
   ]
  },
  {
   "cell_type": "code",
   "execution_count": 5,
   "id": "0eecb32f-615f-4b79-96c6-c3fa2ca47fb3",
   "metadata": {
    "execution": {
     "iopub.execute_input": "2024-01-14T18:54:43.869962Z",
     "iopub.status.busy": "2024-01-14T18:54:43.869281Z",
     "iopub.status.idle": "2024-01-14T18:54:45.877361Z",
     "shell.execute_reply": "2024-01-14T18:54:45.876548Z"
    },
    "papermill": {
     "duration": 2.017588,
     "end_time": "2024-01-14T18:54:45.879023",
     "exception": false,
     "start_time": "2024-01-14T18:54:43.861435",
     "status": "completed"
    },
    "tags": []
   },
   "outputs": [],
   "source": [
    "# Busca etl_date mais recente\n",
    "max_etl_date = df_disciplinas.agg(max(\"etl_date\")).collect()[0][0]\n",
    "\n",
    "# Filtra o Dataframe pelo etl_date mais recente\n",
    "df_disciplinas = df_disciplinas.select('id', 'id_curso', 'nome', 'sigla', 'dia_semana', 'carga_horaria', 'avaliacoes').where(col(\"etl_date\") == max_etl_date)"
   ]
  },
  {
   "cell_type": "markdown",
   "id": "9fd5188c-51a9-4893-8509-67f8db4b79bc",
   "metadata": {
    "papermill": {
     "duration": 0.007816,
     "end_time": "2024-01-14T18:54:45.892068",
     "exception": false,
     "start_time": "2024-01-14T18:54:45.884252",
     "status": "completed"
    },
    "tags": []
   },
   "source": [
    "### Gravação do dataframe em um diretório temporário"
   ]
  },
  {
   "cell_type": "code",
   "execution_count": 6,
   "id": "2d18424f-56d6-40f7-85be-918f8b48b55e",
   "metadata": {
    "execution": {
     "iopub.execute_input": "2024-01-14T18:54:45.909494Z",
     "iopub.status.busy": "2024-01-14T18:54:45.908988Z",
     "iopub.status.idle": "2024-01-14T18:54:47.919274Z",
     "shell.execute_reply": "2024-01-14T18:54:47.918103Z"
    },
    "papermill": {
     "duration": 2.020765,
     "end_time": "2024-01-14T18:54:47.920751",
     "exception": false,
     "start_time": "2024-01-14T18:54:45.899986",
     "status": "completed"
    },
    "tags": []
   },
   "outputs": [],
   "source": [
    "df_disciplinas.write.parquet(temp_blobs, mode=\"overwrite\")"
   ]
  },
  {
   "cell_type": "markdown",
   "id": "dd34be7d-a6bc-482c-8f23-3d69e140c055",
   "metadata": {
    "papermill": {
     "duration": 0.007717,
     "end_time": "2024-01-14T18:54:47.933331",
     "exception": false,
     "start_time": "2024-01-14T18:54:47.925614",
     "status": "completed"
    },
    "tags": []
   },
   "source": [
    "### Gravação na camada Gold"
   ]
  },
  {
   "cell_type": "code",
   "execution_count": 7,
   "id": "69d48ea0-0d84-4981-b38d-ff27691eeb99",
   "metadata": {
    "execution": {
     "iopub.execute_input": "2024-01-14T18:54:47.949474Z",
     "iopub.status.busy": "2024-01-14T18:54:47.948761Z",
     "iopub.status.idle": "2024-01-14T18:54:48.152166Z",
     "shell.execute_reply": "2024-01-14T18:54:48.151400Z"
    },
    "papermill": {
     "duration": 0.212947,
     "end_time": "2024-01-14T18:54:48.153455",
     "exception": false,
     "start_time": "2024-01-14T18:54:47.940508",
     "status": "completed"
    },
    "tags": []
   },
   "outputs": [
    {
     "name": "stdout",
     "output_type": "stream",
     "text": [
      "Arquivo existente 'disciplinas/part-00000-540b91ab-cbec-4d15-b2c8-fe3544fc6bb8-c000.snappy.parquet' removido com sucesso do MinIO.\n",
      "Arquivo existente 'disciplinas/part-00001-540b91ab-cbec-4d15-b2c8-fe3544fc6bb8-c000.snappy.parquet' removido com sucesso do MinIO.\n",
      "Arquivo existente 'disciplinas/part-00002-540b91ab-cbec-4d15-b2c8-fe3544fc6bb8-c000.snappy.parquet' removido com sucesso do MinIO.\n",
      "Arquivo existente 'disciplinas/part-00003-540b91ab-cbec-4d15-b2c8-fe3544fc6bb8-c000.snappy.parquet' removido com sucesso do MinIO.\n",
      "Arquivo existente 'disciplinas/part-00004-540b91ab-cbec-4d15-b2c8-fe3544fc6bb8-c000.snappy.parquet' removido com sucesso do MinIO.\n",
      "Arquivo existente 'disciplinas/part-00005-540b91ab-cbec-4d15-b2c8-fe3544fc6bb8-c000.snappy.parquet' removido com sucesso do MinIO.\n",
      "Arquivo existente 'disciplinas/part-00006-540b91ab-cbec-4d15-b2c8-fe3544fc6bb8-c000.snappy.parquet' removido com sucesso do MinIO.\n",
      "Arquivo existente 'disciplinas/part-00007-540b91ab-cbec-4d15-b2c8-fe3544fc6bb8-c000.snappy.parquet' removido com sucesso do MinIO.\n",
      "Arquivo existente 'disciplinas/part-00008-540b91ab-cbec-4d15-b2c8-fe3544fc6bb8-c000.snappy.parquet' removido com sucesso do MinIO.\n",
      "Arquivo existente 'disciplinas/part-00009-540b91ab-cbec-4d15-b2c8-fe3544fc6bb8-c000.snappy.parquet' removido com sucesso do MinIO.\n",
      "Arquivo existente 'disciplinas/part-00011-540b91ab-cbec-4d15-b2c8-fe3544fc6bb8-c000.snappy.parquet' removido com sucesso do MinIO.\n",
      "Arquivo 'part-00000-a60284c2-eac0-4e62-a840-334fc6b19510-c000.snappy.parquet' enviado com sucesso para o MinIO em 'disciplinas/part-00000-a60284c2-eac0-4e62-a840-334fc6b19510-c000.snappy.parquet'.\n",
      "Arquivo 'part-00001-a60284c2-eac0-4e62-a840-334fc6b19510-c000.snappy.parquet' enviado com sucesso para o MinIO em 'disciplinas/part-00001-a60284c2-eac0-4e62-a840-334fc6b19510-c000.snappy.parquet'.\n",
      "Arquivo 'part-00002-a60284c2-eac0-4e62-a840-334fc6b19510-c000.snappy.parquet' enviado com sucesso para o MinIO em 'disciplinas/part-00002-a60284c2-eac0-4e62-a840-334fc6b19510-c000.snappy.parquet'.\n",
      "Arquivo 'part-00003-a60284c2-eac0-4e62-a840-334fc6b19510-c000.snappy.parquet' enviado com sucesso para o MinIO em 'disciplinas/part-00003-a60284c2-eac0-4e62-a840-334fc6b19510-c000.snappy.parquet'.\n",
      "Arquivo 'part-00004-a60284c2-eac0-4e62-a840-334fc6b19510-c000.snappy.parquet' enviado com sucesso para o MinIO em 'disciplinas/part-00004-a60284c2-eac0-4e62-a840-334fc6b19510-c000.snappy.parquet'.\n",
      "Arquivo 'part-00005-a60284c2-eac0-4e62-a840-334fc6b19510-c000.snappy.parquet' enviado com sucesso para o MinIO em 'disciplinas/part-00005-a60284c2-eac0-4e62-a840-334fc6b19510-c000.snappy.parquet'.\n",
      "Arquivo 'part-00006-a60284c2-eac0-4e62-a840-334fc6b19510-c000.snappy.parquet' enviado com sucesso para o MinIO em 'disciplinas/part-00006-a60284c2-eac0-4e62-a840-334fc6b19510-c000.snappy.parquet'.\n",
      "Arquivo 'part-00007-a60284c2-eac0-4e62-a840-334fc6b19510-c000.snappy.parquet' enviado com sucesso para o MinIO em 'disciplinas/part-00007-a60284c2-eac0-4e62-a840-334fc6b19510-c000.snappy.parquet'.\n",
      "Arquivo 'part-00008-a60284c2-eac0-4e62-a840-334fc6b19510-c000.snappy.parquet' enviado com sucesso para o MinIO em 'disciplinas/part-00008-a60284c2-eac0-4e62-a840-334fc6b19510-c000.snappy.parquet'.\n",
      "Arquivo 'part-00009-a60284c2-eac0-4e62-a840-334fc6b19510-c000.snappy.parquet' enviado com sucesso para o MinIO em 'disciplinas/part-00009-a60284c2-eac0-4e62-a840-334fc6b19510-c000.snappy.parquet'.\n",
      "Arquivo 'part-00010-a60284c2-eac0-4e62-a840-334fc6b19510-c000.snappy.parquet' enviado com sucesso para o MinIO em 'disciplinas/part-00010-a60284c2-eac0-4e62-a840-334fc6b19510-c000.snappy.parquet'.\n",
      "Arquivo 'part-00011-a60284c2-eac0-4e62-a840-334fc6b19510-c000.snappy.parquet' enviado com sucesso para o MinIO em 'disciplinas/part-00011-a60284c2-eac0-4e62-a840-334fc6b19510-c000.snappy.parquet'.\n"
     ]
    }
   ],
   "source": [
    "# Recria bucket caso não exista\n",
    "if not minio_client.bucket_exists(camadaEscrita):\n",
    "    minio_client.make_bucket(camadaEscrita)\n",
    "\n",
    "# Lista todos os arquivos Parquet no diretório temporário de blobs\n",
    "arquivos_parquet = glob.glob(os.path.join(temp_blobs, '*.parquet'))\n",
    "\n",
    "# Exclui todos os arquivos existentes na pasta no MinIO\n",
    "objects = minio_client.list_objects(camadaEscrita, minio_path, recursive=True)\n",
    "for obj in objects:\n",
    "    try:\n",
    "        minio_client.remove_object(camadaEscrita, obj.object_name)\n",
    "        print(f\"Arquivo existente '{obj.object_name}' removido com sucesso do MinIO.\")\n",
    "    except S3Error as e:\n",
    "        print(f\"Erro ao excluir o arquivo existente do MinIO: {e}\")\n",
    "\n",
    "# Itera sobre a lista de arquivos Parquet e envia cada um para o MinIO\n",
    "for arquivo_parquet in arquivos_parquet:\n",
    "    try:\n",
    "        # Obtém o nome do arquivo\n",
    "        nome_arquivo = os.path.basename(arquivo_parquet)\n",
    "\n",
    "        # Envia o novo arquivo para o MinIO\n",
    "        minio_client.fput_object(camadaEscrita, os.path.join(minio_path, nome_arquivo), arquivo_parquet)\n",
    "        print(f\"Arquivo '{nome_arquivo}' enviado com sucesso para o MinIO em '{os.path.join(minio_path, nome_arquivo)}'.\")\n",
    "    except S3Error as e:\n",
    "        print(f\"Erro ao interagir com o MinIO: {e}\")"
   ]
  },
  {
   "cell_type": "markdown",
   "id": "5d7b6298-6223-4086-980b-9e1409b324ea",
   "metadata": {
    "papermill": {
     "duration": 0.00743,
     "end_time": "2024-01-14T18:54:48.166088",
     "exception": false,
     "start_time": "2024-01-14T18:54:48.158658",
     "status": "completed"
    },
    "tags": []
   },
   "source": [
    "### Remove dados do diretório temporário de blobs"
   ]
  },
  {
   "cell_type": "code",
   "execution_count": 8,
   "id": "a9373d36-1d90-45ab-bcf8-6c7cae5daffc",
   "metadata": {
    "execution": {
     "iopub.execute_input": "2024-01-14T18:54:48.181295Z",
     "iopub.status.busy": "2024-01-14T18:54:48.180557Z",
     "iopub.status.idle": "2024-01-14T18:54:49.079588Z",
     "shell.execute_reply": "2024-01-14T18:54:49.078483Z"
    },
    "papermill": {
     "duration": 0.908364,
     "end_time": "2024-01-14T18:54:49.081029",
     "exception": false,
     "start_time": "2024-01-14T18:54:48.172665",
     "status": "completed"
    },
    "tags": []
   },
   "outputs": [
    {
     "name": "stdout",
     "output_type": "stream",
     "text": [
      "/home/jovyan/notebooks/_temporary_blobs/.part-00000-a60284c2-eac0-4e62-a840-334fc6b19510-c000.snappy.parquet.crc deletado com sucesso.\n",
      "/home/jovyan/notebooks/_temporary_blobs/.part-00001-a60284c2-eac0-4e62-a840-334fc6b19510-c000.snappy.parquet.crc deletado com sucesso.\n",
      "/home/jovyan/notebooks/_temporary_blobs/.part-00002-a60284c2-eac0-4e62-a840-334fc6b19510-c000.snappy.parquet.crc deletado com sucesso.\n",
      "/home/jovyan/notebooks/_temporary_blobs/.part-00003-a60284c2-eac0-4e62-a840-334fc6b19510-c000.snappy.parquet.crc deletado com sucesso.\n",
      "/home/jovyan/notebooks/_temporary_blobs/.part-00004-a60284c2-eac0-4e62-a840-334fc6b19510-c000.snappy.parquet.crc deletado com sucesso.\n",
      "/home/jovyan/notebooks/_temporary_blobs/.part-00005-a60284c2-eac0-4e62-a840-334fc6b19510-c000.snappy.parquet.crc deletado com sucesso.\n",
      "/home/jovyan/notebooks/_temporary_blobs/.part-00006-a60284c2-eac0-4e62-a840-334fc6b19510-c000.snappy.parquet.crc deletado com sucesso.\n",
      "/home/jovyan/notebooks/_temporary_blobs/.part-00007-a60284c2-eac0-4e62-a840-334fc6b19510-c000.snappy.parquet.crc deletado com sucesso.\n",
      "/home/jovyan/notebooks/_temporary_blobs/.part-00008-a60284c2-eac0-4e62-a840-334fc6b19510-c000.snappy.parquet.crc deletado com sucesso.\n",
      "/home/jovyan/notebooks/_temporary_blobs/.part-00009-a60284c2-eac0-4e62-a840-334fc6b19510-c000.snappy.parquet.crc deletado com sucesso.\n",
      "/home/jovyan/notebooks/_temporary_blobs/.part-00010-a60284c2-eac0-4e62-a840-334fc6b19510-c000.snappy.parquet.crc deletado com sucesso.\n",
      "/home/jovyan/notebooks/_temporary_blobs/.part-00011-a60284c2-eac0-4e62-a840-334fc6b19510-c000.snappy.parquet.crc deletado com sucesso.\n",
      "/home/jovyan/notebooks/_temporary_blobs/._SUCCESS.crc deletado com sucesso.\n",
      "/home/jovyan/notebooks/_temporary_blobs/part-00000-a60284c2-eac0-4e62-a840-334fc6b19510-c000.snappy.parquet deletado com sucesso.\n",
      "/home/jovyan/notebooks/_temporary_blobs/part-00001-a60284c2-eac0-4e62-a840-334fc6b19510-c000.snappy.parquet deletado com sucesso.\n",
      "/home/jovyan/notebooks/_temporary_blobs/part-00002-a60284c2-eac0-4e62-a840-334fc6b19510-c000.snappy.parquet deletado com sucesso.\n",
      "/home/jovyan/notebooks/_temporary_blobs/part-00003-a60284c2-eac0-4e62-a840-334fc6b19510-c000.snappy.parquet deletado com sucesso.\n",
      "/home/jovyan/notebooks/_temporary_blobs/part-00004-a60284c2-eac0-4e62-a840-334fc6b19510-c000.snappy.parquet deletado com sucesso.\n",
      "/home/jovyan/notebooks/_temporary_blobs/part-00005-a60284c2-eac0-4e62-a840-334fc6b19510-c000.snappy.parquet deletado com sucesso.\n",
      "/home/jovyan/notebooks/_temporary_blobs/part-00006-a60284c2-eac0-4e62-a840-334fc6b19510-c000.snappy.parquet deletado com sucesso.\n",
      "/home/jovyan/notebooks/_temporary_blobs/part-00007-a60284c2-eac0-4e62-a840-334fc6b19510-c000.snappy.parquet deletado com sucesso.\n",
      "/home/jovyan/notebooks/_temporary_blobs/part-00008-a60284c2-eac0-4e62-a840-334fc6b19510-c000.snappy.parquet deletado com sucesso.\n",
      "/home/jovyan/notebooks/_temporary_blobs/part-00009-a60284c2-eac0-4e62-a840-334fc6b19510-c000.snappy.parquet deletado com sucesso.\n",
      "/home/jovyan/notebooks/_temporary_blobs/part-00010-a60284c2-eac0-4e62-a840-334fc6b19510-c000.snappy.parquet deletado com sucesso.\n",
      "/home/jovyan/notebooks/_temporary_blobs/part-00011-a60284c2-eac0-4e62-a840-334fc6b19510-c000.snappy.parquet deletado com sucesso.\n",
      "/home/jovyan/notebooks/_temporary_blobs/_SUCCESS deletado com sucesso.\n"
     ]
    }
   ],
   "source": [
    "# Liste todos os arquivos na pasta\n",
    "arquivos_na_pasta = os.listdir(temp_blobs)\n",
    "\n",
    "# Itere sobre os arquivos e os delete\n",
    "for arquivo in arquivos_na_pasta:\n",
    "    caminho_completo = os.path.join(temp_blobs, arquivo)\n",
    "    try:\n",
    "        if os.path.isfile(caminho_completo):\n",
    "            os.remove(caminho_completo)\n",
    "            print(f'{caminho_completo} deletado com sucesso.')\n",
    "    except Exception as e:\n",
    "        print(f'Erro ao deletar {caminho_completo}: {e}')\n",
    "\n",
    "spark.stop()"
   ]
  }
 ],
 "metadata": {
  "kernelspec": {
   "display_name": "Python 3 (ipykernel)",
   "language": "python",
   "name": "python3"
  },
  "language_info": {
   "codemirror_mode": {
    "name": "ipython",
    "version": 3
   },
   "file_extension": ".py",
   "mimetype": "text/x-python",
   "name": "python",
   "nbconvert_exporter": "python",
   "pygments_lexer": "ipython3",
   "version": "3.11.6"
  },
  "papermill": {
   "default_parameters": {},
   "duration": 15.693936,
   "end_time": "2024-01-14T18:54:51.705789",
   "environment_variables": {},
   "exception": null,
   "input_path": "/home/jovyan/notebooks/dataset_disciplinas/3_silver_gold_disciplinas/3_silver_gold_disciplinas.ipynb",
   "output_path": "/home/jovyan/notebooks/dataset_disciplinas/3_silver_gold_disciplinas/3_silver_gold_disciplinas.ipynb",
   "parameters": {},
   "start_time": "2024-01-14T18:54:36.011853",
   "version": "2.5.0"
  }
 },
 "nbformat": 4,
 "nbformat_minor": 5
}
